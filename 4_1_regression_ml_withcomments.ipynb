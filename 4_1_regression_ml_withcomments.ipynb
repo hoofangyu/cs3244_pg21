{
  "cells": [
    {
      "cell_type": "markdown",
      "metadata": {
        "id": "v5LshF02lv8i"
      },
      "source": [
        "## 4.1 Logistic Regression\n",
        "\n",
        "Import necessary libraries to perform logistic regression."
      ]
    },
    {
      "cell_type": "code",
      "execution_count": 1,
      "metadata": {
        "id": "nouHCGTIlv8l"
      },
      "outputs": [],
      "source": [
        "import pandas as pd\n",
        "from sklearn.model_selection import KFold\n",
        "from sklearn.linear_model import LogisticRegression\n",
        "from sklearn.metrics import roc_auc_score, roc_curve, auc\n",
        "import numpy as np\n",
        "from sklearn.preprocessing import MaxAbsScaler\n",
        "from scipy.sparse import csr_matrix, vstack, hstack\n",
        "from sklearn.model_selection import GridSearchCV\n",
        "import matplotlib.pyplot as plt\n",
        "from joblib import load"
      ]
    },
    {
      "cell_type": "markdown",
      "metadata": {
        "id": "VtsW9pTJlv8m"
      },
      "source": [
        "### 1. Data Prep for ML\n",
        "\n",
        "Unpickle data and remove any NA values.\n",
        "\n",
        "Concate \"comment\" and \"parent_comment\" for TF-IDF and BoW from training and testing datasets using vstack."
      ]
    },
    {
      "cell_type": "code",
      "execution_count": 2,
      "metadata": {
        "id": "2ernneS2lv8m"
      },
      "outputs": [],
      "source": [
        "train = pd.read_pickle(\"data/train.pkl\")\n",
        "test = pd.read_pickle(\"data/test.pkl\")\n",
        "tfidf_vec = load('tdvectorizer.pkl')"
      ]
    },
    {
      "cell_type": "code",
      "execution_count": 3,
      "metadata": {
        "id": "cWuVYbySlv8n"
      },
      "outputs": [],
      "source": [
        "train_parent_tfidf_csr = vstack(train[\"parent_comment_tfidf\"])\n",
        "test_parent_tfidf_csr = vstack(test[\"parent_comment_tfidf\"])\n",
        "\n",
        "train_tfidf_csr = vstack(train[\"comment_tfidf\"])\n",
        "test_tfidf_csr = vstack(test[\"comment_tfidf\"])\n",
        "\n",
        "train_parent_bow_csr = vstack(train[\"parent_comment_bow\"])\n",
        "test_parent_bow_csr = vstack(test[\"parent_comment_bow\"])\n",
        "\n",
        "train_bow_csr = vstack(train[\"comment_bow\"])\n",
        "test_bow_csr = vstack(test[\"comment_bow\"])"
      ]
    },
    {
      "cell_type": "code",
      "execution_count": 4,
      "metadata": {
        "id": "XAkau9lJlv8n",
        "outputId": "eee0da74-1202-4471-a354-e2d8aaf6677a"
      },
      "outputs": [
        {
          "data": {
            "text/plain": [
              "Index(['comment', 'parent_comment', 'comment_tokens', 'parent_comment_tokens',\n",
              "       'comment_score', 'parent_comment_score',\n",
              "       'weighted_parent_sentiment_score_neutral',\n",
              "       'weighted_parent_sentiment_score_positive',\n",
              "       'weighted_comment_sentiment_score_neutral',\n",
              "       'weighted_comment_sentiment_score_positive', 'comment_word_count',\n",
              "       'parent_comment_word_count', 'comment_token_count',\n",
              "       'parent_comment_token_count', 'comment_unique_word_count',\n",
              "       'parent_comment_unique_word_count', 'comment_unique_token_count',\n",
              "       'parent_comment_unique_token_count', 'comment_stopword_count',\n",
              "       'parent_comment_stopword_count', 'comment_mean_word_length',\n",
              "       'parent_comment_mean_word_length', 'comment_mean_token_length',\n",
              "       'parent_comment_mean_token_length', 'comment_char_count',\n",
              "       'parent_comment_char_count', 'comment_punctuation_count',\n",
              "       'parent_comment_punctuation_count', 'comment_hashtag_count',\n",
              "       'parent_comment_hashtag_count', 'comment_number_count',\n",
              "       'parent_comment_number_count', 'comment_bow', 'parent_comment_bow',\n",
              "       'comment_tfidf', 'parent_comment_tfidf', 'comment_tfidf_nn', 'label'],\n",
              "      dtype='object')"
            ]
          },
          "execution_count": 4,
          "metadata": {},
          "output_type": "execute_result"
        }
      ],
      "source": [
        "train.columns"
      ]
    },
    {
      "cell_type": "markdown",
      "metadata": {
        "id": "3d5I1PHHm0DJ"
      },
      "source": [
        "List of features necessary for logistic regression."
      ]
    },
    {
      "cell_type": "code",
      "execution_count": 5,
      "metadata": {
        "id": "Bg6gX4-3lv8o"
      },
      "outputs": [],
      "source": [
        "list_of_features = [\n",
        "       'comment_word_count','parent_comment_word_count',\n",
        "       'comment_token_count', 'parent_comment_token_count',\n",
        "       'comment_unique_word_count', 'parent_comment_unique_word_count',\n",
        "       'comment_unique_token_count', 'parent_comment_unique_token_count',\n",
        "       'comment_stopword_count', 'parent_comment_stopword_count',\n",
        "       'comment_mean_word_length', 'parent_comment_mean_word_length',\n",
        "       'comment_mean_token_length', 'parent_comment_mean_token_length',\n",
        "       'comment_char_count', 'parent_comment_char_count',\n",
        "       'comment_punctuation_count', 'parent_comment_punctuation_count',\n",
        "       'comment_hashtag_count', 'parent_comment_hashtag_count',\n",
        "       'comment_number_count', 'parent_comment_number_count',\n",
        "       'weighted_parent_sentiment_score_neutral',\n",
        "       'weighted_parent_sentiment_score_positive',\n",
        "       'weighted_comment_sentiment_score_neutral',\n",
        "       'weighted_comment_sentiment_score_positive']"
      ]
    },
    {
      "cell_type": "markdown",
      "metadata": {
        "id": "Qq1bcWoMnDUN"
      },
      "source": [
        "Here we will standardize columns with boolean values. We will change from boolean to integer type and convert the features from a dense matrix to a sparse matrix using the function csr_matrix. We use MaxAbsScaler() to scale all data down to between -1 and 1 for easy analysis."
      ]
    },
    {
      "cell_type": "code",
      "execution_count": 6,
      "metadata": {
        "id": "dgWZdSmFlv8o"
      },
      "outputs": [],
      "source": [
        "bool_cols = ['weighted_parent_sentiment_score_neutral',\n",
        "             'weighted_parent_sentiment_score_positive',\n",
        "             'weighted_comment_sentiment_score_neutral',\n",
        "             'weighted_comment_sentiment_score_positive']\n",
        "\n",
        "for col in bool_cols: #need to convert bool type to integer\n",
        "    train[col] = train[col].astype(int)\n",
        "    test[col] = test[col].astype(int)\n",
        "\n",
        "X_train_gen_features = csr_matrix(train[list_of_features])\n",
        "\n",
        "#Scaling Non-BoW/tfidf Features\n",
        "X_train_scaler = MaxAbsScaler()\n",
        "X_train_gen_features = X_train_scaler.fit_transform(X_train_gen_features)\n",
        "\n",
        "X_test_gen_features = csr_matrix(test[list_of_features])\n",
        "X_test_gen_features = X_train_scaler.transform(X_test_gen_features)\n",
        "\n",
        "y_train_LR = train['label']\n",
        "y_test_LR = test['label']"
      ]
    },
    {
      "cell_type": "markdown",
      "metadata": {},
      "source": [
        "### 2. Finidng Best Combination of Features"
      ]
    },
    {
      "cell_type": "markdown",
      "metadata": {
        "id": "qflUELt5lv8o"
      },
      "source": [
        "#### Baseline 1: General Features\n",
        "\n",
        "Performing Logistic Regression using general features as the baseline.\n",
        "\n",
        "We will first train the training data using the LogisticRegression() model. We will then make predictions and compare the actual values and predicted values using the mean and stardard deviation of the area under the ROC curve. By looking at the difference in the area under curve measurements we can evaluate the accuracy and precision of logistic regression for this dataset."
      ]
    },
    {
      "cell_type": "code",
      "execution_count": 7,
      "metadata": {
        "id": "6uA2xg7Qlv8p"
      },
      "outputs": [],
      "source": [
        "#Data Specific Prep\n",
        "X_train_LR = X_train_gen_features"
      ]
    },
    {
      "cell_type": "code",
      "execution_count": 8,
      "metadata": {
        "id": "G30OSgC7lv8p",
        "outputId": "c418037e-01e3-4aec-9229-9d94f6cac914"
      },
      "outputs": [
        {
          "name": "stdout",
          "output_type": "stream",
          "text": [
            "Mean roc_auc: 0.5423398395843808\n",
            "Standard Deviation of roc_auc: 0.0016556102382697887\n"
          ]
        }
      ],
      "source": [
        "k = 5\n",
        "\n",
        "model = LogisticRegression(max_iter = 10000)\n",
        "kf = KFold(n_splits=k, shuffle=True, random_state=42)\n",
        "\n",
        "cross_val_scores = []\n",
        "for train_index, val_index in kf.split(X_train_LR):\n",
        "    X_train, X_val = X_train_LR[train_index], X_train_LR[val_index]\n",
        "    y_train, y_val = y_train_LR.iloc[train_index,], y_train_LR.iloc[val_index,]\n",
        "\n",
        "    # Train the model on the training data\n",
        "    model.fit(X_train, y_train)\n",
        "\n",
        "    # Make predictions on the validation data\n",
        "    y_pred = model.predict(X_val)\n",
        "\n",
        "    # Calculate roc_auc and store it in the list\n",
        "    roc_auc = roc_auc_score(y_val, y_pred)\n",
        "    cross_val_scores.append(roc_auc)\n",
        "\n",
        "mean_roc_auc = sum(cross_val_scores) / k\n",
        "std_roc_auc = np.std(cross_val_scores)\n",
        "\n",
        "print(f\"Mean roc_auc: {mean_roc_auc}\")\n",
        "print(f\"Standard Deviation of roc_auc: {std_roc_auc}\")"
      ]
    },
    {
      "cell_type": "markdown",
      "metadata": {
        "id": "E-2fPIcolv8p"
      },
      "source": [
        "#### Baseline 2: Comment BoW\n",
        "\n",
        "Performing Logistic Regression using Comment Bag of Words as the baseline."
      ]
    },
    {
      "cell_type": "code",
      "execution_count": 9,
      "metadata": {
        "id": "0BzF3HUPlv8p"
      },
      "outputs": [],
      "source": [
        "#Data Specific Prep\n",
        "X_train_LR = train_bow_csr"
      ]
    },
    {
      "cell_type": "code",
      "execution_count": 10,
      "metadata": {
        "id": "tjt2aFNtlv8q",
        "outputId": "e3d91898-24dc-42d2-b224-b77e9469ae90"
      },
      "outputs": [
        {
          "name": "stdout",
          "output_type": "stream",
          "text": [
            "Mean roc_auc: 0.672263227136665\n",
            "Standard Deviation of roc_auc: 0.0007143885012562422\n"
          ]
        }
      ],
      "source": [
        "k = 5\n",
        "\n",
        "model = LogisticRegression(max_iter = 10000)\n",
        "kf = KFold(n_splits=k, shuffle=True, random_state=42)\n",
        "\n",
        "cross_val_scores = []\n",
        "for train_index, val_index in kf.split(X_train_LR):\n",
        "    X_train, X_val = X_train_LR[train_index], X_train_LR[val_index]\n",
        "    y_train, y_val = y_train_LR.iloc[train_index,], y_train_LR.iloc[val_index,]\n",
        "\n",
        "    # Train the model on the training data\n",
        "    model.fit(X_train, y_train)\n",
        "\n",
        "    # Make predictions on the validation data\n",
        "    y_pred = model.predict(X_val)\n",
        "\n",
        "    # Calculate roc_auc and store it in the list\n",
        "    roc_auc = roc_auc_score(y_val, y_pred)\n",
        "    cross_val_scores.append(roc_auc)\n",
        "\n",
        "mean_roc_auc = sum(cross_val_scores) / k\n",
        "std_roc_auc = np.std(cross_val_scores)\n",
        "\n",
        "print(f\"Mean roc_auc: {mean_roc_auc}\")\n",
        "#unigram only: Mean roc_auc: 0.655919472075098\n",
        "#unigram only: Standard Deviation of roc_auc: 0.0008334994867002629\n",
        "print(f\"Standard Deviation of roc_auc: {std_roc_auc}\")"
      ]
    },
    {
      "cell_type": "markdown",
      "metadata": {
        "id": "RTjwiEg4lv8q"
      },
      "source": [
        "#### Baseline 3: Comment TF-IDF\n",
        "\n",
        "Performing Logistic Regression using Comment TF-IDF as the baseline."
      ]
    },
    {
      "cell_type": "code",
      "execution_count": 11,
      "metadata": {
        "id": "cxtQRrB3lv8q"
      },
      "outputs": [],
      "source": [
        "#Data Specific Prep\n",
        "X_train_LR = train_tfidf_csr"
      ]
    },
    {
      "cell_type": "code",
      "execution_count": 12,
      "metadata": {
        "id": "D3Q_phIilv8q",
        "outputId": "6ac73dc0-a36d-4a87-c61e-fa0e4d8676aa"
      },
      "outputs": [
        {
          "name": "stdout",
          "output_type": "stream",
          "text": [
            "Mean roc_auc: 0.6789695072512285\n",
            "Standard Deviation of roc_auc: 0.0015081274346395376\n"
          ]
        }
      ],
      "source": [
        "k = 5\n",
        "\n",
        "model = LogisticRegression(max_iter = 100000)\n",
        "kf = KFold(n_splits=k, shuffle=True, random_state=42)\n",
        "\n",
        "cross_val_scores = []\n",
        "for train_index, val_index in kf.split(X_train_LR):\n",
        "    X_train, X_val = X_train_LR[train_index], X_train_LR[val_index]\n",
        "    y_train, y_val = y_train_LR.iloc[train_index,], y_train_LR.iloc[val_index,]\n",
        "\n",
        "    # Train the model on the training data\n",
        "    model.fit(X_train, y_train)\n",
        "\n",
        "    # Make predictions on the validation data\n",
        "    y_pred = model.predict(X_val)\n",
        "\n",
        "    # Calculate roc_auc and store it in the list\n",
        "    roc_auc = roc_auc_score(y_val, y_pred)\n",
        "    cross_val_scores.append(roc_auc)\n",
        "\n",
        "mean_roc_auc = sum(cross_val_scores) / k\n",
        "std_roc_auc = np.std(cross_val_scores)\n",
        "\n",
        "print(f\"Mean roc_auc: {mean_roc_auc}\")\n",
        "print(f\"Standard Deviation of roc_auc: {std_roc_auc}\")\n",
        "#unigram only: Mean roc_auc: 0.6592838234414328\n",
        "#unigram only: Standard Deviation of roc_auc: 0.0009248592313210024"
      ]
    },
    {
      "cell_type": "markdown",
      "metadata": {
        "id": "dDUj7WF_lv8r"
      },
      "source": [
        "#### Baseline 4: General Features + BoW\n",
        "\n",
        "Performing Logistic Regression using both General Features and Comment Bag of Words as the baseline."
      ]
    },
    {
      "cell_type": "code",
      "execution_count": 13,
      "metadata": {
        "id": "Dy10A8P7lv8r"
      },
      "outputs": [],
      "source": [
        "X_train_LR = hstack([X_train_gen_features,train_bow_csr])"
      ]
    },
    {
      "cell_type": "code",
      "execution_count": 14,
      "metadata": {
        "id": "_bO9g59Slv8r",
        "outputId": "b2d54f8d-d311-44c9-e182-fa26c77d0891"
      },
      "outputs": [
        {
          "name": "stdout",
          "output_type": "stream",
          "text": [
            "Mean roc_auc: 0.6742836327408219\n",
            "Standard Deviation of roc_auc: 0.0007569169877033473\n"
          ]
        }
      ],
      "source": [
        "k = 5\n",
        "\n",
        "model = LogisticRegression(max_iter = 100000)\n",
        "kf = KFold(n_splits=k, shuffle=True, random_state=42)\n",
        "\n",
        "cross_val_scores = []\n",
        "for train_index, val_index in kf.split(X_train_LR):\n",
        "    X_train, X_val = X_train_LR[train_index], X_train_LR[val_index]\n",
        "    y_train, y_val = y_train_LR.iloc[train_index,], y_train_LR.iloc[val_index,]\n",
        "\n",
        "    # Train the model on the training data\n",
        "    model.fit(X_train, y_train)\n",
        "\n",
        "    # Make predictions on the validation data\n",
        "    y_pred = model.predict(X_val)\n",
        "\n",
        "    # Calculate roc_auc and store it in the list\n",
        "    roc_auc = roc_auc_score(y_val, y_pred)\n",
        "    cross_val_scores.append(roc_auc)\n",
        "\n",
        "mean_roc_auc = sum(cross_val_scores) / k\n",
        "std_roc_auc = np.std(cross_val_scores)\n",
        "\n",
        "print(f\"Mean roc_auc: {mean_roc_auc}\")\n",
        "print(f\"Standard Deviation of roc_auc: {std_roc_auc}\")\n",
        "#unigram: Mean roc_auc: 0.6578548281567246\n",
        "#unigram: Standard Deviation of roc_auc: 0.0015689875036237729"
      ]
    },
    {
      "cell_type": "markdown",
      "metadata": {
        "id": "SXheBB2Ilv8r"
      },
      "source": [
        "#### Baseline 5: General Features + TF-IDF\n",
        "\n",
        "Performing Logistic Regression using both General Features and TF-IDF as the baseline."
      ]
    },
    {
      "cell_type": "code",
      "execution_count": 15,
      "metadata": {
        "id": "79HJz5-1lv8r"
      },
      "outputs": [],
      "source": [
        "X_train_LR = hstack([X_train_gen_features,train_tfidf_csr])"
      ]
    },
    {
      "cell_type": "code",
      "execution_count": 16,
      "metadata": {
        "id": "CjSgafSHlv8s",
        "outputId": "3bd02654-4738-4622-99ab-4f4b8be6d9d5"
      },
      "outputs": [
        {
          "name": "stdout",
          "output_type": "stream",
          "text": [
            "Mean roc_auc: 0.6804444827488695\n",
            "Standard Deviation of roc_auc: 0.0015607021963323514\n"
          ]
        }
      ],
      "source": [
        "k = 5\n",
        "\n",
        "model = LogisticRegression(max_iter = 100000)\n",
        "kf = KFold(n_splits=k, shuffle=True, random_state=42)\n",
        "\n",
        "cross_val_scores = []\n",
        "for train_index, val_index in kf.split(X_train_LR):\n",
        "    X_train, X_val = X_train_LR[train_index], X_train_LR[val_index]\n",
        "    y_train, y_val = y_train_LR.iloc[train_index,], y_train_LR.iloc[val_index,]\n",
        "\n",
        "    # Train the model on the training data\n",
        "    model.fit(X_train, y_train)\n",
        "\n",
        "    # Make predictions on the validation data\n",
        "    y_pred = model.predict(X_val)\n",
        "\n",
        "    # Calculate roc_auc and store it in the list\n",
        "    roc_auc = roc_auc_score(y_val, y_pred)\n",
        "    cross_val_scores.append(roc_auc)\n",
        "\n",
        "mean_roc_auc = sum(cross_val_scores) / k\n",
        "std_roc_auc = np.std(cross_val_scores)\n",
        "\n",
        "print(f\"Mean roc_auc: {mean_roc_auc}\")\n",
        "print(f\"Standard Deviation of roc_auc: {std_roc_auc}\")\n",
        "#unigram: Mean roc_auc: 0.6623742530514969\n",
        "#unigram: Standard Deviation of roc_auc: 0.0010939794906847484"
      ]
    },
    {
      "cell_type": "markdown",
      "metadata": {
        "id": "Oc7lmC1flv8s"
      },
      "source": [
        "#### Baseline 6: General Features + Comment TF-IDF + Parent TF-IDF\n",
        "\n",
        "Performing Logistic Regression using General Features, Comment TF-IDF and Parent comment TF-IDF as the baseline."
      ]
    },
    {
      "cell_type": "code",
      "execution_count": 17,
      "metadata": {
        "id": "OXwA4EMplv8s"
      },
      "outputs": [],
      "source": [
        "X_train_LR = hstack([X_train_gen_features,train_tfidf_csr,train_parent_tfidf_csr])"
      ]
    },
    {
      "cell_type": "code",
      "execution_count": 18,
      "metadata": {
        "id": "iEMZlrQHlv8s",
        "outputId": "17a9e572-4576-42c3-d5a7-934f7fe9f42a"
      },
      "outputs": [
        {
          "name": "stdout",
          "output_type": "stream",
          "text": [
            "Mean roc_auc: 0.6761643882235888\n",
            "Standard Deviation of roc_auc: 0.0013496823304547626\n"
          ]
        }
      ],
      "source": [
        "k = 5\n",
        "\n",
        "model = LogisticRegression(max_iter = 100000)\n",
        "kf = KFold(n_splits=k, shuffle=True, random_state=42)\n",
        "\n",
        "cross_val_scores = []\n",
        "for train_index, val_index in kf.split(X_train_LR):\n",
        "    X_train, X_val = X_train_LR[train_index], X_train_LR[val_index]\n",
        "    y_train, y_val = y_train_LR.iloc[train_index,], y_train_LR.iloc[val_index,]\n",
        "\n",
        "    # Train the model on the training data\n",
        "    model.fit(X_train, y_train)\n",
        "\n",
        "    # Make predictions on the validation data\n",
        "    y_pred = model.predict(X_val)\n",
        "\n",
        "    # Calculate roc_auc and store it in the list\n",
        "    roc_auc = roc_auc_score(y_val, y_pred)\n",
        "    cross_val_scores.append(roc_auc)\n",
        "\n",
        "mean_roc_auc = sum(cross_val_scores) / k\n",
        "std_roc_auc = np.std(cross_val_scores)\n",
        "\n",
        "print(f\"Mean roc_auc: {mean_roc_auc}\")\n",
        "print(f\"Standard Deviation of roc_auc: {std_roc_auc}\")\n",
        "#unigram: Mean roc_auc: 0.6595766552618814\n",
        "#unigram: Standard Deviation of roc_auc: 0.0020504330756799696"
      ]
    },
    {
      "cell_type": "markdown",
      "metadata": {
        "id": "pmEXFgYklv8s"
      },
      "source": [
        "#### Baseline 7: General Features + Parent TFIDF\n",
        "\n",
        "Performing Logistic Regression using both General Features and Parent comment TF-IDF as the baseline."
      ]
    },
    {
      "cell_type": "code",
      "execution_count": 19,
      "metadata": {
        "id": "5kpSYwzGlv8s"
      },
      "outputs": [],
      "source": [
        "X_train_LR = hstack([X_train_gen_features,train_parent_tfidf_csr])"
      ]
    },
    {
      "cell_type": "code",
      "execution_count": 20,
      "metadata": {
        "id": "d5f9f_JClv8t",
        "outputId": "4c2c3a4b-8cf0-4185-9cae-98431707eeaf"
      },
      "outputs": [
        {
          "name": "stdout",
          "output_type": "stream",
          "text": [
            "Mean roc_auc: 0.5735754038329169\n",
            "Standard Deviation of roc_auc: 0.0019966844421729496\n"
          ]
        }
      ],
      "source": [
        "k = 5\n",
        "\n",
        "model = LogisticRegression(max_iter = 100000)\n",
        "kf = KFold(n_splits=k, shuffle=True, random_state=42)\n",
        "\n",
        "cross_val_scores = []\n",
        "for train_index, val_index in kf.split(X_train_LR):\n",
        "    X_train, X_val = X_train_LR[train_index], X_train_LR[val_index]\n",
        "    y_train, y_val = y_train_LR.iloc[train_index,], y_train_LR.iloc[val_index,]\n",
        "\n",
        "    # Train the model on the training data\n",
        "    model.fit(X_train, y_train)\n",
        "\n",
        "    # Make predictions on the validation data\n",
        "    y_pred = model.predict(X_val)\n",
        "\n",
        "    # Calculate roc_auc and store it in the list\n",
        "    roc_auc = roc_auc_score(y_val, y_pred)\n",
        "    cross_val_scores.append(roc_auc)\n",
        "\n",
        "mean_roc_auc = sum(cross_val_scores) / k\n",
        "std_roc_auc = np.std(cross_val_scores)\n",
        "\n",
        "print(f\"Mean roc_auc: {mean_roc_auc}\")\n",
        "print(f\"Standard Deviation of roc_auc: {std_roc_auc}\")\n",
        "#unigram: Mean roc_auc: 0.570165520029702\n",
        "#unigram: Standard Deviation of roc_auc: 0.002821502726381473"
      ]
    },
    {
      "cell_type": "markdown",
      "metadata": {},
      "source": [
        "Best Training Done with General Features and comment TD-IDF as features"
      ]
    },
    {
      "cell_type": "markdown",
      "metadata": {},
      "source": [
        "### 3. Base Model\n",
        "Using Baseline 5: General Features + TF-IDF"
      ]
    },
    {
      "cell_type": "code",
      "execution_count": 21,
      "metadata": {},
      "outputs": [],
      "source": [
        "X_train_LR = hstack([X_train_gen_features,train_tfidf_csr])"
      ]
    },
    {
      "cell_type": "markdown",
      "metadata": {},
      "source": [
        "Running 5-fold Cross Validation"
      ]
    },
    {
      "cell_type": "code",
      "execution_count": 22,
      "metadata": {},
      "outputs": [
        {
          "name": "stdout",
          "output_type": "stream",
          "text": [
            "Mean roc_auc: 0.6804444827488695\n",
            "Standard Deviation of roc_auc: 0.0015607021963323514\n"
          ]
        }
      ],
      "source": [
        "k = 5\n",
        "\n",
        "model = LogisticRegression(max_iter = 100000)\n",
        "kf = KFold(n_splits=k, shuffle=True, random_state=42)\n",
        "\n",
        "cross_val_scores = []\n",
        "for train_index, val_index in kf.split(X_train_LR):\n",
        "    X_train, X_val = X_train_LR[train_index], X_train_LR[val_index]\n",
        "    y_train, y_val = y_train_LR.iloc[train_index,], y_train_LR.iloc[val_index,]\n",
        "\n",
        "    # Train the model on the training data\n",
        "    model.fit(X_train, y_train)\n",
        "\n",
        "    # Make predictions on the validation data\n",
        "    y_pred = model.predict(X_val)\n",
        "\n",
        "    # Calculate roc_auc and store it in the list\n",
        "    roc_auc = roc_auc_score(y_val, y_pred)\n",
        "    cross_val_scores.append(roc_auc)\n",
        "\n",
        "mean_roc_auc = sum(cross_val_scores) / k\n",
        "std_roc_auc = np.std(cross_val_scores)\n",
        "\n",
        "print(f\"Mean roc_auc: {mean_roc_auc}\")\n",
        "print(f\"Standard Deviation of roc_auc: {std_roc_auc}\")\n",
        "#unigram: Mean roc_auc: 0.6623742530514969\n",
        "#unigram: Standard Deviation of roc_auc: 0.0010939794906847484"
      ]
    },
    {
      "cell_type": "markdown",
      "metadata": {},
      "source": [
        "Evaluating Base Model on Test Set"
      ]
    },
    {
      "cell_type": "code",
      "execution_count": 44,
      "metadata": {},
      "outputs": [
        {
          "name": "stdout",
          "output_type": "stream",
          "text": [
            "roc_auc test: 0.6836354883250845\n"
          ]
        }
      ],
      "source": [
        "# Train Baseline Model on whole training set\n",
        "model = LogisticRegression(max_iter = 100000)\n",
        "model.fit(X_train_LR, y_train_LR)\n",
        "\n",
        "# Evaluate AUC_ROC\n",
        "X_test_LR = hstack([X_test_gen_features,test_tfidf_csr])\n",
        "y_pred_test = model.predict(X_test_LR)\n",
        "roc_auc_test = roc_auc_score(y_test_LR, y_pred_test)\n",
        "print(f\"roc_auc test: {roc_auc_test}\")"
      ]
    },
    {
      "cell_type": "markdown",
      "metadata": {},
      "source": [
        "ROC Curve on Test Set"
      ]
    },
    {
      "cell_type": "code",
      "execution_count": 45,
      "metadata": {},
      "outputs": [
        {
          "data": {
            "image/png": "[encoded data removed]",
            "text/plain": [
              "<Figure size 800x600 with 1 Axes>"
            ]
          },
          "metadata": {},
          "output_type": "display_data"
        }
      ],
      "source": [
        "# Obtain Probability Scores\n",
        "y_scores = model.predict_proba(X_test_LR)[:, 1]\n",
        "fpr, tpr, thresholds = roc_curve(y_test_LR, y_scores)\n",
        "\n",
        "# Plot ROC Curve\n",
        "plt.figure(figsize=(8, 6))\n",
        "plt.plot(fpr, tpr, color='darkorange', lw=2, label='ROC curve (AUC = {:.3f})'.format(roc_auc_test))\n",
        "plt.plot([0, 1], [0, 1], color='navy', lw=2, linestyle='--', label='Random')\n",
        "plt.xlabel('False Positive Rate (FPR)')\n",
        "plt.ylabel('True Positive Rate (TPR)')\n",
        "plt.title('Receiver Operating Characteristic (ROC) Curve')\n",
        "plt.legend(loc='lower right')\n",
        "plt.show()"
      ]
    },
    {
      "cell_type": "markdown",
      "metadata": {},
      "source": [
        "Model Explainability"
      ]
    },
    {
      "cell_type": "code",
      "execution_count": 46,
      "metadata": {},
      "outputs": [
        {
          "data": {
            "text/plain": [
              "['comment_stopword_count',\n",
              " 'comment_unique_word_count',\n",
              " 'obviously',\n",
              " 'comment_unique_token_count',\n",
              " 'clearly',\n",
              " 'totally',\n",
              " 'duh',\n",
              " 'yeah',\n",
              " 'dare',\n",
              " 'good thing',\n",
              " 'forgot',\n",
              " 'fault',\n",
              " 'dropped',\n",
              " 'but',\n",
              " 'gee',\n",
              " 'therefore',\n",
              " 'shitlord',\n",
              " 'everyone know',\n",
              " 'must',\n",
              " 'racist',\n",
              " 'yea',\n",
              " 'fair enough',\n",
              " 'not really',\n",
              " 'yes exactly',\n",
              " 'parent_comment_unique_token_count',\n",
              " 'amirite',\n",
              " 'sexist',\n",
              " 'pfft',\n",
              " 'iirc',\n",
              " 'commie',\n",
              " 'yes let',\n",
              " 'omg',\n",
              " 'curious',\n",
              " 'parent_comment_stopword_count',\n",
              " 'pleb',\n",
              " 'parent_comment_mean_token_length',\n",
              " 'not wait',\n",
              " 'would never',\n",
              " 'although',\n",
              " 'cuz',\n",
              " 'yes sure',\n",
              " 'psh',\n",
              " 'not possibly',\n",
              " 'woman',\n",
              " 'not count',\n",
              " 'surely',\n",
              " 'shocked',\n",
              " 'not like',\n",
              " 'yeah fuck',\n",
              " 'rigged']"
            ]
          },
          "execution_count": 46,
          "metadata": {},
          "output_type": "execute_result"
        }
      ],
      "source": [
        "# Finding the top 50 most important features\n",
        "coefficients = model.coef_[0]\n",
        "general_features = list_of_features\n",
        "ngrams_features = tfidf_vec.get_feature_names_out()\n",
        "feature_names = list_of_features + list(ngrams_features)\n",
        "\n",
        "feature_importance = list(sorted(zip(coefficients, feature_names), key=lambda x: abs(x[0]), reverse=True))[:50]\n",
        "\n",
        "top_features = [feature for _, feature in feature_importance]\n",
        "top_features"
      ]
    },
    {
      "cell_type": "code",
      "execution_count": 48,
      "metadata": {},
      "outputs": [
        {
          "data": {
            "image/png": "[encoded data removed]",
            "text/plain": [
              "<Figure size 640x480 with 1 Axes>"
            ]
          },
          "metadata": {},
          "output_type": "display_data"
        }
      ],
      "source": [
        "# Plot top 50 most important features \n",
        "importance, features = zip(*feature_importance)\n",
        "plt.barh(features, importance)\n",
        "plt.xlabel('Coefficient Magnitude')\n",
        "plt.title('Feature Importance in Logistic Regression')\n",
        "plt.yticks(fontsize=5)\n",
        "plt.show()"
      ]
    },
    {
      "cell_type": "markdown",
      "metadata": {
        "id": "h4DiLeAElv8t"
      },
      "source": [
        "### 4. Hyper Parameter Tuning with Grid Search CV\n",
        "\n",
        "Baseline 5: General Features + TF-IDF has the highest mean roc_auc score. This means that it is the best performing classifier. We will now perform hyperparameter tuning on this to increase the model performance. We will use GridSearchCV to cross validate all possible hyperparameter combinations and pick the best performing hyperparameters."
      ]
    },
    {
      "cell_type": "code",
      "execution_count": 27,
      "metadata": {
        "id": "-4B6m7aflv8t"
      },
      "outputs": [],
      "source": [
        "### Using gen features and tfidf\n",
        "X_train_LR = hstack([X_train_gen_features,train_tfidf_csr])"
      ]
    },
    {
      "cell_type": "code",
      "execution_count": 28,
      "metadata": {
        "id": "vP2tUcGOlv8t"
      },
      "outputs": [],
      "source": [
        "param_grid = {\n",
        "    'C': [0.001, 0.01, 0.1, 1, 10, 100],\n",
        "    'penalty': ['l1', 'l2'],\n",
        "    'solver': ['liblinear', 'lbfgs'],\n",
        "}"
      ]
    },
    {
      "cell_type": "code",
      "execution_count": 29,
      "metadata": {
        "id": "jZOfBlwhlv8u",
        "outputId": "8a3d8616-43eb-445a-9e90-2610eeacc998"
      },
      "outputs": [
        {
          "name": "stdout",
          "output_type": "stream",
          "text": [
            "Fitting 5 folds for each of 24 candidates, totalling 120 fits\n",
            "[CV 1/5] END C=0.001, penalty=l1, solver=liblinear;, score=0.539 total time=   1.0s\n",
            "[CV 2/5] END C=0.001, penalty=l1, solver=liblinear;, score=0.531 total time=   0.9s\n",
            "[CV 3/5] END C=0.001, penalty=l1, solver=liblinear;, score=0.529 total time=   0.9s\n",
            "[CV 4/5] END C=0.001, penalty=l1, solver=liblinear;, score=0.530 total time=   0.8s\n",
            "[CV 5/5] END C=0.001, penalty=l1, solver=liblinear;, score=0.531 total time=   1.0s\n",
            "[CV 1/5] END ...C=0.001, penalty=l1, solver=lbfgs;, score=nan total time=   0.0s\n",
            "[CV 2/5] END ...C=0.001, penalty=l1, solver=lbfgs;, score=nan total time=   0.0s\n",
            "[CV 3/5] END ...C=0.001, penalty=l1, solver=lbfgs;, score=nan total time=   0.0s\n",
            "[CV 4/5] END ...C=0.001, penalty=l1, solver=lbfgs;, score=nan total time=   0.0s\n",
            "[CV 5/5] END ...C=0.001, penalty=l1, solver=lbfgs;, score=nan total time=   0.0s\n",
            "[CV 1/5] END C=0.001, penalty=l2, solver=liblinear;, score=0.613 total time=   1.4s\n",
            "[CV 2/5] END C=0.001, penalty=l2, solver=liblinear;, score=0.609 total time=   1.4s\n",
            "[CV 3/5] END C=0.001, penalty=l2, solver=liblinear;, score=0.605 total time=   1.4s\n",
            "[CV 4/5] END C=0.001, penalty=l2, solver=liblinear;, score=0.608 total time=   1.3s\n",
            "[CV 5/5] END C=0.001, penalty=l2, solver=liblinear;, score=0.608 total time=   1.3s\n",
            "[CV 1/5] END .C=0.001, penalty=l2, solver=lbfgs;, score=0.618 total time=   1.0s\n",
            "[CV 2/5] END .C=0.001, penalty=l2, solver=lbfgs;, score=0.614 total time=   1.2s\n",
            "[CV 3/5] END .C=0.001, penalty=l2, solver=lbfgs;, score=0.609 total time=   1.1s\n",
            "[CV 4/5] END .C=0.001, penalty=l2, solver=lbfgs;, score=0.612 total time=   0.9s\n",
            "[CV 5/5] END .C=0.001, penalty=l2, solver=lbfgs;, score=0.613 total time=   1.1s\n",
            "[CV 1/5] END C=0.01, penalty=l1, solver=liblinear;, score=0.597 total time=   1.0s\n",
            "[CV 2/5] END C=0.01, penalty=l1, solver=liblinear;, score=0.594 total time=   1.0s\n",
            "[CV 3/5] END C=0.01, penalty=l1, solver=liblinear;, score=0.593 total time=   0.9s\n",
            "[CV 4/5] END C=0.01, penalty=l1, solver=liblinear;, score=0.595 total time=   1.0s\n",
            "[CV 5/5] END C=0.01, penalty=l1, solver=liblinear;, score=0.594 total time=   1.0s\n",
            "[CV 1/5] END ....C=0.01, penalty=l1, solver=lbfgs;, score=nan total time=   0.0s\n",
            "[CV 2/5] END ....C=0.01, penalty=l1, solver=lbfgs;, score=nan total time=   0.0s\n",
            "[CV 3/5] END ....C=0.01, penalty=l1, solver=lbfgs;, score=nan total time=   0.0s\n",
            "[CV 4/5] END ....C=0.01, penalty=l1, solver=lbfgs;, score=nan total time=   0.0s\n",
            "[CV 5/5] END ....C=0.01, penalty=l1, solver=lbfgs;, score=nan total time=   0.0s\n",
            "[CV 1/5] END C=0.01, penalty=l2, solver=liblinear;, score=0.674 total time=   2.0s\n",
            "[CV 2/5] END C=0.01, penalty=l2, solver=liblinear;, score=0.672 total time=   2.0s\n",
            "[CV 3/5] END C=0.01, penalty=l2, solver=liblinear;, score=0.672 total time=   2.1s\n",
            "[CV 4/5] END C=0.01, penalty=l2, solver=liblinear;, score=0.672 total time=   2.1s\n",
            "[CV 5/5] END C=0.01, penalty=l2, solver=liblinear;, score=0.671 total time=   1.9s\n",
            "[CV 1/5] END ..C=0.01, penalty=l2, solver=lbfgs;, score=0.673 total time=   2.9s\n",
            "[CV 2/5] END ..C=0.01, penalty=l2, solver=lbfgs;, score=0.671 total time=   2.7s\n",
            "[CV 3/5] END ..C=0.01, penalty=l2, solver=lbfgs;, score=0.672 total time=   2.3s\n",
            "[CV 4/5] END ..C=0.01, penalty=l2, solver=lbfgs;, score=0.672 total time=   2.7s\n",
            "[CV 5/5] END ..C=0.01, penalty=l2, solver=lbfgs;, score=0.671 total time=   6.2s\n",
            "[CV 1/5] END C=0.1, penalty=l1, solver=liblinear;, score=0.696 total time=   6.7s\n",
            "[CV 2/5] END C=0.1, penalty=l1, solver=liblinear;, score=0.696 total time=   6.7s\n",
            "[CV 3/5] END C=0.1, penalty=l1, solver=liblinear;, score=0.696 total time=   8.6s\n",
            "[CV 4/5] END C=0.1, penalty=l1, solver=liblinear;, score=0.698 total time=   6.7s\n",
            "[CV 5/5] END C=0.1, penalty=l1, solver=liblinear;, score=0.695 total time=   5.1s\n",
            "[CV 1/5] END .....C=0.1, penalty=l1, solver=lbfgs;, score=nan total time=   0.0s\n",
            "[CV 2/5] END .....C=0.1, penalty=l1, solver=lbfgs;, score=nan total time=   0.0s\n",
            "[CV 3/5] END .....C=0.1, penalty=l1, solver=lbfgs;, score=nan total time=   0.0s\n",
            "[CV 4/5] END .....C=0.1, penalty=l1, solver=lbfgs;, score=nan total time=   0.0s\n",
            "[CV 5/5] END .....C=0.1, penalty=l1, solver=lbfgs;, score=nan total time=   0.0s\n",
            "[CV 1/5] END C=0.1, penalty=l2, solver=liblinear;, score=0.729 total time=   2.3s\n",
            "[CV 2/5] END C=0.1, penalty=l2, solver=liblinear;, score=0.729 total time=   2.6s\n",
            "[CV 3/5] END C=0.1, penalty=l2, solver=liblinear;, score=0.728 total time=   2.4s\n",
            "[CV 4/5] END C=0.1, penalty=l2, solver=liblinear;, score=0.729 total time=   2.6s\n",
            "[CV 5/5] END C=0.1, penalty=l2, solver=liblinear;, score=0.726 total time=   2.4s\n",
            "[CV 1/5] END ...C=0.1, penalty=l2, solver=lbfgs;, score=0.729 total time=   7.5s\n",
            "[CV 2/5] END ...C=0.1, penalty=l2, solver=lbfgs;, score=0.729 total time=   5.5s\n",
            "[CV 3/5] END ...C=0.1, penalty=l2, solver=lbfgs;, score=0.728 total time=   6.8s\n",
            "[CV 4/5] END ...C=0.1, penalty=l2, solver=lbfgs;, score=0.729 total time=   6.8s\n",
            "[CV 5/5] END ...C=0.1, penalty=l2, solver=lbfgs;, score=0.726 total time=   6.7s\n",
            "[CV 1/5] END .C=1, penalty=l1, solver=liblinear;, score=0.740 total time=  18.4s\n",
            "[CV 2/5] END .C=1, penalty=l1, solver=liblinear;, score=0.742 total time=  17.5s\n",
            "[CV 3/5] END .C=1, penalty=l1, solver=liblinear;, score=0.740 total time=  22.9s\n",
            "[CV 4/5] END .C=1, penalty=l1, solver=liblinear;, score=0.741 total time=  17.0s\n",
            "[CV 5/5] END .C=1, penalty=l1, solver=liblinear;, score=0.737 total time=  19.0s\n",
            "[CV 1/5] END .......C=1, penalty=l1, solver=lbfgs;, score=nan total time=   0.0s\n",
            "[CV 2/5] END .......C=1, penalty=l1, solver=lbfgs;, score=nan total time=   0.0s\n",
            "[CV 3/5] END .......C=1, penalty=l1, solver=lbfgs;, score=nan total time=   0.0s\n",
            "[CV 4/5] END .......C=1, penalty=l1, solver=lbfgs;, score=nan total time=   0.0s\n",
            "[CV 5/5] END .......C=1, penalty=l1, solver=lbfgs;, score=nan total time=   0.0s\n",
            "[CV 1/5] END .C=1, penalty=l2, solver=liblinear;, score=0.743 total time=   4.9s\n",
            "[CV 2/5] END .C=1, penalty=l2, solver=liblinear;, score=0.746 total time=   4.8s\n",
            "[CV 3/5] END .C=1, penalty=l2, solver=liblinear;, score=0.744 total time=   5.0s\n",
            "[CV 4/5] END .C=1, penalty=l2, solver=liblinear;, score=0.744 total time=   4.9s\n",
            "[CV 5/5] END .C=1, penalty=l2, solver=liblinear;, score=0.740 total time=   5.5s\n",
            "[CV 1/5] END .....C=1, penalty=l2, solver=lbfgs;, score=0.743 total time=  18.9s\n",
            "[CV 2/5] END .....C=1, penalty=l2, solver=lbfgs;, score=0.746 total time=  21.0s\n",
            "[CV 3/5] END .....C=1, penalty=l2, solver=lbfgs;, score=0.744 total time=  20.0s\n",
            "[CV 4/5] END .....C=1, penalty=l2, solver=lbfgs;, score=0.744 total time=  17.9s\n",
            "[CV 5/5] END .....C=1, penalty=l2, solver=lbfgs;, score=0.740 total time=  17.9s\n",
            "[CV 1/5] END C=10, penalty=l1, solver=liblinear;, score=0.700 total time= 1.0min\n",
            "[CV 2/5] END C=10, penalty=l1, solver=liblinear;, score=0.701 total time= 1.1min\n",
            "[CV 3/5] END C=10, penalty=l1, solver=liblinear;, score=0.699 total time= 1.5min\n",
            "[CV 4/5] END C=10, penalty=l1, solver=liblinear;, score=0.699 total time= 1.2min\n",
            "[CV 5/5] END C=10, penalty=l1, solver=liblinear;, score=0.695 total time= 1.1min\n",
            "[CV 1/5] END ......C=10, penalty=l1, solver=lbfgs;, score=nan total time=   0.0s\n",
            "[CV 2/5] END ......C=10, penalty=l1, solver=lbfgs;, score=nan total time=   0.0s\n",
            "[CV 3/5] END ......C=10, penalty=l1, solver=lbfgs;, score=nan total time=   0.0s\n",
            "[CV 4/5] END ......C=10, penalty=l1, solver=lbfgs;, score=nan total time=   0.0s\n",
            "[CV 5/5] END ......C=10, penalty=l1, solver=lbfgs;, score=nan total time=   0.0s\n",
            "[CV 1/5] END C=10, penalty=l2, solver=liblinear;, score=0.722 total time=  11.9s\n",
            "[CV 2/5] END C=10, penalty=l2, solver=liblinear;, score=0.724 total time=  12.4s\n",
            "[CV 3/5] END C=10, penalty=l2, solver=liblinear;, score=0.722 total time=  10.5s\n",
            "[CV 4/5] END C=10, penalty=l2, solver=liblinear;, score=0.722 total time=  11.9s\n",
            "[CV 5/5] END C=10, penalty=l2, solver=liblinear;, score=0.718 total time=  12.1s\n",
            "[CV 1/5] END ....C=10, penalty=l2, solver=lbfgs;, score=0.722 total time=  56.9s\n",
            "[CV 2/5] END ....C=10, penalty=l2, solver=lbfgs;, score=0.724 total time=  56.1s\n",
            "[CV 3/5] END ....C=10, penalty=l2, solver=lbfgs;, score=0.722 total time=  53.7s\n",
            "[CV 4/5] END ....C=10, penalty=l2, solver=lbfgs;, score=0.722 total time=  54.7s\n",
            "[CV 5/5] END ....C=10, penalty=l2, solver=lbfgs;, score=0.718 total time=  54.2s\n",
            "[CV 1/5] END C=100, penalty=l1, solver=liblinear;, score=0.661 total time= 1.6min\n",
            "[CV 2/5] END C=100, penalty=l1, solver=liblinear;, score=0.657 total time= 2.6min\n",
            "[CV 3/5] END C=100, penalty=l1, solver=liblinear;, score=0.658 total time= 1.5min\n",
            "[CV 4/5] END C=100, penalty=l1, solver=liblinear;, score=0.658 total time= 1.7min\n",
            "[CV 5/5] END C=100, penalty=l1, solver=liblinear;, score=0.653 total time= 1.7min\n",
            "[CV 1/5] END .....C=100, penalty=l1, solver=lbfgs;, score=nan total time=   0.0s\n",
            "[CV 2/5] END .....C=100, penalty=l1, solver=lbfgs;, score=nan total time=   0.0s\n",
            "[CV 3/5] END .....C=100, penalty=l1, solver=lbfgs;, score=nan total time=   0.0s\n",
            "[CV 4/5] END .....C=100, penalty=l1, solver=lbfgs;, score=nan total time=   0.0s\n",
            "[CV 5/5] END .....C=100, penalty=l1, solver=lbfgs;, score=nan total time=   0.0s\n",
            "[CV 1/5] END C=100, penalty=l2, solver=liblinear;, score=0.688 total time=  50.2s\n",
            "[CV 2/5] END C=100, penalty=l2, solver=liblinear;, score=0.686 total time= 1.1min\n",
            "[CV 3/5] END C=100, penalty=l2, solver=liblinear;, score=0.685 total time=  34.4s\n",
            "[CV 4/5] END C=100, penalty=l2, solver=liblinear;, score=0.685 total time=  42.3s\n",
            "[CV 5/5] END C=100, penalty=l2, solver=liblinear;, score=0.681 total time=  41.6s\n",
            "[CV 1/5] END ...C=100, penalty=l2, solver=lbfgs;, score=0.688 total time= 1.9min\n",
            "[CV 2/5] END ...C=100, penalty=l2, solver=lbfgs;, score=0.686 total time= 1.9min\n",
            "[CV 3/5] END ...C=100, penalty=l2, solver=lbfgs;, score=0.685 total time= 1.7min\n",
            "[CV 4/5] END ...C=100, penalty=l2, solver=lbfgs;, score=0.685 total time= 1.7min\n",
            "[CV 5/5] END ...C=100, penalty=l2, solver=lbfgs;, score=0.681 total time= 1.7min\n"
          ]
        },
        {
          "name": "stderr",
          "output_type": "stream",
          "text": [
            "c:\\Users\\dxcas\\anaconda3\\Lib\\site-packages\\sklearn\\model_selection\\_validation.py:425: FitFailedWarning: \n",
            "30 fits failed out of a total of 120.\n",
            "The score on these train-test partitions for these parameters will be set to nan.\n",
            "If these failures are not expected, you can try to debug them by setting error_score='raise'.\n",
            "\n",
            "Below are more details about the failures:\n",
            "--------------------------------------------------------------------------------\n",
            "30 fits failed with the following error:\n",
            "Traceback (most recent call last):\n",
            "  File \"c:\\Users\\dxcas\\anaconda3\\Lib\\site-packages\\sklearn\\model_selection\\_validation.py\", line 732, in _fit_and_score\n",
            "    estimator.fit(X_train, y_train, **fit_params)\n",
            "  File \"c:\\Users\\dxcas\\anaconda3\\Lib\\site-packages\\sklearn\\base.py\", line 1151, in wrapper\n",
            "    return fit_method(estimator, *args, **kwargs)\n",
            "           ^^^^^^^^^^^^^^^^^^^^^^^^^^^^^^^^^^^^^^\n",
            "  File \"c:\\Users\\dxcas\\anaconda3\\Lib\\site-packages\\sklearn\\linear_model\\_logistic.py\", line 1168, in fit\n",
            "    solver = _check_solver(self.solver, self.penalty, self.dual)\n",
            "             ^^^^^^^^^^^^^^^^^^^^^^^^^^^^^^^^^^^^^^^^^^^^^^^^^^^\n",
            "  File \"c:\\Users\\dxcas\\anaconda3\\Lib\\site-packages\\sklearn\\linear_model\\_logistic.py\", line 56, in _check_solver\n",
            "    raise ValueError(\n",
            "ValueError: Solver lbfgs supports only 'l2' or 'none' penalties, got l1 penalty.\n",
            "\n",
            "  warnings.warn(some_fits_failed_message, FitFailedWarning)\n",
            "c:\\Users\\dxcas\\anaconda3\\Lib\\site-packages\\sklearn\\model_selection\\_search.py:976: UserWarning: One or more of the test scores are non-finite: [0.53185216        nan 0.60859927 0.61317564 0.59449004        nan\n",
            " 0.67204934 0.67181485 0.69588456        nan 0.72815103 0.72815674\n",
            " 0.73991869        nan 0.74339643 0.74339427 0.69881782        nan\n",
            " 0.72149959 0.72149774 0.65717383        nan 0.68509347 0.68515103]\n",
            "  warnings.warn(\n"
          ]
        },
        {
          "data": {
            "text/html": [
              "<style>#sk-container-id-1 {color: black;}#sk-container-id-1 pre{padding: 0;}#sk-container-id-1 div.sk-toggleable {background-color: white;}#sk-container-id-1 label.sk-toggleable__label {cursor: pointer;display: block;width: 100%;margin-bottom: 0;padding: 0.3em;box-sizing: border-box;text-align: center;}#sk-container-id-1 label.sk-toggleable__label-arrow:before {content: \"▸\";float: left;margin-right: 0.25em;color: #696969;}#sk-container-id-1 label.sk-toggleable__label-arrow:hover:before {color: black;}#sk-container-id-1 div.sk-estimator:hover label.sk-toggleable__label-arrow:before {color: black;}#sk-container-id-1 div.sk-toggleable__content {max-height: 0;max-width: 0;overflow: hidden;text-align: left;background-color: #f0f8ff;}#sk-container-id-1 div.sk-toggleable__content pre {margin: 0.2em;color: black;border-radius: 0.25em;background-color: #f0f8ff;}#sk-container-id-1 input.sk-toggleable__control:checked~div.sk-toggleable__content {max-height: 200px;max-width: 100%;overflow: auto;}#sk-container-id-1 input.sk-toggleable__control:checked~label.sk-toggleable__label-arrow:before {content: \"▾\";}#sk-container-id-1 div.sk-estimator input.sk-toggleable__control:checked~label.sk-toggleable__label {background-color: #d4ebff;}#sk-container-id-1 div.sk-label input.sk-toggleable__control:checked~label.sk-toggleable__label {background-color: #d4ebff;}#sk-container-id-1 input.sk-hidden--visually {border: 0;clip: rect(1px 1px 1px 1px);clip: rect(1px, 1px, 1px, 1px);height: 1px;margin: -1px;overflow: hidden;padding: 0;position: absolute;width: 1px;}#sk-container-id-1 div.sk-estimator {font-family: monospace;background-color: #f0f8ff;border: 1px dotted black;border-radius: 0.25em;box-sizing: border-box;margin-bottom: 0.5em;}#sk-container-id-1 div.sk-estimator:hover {background-color: #d4ebff;}#sk-container-id-1 div.sk-parallel-item::after {content: \"\";width: 100%;border-bottom: 1px solid gray;flex-grow: 1;}#sk-container-id-1 div.sk-label:hover label.sk-toggleable__label {background-color: #d4ebff;}#sk-container-id-1 div.sk-serial::before {content: \"\";position: absolute;border-left: 1px solid gray;box-sizing: border-box;top: 0;bottom: 0;left: 50%;z-index: 0;}#sk-container-id-1 div.sk-serial {display: flex;flex-direction: column;align-items: center;background-color: white;padding-right: 0.2em;padding-left: 0.2em;position: relative;}#sk-container-id-1 div.sk-item {position: relative;z-index: 1;}#sk-container-id-1 div.sk-parallel {display: flex;align-items: stretch;justify-content: center;background-color: white;position: relative;}#sk-container-id-1 div.sk-item::before, #sk-container-id-1 div.sk-parallel-item::before {content: \"\";position: absolute;border-left: 1px solid gray;box-sizing: border-box;top: 0;bottom: 0;left: 50%;z-index: -1;}#sk-container-id-1 div.sk-parallel-item {display: flex;flex-direction: column;z-index: 1;position: relative;background-color: white;}#sk-container-id-1 div.sk-parallel-item:first-child::after {align-self: flex-end;width: 50%;}#sk-container-id-1 div.sk-parallel-item:last-child::after {align-self: flex-start;width: 50%;}#sk-container-id-1 div.sk-parallel-item:only-child::after {width: 0;}#sk-container-id-1 div.sk-dashed-wrapped {border: 1px dashed gray;margin: 0 0.4em 0.5em 0.4em;box-sizing: border-box;padding-bottom: 0.4em;background-color: white;}#sk-container-id-1 div.sk-label label {font-family: monospace;font-weight: bold;display: inline-block;line-height: 1.2em;}#sk-container-id-1 div.sk-label-container {text-align: center;}#sk-container-id-1 div.sk-container {/* jupyter's `normalize.less` sets `[hidden] { display: none; }` but bootstrap.min.css set `[hidden] { display: none !important; }` so we also need the `!important` here to be able to override the default hidden behavior on the sphinx rendered scikit-learn.org. See: https://github.com/scikit-learn/scikit-learn/issues/21755 */display: inline-block !important;position: relative;}#sk-container-id-1 div.sk-text-repr-fallback {display: none;}</style><div id=\"sk-container-id-1\" class=\"sk-top-container\"><div class=\"sk-text-repr-fallback\"><pre>GridSearchCV(cv=5, estimator=LogisticRegression(max_iter=100000),\n",
              "             param_grid={&#x27;C&#x27;: [0.001, 0.01, 0.1, 1, 10, 100],\n",
              "                         &#x27;penalty&#x27;: [&#x27;l1&#x27;, &#x27;l2&#x27;],\n",
              "                         &#x27;solver&#x27;: [&#x27;liblinear&#x27;, &#x27;lbfgs&#x27;]},\n",
              "             scoring=&#x27;roc_auc&#x27;, verbose=4)</pre><b>In a Jupyter environment, please rerun this cell to show the HTML representation or trust the notebook. <br />On GitHub, the HTML representation is unable to render, please try loading this page with nbviewer.org.</b></div><div class=\"sk-container\" hidden><div class=\"sk-item sk-dashed-wrapped\"><div class=\"sk-label-container\"><div class=\"sk-label sk-toggleable\"><input class=\"sk-toggleable__control sk-hidden--visually\" id=\"sk-estimator-id-1\" type=\"checkbox\" ><label for=\"sk-estimator-id-1\" class=\"sk-toggleable__label sk-toggleable__label-arrow\">GridSearchCV</label><div class=\"sk-toggleable__content\"><pre>GridSearchCV(cv=5, estimator=LogisticRegression(max_iter=100000),\n",
              "             param_grid={&#x27;C&#x27;: [0.001, 0.01, 0.1, 1, 10, 100],\n",
              "                         &#x27;penalty&#x27;: [&#x27;l1&#x27;, &#x27;l2&#x27;],\n",
              "                         &#x27;solver&#x27;: [&#x27;liblinear&#x27;, &#x27;lbfgs&#x27;]},\n",
              "             scoring=&#x27;roc_auc&#x27;, verbose=4)</pre></div></div></div><div class=\"sk-parallel\"><div class=\"sk-parallel-item\"><div class=\"sk-item\"><div class=\"sk-label-container\"><div class=\"sk-label sk-toggleable\"><input class=\"sk-toggleable__control sk-hidden--visually\" id=\"sk-estimator-id-2\" type=\"checkbox\" ><label for=\"sk-estimator-id-2\" class=\"sk-toggleable__label sk-toggleable__label-arrow\">estimator: LogisticRegression</label><div class=\"sk-toggleable__content\"><pre>LogisticRegression(max_iter=100000)</pre></div></div></div><div class=\"sk-serial\"><div class=\"sk-item\"><div class=\"sk-estimator sk-toggleable\"><input class=\"sk-toggleable__control sk-hidden--visually\" id=\"sk-estimator-id-3\" type=\"checkbox\" ><label for=\"sk-estimator-id-3\" class=\"sk-toggleable__label sk-toggleable__label-arrow\">LogisticRegression</label><div class=\"sk-toggleable__content\"><pre>LogisticRegression(max_iter=100000)</pre></div></div></div></div></div></div></div></div></div></div>"
            ],
            "text/plain": [
              "GridSearchCV(cv=5, estimator=LogisticRegression(max_iter=100000),\n",
              "             param_grid={'C': [0.001, 0.01, 0.1, 1, 10, 100],\n",
              "                         'penalty': ['l1', 'l2'],\n",
              "                         'solver': ['liblinear', 'lbfgs']},\n",
              "             scoring='roc_auc', verbose=4)"
            ]
          },
          "execution_count": 29,
          "metadata": {},
          "output_type": "execute_result"
        }
      ],
      "source": [
        "grid_search = GridSearchCV(LogisticRegression(max_iter=100000), param_grid, cv=5, scoring='roc_auc', verbose=4)\n",
        "grid_search.fit(X_train_LR, y_train_LR)"
      ]
    },
    {
      "cell_type": "code",
      "execution_count": 30,
      "metadata": {
        "id": "iSOpJFMylv8u",
        "outputId": "8ce760fc-dbdd-4c78-b71e-b66f6fb78c80"
      },
      "outputs": [
        {
          "name": "stdout",
          "output_type": "stream",
          "text": [
            "Best Parameters: {'C': 1, 'penalty': 'l2', 'solver': 'liblinear'}\n",
            "Best Score: 0.7433964259952544\n"
          ]
        }
      ],
      "source": [
        "best_params = grid_search.best_params_\n",
        "print(\"Best Parameters:\", best_params)\n",
        "\n",
        "# Best score achieved during grid search\n",
        "best_score = grid_search.best_score_\n",
        "print(\"Best Score:\", best_score)"
      ]
    },
    {
      "cell_type": "markdown",
      "metadata": {
        "id": "sCGrdsXMue5_"
      },
      "source": [
        "Here we will test out the model using the best hyperparameters."
      ]
    },
    {
      "cell_type": "code",
      "execution_count": 31,
      "metadata": {
        "id": "bnBHbsDqlv8u",
        "outputId": "95614755-a899-485c-9845-fb5080b772d6"
      },
      "outputs": [
        {
          "name": "stdout",
          "output_type": "stream",
          "text": [
            "Best Estimator: LogisticRegression(C=1, max_iter=100000, solver='liblinear')\n"
          ]
        }
      ],
      "source": [
        "# Best estimator (the fitted model with the best parameters)\n",
        "best_estimator = grid_search.best_estimator_\n",
        "print(\"Best Estimator:\", best_estimator)\n",
        "\n",
        "# Results for all parameter combinations\n",
        "cv_results = grid_search.cv_results_"
      ]
    },
    {
      "cell_type": "code",
      "execution_count": 32,
      "metadata": {
        "id": "vl8-poKClv8v",
        "outputId": "f2559636-7e24-4780-f416-da7e2295a699"
      },
      "outputs": [
        {
          "data": {
            "text/html": [
              "<div>\n",
              "<style scoped>\n",
              "    .dataframe tbody tr th:only-of-type {\n",
              "        vertical-align: middle;\n",
              "    }\n",
              "\n",
              "    .dataframe tbody tr th {\n",
              "        vertical-align: top;\n",
              "    }\n",
              "\n",
              "    .dataframe thead th {\n",
              "        text-align: right;\n",
              "    }\n",
              "</style>\n",
              "<table border=\"1\" class=\"dataframe\">\n",
              "  <thead>\n",
              "    <tr style=\"text-align: right;\">\n",
              "      <th></th>\n",
              "      <th>Params</th>\n",
              "      <th>Mean Score</th>\n",
              "      <th>STD</th>\n",
              "    </tr>\n",
              "  </thead>\n",
              "  <tbody>\n",
              "    <tr>\n",
              "      <th>14</th>\n",
              "      <td>C: 1, penalty: l2, solver: liblinear</td>\n",
              "      <td>0.743396</td>\n",
              "      <td>0.001782</td>\n",
              "    </tr>\n",
              "    <tr>\n",
              "      <th>15</th>\n",
              "      <td>C: 1, penalty: l2, solver: lbfgs</td>\n",
              "      <td>0.743394</td>\n",
              "      <td>0.001781</td>\n",
              "    </tr>\n",
              "    <tr>\n",
              "      <th>12</th>\n",
              "      <td>C: 1, penalty: l1, solver: liblinear</td>\n",
              "      <td>0.739919</td>\n",
              "      <td>0.001503</td>\n",
              "    </tr>\n",
              "    <tr>\n",
              "      <th>11</th>\n",
              "      <td>C: 0.1, penalty: l2, solver: lbfgs</td>\n",
              "      <td>0.728157</td>\n",
              "      <td>0.001095</td>\n",
              "    </tr>\n",
              "    <tr>\n",
              "      <th>10</th>\n",
              "      <td>C: 0.1, penalty: l2, solver: liblinear</td>\n",
              "      <td>0.728151</td>\n",
              "      <td>0.001097</td>\n",
              "    </tr>\n",
              "    <tr>\n",
              "      <th>18</th>\n",
              "      <td>C: 10, penalty: l2, solver: liblinear</td>\n",
              "      <td>0.721500</td>\n",
              "      <td>0.001953</td>\n",
              "    </tr>\n",
              "    <tr>\n",
              "      <th>19</th>\n",
              "      <td>C: 10, penalty: l2, solver: lbfgs</td>\n",
              "      <td>0.721498</td>\n",
              "      <td>0.001953</td>\n",
              "    </tr>\n",
              "    <tr>\n",
              "      <th>16</th>\n",
              "      <td>C: 10, penalty: l1, solver: liblinear</td>\n",
              "      <td>0.698818</td>\n",
              "      <td>0.002092</td>\n",
              "    </tr>\n",
              "    <tr>\n",
              "      <th>8</th>\n",
              "      <td>C: 0.1, penalty: l1, solver: liblinear</td>\n",
              "      <td>0.695885</td>\n",
              "      <td>0.001116</td>\n",
              "    </tr>\n",
              "    <tr>\n",
              "      <th>23</th>\n",
              "      <td>C: 100, penalty: l2, solver: lbfgs</td>\n",
              "      <td>0.685151</td>\n",
              "      <td>0.002316</td>\n",
              "    </tr>\n",
              "    <tr>\n",
              "      <th>22</th>\n",
              "      <td>C: 100, penalty: l2, solver: liblinear</td>\n",
              "      <td>0.685093</td>\n",
              "      <td>0.002303</td>\n",
              "    </tr>\n",
              "    <tr>\n",
              "      <th>6</th>\n",
              "      <td>C: 0.01, penalty: l2, solver: liblinear</td>\n",
              "      <td>0.672049</td>\n",
              "      <td>0.000941</td>\n",
              "    </tr>\n",
              "    <tr>\n",
              "      <th>7</th>\n",
              "      <td>C: 0.01, penalty: l2, solver: lbfgs</td>\n",
              "      <td>0.671815</td>\n",
              "      <td>0.000940</td>\n",
              "    </tr>\n",
              "    <tr>\n",
              "      <th>20</th>\n",
              "      <td>C: 100, penalty: l1, solver: liblinear</td>\n",
              "      <td>0.657174</td>\n",
              "      <td>0.002495</td>\n",
              "    </tr>\n",
              "    <tr>\n",
              "      <th>3</th>\n",
              "      <td>C: 0.001, penalty: l2, solver: lbfgs</td>\n",
              "      <td>0.613176</td>\n",
              "      <td>0.002813</td>\n",
              "    </tr>\n",
              "    <tr>\n",
              "      <th>2</th>\n",
              "      <td>C: 0.001, penalty: l2, solver: liblinear</td>\n",
              "      <td>0.608599</td>\n",
              "      <td>0.002556</td>\n",
              "    </tr>\n",
              "    <tr>\n",
              "      <th>4</th>\n",
              "      <td>C: 0.01, penalty: l1, solver: liblinear</td>\n",
              "      <td>0.594490</td>\n",
              "      <td>0.001527</td>\n",
              "    </tr>\n",
              "    <tr>\n",
              "      <th>0</th>\n",
              "      <td>C: 0.001, penalty: l1, solver: liblinear</td>\n",
              "      <td>0.531852</td>\n",
              "      <td>0.003419</td>\n",
              "    </tr>\n",
              "  </tbody>\n",
              "</table>\n",
              "</div>"
            ],
            "text/plain": [
              "                                      Params  Mean Score       STD\n",
              "14      C: 1, penalty: l2, solver: liblinear    0.743396  0.001782\n",
              "15          C: 1, penalty: l2, solver: lbfgs    0.743394  0.001781\n",
              "12      C: 1, penalty: l1, solver: liblinear    0.739919  0.001503\n",
              "11        C: 0.1, penalty: l2, solver: lbfgs    0.728157  0.001095\n",
              "10    C: 0.1, penalty: l2, solver: liblinear    0.728151  0.001097\n",
              "18     C: 10, penalty: l2, solver: liblinear    0.721500  0.001953\n",
              "19         C: 10, penalty: l2, solver: lbfgs    0.721498  0.001953\n",
              "16     C: 10, penalty: l1, solver: liblinear    0.698818  0.002092\n",
              "8     C: 0.1, penalty: l1, solver: liblinear    0.695885  0.001116\n",
              "23        C: 100, penalty: l2, solver: lbfgs    0.685151  0.002316\n",
              "22    C: 100, penalty: l2, solver: liblinear    0.685093  0.002303\n",
              "6    C: 0.01, penalty: l2, solver: liblinear    0.672049  0.000941\n",
              "7        C: 0.01, penalty: l2, solver: lbfgs    0.671815  0.000940\n",
              "20    C: 100, penalty: l1, solver: liblinear    0.657174  0.002495\n",
              "3       C: 0.001, penalty: l2, solver: lbfgs    0.613176  0.002813\n",
              "2   C: 0.001, penalty: l2, solver: liblinear    0.608599  0.002556\n",
              "4    C: 0.01, penalty: l1, solver: liblinear    0.594490  0.001527\n",
              "0   C: 0.001, penalty: l1, solver: liblinear    0.531852  0.003419"
            ]
          },
          "execution_count": 32,
          "metadata": {},
          "output_type": "execute_result"
        }
      ],
      "source": [
        "# Display CV results as a table\n",
        "mean_test_scores = cv_results['mean_test_score']\n",
        "std_test_scores = cv_results['std_test_score']\n",
        "params = cv_results['params']\n",
        "\n",
        "pd.set_option('display.max_colwidth',None)\n",
        "results_df = pd.DataFrame({'Params':params,'Mean Score':mean_test_scores,'STD':std_test_scores})\n",
        "results_df[\"Params\"] = results_df[\"Params\"].apply(lambda x: ', '.join([f'{key}: {value}' for key, value in x.items()]))\n",
        "results_df.sort_values('STD', inplace=True)\n",
        "results_df.sort_values('Mean Score', ascending=False,inplace=True)\n",
        "results_df.dropna() # Na values when solver is lbfgs and penalty function is l1 since lbfgs does not support l1\n",
        "\n",
        "#for mean_score, std_score, param in zip(mean_test_scores, std_test_scores, params):\n",
        "    #print(f\"Mean Score: {mean_score:.3f} (±{std_score:.3f}) for params: {param}\")"
      ]
    },
    {
      "cell_type": "markdown",
      "metadata": {},
      "source": [
        "Evaluating Optimized Model on Test Set"
      ]
    },
    {
      "cell_type": "code",
      "execution_count": 33,
      "metadata": {},
      "outputs": [
        {
          "name": "stdout",
          "output_type": "stream",
          "text": [
            "roc_auc test: 0.6836356381138846\n"
          ]
        }
      ],
      "source": [
        "# Evaluate AUC_ROC\n",
        "X_test_LR = hstack([X_test_gen_features,test_tfidf_csr])\n",
        "y_pred_test = best_estimator.predict(X_test_LR)\n",
        "roc_auc_test = roc_auc_score(y_test_LR, y_pred_test)\n",
        "print(f\"roc_auc test: {roc_auc_test}\")"
      ]
    },
    {
      "cell_type": "markdown",
      "metadata": {},
      "source": [
        "ROC Curve on Test Set"
      ]
    },
    {
      "cell_type": "code",
      "execution_count": 34,
      "metadata": {},
      "outputs": [
        {
          "data": {
            "image/png": "[encoded data removed]",
            "text/plain": [
              "<Figure size 800x600 with 1 Axes>"
            ]
          },
          "metadata": {},
          "output_type": "display_data"
        }
      ],
      "source": [
        "# Obtain Probability Scores\n",
        "y_scores = best_estimator.predict_proba(X_test_LR)[:, 1]\n",
        "fpr, tpr, thresholds = roc_curve(y_test_LR, y_scores)\n",
        "\n",
        "# Plot ROC Curve\n",
        "plt.figure(figsize=(8, 6))\n",
        "plt.plot(fpr, tpr, color='darkorange', lw=2, label='ROC curve (AUC = {:.3f})'.format(roc_auc_test))\n",
        "plt.plot([0, 1], [0, 1], color='navy', lw=2, linestyle='--', label='Random')\n",
        "plt.xlabel('False Positive Rate (FPR)')\n",
        "plt.ylabel('True Positive Rate (TPR)')\n",
        "plt.title('Receiver Operating Characteristic (ROC) Curve')\n",
        "plt.legend(loc='lower right')\n",
        "plt.show()"
      ]
    },
    {
      "cell_type": "markdown",
      "metadata": {},
      "source": [
        "Model Explainability"
      ]
    },
    {
      "cell_type": "code",
      "execution_count": 35,
      "metadata": {},
      "outputs": [
        {
          "data": {
            "text/plain": [
              "['comment_stopword_count',\n",
              " 'comment_unique_word_count',\n",
              " 'obviously',\n",
              " 'comment_unique_token_count',\n",
              " 'clearly',\n",
              " 'totally',\n",
              " 'duh',\n",
              " 'yeah',\n",
              " 'dare',\n",
              " 'good thing',\n",
              " 'forgot',\n",
              " 'fault',\n",
              " 'dropped',\n",
              " 'but',\n",
              " 'gee',\n",
              " 'therefore',\n",
              " 'shitlord',\n",
              " 'everyone know',\n",
              " 'must',\n",
              " 'racist',\n",
              " 'yea',\n",
              " 'fair enough',\n",
              " 'not really',\n",
              " 'yes exactly',\n",
              " 'parent_comment_unique_token_count',\n",
              " 'amirite',\n",
              " 'sexist',\n",
              " 'pfft',\n",
              " 'iirc',\n",
              " 'commie',\n",
              " 'yes let',\n",
              " 'omg',\n",
              " 'curious',\n",
              " 'parent_comment_stopword_count',\n",
              " 'pleb',\n",
              " 'parent_comment_mean_token_length',\n",
              " 'not wait',\n",
              " 'would never',\n",
              " 'although',\n",
              " 'cuz',\n",
              " 'yes sure',\n",
              " 'psh',\n",
              " 'not possibly',\n",
              " 'woman',\n",
              " 'not count',\n",
              " 'surely',\n",
              " 'shocked',\n",
              " 'not like',\n",
              " 'yeah fuck',\n",
              " 'rigged']"
            ]
          },
          "execution_count": 35,
          "metadata": {},
          "output_type": "execute_result"
        }
      ],
      "source": [
        "# Finding the top 50 most important features\n",
        "coefficients = best_estimator.coef_[0]\n",
        "general_features = list_of_features\n",
        "ngrams_features = tfidf_vec.get_feature_names_out()\n",
        "feature_names = list_of_features + list(ngrams_features)\n",
        "\n",
        "feature_importance = list(sorted(zip(coefficients, feature_names), key=lambda x: abs(x[0]), reverse=True))[:50]\n",
        "\n",
        "top_features = [feature for _, feature in feature_importance]\n",
        "top_features"
      ]
    },
    {
      "cell_type": "code",
      "execution_count": 38,
      "metadata": {},
      "outputs": [
        {
          "data": {
            "image/png": "[encoded data removed]",
            "text/plain": [
              "<Figure size 640x480 with 1 Axes>"
            ]
          },
          "metadata": {},
          "output_type": "display_data"
        }
      ],
      "source": [
        "# Plot top 50 most important features \n",
        "importance, features = zip(*feature_importance)\n",
        "plt.barh(features, importance)\n",
        "plt.xlabel('Coefficient Magnitude')\n",
        "plt.title('Feature Importance in Logistic Regression')\n",
        "plt.yticks(fontsize=5)\n",
        "plt.show()"
      ]
    }
  ],
  "metadata": {
    "colab": {
      "provenance": []
    },
    "kernelspec": {
      "display_name": "Python 3",
      "language": "python",
      "name": "python3"
    },
    "language_info": {
      "codemirror_mode": {
        "name": "ipython",
        "version": 3
      },
      "file_extension": ".py",
      "mimetype": "text/x-python",
      "name": "python",
      "nbconvert_exporter": "python",
      "pygments_lexer": "ipython3",
      "version": "3.11.4"
    }
  },
  "nbformat": 4,
  "nbformat_minor": 0
}
