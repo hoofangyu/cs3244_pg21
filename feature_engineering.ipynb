{
 "cells": [
  {
   "cell_type": "code",
   "execution_count": 31,
   "metadata": {},
   "outputs": [],
   "source": [
    "import pandas as pd\n",
    "import seaborn as sns\n",
    "from nltk.sentiment.vader import SentimentIntensityAnalyzer\n",
    "import matplotlib.pyplot as plt\n",
    "import numpy as np\n",
    "import string\n",
    "import nltk\n",
    "from nltk.corpus import stopwords\n",
    "from gensim.models import Word2Vec #install gensim # had to use this: pip install --upgrade gensim smart_open protobuf==3.20.0\n",
    "from sklearn.feature_extraction.text import CountVectorizer\n",
    "from scipy.sparse import csr_matrix\n",
    "from sklearn.feature_extraction.text import TfidfVectorizer"
   ]
  },
  {
   "cell_type": "code",
   "execution_count": 32,
   "metadata": {},
   "outputs": [
    {
     "name": "stderr",
     "output_type": "stream",
     "text": [
      "[nltk_data] Downloading package stopwords to\n",
      "[nltk_data]     C:\\Users\\dxcas\\AppData\\Roaming\\nltk_data...\n",
      "[nltk_data]   Package stopwords is already up-to-date!\n",
      "[nltk_data] Downloading package averaged_perceptron_tagger to\n",
      "[nltk_data]     C:\\Users\\dxcas\\AppData\\Roaming\\nltk_data...\n",
      "[nltk_data]   Package averaged_perceptron_tagger is already up-to-\n",
      "[nltk_data]       date!\n",
      "[nltk_data] Downloading package punkt to\n",
      "[nltk_data]     C:\\Users\\dxcas\\AppData\\Roaming\\nltk_data...\n",
      "[nltk_data]   Package punkt is already up-to-date!\n",
      "[nltk_data] Downloading package maxent_ne_chunker to\n",
      "[nltk_data]     C:\\Users\\dxcas\\AppData\\Roaming\\nltk_data...\n",
      "[nltk_data]   Package maxent_ne_chunker is already up-to-date!\n",
      "[nltk_data] Downloading package words to\n",
      "[nltk_data]     C:\\Users\\dxcas\\AppData\\Roaming\\nltk_data...\n",
      "[nltk_data]   Package words is already up-to-date!\n"
     ]
    },
    {
     "data": {
      "text/plain": [
       "True"
      ]
     },
     "execution_count": 32,
     "metadata": {},
     "output_type": "execute_result"
    }
   ],
   "source": [
    "nltk.download('stopwords')\n",
    "nltk.download('averaged_perceptron_tagger')\n",
    "nltk.download('punkt')\n",
    "nltk.download('maxent_ne_chunker')\n",
    "nltk.download('words')"
   ]
  },
  {
   "cell_type": "code",
   "execution_count": 33,
   "metadata": {},
   "outputs": [],
   "source": [
    "data = pd.read_pickle('processed_train.pkl')"
   ]
  },
  {
   "cell_type": "markdown",
   "metadata": {},
   "source": [
    "### Sentiment Analysis"
   ]
  },
  {
   "cell_type": "code",
   "execution_count": 34,
   "metadata": {},
   "outputs": [],
   "source": [
    "sia = SentimentIntensityAnalyzer()\n",
    "data['comment_score'] = data['comment'].apply(lambda x: sia.polarity_scores(x)['compound'])\n",
    "data['parent_comment_score'] = data['parent_comment'].apply(lambda x: sia.polarity_scores(x)['compound'])"
   ]
  },
  {
   "cell_type": "code",
   "execution_count": 35,
   "metadata": {},
   "outputs": [
    {
     "data": {
      "text/html": [
       "<div>\n",
       "<style scoped>\n",
       "    .dataframe tbody tr th:only-of-type {\n",
       "        vertical-align: middle;\n",
       "    }\n",
       "\n",
       "    .dataframe tbody tr th {\n",
       "        vertical-align: top;\n",
       "    }\n",
       "\n",
       "    .dataframe thead th {\n",
       "        text-align: right;\n",
       "    }\n",
       "</style>\n",
       "<table border=\"1\" class=\"dataframe\">\n",
       "  <thead>\n",
       "    <tr style=\"text-align: right;\">\n",
       "      <th></th>\n",
       "      <th>comment</th>\n",
       "      <th>author</th>\n",
       "      <th>subreddit</th>\n",
       "      <th>score</th>\n",
       "      <th>ups</th>\n",
       "      <th>downs</th>\n",
       "      <th>date</th>\n",
       "      <th>created_utc</th>\n",
       "      <th>parent_comment</th>\n",
       "      <th>label</th>\n",
       "      <th>comment_tokens</th>\n",
       "      <th>parent_comment_tokens</th>\n",
       "      <th>comment_score</th>\n",
       "      <th>parent_comment_score</th>\n",
       "    </tr>\n",
       "  </thead>\n",
       "  <tbody>\n",
       "    <tr>\n",
       "      <th>0</th>\n",
       "      <td>yeah, they only have captain america, iron man...</td>\n",
       "      <td>RedBarrel</td>\n",
       "      <td>marvelstudios</td>\n",
       "      <td>1</td>\n",
       "      <td>1</td>\n",
       "      <td>0</td>\n",
       "      <td>2015-11</td>\n",
       "      <td>2015-11-12 19:18:43</td>\n",
       "      <td>kind of defeats the ideas of a shared universe...</td>\n",
       "      <td>1</td>\n",
       "      <td>[yeah, ,, captain, america, ,, iron, man, ,, s...</td>\n",
       "      <td>[kind, defeat, idea, shared, universe, differe...</td>\n",
       "      <td>0.5423</td>\n",
       "      <td>0.8429</td>\n",
       "    </tr>\n",
       "    <tr>\n",
       "      <th>1</th>\n",
       "      <td>just pretend there is nothing wrong with this ...</td>\n",
       "      <td>Swopyx</td>\n",
       "      <td>FIFA</td>\n",
       "      <td>7</td>\n",
       "      <td>-1</td>\n",
       "      <td>-1</td>\n",
       "      <td>2016-11</td>\n",
       "      <td>2016-11-19 10:24:32</td>\n",
       "      <td>something sketchy going on in wl? i have playe...</td>\n",
       "      <td>0</td>\n",
       "      <td>[pretend, nothing, wrong, game, like, 95, %, s...</td>\n",
       "      <td>[something, sketchy, going, wl, ?, played, eve...</td>\n",
       "      <td>0.5653</td>\n",
       "      <td>0.8611</td>\n",
       "    </tr>\n",
       "    <tr>\n",
       "      <th>2</th>\n",
       "      <td>i thought i had killed somebody by administeri...</td>\n",
       "      <td>fathompin</td>\n",
       "      <td>exmormon</td>\n",
       "      <td>12</td>\n",
       "      <td>12</td>\n",
       "      <td>0</td>\n",
       "      <td>2016-05</td>\n",
       "      <td>2016-05-10 22:33:28</td>\n",
       "      <td>want to repent to this sub for stupid and misg...</td>\n",
       "      <td>1</td>\n",
       "      <td>[thought, killed, somebody, administering, pro...</td>\n",
       "      <td>[want, repent, sub, stupid, misguided, thing, ...</td>\n",
       "      <td>-0.8807</td>\n",
       "      <td>-0.7509</td>\n",
       "    </tr>\n",
       "    <tr>\n",
       "      <th>3</th>\n",
       "      <td>it is cool, as long as you keep one tire on yo...</td>\n",
       "      <td>mahacctissoawsum</td>\n",
       "      <td>videos</td>\n",
       "      <td>2</td>\n",
       "      <td>2</td>\n",
       "      <td>0</td>\n",
       "      <td>2012-09</td>\n",
       "      <td>2012-09-20 01:32:52</td>\n",
       "      <td>but there is a double line, he cannot legally ...</td>\n",
       "      <td>1</td>\n",
       "      <td>[cool, ,, long, keep, one, tire, side, .]</td>\n",
       "      <td>[double, line, ,, not, legally, pas, !]</td>\n",
       "      <td>0.3182</td>\n",
       "      <td>-0.1867</td>\n",
       "    </tr>\n",
       "    <tr>\n",
       "      <th>4</th>\n",
       "      <td>no, i am pretty sure it is an ar-15.</td>\n",
       "      <td>reg55000</td>\n",
       "      <td>The_Donald</td>\n",
       "      <td>1</td>\n",
       "      <td>1</td>\n",
       "      <td>0</td>\n",
       "      <td>2016-06</td>\n",
       "      <td>2016-06-14 06:41:03</td>\n",
       "      <td>top left is definitely ak-47.</td>\n",
       "      <td>1</td>\n",
       "      <td>[no, ,, pretty, sure, ar-15, .]</td>\n",
       "      <td>[top, left, definitely, ak-47, .]</td>\n",
       "      <td>0.5106</td>\n",
       "      <td>0.5423</td>\n",
       "    </tr>\n",
       "  </tbody>\n",
       "</table>\n",
       "</div>"
      ],
      "text/plain": [
       "                                             comment            author  \\\n",
       "0  yeah, they only have captain america, iron man...         RedBarrel   \n",
       "1  just pretend there is nothing wrong with this ...            Swopyx   \n",
       "2  i thought i had killed somebody by administeri...         fathompin   \n",
       "3  it is cool, as long as you keep one tire on yo...  mahacctissoawsum   \n",
       "4               no, i am pretty sure it is an ar-15.          reg55000   \n",
       "\n",
       "       subreddit  score  ups  downs     date          created_utc  \\\n",
       "0  marvelstudios      1    1      0  2015-11  2015-11-12 19:18:43   \n",
       "1           FIFA      7   -1     -1  2016-11  2016-11-19 10:24:32   \n",
       "2       exmormon     12   12      0  2016-05  2016-05-10 22:33:28   \n",
       "3         videos      2    2      0  2012-09  2012-09-20 01:32:52   \n",
       "4     The_Donald      1    1      0  2016-06  2016-06-14 06:41:03   \n",
       "\n",
       "                                      parent_comment  label  \\\n",
       "0  kind of defeats the ideas of a shared universe...      1   \n",
       "1  something sketchy going on in wl? i have playe...      0   \n",
       "2  want to repent to this sub for stupid and misg...      1   \n",
       "3  but there is a double line, he cannot legally ...      1   \n",
       "4                      top left is definitely ak-47.      1   \n",
       "\n",
       "                                      comment_tokens  \\\n",
       "0  [yeah, ,, captain, america, ,, iron, man, ,, s...   \n",
       "1  [pretend, nothing, wrong, game, like, 95, %, s...   \n",
       "2  [thought, killed, somebody, administering, pro...   \n",
       "3          [cool, ,, long, keep, one, tire, side, .]   \n",
       "4                    [no, ,, pretty, sure, ar-15, .]   \n",
       "\n",
       "                               parent_comment_tokens  comment_score  \\\n",
       "0  [kind, defeat, idea, shared, universe, differe...         0.5423   \n",
       "1  [something, sketchy, going, wl, ?, played, eve...         0.5653   \n",
       "2  [want, repent, sub, stupid, misguided, thing, ...        -0.8807   \n",
       "3            [double, line, ,, not, legally, pas, !]         0.3182   \n",
       "4                  [top, left, definitely, ak-47, .]         0.5106   \n",
       "\n",
       "   parent_comment_score  \n",
       "0                0.8429  \n",
       "1                0.8611  \n",
       "2               -0.7509  \n",
       "3               -0.1867  \n",
       "4                0.5423  "
      ]
     },
     "execution_count": 35,
     "metadata": {},
     "output_type": "execute_result"
    }
   ],
   "source": [
    "data.head()"
   ]
  },
  {
   "cell_type": "code",
   "execution_count": 36,
   "metadata": {},
   "outputs": [
    {
     "data": {
      "image/png": "[encoded data removed]",
      "text/plain": [
       "<Figure size 640x480 with 1 Axes>"
      ]
     },
     "metadata": {},
     "output_type": "display_data"
    }
   ],
   "source": [
    "sns.boxplot(data['comment_score'])\n",
    "plt.title('Box Plot of Comment Sentiment Scores')\n",
    "plt.show()"
   ]
  },
  {
   "cell_type": "code",
   "execution_count": 37,
   "metadata": {},
   "outputs": [
    {
     "data": {
      "image/png": "[encoded data removed]",
      "text/plain": [
       "<Figure size 640x480 with 1 Axes>"
      ]
     },
     "metadata": {},
     "output_type": "display_data"
    }
   ],
   "source": [
    "sns.boxplot(data['parent_comment_score'])\n",
    "plt.title('Box Plot of Parent Sentiment Scores')\n",
    "plt.show()"
   ]
  },
  {
   "cell_type": "code",
   "execution_count": 38,
   "metadata": {},
   "outputs": [
    {
     "name": "stderr",
     "output_type": "stream",
     "text": [
      "C:\\Users\\dxcas\\AppData\\Local\\Temp\\ipykernel_13156\\2726375268.py:1: FutureWarning: \n",
      "\n",
      "`shade` is now deprecated in favor of `fill`; setting `fill=True`.\n",
      "This will become an error in seaborn v0.14.0; please update your code.\n",
      "\n",
      "  sns.kdeplot(data['comment_score'], shade=True, color = 'blue')\n",
      "C:\\Users\\dxcas\\AppData\\Local\\Temp\\ipykernel_13156\\2726375268.py:2: FutureWarning: \n",
      "\n",
      "`shade` is now deprecated in favor of `fill`; setting `fill=True`.\n",
      "This will become an error in seaborn v0.14.0; please update your code.\n",
      "\n",
      "  sns.kdeplot(data['parent_comment_score'], shade = True, color='red')\n"
     ]
    },
    {
     "data": {
      "image/png": "[encoded data removed]",
      "text/plain": [
       "<Figure size 640x480 with 1 Axes>"
      ]
     },
     "metadata": {},
     "output_type": "display_data"
    }
   ],
   "source": [
    "sns.kdeplot(data['comment_score'], shade=True, color = 'blue')\n",
    "sns.kdeplot(data['parent_comment_score'], shade = True, color='red')\n",
    "plt.title('Kernel Density Plot of Sentiment Scores')\n",
    "plt.xlabel('Sentiment Score')\n",
    "plt.ylabel('Density')\n",
    "plt.show()"
   ]
  },
  {
   "cell_type": "code",
   "execution_count": 39,
   "metadata": {},
   "outputs": [
    {
     "data": {
      "text/html": [
       "<div>\n",
       "<style scoped>\n",
       "    .dataframe tbody tr th:only-of-type {\n",
       "        vertical-align: middle;\n",
       "    }\n",
       "\n",
       "    .dataframe tbody tr th {\n",
       "        vertical-align: top;\n",
       "    }\n",
       "\n",
       "    .dataframe thead th {\n",
       "        text-align: right;\n",
       "    }\n",
       "</style>\n",
       "<table border=\"1\" class=\"dataframe\">\n",
       "  <thead>\n",
       "    <tr style=\"text-align: right;\">\n",
       "      <th></th>\n",
       "      <th>comment</th>\n",
       "      <th>author</th>\n",
       "      <th>subreddit</th>\n",
       "      <th>score</th>\n",
       "      <th>ups</th>\n",
       "      <th>downs</th>\n",
       "      <th>date</th>\n",
       "      <th>created_utc</th>\n",
       "      <th>parent_comment</th>\n",
       "      <th>label</th>\n",
       "      <th>comment_tokens</th>\n",
       "      <th>parent_comment_tokens</th>\n",
       "      <th>comment_score</th>\n",
       "      <th>parent_comment_score</th>\n",
       "      <th>weighted_comment_sentiment_score</th>\n",
       "      <th>weighted_parent_sentiment_score</th>\n",
       "    </tr>\n",
       "  </thead>\n",
       "  <tbody>\n",
       "    <tr>\n",
       "      <th>0</th>\n",
       "      <td>yeah, they only have captain america, iron man...</td>\n",
       "      <td>RedBarrel</td>\n",
       "      <td>marvelstudios</td>\n",
       "      <td>1</td>\n",
       "      <td>1</td>\n",
       "      <td>0</td>\n",
       "      <td>2015-11</td>\n",
       "      <td>2015-11-12 19:18:43</td>\n",
       "      <td>kind of defeats the ideas of a shared universe...</td>\n",
       "      <td>1</td>\n",
       "      <td>[yeah, ,, captain, america, ,, iron, man, ,, s...</td>\n",
       "      <td>[kind, defeat, idea, shared, universe, differe...</td>\n",
       "      <td>0.5423</td>\n",
       "      <td>0.8429</td>\n",
       "      <td>positive</td>\n",
       "      <td>positive</td>\n",
       "    </tr>\n",
       "    <tr>\n",
       "      <th>1</th>\n",
       "      <td>just pretend there is nothing wrong with this ...</td>\n",
       "      <td>Swopyx</td>\n",
       "      <td>FIFA</td>\n",
       "      <td>7</td>\n",
       "      <td>-1</td>\n",
       "      <td>-1</td>\n",
       "      <td>2016-11</td>\n",
       "      <td>2016-11-19 10:24:32</td>\n",
       "      <td>something sketchy going on in wl? i have playe...</td>\n",
       "      <td>0</td>\n",
       "      <td>[pretend, nothing, wrong, game, like, 95, %, s...</td>\n",
       "      <td>[something, sketchy, going, wl, ?, played, eve...</td>\n",
       "      <td>0.5653</td>\n",
       "      <td>0.8611</td>\n",
       "      <td>positive</td>\n",
       "      <td>positive</td>\n",
       "    </tr>\n",
       "    <tr>\n",
       "      <th>2</th>\n",
       "      <td>i thought i had killed somebody by administeri...</td>\n",
       "      <td>fathompin</td>\n",
       "      <td>exmormon</td>\n",
       "      <td>12</td>\n",
       "      <td>12</td>\n",
       "      <td>0</td>\n",
       "      <td>2016-05</td>\n",
       "      <td>2016-05-10 22:33:28</td>\n",
       "      <td>want to repent to this sub for stupid and misg...</td>\n",
       "      <td>1</td>\n",
       "      <td>[thought, killed, somebody, administering, pro...</td>\n",
       "      <td>[want, repent, sub, stupid, misguided, thing, ...</td>\n",
       "      <td>-0.8807</td>\n",
       "      <td>-0.7509</td>\n",
       "      <td>negative</td>\n",
       "      <td>negative</td>\n",
       "    </tr>\n",
       "    <tr>\n",
       "      <th>3</th>\n",
       "      <td>it is cool, as long as you keep one tire on yo...</td>\n",
       "      <td>mahacctissoawsum</td>\n",
       "      <td>videos</td>\n",
       "      <td>2</td>\n",
       "      <td>2</td>\n",
       "      <td>0</td>\n",
       "      <td>2012-09</td>\n",
       "      <td>2012-09-20 01:32:52</td>\n",
       "      <td>but there is a double line, he cannot legally ...</td>\n",
       "      <td>1</td>\n",
       "      <td>[cool, ,, long, keep, one, tire, side, .]</td>\n",
       "      <td>[double, line, ,, not, legally, pas, !]</td>\n",
       "      <td>0.3182</td>\n",
       "      <td>-0.1867</td>\n",
       "      <td>positive</td>\n",
       "      <td>neutral</td>\n",
       "    </tr>\n",
       "    <tr>\n",
       "      <th>4</th>\n",
       "      <td>no, i am pretty sure it is an ar-15.</td>\n",
       "      <td>reg55000</td>\n",
       "      <td>The_Donald</td>\n",
       "      <td>1</td>\n",
       "      <td>1</td>\n",
       "      <td>0</td>\n",
       "      <td>2016-06</td>\n",
       "      <td>2016-06-14 06:41:03</td>\n",
       "      <td>top left is definitely ak-47.</td>\n",
       "      <td>1</td>\n",
       "      <td>[no, ,, pretty, sure, ar-15, .]</td>\n",
       "      <td>[top, left, definitely, ak-47, .]</td>\n",
       "      <td>0.5106</td>\n",
       "      <td>0.5423</td>\n",
       "      <td>positive</td>\n",
       "      <td>positive</td>\n",
       "    </tr>\n",
       "  </tbody>\n",
       "</table>\n",
       "</div>"
      ],
      "text/plain": [
       "                                             comment            author  \\\n",
       "0  yeah, they only have captain america, iron man...         RedBarrel   \n",
       "1  just pretend there is nothing wrong with this ...            Swopyx   \n",
       "2  i thought i had killed somebody by administeri...         fathompin   \n",
       "3  it is cool, as long as you keep one tire on yo...  mahacctissoawsum   \n",
       "4               no, i am pretty sure it is an ar-15.          reg55000   \n",
       "\n",
       "       subreddit  score  ups  downs     date          created_utc  \\\n",
       "0  marvelstudios      1    1      0  2015-11  2015-11-12 19:18:43   \n",
       "1           FIFA      7   -1     -1  2016-11  2016-11-19 10:24:32   \n",
       "2       exmormon     12   12      0  2016-05  2016-05-10 22:33:28   \n",
       "3         videos      2    2      0  2012-09  2012-09-20 01:32:52   \n",
       "4     The_Donald      1    1      0  2016-06  2016-06-14 06:41:03   \n",
       "\n",
       "                                      parent_comment  label  \\\n",
       "0  kind of defeats the ideas of a shared universe...      1   \n",
       "1  something sketchy going on in wl? i have playe...      0   \n",
       "2  want to repent to this sub for stupid and misg...      1   \n",
       "3  but there is a double line, he cannot legally ...      1   \n",
       "4                      top left is definitely ak-47.      1   \n",
       "\n",
       "                                      comment_tokens  \\\n",
       "0  [yeah, ,, captain, america, ,, iron, man, ,, s...   \n",
       "1  [pretend, nothing, wrong, game, like, 95, %, s...   \n",
       "2  [thought, killed, somebody, administering, pro...   \n",
       "3          [cool, ,, long, keep, one, tire, side, .]   \n",
       "4                    [no, ,, pretty, sure, ar-15, .]   \n",
       "\n",
       "                               parent_comment_tokens  comment_score  \\\n",
       "0  [kind, defeat, idea, shared, universe, differe...         0.5423   \n",
       "1  [something, sketchy, going, wl, ?, played, eve...         0.5653   \n",
       "2  [want, repent, sub, stupid, misguided, thing, ...        -0.8807   \n",
       "3            [double, line, ,, not, legally, pas, !]         0.3182   \n",
       "4                  [top, left, definitely, ak-47, .]         0.5106   \n",
       "\n",
       "   parent_comment_score weighted_comment_sentiment_score  \\\n",
       "0                0.8429                         positive   \n",
       "1                0.8611                         positive   \n",
       "2               -0.7509                         negative   \n",
       "3               -0.1867                         positive   \n",
       "4                0.5423                         positive   \n",
       "\n",
       "  weighted_parent_sentiment_score  \n",
       "0                        positive  \n",
       "1                        positive  \n",
       "2                        negative  \n",
       "3                         neutral  \n",
       "4                        positive  "
      ]
     },
     "execution_count": 39,
     "metadata": {},
     "output_type": "execute_result"
    }
   ],
   "source": [
    "def sentiment(score):\n",
    "    if (score >= 0.25):\n",
    "        return 'positive'\n",
    "    elif (score <= -0.25):\n",
    "        return 'negative'\n",
    "    else:\n",
    "        return 'neutral'\n",
    "    \n",
    "data['weighted_comment_sentiment_score'] = data['comment_score'].apply(sentiment)\n",
    "data['weighted_parent_sentiment_score'] = data['parent_comment_score'].apply(sentiment)\n",
    "data.head()"
   ]
  },
  {
   "cell_type": "code",
   "execution_count": 40,
   "metadata": {},
   "outputs": [
    {
     "name": "stdout",
     "output_type": "stream",
     "text": [
      "weighted_comment_sentiment_score  negative  neutral  positive\n",
      "label                                                        \n",
      "0                                    18868    52341     29872\n",
      "1                                    21335    45873     33865\n"
     ]
    }
   ],
   "source": [
    "contingency_table = pd.crosstab(data['label'], data['weighted_comment_sentiment_score'])\n",
    "\n",
    "# Display the contingency table\n",
    "print(contingency_table)"
   ]
  },
  {
   "cell_type": "code",
   "execution_count": 41,
   "metadata": {},
   "outputs": [
    {
     "name": "stdout",
     "output_type": "stream",
     "text": [
      "Chi-Square Value: 827.4952244571738\n",
      "P-value: 2.049722688999676e-180\n"
     ]
    }
   ],
   "source": [
    "from scipy.stats import chi2_contingency\n",
    "\n",
    "chi2, p, _, _ = chi2_contingency(contingency_table)\n",
    "print(f'Chi-Square Value: {chi2}')\n",
    "print(f'P-value: {p}')"
   ]
  },
  {
   "cell_type": "code",
   "execution_count": 42,
   "metadata": {},
   "outputs": [
    {
     "data": {
      "image/png": "[encoded data removed]",
      "text/plain": [
       "<Figure size 640x480 with 1 Axes>"
      ]
     },
     "metadata": {},
     "output_type": "display_data"
    }
   ],
   "source": [
    "stacked_data = data.groupby(['weighted_comment_sentiment_score', 'label']).size().unstack().fillna(0)\n",
    "\n",
    "stacked_data.plot(kind='bar', stacked=True)\n",
    "plt.title('Stacked Bar Plot: Distribution of Labels by Sentiment Score')\n",
    "plt.xlabel('Sentiment Score')\n",
    "plt.ylabel('Count')\n",
    "plt.xticks(rotation=0)\n",
    "plt.legend(title='Label', labels=['Not Sarcastic', 'Sarcastic'])\n",
    "plt.show()"
   ]
  },
  {
   "cell_type": "code",
   "execution_count": 43,
   "metadata": {},
   "outputs": [
    {
     "data": {
      "image/png": "[encoded data removed]",
      "text/plain": [
       "<Figure size 640x480 with 2 Axes>"
      ]
     },
     "metadata": {},
     "output_type": "display_data"
    }
   ],
   "source": [
    "heatmap_data = data.groupby(['weighted_comment_sentiment_score', 'label']).size().unstack().fillna(0)\n",
    "sns.heatmap(heatmap_data, annot=True, fmt='d', cmap='coolwarm')\n",
    "plt.title('Heatmap: Distribution of Labels by Sentiment Score')\n",
    "plt.xlabel('Label (0: Not Sarcastic, 1: Sarcastic)')\n",
    "plt.ylabel('Sentiment Score')\n",
    "plt.show()"
   ]
  },
  {
   "cell_type": "markdown",
   "metadata": {},
   "source": [
    "### Basic Text Features\n",
    "- extracted these features mostly from the original sentences\n",
    "- extracted token count, unique token count and mean token length"
   ]
  },
  {
   "cell_type": "code",
   "execution_count": 44,
   "metadata": {},
   "outputs": [
    {
     "name": "stderr",
     "output_type": "stream",
     "text": [
      "c:\\Users\\dxcas\\anaconda3\\Lib\\site-packages\\numpy\\core\\fromnumeric.py:3464: RuntimeWarning: Mean of empty slice.\n",
      "  return _methods._mean(a, axis=axis, dtype=dtype,\n",
      "c:\\Users\\dxcas\\anaconda3\\Lib\\site-packages\\numpy\\core\\fromnumeric.py:3464: RuntimeWarning: Mean of empty slice.\n",
      "  return _methods._mean(a, axis=axis, dtype=dtype,\n",
      "c:\\Users\\dxcas\\anaconda3\\Lib\\site-packages\\numpy\\core\\fromnumeric.py:3464: RuntimeWarning: Mean of empty slice.\n",
      "  return _methods._mean(a, axis=axis, dtype=dtype,\n",
      "c:\\Users\\dxcas\\anaconda3\\Lib\\site-packages\\numpy\\core\\fromnumeric.py:3464: RuntimeWarning: Mean of empty slice.\n",
      "  return _methods._mean(a, axis=axis, dtype=dtype,\n"
     ]
    }
   ],
   "source": [
    "#data = data[['label','comment', 'parent_comment']]\n",
    "###pre-tokenised###\n",
    "# Word Count\n",
    "data['comment_word_count'] = data['comment'].apply(lambda x: len(str(x).split()))\n",
    "data['parent_comment_word_count'] = data['parent_comment'].apply(lambda x: len(str(x).split()))\n",
    "data['comment_token_count'] = data['comment_tokens'].apply(lambda x: len(x))\n",
    "data['parent_comment_token_count'] = data['parent_comment_tokens'].apply(lambda x: len(x))\n",
    "\n",
    "# Unique Word Count\n",
    "data['comment_unique_word_count'] = data['comment'].apply(lambda x: len(set(str(x).split())))\n",
    "data['parent_comment_unique_word_count'] = data['parent_comment'].apply(lambda x: len(set(str(x).split())))\n",
    "data['comment_unique_token_count'] = data['comment_tokens'].apply(lambda x: len(set(x)))\n",
    "data['parent_comment_unique_token_count'] = data['parent_comment_tokens'].apply(lambda x: len(set(x)))\n",
    "\n",
    "# Stop Word Count\n",
    "stop = stopwords.words('english')\n",
    "data['comment_stopword_count'] = data['comment'].apply(lambda x: len([word for word in str(x).split() if word.lower() in stop]))\n",
    "data['parent_comment_stopword_count'] = data['parent_comment'].apply(lambda x: len([word for word in str(x).split() if word.lower() in stop]))\n",
    "\n",
    "# Mean Word Length\n",
    "data['comment_mean_word_length'] = data['comment'].apply(lambda x: np.mean([len(word) for word in str(x).split()]))\n",
    "data['parent_comment_mean_word_length'] = data['parent_comment'].apply(lambda x: np.mean([len(word) for word in str(x).split()]))\n",
    "data['comment_mean_token_length'] = data['comment_tokens'].apply(lambda x: np.mean([len(token) for token in x]))\n",
    "data['parent_comment_mean_token_length'] = data['parent_comment_tokens'].apply(lambda x: np.mean([len(token) for token in x]))\n",
    "\n",
    "# Character Count\n",
    "data['comment_char_count'] = data['comment'].apply(lambda x: len(str(x)))\n",
    "data['parent_comment_char_count'] = data['parent_comment'].apply(lambda x: len(str(x)))\n",
    "\n",
    "# Punctuation Count\n",
    "data['comment_punctuation_count'] = data['comment'].apply(lambda x: len([char for char in str(x) if char in string.punctuation]))\n",
    "data['parent_comment_punctuation_count'] = data['parent_comment'].apply(lambda x: len([char for char in str(x) if char in string.punctuation]))\n",
    "\n",
    "# Hashtag and Number Count\n",
    "data['comment_hashtag_count'] = data['comment'].apply(lambda x: len([word for word in str(x).split() if word.startswith('#')]))\n",
    "data['parent_comment_hashtag_count'] = data['parent_comment'].apply(lambda x: len([word for word in str(x).split() if word.startswith('#')]))\n",
    "\n",
    "data['comment_number_count'] = data['comment'].apply(lambda x: len([word for word in str(x).split() if word.isdigit()]))\n",
    "data['parent_comment_number_count'] = data['parent_comment'].apply(lambda x: len([word for word in str(x).split() if word.isdigit()]))"
   ]
  },
  {
   "cell_type": "markdown",
   "metadata": {},
   "source": [
    "### Bag of Words"
   ]
  },
  {
   "cell_type": "code",
   "execution_count": 45,
   "metadata": {},
   "outputs": [],
   "source": [
    "documents_comments = data['comment_tokens'].apply(lambda tokens_list:' '.join(tokens_list))\n",
    "documents_parent_comments = data['parent_comment_tokens'].apply(lambda tokens_list:' '.join(tokens_list))"
   ]
  },
  {
   "cell_type": "code",
   "execution_count": 46,
   "metadata": {},
   "outputs": [],
   "source": [
    "vectorizer_comments = CountVectorizer(min_df = 4)\n",
    "bow_matrix_comments = vectorizer_comments.fit_transform(documents_comments)\n",
    "bow_matrix_csr = csr_matrix(bow_matrix_comments)\n",
    "data['comment_bow'] = [row for row in bow_matrix_csr]\n"
   ]
  },
  {
   "cell_type": "code",
   "execution_count": 47,
   "metadata": {},
   "outputs": [],
   "source": [
    "vectorizer_parent_comments = CountVectorizer(min_df = 4)\n",
    "bow_matrix_parent_comments = vectorizer_parent_comments.fit_transform(documents_parent_comments)\n",
    "bow_matrix_csr_parent = csr_matrix(bow_matrix_parent_comments)\n",
    "data['parent_comment_bow'] = [row for row in bow_matrix_csr_parent]"
   ]
  },
  {
   "cell_type": "code",
   "execution_count": null,
   "metadata": {},
   "outputs": [],
   "source": [
    "feature_names_comments = vectorizer_comments.get_feature_names_out() # to reverse\n",
    "def bow_to_words(bow_vector, feature_names):\n",
    "    # Convert the sparse matrix row to a dense array\n",
    "    array = bow_vector.toarray().flatten()\n",
    "    # Get the tokens that have a count > 0\n",
    "    tokens = [feature_names[i] for i, count in enumerate(array) if count > 0]\n",
    "    return tokens"
   ]
  },
  {
   "cell_type": "markdown",
   "metadata": {},
   "source": [
    "### TD-IDF"
   ]
  },
  {
   "cell_type": "code",
   "execution_count": 48,
   "metadata": {},
   "outputs": [],
   "source": [
    "tdvectorizer_comments = TfidfVectorizer(min_df = 4)\n",
    "tdidf_matrix_comments = tdvectorizer_comments.fit_transform(documents_comments)\n",
    "tdidf_matrix_csr = csr_matrix(tdidf_matrix_comments)\n",
    "data['comment_tdidf'] = [row for row in tdidf_matrix_csr]"
   ]
  },
  {
   "cell_type": "code",
   "execution_count": 49,
   "metadata": {},
   "outputs": [],
   "source": [
    "tdvectorizer_parent_comments = TfidfVectorizer(min_df = 4)\n",
    "tdidf_matrix_parent_comments = tdvectorizer_parent_comments.fit_transform(documents_parent_comments)\n",
    "tdidf_matrix_csr_parent = csr_matrix(tdidf_matrix_parent_comments)\n",
    "data['parent_comment_tdidf'] = [row for row in tdidf_matrix_csr_parent]"
   ]
  },
  {
   "cell_type": "markdown",
   "metadata": {},
   "source": [
    "### POS Tagging"
   ]
  },
  {
   "cell_type": "code",
   "execution_count": 50,
   "metadata": {},
   "outputs": [],
   "source": [
    "data['comment_pos'] = data['comment'].apply(lambda x: nltk.pos_tag(nltk.word_tokenize(x)))\n",
    "data['parent_comment_pos'] = data['parent_comment'].apply(lambda x: nltk.pos_tag(nltk.word_tokenize(x)))"
   ]
  },
  {
   "cell_type": "markdown",
   "metadata": {},
   "source": [
    "### NER Tagging"
   ]
  },
  {
   "cell_type": "code",
   "execution_count": 51,
   "metadata": {},
   "outputs": [
    {
     "data": {
      "text/plain": [
       "\"\\ndef ner(text):\\n    named_entities = []\\n    for sent in nltk.sent_tokenize(text):\\n        for chunk in nltk.ne_chunk(nltk.pos_tag(nltk.word_tokenize(sent))):\\n            if hasattr(chunk, 'label'):\\n                named_entities.append((chunk.label(), ' '.join(c[0] for c in chunk)))\\n    return named_entities\\n\\ndata['comment_ner'] = data['comment'].apply(ner)\\n\\ndata['parent_comment_ner'] = data['parent_comment'].apply(ner)\\n\""
      ]
     },
     "execution_count": 51,
     "metadata": {},
     "output_type": "execute_result"
    }
   ],
   "source": [
    "\"\"\"\n",
    "def ner_from_pos(pos_tokens):\n",
    "    named_entities = []\n",
    "    for chunk in nltk.ne_chunk(pos_tokens):\n",
    "        if hasattr(chunk, 'label'):\n",
    "            named_entities.append((chunk.label(), ' '.join(c[0] for c in chunk)))\n",
    "    return named_entities\n",
    "\n",
    "data['comment_ner'] = data['comment_pos'].apply(ner_from_pos)\n",
    "data['parent_comment_ner'] = data['parent_comment_pos'].apply(ner_from_pos)\n",
    "\"\"\""
   ]
  },
  {
   "cell_type": "code",
   "execution_count": 52,
   "metadata": {},
   "outputs": [],
   "source": [
    "data.to_pickle(\"for_ML_full.pkl\")"
   ]
  },
  {
   "cell_type": "code",
   "execution_count": 1,
   "metadata": {},
   "outputs": [
    {
     "ename": "NameError",
     "evalue": "name 'data' is not defined",
     "output_type": "error",
     "traceback": [
      "\u001b[0;31m---------------------------------------------------------------------------\u001b[0m",
      "\u001b[0;31mNameError\u001b[0m                                 Traceback (most recent call last)",
      "\u001b[1;32m/Users/ethan/Documents/Documents/Y3S1/CS3244/src/cs3244_pg21/feature_engineering.ipynb Cell 30\u001b[0m line \u001b[0;36m2\n\u001b[1;32m      <a href='vscode-notebook-cell:/Users/ethan/Documents/Documents/Y3S1/CS3244/src/cs3244_pg21/feature_engineering.ipynb#X40sZmlsZQ%3D%3D?line=0'>1</a>\u001b[0m \u001b[39m#data.columns\u001b[39;00m\n\u001b[0;32m----> <a href='vscode-notebook-cell:/Users/ethan/Documents/Documents/Y3S1/CS3244/src/cs3244_pg21/feature_engineering.ipynb#X40sZmlsZQ%3D%3D?line=1'>2</a>\u001b[0m df \u001b[39m=\u001b[39m data\u001b[39m.\u001b[39mhead(\u001b[39m10\u001b[39m)\n\u001b[1;32m      <a href='vscode-notebook-cell:/Users/ethan/Documents/Documents/Y3S1/CS3244/src/cs3244_pg21/feature_engineering.ipynb#X40sZmlsZQ%3D%3D?line=2'>3</a>\u001b[0m \u001b[39mprint\u001b[39m(df[\u001b[39m'\u001b[39m\u001b[39mcomment_bow\u001b[39m\u001b[39m'\u001b[39m]\u001b[39m.\u001b[39miloc[\u001b[39m0\u001b[39m])\n\u001b[1;32m      <a href='vscode-notebook-cell:/Users/ethan/Documents/Documents/Y3S1/CS3244/src/cs3244_pg21/feature_engineering.ipynb#X40sZmlsZQ%3D%3D?line=3'>4</a>\u001b[0m \u001b[39mprint\u001b[39m(bow_to_words(df[\u001b[39m'\u001b[39m\u001b[39mcomment_bow\u001b[39m\u001b[39m'\u001b[39m]\u001b[39m.\u001b[39miloc[\u001b[39m0\u001b[39m], feature_names_comments))\n",
      "\u001b[0;31mNameError\u001b[0m: name 'data' is not defined"
     ]
    }
   ],
   "source": [
    "#data.columns\n",
    "df = data.head(10)\n",
    "print(df['comment_bow'].iloc[0])\n",
    "print(bow_to_words(df['comment_bow'].iloc[0], feature_names_comments))"
   ]
  },
  {
   "cell_type": "markdown",
   "metadata": {},
   "source": [
    "### Splitting into Training and Test Set \n",
    "Done with stratified random sampling"
   ]
  },
  {
   "cell_type": "code",
   "execution_count": 54,
   "metadata": {},
   "outputs": [],
   "source": [
    "from sklearn.model_selection import train_test_split"
   ]
  },
  {
   "cell_type": "code",
   "execution_count": 55,
   "metadata": {},
   "outputs": [],
   "source": [
    "X = data.drop('label', axis = 1)\n",
    "y = data['label']"
   ]
  },
  {
   "cell_type": "code",
   "execution_count": 56,
   "metadata": {},
   "outputs": [],
   "source": [
    "X_train, X_test, y_train, y_test = train_test_split(X, y, test_size = 0.2, stratify = y, random_state = 42)"
   ]
  },
  {
   "cell_type": "code",
   "execution_count": 57,
   "metadata": {},
   "outputs": [],
   "source": [
    "train = pd.concat([X_train,y_train], axis = 1)\n",
    "test = pd.concat([X_test,y_test], axis = 1)"
   ]
  },
  {
   "cell_type": "code",
   "execution_count": 58,
   "metadata": {},
   "outputs": [],
   "source": [
    "train.to_pickle(\"train.pkl\")\n",
    "test.to_pickle(\"test.pkl\")"
   ]
  }
 ],
 "metadata": {
  "kernelspec": {
   "display_name": "Python 3",
   "language": "python",
   "name": "python3"
  },
  "language_info": {
   "codemirror_mode": {
    "name": "ipython",
    "version": 3
   },
   "file_extension": ".py",
   "mimetype": "text/x-python",
   "name": "python",
   "nbconvert_exporter": "python",
   "pygments_lexer": "ipython3",
   "version": "3.11.4"
  },
  "orig_nbformat": 4
 },
 "nbformat": 4,
 "nbformat_minor": 2
}
