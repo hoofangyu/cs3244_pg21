{
 "cells": [
  {
   "cell_type": "markdown",
   "metadata": {},
   "source": [
    "### Feature Engineering"
   ]
  },
  {
   "cell_type": "markdown",
   "metadata": {},
   "source": [
    "### 1. Importing Libraries\n",
    "import the necessary libraries needed for feature engineering"
   ]
  },
  {
   "cell_type": "code",
   "execution_count": 31,
   "metadata": {},
   "outputs": [],
   "source": [
    "import pandas as pd\n",
    "import seaborn as sns\n",
    "from nltk.sentiment.vader import SentimentIntensityAnalyzer\n",
    "import matplotlib.pyplot as plt\n",
    "import numpy as np\n",
    "import string\n",
    "import nltk\n",
    "from nltk.util import bigrams, trigrams\n",
    "from nltk.corpus import stopwords\n",
    "from gensim.models import Word2Vec #install gensim # had to use this: pip install --upgrade gensim smart_open protobuf==3.20.0\n",
    "from sklearn.feature_extraction.text import CountVectorizer\n",
    "from scipy.sparse import csr_matrix\n",
    "from sklearn.feature_extraction.text import TfidfVectorizer\n",
    "from nltk.stem import WordNetLemmatizer\n",
    "from scipy.stats import chi2_contingency\n"
   ]
  },
  {
   "cell_type": "markdown",
   "metadata": {},
   "source": [
    "Download various NLTK resources necessary for performing natural language processing tasks"
   ]
  },
  {
   "cell_type": "code",
   "execution_count": 32,
   "metadata": {},
   "outputs": [
    {
     "name": "stderr",
     "output_type": "stream",
     "text": [
      "[nltk_data] Downloading package stopwords to\n",
      "[nltk_data]     C:\\Users\\User\\AppData\\Roaming\\nltk_data...\n",
      "[nltk_data]   Package stopwords is already up-to-date!\n",
      "[nltk_data] Downloading package averaged_perceptron_tagger to\n",
      "[nltk_data]     C:\\Users\\User\\AppData\\Roaming\\nltk_data...\n",
      "[nltk_data]   Package averaged_perceptron_tagger is already up-to-\n",
      "[nltk_data]       date!\n",
      "[nltk_data] Downloading package punkt to\n",
      "[nltk_data]     C:\\Users\\User\\AppData\\Roaming\\nltk_data...\n",
      "[nltk_data]   Package punkt is already up-to-date!\n",
      "[nltk_data] Downloading package maxent_ne_chunker to\n",
      "[nltk_data]     C:\\Users\\User\\AppData\\Roaming\\nltk_data...\n",
      "[nltk_data]   Package maxent_ne_chunker is already up-to-date!\n",
      "[nltk_data] Downloading package words to\n",
      "[nltk_data]     C:\\Users\\User\\AppData\\Roaming\\nltk_data...\n",
      "[nltk_data]   Package words is already up-to-date!\n",
      "[nltk_data] Downloading package wordnet to\n",
      "[nltk_data]     C:\\Users\\User\\AppData\\Roaming\\nltk_data...\n",
      "[nltk_data]   Package wordnet is already up-to-date!\n",
      "[nltk_data] Downloading package vader_lexicon to\n",
      "[nltk_data]     C:\\Users\\User\\AppData\\Roaming\\nltk_data...\n",
      "[nltk_data]   Package vader_lexicon is already up-to-date!\n"
     ]
    },
    {
     "data": {
      "text/plain": [
       "True"
      ]
     },
     "execution_count": 32,
     "metadata": {},
     "output_type": "execute_result"
    }
   ],
   "source": [
    "nltk.download('stopwords')\n",
    "nltk.download('averaged_perceptron_tagger')\n",
    "nltk.download('punkt')\n",
    "nltk.download('maxent_ne_chunker')\n",
    "nltk.download('words')\n",
    "nltk.download('wordnet')\n",
    "nltk.download('vader_lexicon')\n"
   ]
  },
  {
   "cell_type": "markdown",
   "metadata": {},
   "source": [
    "Use pandas to read the cleaned and preprocessed data stored in a pickle file named \"data_cleaned.pkl\""
   ]
  },
  {
   "cell_type": "code",
   "execution_count": 33,
   "metadata": {},
   "outputs": [],
   "source": [
    "data = pd.read_pickle('data/data_cleaned.pkl')"
   ]
  },
  {
   "cell_type": "code",
   "execution_count": 34,
   "metadata": {},
   "outputs": [
    {
     "data": {
      "text/html": [
       "<div>\n",
       "<style scoped>\n",
       "    .dataframe tbody tr th:only-of-type {\n",
       "        vertical-align: middle;\n",
       "    }\n",
       "\n",
       "    .dataframe tbody tr th {\n",
       "        vertical-align: top;\n",
       "    }\n",
       "\n",
       "    .dataframe thead th {\n",
       "        text-align: right;\n",
       "    }\n",
       "</style>\n",
       "<table border=\"1\" class=\"dataframe\">\n",
       "  <thead>\n",
       "    <tr style=\"text-align: right;\">\n",
       "      <th></th>\n",
       "      <th>comment</th>\n",
       "      <th>parent_comment</th>\n",
       "      <th>label</th>\n",
       "    </tr>\n",
       "  </thead>\n",
       "  <tbody>\n",
       "    <tr>\n",
       "      <th>0</th>\n",
       "      <td>just shoot some unarmed black guy and get paid...</td>\n",
       "      <td>a pregnant police officer asked for \"light dut...</td>\n",
       "      <td>1</td>\n",
       "    </tr>\n",
       "    <tr>\n",
       "      <th>1</th>\n",
       "      <td>that is like saying the relative weakness or i...</td>\n",
       "      <td>well, no, it is better. just not ideal. it is ...</td>\n",
       "      <td>0</td>\n",
       "    </tr>\n",
       "    <tr>\n",
       "      <th>2</th>\n",
       "      <td>except pluto would not give us any cool space ...</td>\n",
       "      <td>we would live out destiny as pluto would becom...</td>\n",
       "      <td>0</td>\n",
       "    </tr>\n",
       "    <tr>\n",
       "      <th>3</th>\n",
       "      <td>you are probably right, it is more like: \"oh, ...</td>\n",
       "      <td>i really do not think they feel even a little ...</td>\n",
       "      <td>0</td>\n",
       "    </tr>\n",
       "    <tr>\n",
       "      <th>4</th>\n",
       "      <td>or that 85 hour working abroad pipeline money,...</td>\n",
       "      <td>i am talkin bout that veterans day pay that th...</td>\n",
       "      <td>0</td>\n",
       "    </tr>\n",
       "  </tbody>\n",
       "</table>\n",
       "</div>"
      ],
      "text/plain": [
       "                                             comment  \\\n",
       "0  just shoot some unarmed black guy and get paid...   \n",
       "1  that is like saying the relative weakness or i...   \n",
       "2  except pluto would not give us any cool space ...   \n",
       "3  you are probably right, it is more like: \"oh, ...   \n",
       "4  or that 85 hour working abroad pipeline money,...   \n",
       "\n",
       "                                      parent_comment  label  \n",
       "0  a pregnant police officer asked for \"light dut...      1  \n",
       "1  well, no, it is better. just not ideal. it is ...      0  \n",
       "2  we would live out destiny as pluto would becom...      0  \n",
       "3  i really do not think they feel even a little ...      0  \n",
       "4  i am talkin bout that veterans day pay that th...      0  "
      ]
     },
     "execution_count": 34,
     "metadata": {},
     "output_type": "execute_result"
    }
   ],
   "source": [
    "data.head()"
   ]
  },
  {
   "cell_type": "markdown",
   "metadata": {},
   "source": [
    "### 2.Tokenizing  \n",
    "Define a function tokenize_text that takes a text input and generates unigrams, bigrams, or trigrams based on the specified ngram parameter. Apply the tokenize_text function to tokenize the 'comment' and 'parent_comment' columns into unigrams, bigrams, and trigrams, creating new columns for each tokenization type."
   ]
  },
  {
   "cell_type": "code",
   "execution_count": 35,
   "metadata": {},
   "outputs": [],
   "source": [
    "def tokenize_text(text, ngram='unigram'):\n",
    "    tokens = nltk.word_tokenize(text)\n",
    "    \n",
    "    if ngram == 'unigram':\n",
    "        return tokens\n",
    "    elif ngram == 'bigram':\n",
    "        return list(bigrams(tokens))\n",
    "    elif ngram == 'trigram':\n",
    "        return list(trigrams(tokens))\n",
    "    else:\n",
    "        raise ValueError(\"ngram should be either 'unigram', 'bigram', or 'trigram'\")\n",
    "\n",
    "# Unigram Tokenizing\n",
    "data[\"comment_tokens\"] = data[\"comment\"].apply(lambda x: tokenize_text(x, 'unigram'))\n",
    "data[\"parent_comment_tokens\"] = data[\"parent_comment\"].apply(lambda x: tokenize_text(x, 'unigram'))\n",
    "\n",
    "# Bigram Tokenizing\n",
    "data[\"comment_tokens_bigram\"] = data[\"comment\"].apply(lambda x: tokenize_text(x, 'bigram'))\n",
    "data[\"parent_comment_tokens_bigram\"] = data[\"parent_comment\"].apply(lambda x: tokenize_text(x, 'bigram'))\n",
    "\n",
    "# Trigram Tokenizing\n",
    "data[\"comment_tokens_trigram\"] = data[\"comment\"].apply(lambda x: tokenize_text(x, 'trigram'))\n",
    "data[\"parent_comment_tokens_trigram\"] = data[\"parent_comment\"].apply(lambda x: tokenize_text(x, 'trigram'))"
   ]
  },
  {
   "cell_type": "code",
   "execution_count": 36,
   "metadata": {},
   "outputs": [
    {
     "data": {
      "text/plain": [
       "\"\\n#spellchecking\\n#%pip install pyspellchecker\\nfrom spellchecker import SpellChecker\\nspell = SpellChecker()\\ndata['comment_tokens'] = data['comment_tokens'].apply(lambda tokens: [spell.correction(token) for token in tokens])\\ndata['parent_comment_tokens'] = data['parent_comment_tokens'].apply(lambda tokens: [spell.correction(token) for token in tokens])\\n\""
      ]
     },
     "execution_count": 36,
     "metadata": {},
     "output_type": "execute_result"
    }
   ],
   "source": [
    "\"\"\"\n",
    "#spellchecking\n",
    "#%pip install pyspellchecker\n",
    "from spellchecker import SpellChecker\n",
    "spell = SpellChecker()\n",
    "data['comment_tokens'] = data['comment_tokens'].apply(lambda tokens: [spell.correction(token) for token in tokens])\n",
    "data['parent_comment_tokens'] = data['parent_comment_tokens'].apply(lambda tokens: [spell.correction(token) for token in tokens])\n",
    "\"\"\""
   ]
  },
  {
   "cell_type": "markdown",
   "metadata": {},
   "source": [
    "### 3. Removing Stop Words \n",
    "\n",
    "Remove words no and not from stop_words. Defines a filtering function for unigrams, which removes stopwords from a list of tokens. Defines a filtering function for bigrams, which removes bigrams where both words are stopwords. Defines a filtering function for trigrams, which removes trigrams where all three words are stopwords. Applies the defined filtering functions to the tokenized unigrams, bigrams, and trigrams, removing stopwords based on the customized stopword set."
   ]
  },
  {
   "cell_type": "code",
   "execution_count": 37,
   "metadata": {},
   "outputs": [],
   "source": [
    "#remove possible words from stop_words that can change meaning of text\n",
    "stop_words = set(stopwords.words('english'))\n",
    "\n",
    "to_remove = [\"no\",\"not\"]\n",
    "for word in to_remove:\n",
    "    stop_words.remove(word)\n",
    "# Filtering function for unigrams\n",
    "def filter_unigrams(tokens):\n",
    "    return [token for token in tokens if token not in stop_words]\n",
    "\n",
    "# Filtering function for bigrams\n",
    "def filter_bigrams(bigram_tokens):\n",
    "    return [bigram for bigram in bigram_tokens if not all(word in stop_words for word in bigram)]\n",
    "\n",
    "# Filtering function for trigrams\n",
    "def filter_trigrams(trigram_tokens):\n",
    "    return [trigram for trigram in trigram_tokens if not all(word in stop_words for word in trigram)]\n",
    "\n",
    "# Apply the filtering functions\n",
    "data[\"comment_tokens\"] = data[\"comment_tokens\"].apply(filter_unigrams)\n",
    "data[\"parent_comment_tokens\"] = data[\"parent_comment_tokens\"].apply(filter_unigrams)\n",
    "\n",
    "data[\"comment_tokens_bigram\"] = data[\"comment_tokens_bigram\"].apply(filter_bigrams)\n",
    "data[\"parent_comment_tokens_bigram\"] = data[\"parent_comment_tokens_bigram\"].apply(filter_bigrams)\n",
    "\n",
    "data[\"comment_tokens_trigram\"] = data[\"comment_tokens_trigram\"].apply(filter_trigrams)\n",
    "data[\"parent_comment_tokens_trigram\"] = data[\"parent_comment_tokens_trigram\"].apply(filter_trigrams)"
   ]
  },
  {
   "cell_type": "markdown",
   "metadata": {},
   "source": [
    "### 4.Lemmatization \n",
    "Define a lemmatization function for unigrams, bigrams, trigrams which applies lemmatization to the tokenized unigrams, bigrams, and trigrams, converting words to their base or root forms."
   ]
  },
  {
   "cell_type": "code",
   "execution_count": 38,
   "metadata": {},
   "outputs": [],
   "source": [
    "lemmatizer = WordNetLemmatizer()\n",
    "# Lemmatize function for unigrams\n",
    "def lemmatize_unigrams(tokens):\n",
    "    return [lemmatizer.lemmatize(token) for token in tokens]\n",
    "\n",
    "# Lemmatize function for bigrams\n",
    "def lemmatize_bigrams(bigram_tokens):\n",
    "    return [' '.join([lemmatizer.lemmatize(word) for word in bigram]) for bigram in bigram_tokens]\n",
    "\n",
    "# Lemmatize function for trigrams\n",
    "def lemmatize_trigrams(trigram_tokens):\n",
    "    return [' '.join([lemmatizer.lemmatize(word) for word in trigram]) for trigram in trigram_tokens]\n",
    "\n",
    "# Apply the lemmatize functions\n",
    "data[\"comment_tokens\"] = data[\"comment_tokens\"].apply(lemmatize_unigrams)\n",
    "data[\"parent_comment_tokens\"] = data[\"parent_comment_tokens\"].apply(lemmatize_unigrams)\n",
    "\n",
    "data[\"comment_tokens_bigram\"] = data[\"comment_tokens_bigram\"].apply(lemmatize_bigrams)\n",
    "data[\"parent_comment_tokens_bigram\"] = data[\"parent_comment_tokens_bigram\"].apply(lemmatize_bigrams)\n",
    "\n",
    "data[\"comment_tokens_trigram\"] = data[\"comment_tokens_trigram\"].apply(lemmatize_trigrams)\n",
    "data[\"parent_comment_tokens_trigram\"] = data[\"parent_comment_tokens_trigram\"].apply(lemmatize_trigrams)"
   ]
  },
  {
   "cell_type": "markdown",
   "metadata": {},
   "source": [
    "### 5. Sentiment Analysis\n",
    "\n",
    "Utilizes the polarity_scores method of the VADER analyzer to compute the compound sentiment score for each comment and parent comment. The compound score represents the overall sentiment, combining positive, negative, and neutral scores."
   ]
  },
  {
   "cell_type": "code",
   "execution_count": 39,
   "metadata": {},
   "outputs": [],
   "source": [
    "sia = SentimentIntensityAnalyzer()\n",
    "data['comment_score'] = data['comment'].apply(lambda x: sia.polarity_scores(x)['compound'])\n",
    "data['parent_comment_score'] = data['parent_comment'].apply(lambda x: sia.polarity_scores(x)['compound'])"
   ]
  },
  {
   "cell_type": "markdown",
   "metadata": {},
   "source": [
    "Creates a box plot of comment sentiment scores"
   ]
  },
  {
   "cell_type": "code",
   "execution_count": 61,
   "metadata": {},
   "outputs": [
    {
     "data": {
      "image/png": "[encoded data removed]",
      "text/plain": [
       "<Figure size 640x480 with 1 Axes>"
      ]
     },
     "metadata": {},
     "output_type": "display_data"
    }
   ],
   "source": [
    "sns.boxplot(data['comment_score'])\n",
    "plt.title('Box Plot of Comment Sentiment Scores')\n",
    "plt.show()"
   ]
  },
  {
   "cell_type": "markdown",
   "metadata": {},
   "source": [
    "Creates a box plot of parent comment sentiment scores"
   ]
  },
  {
   "cell_type": "code",
   "execution_count": 41,
   "metadata": {},
   "outputs": [
    {
     "data": {
      "image/png": "[encoded data removed]",
      "text/plain": [
       "<Figure size 640x480 with 1 Axes>"
      ]
     },
     "metadata": {},
     "output_type": "display_data"
    }
   ],
   "source": [
    "sns.boxplot(data['parent_comment_score'])\n",
    "plt.title('Box Plot of Parent Sentiment Scores')\n",
    "plt.show()"
   ]
  },
  {
   "cell_type": "markdown",
   "metadata": {},
   "source": [
    "Create a kernel density plot comparing the distribution of sentiment scores for both comments and parent comments. This plot provides insights into the density and shape of the sentiment score distributions."
   ]
  },
  {
   "cell_type": "code",
   "execution_count": 42,
   "metadata": {},
   "outputs": [
    {
     "name": "stderr",
     "output_type": "stream",
     "text": [
      "C:\\Users\\User\\AppData\\Local\\Temp\\ipykernel_8520\\2726375268.py:1: FutureWarning: \n",
      "\n",
      "`shade` is now deprecated in favor of `fill`; setting `fill=True`.\n",
      "This will become an error in seaborn v0.14.0; please update your code.\n",
      "\n",
      "  sns.kdeplot(data['comment_score'], shade=True, color = 'blue')\n",
      "C:\\Users\\User\\AppData\\Local\\Temp\\ipykernel_8520\\2726375268.py:2: FutureWarning: \n",
      "\n",
      "`shade` is now deprecated in favor of `fill`; setting `fill=True`.\n",
      "This will become an error in seaborn v0.14.0; please update your code.\n",
      "\n",
      "  sns.kdeplot(data['parent_comment_score'], shade = True, color='red')\n"
     ]
    },
    {
     "data": {
      "image/png": "[encoded data removed]",
      "text/plain": [
       "<Figure size 640x480 with 1 Axes>"
      ]
     },
     "metadata": {},
     "output_type": "display_data"
    }
   ],
   "source": [
    "sns.kdeplot(data['comment_score'], shade=True, color = 'blue')\n",
    "sns.kdeplot(data['parent_comment_score'], shade = True, color='red')\n",
    "plt.title('Kernel Density Plot of Sentiment Scores')\n",
    "plt.xlabel('Sentiment Score')\n",
    "plt.ylabel('Density')\n",
    "plt.show()"
   ]
  },
  {
   "cell_type": "markdown",
   "metadata": {},
   "source": [
    "categorizes parent comment and comment sentiment scores into three labels ('positive,' 'negative,' or 'neutral') based on predefined thresholds. "
   ]
  },
  {
   "cell_type": "code",
   "execution_count": 43,
   "metadata": {},
   "outputs": [
    {
     "data": {
      "text/html": [
       "<div>\n",
       "<style scoped>\n",
       "    .dataframe tbody tr th:only-of-type {\n",
       "        vertical-align: middle;\n",
       "    }\n",
       "\n",
       "    .dataframe tbody tr th {\n",
       "        vertical-align: top;\n",
       "    }\n",
       "\n",
       "    .dataframe thead th {\n",
       "        text-align: right;\n",
       "    }\n",
       "</style>\n",
       "<table border=\"1\" class=\"dataframe\">\n",
       "  <thead>\n",
       "    <tr style=\"text-align: right;\">\n",
       "      <th></th>\n",
       "      <th>comment</th>\n",
       "      <th>parent_comment</th>\n",
       "      <th>label</th>\n",
       "      <th>comment_tokens</th>\n",
       "      <th>parent_comment_tokens</th>\n",
       "      <th>comment_tokens_bigram</th>\n",
       "      <th>parent_comment_tokens_bigram</th>\n",
       "      <th>comment_tokens_trigram</th>\n",
       "      <th>parent_comment_tokens_trigram</th>\n",
       "      <th>comment_score</th>\n",
       "      <th>parent_comment_score</th>\n",
       "      <th>weighted_comment_sentiment_score</th>\n",
       "      <th>weighted_parent_sentiment_score</th>\n",
       "    </tr>\n",
       "  </thead>\n",
       "  <tbody>\n",
       "    <tr>\n",
       "      <th>0</th>\n",
       "      <td>just shoot some unarmed black guy and get paid...</td>\n",
       "      <td>a pregnant police officer asked for \"light dut...</td>\n",
       "      <td>1</td>\n",
       "      <td>[shoot, unarmed, black, guy, get, paid, leave, .]</td>\n",
       "      <td>[pregnant, police, officer, asked, ``, light, ...</td>\n",
       "      <td>[just shoot, shoot some, some unarmed, unarmed...</td>\n",
       "      <td>[a pregnant, pregnant police, police officer, ...</td>\n",
       "      <td>[just shoot some, shoot some unarmed, some una...</td>\n",
       "      <td>[a pregnant police, pregnant police officer, p...</td>\n",
       "      <td>-0.3818</td>\n",
       "      <td>-0.0523</td>\n",
       "      <td>negative</td>\n",
       "      <td>neutral</td>\n",
       "    </tr>\n",
       "    <tr>\n",
       "      <th>1</th>\n",
       "      <td>that is like saying the relative weakness or i...</td>\n",
       "      <td>well, no, it is better. just not ideal. it is ...</td>\n",
       "      <td>0</td>\n",
       "      <td>[like, saying, relative, weakness, ineffective...</td>\n",
       "      <td>[well, ,, no, ,, better, ., not, ideal, ., lot...</td>\n",
       "      <td>[is like, like saying, saying the, the relativ...</td>\n",
       "      <td>[well ,, , no, no ,, , it, is better, better ....</td>\n",
       "      <td>[that is like, is like saying, like saying the...</td>\n",
       "      <td>[well , no, , no ,, no , it, , it is, it is be...</td>\n",
       "      <td>-0.8126</td>\n",
       "      <td>-0.5709</td>\n",
       "      <td>negative</td>\n",
       "      <td>negative</td>\n",
       "    </tr>\n",
       "    <tr>\n",
       "      <th>2</th>\n",
       "      <td>except pluto would not give us any cool space ...</td>\n",
       "      <td>we would live out destiny as pluto would becom...</td>\n",
       "      <td>0</td>\n",
       "      <td>[except, pluto, would, not, give, u, cool, spa...</td>\n",
       "      <td>[would, live, destiny, pluto, would, become, t...</td>\n",
       "      <td>[except pluto, pluto would, would not, not giv...</td>\n",
       "      <td>[we would, would live, live out, out destiny, ...</td>\n",
       "      <td>[except pluto would, pluto would not, would no...</td>\n",
       "      <td>[we would live, would live out, live out desti...</td>\n",
       "      <td>0.3182</td>\n",
       "      <td>0.0000</td>\n",
       "      <td>positive</td>\n",
       "      <td>neutral</td>\n",
       "    </tr>\n",
       "    <tr>\n",
       "      <th>3</th>\n",
       "      <td>you are probably right, it is more like: \"oh, ...</td>\n",
       "      <td>i really do not think they feel even a little ...</td>\n",
       "      <td>0</td>\n",
       "      <td>[probably, right, ,, like, :, ``, oh, ,, know,...</td>\n",
       "      <td>[really, not, think, feel, even, little, guilt...</td>\n",
       "      <td>[are probably, probably right, right ,, , it, ...</td>\n",
       "      <td>[i really, really do, do not, not think, think...</td>\n",
       "      <td>[you are probably, are probably right, probabl...</td>\n",
       "      <td>[i really do, really do not, do not think, not...</td>\n",
       "      <td>0.4643</td>\n",
       "      <td>-0.7848</td>\n",
       "      <td>positive</td>\n",
       "      <td>negative</td>\n",
       "    </tr>\n",
       "    <tr>\n",
       "      <th>4</th>\n",
       "      <td>or that 85 hour working abroad pipeline money,...</td>\n",
       "      <td>i am talkin bout that veterans day pay that th...</td>\n",
       "      <td>0</td>\n",
       "      <td>[85, hour, working, abroad, pipeline, money, ,...</td>\n",
       "      <td>[talkin, bout, veteran, day, pay, thanksgiving...</td>\n",
       "      <td>[that 85, 85 hour, hour working, working abroa...</td>\n",
       "      <td>[am talkin, talkin bout, bout that, that veter...</td>\n",
       "      <td>[or that 85, that 85 hour, 85 hour working, ho...</td>\n",
       "      <td>[i am talkin, am talkin bout, talkin bout that...</td>\n",
       "      <td>-0.6428</td>\n",
       "      <td>-0.2023</td>\n",
       "      <td>negative</td>\n",
       "      <td>neutral</td>\n",
       "    </tr>\n",
       "  </tbody>\n",
       "</table>\n",
       "</div>"
      ],
      "text/plain": [
       "                                             comment  \\\n",
       "0  just shoot some unarmed black guy and get paid...   \n",
       "1  that is like saying the relative weakness or i...   \n",
       "2  except pluto would not give us any cool space ...   \n",
       "3  you are probably right, it is more like: \"oh, ...   \n",
       "4  or that 85 hour working abroad pipeline money,...   \n",
       "\n",
       "                                      parent_comment  label  \\\n",
       "0  a pregnant police officer asked for \"light dut...      1   \n",
       "1  well, no, it is better. just not ideal. it is ...      0   \n",
       "2  we would live out destiny as pluto would becom...      0   \n",
       "3  i really do not think they feel even a little ...      0   \n",
       "4  i am talkin bout that veterans day pay that th...      0   \n",
       "\n",
       "                                      comment_tokens  \\\n",
       "0  [shoot, unarmed, black, guy, get, paid, leave, .]   \n",
       "1  [like, saying, relative, weakness, ineffective...   \n",
       "2  [except, pluto, would, not, give, u, cool, spa...   \n",
       "3  [probably, right, ,, like, :, ``, oh, ,, know,...   \n",
       "4  [85, hour, working, abroad, pipeline, money, ,...   \n",
       "\n",
       "                               parent_comment_tokens  \\\n",
       "0  [pregnant, police, officer, asked, ``, light, ...   \n",
       "1  [well, ,, no, ,, better, ., not, ideal, ., lot...   \n",
       "2  [would, live, destiny, pluto, would, become, t...   \n",
       "3  [really, not, think, feel, even, little, guilt...   \n",
       "4  [talkin, bout, veteran, day, pay, thanksgiving...   \n",
       "\n",
       "                               comment_tokens_bigram  \\\n",
       "0  [just shoot, shoot some, some unarmed, unarmed...   \n",
       "1  [is like, like saying, saying the, the relativ...   \n",
       "2  [except pluto, pluto would, would not, not giv...   \n",
       "3  [are probably, probably right, right ,, , it, ...   \n",
       "4  [that 85, 85 hour, hour working, working abroa...   \n",
       "\n",
       "                        parent_comment_tokens_bigram  \\\n",
       "0  [a pregnant, pregnant police, police officer, ...   \n",
       "1  [well ,, , no, no ,, , it, is better, better ....   \n",
       "2  [we would, would live, live out, out destiny, ...   \n",
       "3  [i really, really do, do not, not think, think...   \n",
       "4  [am talkin, talkin bout, bout that, that veter...   \n",
       "\n",
       "                              comment_tokens_trigram  \\\n",
       "0  [just shoot some, shoot some unarmed, some una...   \n",
       "1  [that is like, is like saying, like saying the...   \n",
       "2  [except pluto would, pluto would not, would no...   \n",
       "3  [you are probably, are probably right, probabl...   \n",
       "4  [or that 85, that 85 hour, 85 hour working, ho...   \n",
       "\n",
       "                       parent_comment_tokens_trigram  comment_score  \\\n",
       "0  [a pregnant police, pregnant police officer, p...        -0.3818   \n",
       "1  [well , no, , no ,, no , it, , it is, it is be...        -0.8126   \n",
       "2  [we would live, would live out, live out desti...         0.3182   \n",
       "3  [i really do, really do not, do not think, not...         0.4643   \n",
       "4  [i am talkin, am talkin bout, talkin bout that...        -0.6428   \n",
       "\n",
       "   parent_comment_score weighted_comment_sentiment_score  \\\n",
       "0               -0.0523                         negative   \n",
       "1               -0.5709                         negative   \n",
       "2                0.0000                         positive   \n",
       "3               -0.7848                         positive   \n",
       "4               -0.2023                         negative   \n",
       "\n",
       "  weighted_parent_sentiment_score  \n",
       "0                         neutral  \n",
       "1                        negative  \n",
       "2                         neutral  \n",
       "3                        negative  \n",
       "4                         neutral  "
      ]
     },
     "execution_count": 43,
     "metadata": {},
     "output_type": "execute_result"
    }
   ],
   "source": [
    "def sentiment(score):\n",
    "    if (score >= 0.25):\n",
    "        return 'positive'\n",
    "    elif (score <= -0.25):\n",
    "        return 'negative'\n",
    "    else:\n",
    "        return 'neutral'\n",
    "    \n",
    "data['weighted_comment_sentiment_score'] = data['comment_score'].apply(sentiment)\n",
    "data['weighted_parent_sentiment_score'] = data['parent_comment_score'].apply(sentiment)\n",
    "data.head()"
   ]
  },
  {
   "cell_type": "markdown",
   "metadata": {},
   "source": [
    "creates a contingency table to explore the relationship between sentiment scores (categorized as 'positive,' 'negative,' or 'neutral') and the 'label' column. The contingency table presents a summary of how sentiment is distributed within each label category, offering insights into potential associations between sentiment and labels in the dataset."
   ]
  },
  {
   "cell_type": "code",
   "execution_count": 44,
   "metadata": {},
   "outputs": [
    {
     "name": "stdout",
     "output_type": "stream",
     "text": [
      "weighted_comment_sentiment_score  negative  neutral  positive\n",
      "label                                                        \n",
      "0                                    18883    52057     30025\n",
      "1                                    21556    45973     33529\n"
     ]
    }
   ],
   "source": [
    "contingency_table = pd.crosstab(data['label'], data['weighted_comment_sentiment_score'])\n",
    "\n",
    "# Display the contingency table\n",
    "print(contingency_table)"
   ]
  },
  {
   "cell_type": "markdown",
   "metadata": {},
   "source": [
    "performs a chi-square test for independence to assess whether there is a significant association between sentiment scores (categorized as 'positive,' 'negative,' 'neutral') and the 'label' column in the dataset. "
   ]
  },
  {
   "cell_type": "code",
   "execution_count": 45,
   "metadata": {},
   "outputs": [
    {
     "name": "stdout",
     "output_type": "stream",
     "text": [
      "Chi-Square Value: 747.420822690915\n",
      "P-value: 5.007610286465115e-163\n"
     ]
    }
   ],
   "source": [
    "chi2, p, _, _ = chi2_contingency(contingency_table)\n",
    "print(f'Chi-Square Value: {chi2}')\n",
    "print(f'P-value: {p}')"
   ]
  },
  {
   "cell_type": "markdown",
   "metadata": {},
   "source": [
    "generates a stacked bar plot to visually represent the distribution of labels ('Not Sarcastic' and 'Sarcastic') across different sentiment scores ('positive,' 'negative,' 'neutral'). The plot provides insights into the relationship between sentiment scores and labels in the dataset."
   ]
  },
  {
   "cell_type": "code",
   "execution_count": 46,
   "metadata": {},
   "outputs": [
    {
     "data": {
      "image/png": "[encoded data removed]",
      "text/plain": [
       "<Figure size 640x480 with 1 Axes>"
      ]
     },
     "metadata": {},
     "output_type": "display_data"
    }
   ],
   "source": [
    "stacked_data = data.groupby(['weighted_comment_sentiment_score', 'label']).size().unstack().fillna(0)\n",
    "\n",
    "stacked_data.plot(kind='bar', stacked=True)\n",
    "plt.title('Stacked Bar Plot: Distribution of Labels by Sentiment Score')\n",
    "plt.xlabel('Sentiment Score')\n",
    "plt.ylabel('Count')\n",
    "plt.xticks(rotation=0)\n",
    "plt.legend(title='Label', labels=['Not Sarcastic', 'Sarcastic'])\n",
    "plt.show()"
   ]
  },
  {
   "cell_type": "markdown",
   "metadata": {},
   "source": [
    "generates a heatmap to visually represent the distribution of labels ('Not Sarcastic' and 'Sarcastic') across different sentiment scores ('positive,' 'negative,' 'neutral'). The heatmap provides an overview of the relationship between sentiment scores and labels in the dataset."
   ]
  },
  {
   "cell_type": "code",
   "execution_count": 47,
   "metadata": {},
   "outputs": [
    {
     "data": {
      "image/png": "[encoded data removed]",
      "text/plain": [
       "<Figure size 640x480 with 2 Axes>"
      ]
     },
     "metadata": {},
     "output_type": "display_data"
    }
   ],
   "source": [
    "heatmap_data = data.groupby(['weighted_comment_sentiment_score', 'label']).size().unstack().fillna(0)\n",
    "sns.heatmap(heatmap_data, annot=True, fmt='d', cmap='coolwarm')\n",
    "plt.title('Heatmap: Distribution of Labels by Sentiment Score')\n",
    "plt.xlabel('Label (0: Not Sarcastic, 1: Sarcastic)')\n",
    "plt.ylabel('Sentiment Score')\n",
    "plt.show()"
   ]
  },
  {
   "cell_type": "markdown",
   "metadata": {},
   "source": [
    "performs one-hot encoding on the sentiment score columns ('weighted_parent_sentiment_score' and 'weighted_comment_sentiment_score')"
   ]
  },
  {
   "cell_type": "code",
   "execution_count": 48,
   "metadata": {},
   "outputs": [],
   "source": [
    "# One Hot Encode Weighted Sentiment Scores\n",
    "data = pd.get_dummies(data, columns = ['weighted_parent_sentiment_score','weighted_comment_sentiment_score'], drop_first=True)"
   ]
  },
  {
   "cell_type": "code",
   "execution_count": 49,
   "metadata": {},
   "outputs": [
    {
     "data": {
      "text/html": [
       "<div>\n",
       "<style scoped>\n",
       "    .dataframe tbody tr th:only-of-type {\n",
       "        vertical-align: middle;\n",
       "    }\n",
       "\n",
       "    .dataframe tbody tr th {\n",
       "        vertical-align: top;\n",
       "    }\n",
       "\n",
       "    .dataframe thead th {\n",
       "        text-align: right;\n",
       "    }\n",
       "</style>\n",
       "<table border=\"1\" class=\"dataframe\">\n",
       "  <thead>\n",
       "    <tr style=\"text-align: right;\">\n",
       "      <th></th>\n",
       "      <th>comment</th>\n",
       "      <th>parent_comment</th>\n",
       "      <th>label</th>\n",
       "      <th>comment_tokens</th>\n",
       "      <th>parent_comment_tokens</th>\n",
       "      <th>comment_tokens_bigram</th>\n",
       "      <th>parent_comment_tokens_bigram</th>\n",
       "      <th>comment_tokens_trigram</th>\n",
       "      <th>parent_comment_tokens_trigram</th>\n",
       "      <th>comment_score</th>\n",
       "      <th>parent_comment_score</th>\n",
       "      <th>weighted_parent_sentiment_score_neutral</th>\n",
       "      <th>weighted_parent_sentiment_score_positive</th>\n",
       "      <th>weighted_comment_sentiment_score_neutral</th>\n",
       "      <th>weighted_comment_sentiment_score_positive</th>\n",
       "    </tr>\n",
       "  </thead>\n",
       "  <tbody>\n",
       "    <tr>\n",
       "      <th>0</th>\n",
       "      <td>just shoot some unarmed black guy and get paid...</td>\n",
       "      <td>a pregnant police officer asked for \"light dut...</td>\n",
       "      <td>1</td>\n",
       "      <td>[shoot, unarmed, black, guy, get, paid, leave, .]</td>\n",
       "      <td>[pregnant, police, officer, asked, ``, light, ...</td>\n",
       "      <td>[just shoot, shoot some, some unarmed, unarmed...</td>\n",
       "      <td>[a pregnant, pregnant police, police officer, ...</td>\n",
       "      <td>[just shoot some, shoot some unarmed, some una...</td>\n",
       "      <td>[a pregnant police, pregnant police officer, p...</td>\n",
       "      <td>-0.3818</td>\n",
       "      <td>-0.0523</td>\n",
       "      <td>True</td>\n",
       "      <td>False</td>\n",
       "      <td>False</td>\n",
       "      <td>False</td>\n",
       "    </tr>\n",
       "    <tr>\n",
       "      <th>1</th>\n",
       "      <td>that is like saying the relative weakness or i...</td>\n",
       "      <td>well, no, it is better. just not ideal. it is ...</td>\n",
       "      <td>0</td>\n",
       "      <td>[like, saying, relative, weakness, ineffective...</td>\n",
       "      <td>[well, ,, no, ,, better, ., not, ideal, ., lot...</td>\n",
       "      <td>[is like, like saying, saying the, the relativ...</td>\n",
       "      <td>[well ,, , no, no ,, , it, is better, better ....</td>\n",
       "      <td>[that is like, is like saying, like saying the...</td>\n",
       "      <td>[well , no, , no ,, no , it, , it is, it is be...</td>\n",
       "      <td>-0.8126</td>\n",
       "      <td>-0.5709</td>\n",
       "      <td>False</td>\n",
       "      <td>False</td>\n",
       "      <td>False</td>\n",
       "      <td>False</td>\n",
       "    </tr>\n",
       "    <tr>\n",
       "      <th>2</th>\n",
       "      <td>except pluto would not give us any cool space ...</td>\n",
       "      <td>we would live out destiny as pluto would becom...</td>\n",
       "      <td>0</td>\n",
       "      <td>[except, pluto, would, not, give, u, cool, spa...</td>\n",
       "      <td>[would, live, destiny, pluto, would, become, t...</td>\n",
       "      <td>[except pluto, pluto would, would not, not giv...</td>\n",
       "      <td>[we would, would live, live out, out destiny, ...</td>\n",
       "      <td>[except pluto would, pluto would not, would no...</td>\n",
       "      <td>[we would live, would live out, live out desti...</td>\n",
       "      <td>0.3182</td>\n",
       "      <td>0.0000</td>\n",
       "      <td>True</td>\n",
       "      <td>False</td>\n",
       "      <td>False</td>\n",
       "      <td>True</td>\n",
       "    </tr>\n",
       "    <tr>\n",
       "      <th>3</th>\n",
       "      <td>you are probably right, it is more like: \"oh, ...</td>\n",
       "      <td>i really do not think they feel even a little ...</td>\n",
       "      <td>0</td>\n",
       "      <td>[probably, right, ,, like, :, ``, oh, ,, know,...</td>\n",
       "      <td>[really, not, think, feel, even, little, guilt...</td>\n",
       "      <td>[are probably, probably right, right ,, , it, ...</td>\n",
       "      <td>[i really, really do, do not, not think, think...</td>\n",
       "      <td>[you are probably, are probably right, probabl...</td>\n",
       "      <td>[i really do, really do not, do not think, not...</td>\n",
       "      <td>0.4643</td>\n",
       "      <td>-0.7848</td>\n",
       "      <td>False</td>\n",
       "      <td>False</td>\n",
       "      <td>False</td>\n",
       "      <td>True</td>\n",
       "    </tr>\n",
       "    <tr>\n",
       "      <th>4</th>\n",
       "      <td>or that 85 hour working abroad pipeline money,...</td>\n",
       "      <td>i am talkin bout that veterans day pay that th...</td>\n",
       "      <td>0</td>\n",
       "      <td>[85, hour, working, abroad, pipeline, money, ,...</td>\n",
       "      <td>[talkin, bout, veteran, day, pay, thanksgiving...</td>\n",
       "      <td>[that 85, 85 hour, hour working, working abroa...</td>\n",
       "      <td>[am talkin, talkin bout, bout that, that veter...</td>\n",
       "      <td>[or that 85, that 85 hour, 85 hour working, ho...</td>\n",
       "      <td>[i am talkin, am talkin bout, talkin bout that...</td>\n",
       "      <td>-0.6428</td>\n",
       "      <td>-0.2023</td>\n",
       "      <td>True</td>\n",
       "      <td>False</td>\n",
       "      <td>False</td>\n",
       "      <td>False</td>\n",
       "    </tr>\n",
       "  </tbody>\n",
       "</table>\n",
       "</div>"
      ],
      "text/plain": [
       "                                             comment  \\\n",
       "0  just shoot some unarmed black guy and get paid...   \n",
       "1  that is like saying the relative weakness or i...   \n",
       "2  except pluto would not give us any cool space ...   \n",
       "3  you are probably right, it is more like: \"oh, ...   \n",
       "4  or that 85 hour working abroad pipeline money,...   \n",
       "\n",
       "                                      parent_comment  label  \\\n",
       "0  a pregnant police officer asked for \"light dut...      1   \n",
       "1  well, no, it is better. just not ideal. it is ...      0   \n",
       "2  we would live out destiny as pluto would becom...      0   \n",
       "3  i really do not think they feel even a little ...      0   \n",
       "4  i am talkin bout that veterans day pay that th...      0   \n",
       "\n",
       "                                      comment_tokens  \\\n",
       "0  [shoot, unarmed, black, guy, get, paid, leave, .]   \n",
       "1  [like, saying, relative, weakness, ineffective...   \n",
       "2  [except, pluto, would, not, give, u, cool, spa...   \n",
       "3  [probably, right, ,, like, :, ``, oh, ,, know,...   \n",
       "4  [85, hour, working, abroad, pipeline, money, ,...   \n",
       "\n",
       "                               parent_comment_tokens  \\\n",
       "0  [pregnant, police, officer, asked, ``, light, ...   \n",
       "1  [well, ,, no, ,, better, ., not, ideal, ., lot...   \n",
       "2  [would, live, destiny, pluto, would, become, t...   \n",
       "3  [really, not, think, feel, even, little, guilt...   \n",
       "4  [talkin, bout, veteran, day, pay, thanksgiving...   \n",
       "\n",
       "                               comment_tokens_bigram  \\\n",
       "0  [just shoot, shoot some, some unarmed, unarmed...   \n",
       "1  [is like, like saying, saying the, the relativ...   \n",
       "2  [except pluto, pluto would, would not, not giv...   \n",
       "3  [are probably, probably right, right ,, , it, ...   \n",
       "4  [that 85, 85 hour, hour working, working abroa...   \n",
       "\n",
       "                        parent_comment_tokens_bigram  \\\n",
       "0  [a pregnant, pregnant police, police officer, ...   \n",
       "1  [well ,, , no, no ,, , it, is better, better ....   \n",
       "2  [we would, would live, live out, out destiny, ...   \n",
       "3  [i really, really do, do not, not think, think...   \n",
       "4  [am talkin, talkin bout, bout that, that veter...   \n",
       "\n",
       "                              comment_tokens_trigram  \\\n",
       "0  [just shoot some, shoot some unarmed, some una...   \n",
       "1  [that is like, is like saying, like saying the...   \n",
       "2  [except pluto would, pluto would not, would no...   \n",
       "3  [you are probably, are probably right, probabl...   \n",
       "4  [or that 85, that 85 hour, 85 hour working, ho...   \n",
       "\n",
       "                       parent_comment_tokens_trigram  comment_score  \\\n",
       "0  [a pregnant police, pregnant police officer, p...        -0.3818   \n",
       "1  [well , no, , no ,, no , it, , it is, it is be...        -0.8126   \n",
       "2  [we would live, would live out, live out desti...         0.3182   \n",
       "3  [i really do, really do not, do not think, not...         0.4643   \n",
       "4  [i am talkin, am talkin bout, talkin bout that...        -0.6428   \n",
       "\n",
       "   parent_comment_score  weighted_parent_sentiment_score_neutral  \\\n",
       "0               -0.0523                                     True   \n",
       "1               -0.5709                                    False   \n",
       "2                0.0000                                     True   \n",
       "3               -0.7848                                    False   \n",
       "4               -0.2023                                     True   \n",
       "\n",
       "   weighted_parent_sentiment_score_positive  \\\n",
       "0                                     False   \n",
       "1                                     False   \n",
       "2                                     False   \n",
       "3                                     False   \n",
       "4                                     False   \n",
       "\n",
       "   weighted_comment_sentiment_score_neutral  \\\n",
       "0                                     False   \n",
       "1                                     False   \n",
       "2                                     False   \n",
       "3                                     False   \n",
       "4                                     False   \n",
       "\n",
       "   weighted_comment_sentiment_score_positive  \n",
       "0                                      False  \n",
       "1                                      False  \n",
       "2                                       True  \n",
       "3                                       True  \n",
       "4                                      False  "
      ]
     },
     "execution_count": 49,
     "metadata": {},
     "output_type": "execute_result"
    }
   ],
   "source": [
    "data.head()"
   ]
  },
  {
   "cell_type": "markdown",
   "metadata": {},
   "source": [
    "### 6. Basic Text Features\n",
    "- extracted these features mostly from the original sentences\n",
    "- extracted token count, unique token count and mean token length"
   ]
  },
  {
   "cell_type": "markdown",
   "metadata": {},
   "source": [
    " performs feature engineering by extracting various statistical features from pre-tokenized text data. These features capture information about word and token counts, unique words and tokens, stopwords, mean word/token length, character count, punctuation count, hashtag count, and number count for both comments and parent comments."
   ]
  },
  {
   "cell_type": "code",
   "execution_count": 50,
   "metadata": {},
   "outputs": [
    {
     "name": "stderr",
     "output_type": "stream",
     "text": [
      "C:\\Users\\User\\AppData\\Local\\Packages\\PythonSoftwareFoundation.Python.3.11_qbz5n2kfra8p0\\LocalCache\\local-packages\\Python311\\site-packages\\numpy\\core\\fromnumeric.py:3504: RuntimeWarning: Mean of empty slice.\n",
      "  return _methods._mean(a, axis=axis, dtype=dtype,\n",
      "C:\\Users\\User\\AppData\\Local\\Packages\\PythonSoftwareFoundation.Python.3.11_qbz5n2kfra8p0\\LocalCache\\local-packages\\Python311\\site-packages\\numpy\\core\\_methods.py:129: RuntimeWarning: invalid value encountered in scalar divide\n",
      "  ret = ret.dtype.type(ret / rcount)\n",
      "C:\\Users\\User\\AppData\\Local\\Packages\\PythonSoftwareFoundation.Python.3.11_qbz5n2kfra8p0\\LocalCache\\local-packages\\Python311\\site-packages\\numpy\\core\\fromnumeric.py:3504: RuntimeWarning: Mean of empty slice.\n",
      "  return _methods._mean(a, axis=axis, dtype=dtype,\n",
      "C:\\Users\\User\\AppData\\Local\\Packages\\PythonSoftwareFoundation.Python.3.11_qbz5n2kfra8p0\\LocalCache\\local-packages\\Python311\\site-packages\\numpy\\core\\_methods.py:129: RuntimeWarning: invalid value encountered in scalar divide\n",
      "  ret = ret.dtype.type(ret / rcount)\n",
      "C:\\Users\\User\\AppData\\Local\\Packages\\PythonSoftwareFoundation.Python.3.11_qbz5n2kfra8p0\\LocalCache\\local-packages\\Python311\\site-packages\\numpy\\core\\fromnumeric.py:3504: RuntimeWarning: Mean of empty slice.\n",
      "  return _methods._mean(a, axis=axis, dtype=dtype,\n",
      "C:\\Users\\User\\AppData\\Local\\Packages\\PythonSoftwareFoundation.Python.3.11_qbz5n2kfra8p0\\LocalCache\\local-packages\\Python311\\site-packages\\numpy\\core\\_methods.py:129: RuntimeWarning: invalid value encountered in scalar divide\n",
      "  ret = ret.dtype.type(ret / rcount)\n",
      "C:\\Users\\User\\AppData\\Local\\Packages\\PythonSoftwareFoundation.Python.3.11_qbz5n2kfra8p0\\LocalCache\\local-packages\\Python311\\site-packages\\numpy\\core\\fromnumeric.py:3504: RuntimeWarning: Mean of empty slice.\n",
      "  return _methods._mean(a, axis=axis, dtype=dtype,\n",
      "C:\\Users\\User\\AppData\\Local\\Packages\\PythonSoftwareFoundation.Python.3.11_qbz5n2kfra8p0\\LocalCache\\local-packages\\Python311\\site-packages\\numpy\\core\\_methods.py:129: RuntimeWarning: invalid value encountered in scalar divide\n",
      "  ret = ret.dtype.type(ret / rcount)\n"
     ]
    }
   ],
   "source": [
    "#data = data[['label','comment', 'parent_comment']]\n",
    "###pre-tokenised###\n",
    "# Word Count\n",
    "data['comment_word_count'] = data['comment'].apply(lambda x: len(str(x).split()))\n",
    "data['parent_comment_word_count'] = data['parent_comment'].apply(lambda x: len(str(x).split()))\n",
    "data['comment_token_count'] = data['comment_tokens'].apply(lambda x: len(x))\n",
    "data['parent_comment_token_count'] = data['parent_comment_tokens'].apply(lambda x: len(x))\n",
    "\n",
    "# Unique Word Count\n",
    "data['comment_unique_word_count'] = data['comment'].apply(lambda x: len(set(str(x).split())))\n",
    "data['parent_comment_unique_word_count'] = data['parent_comment'].apply(lambda x: len(set(str(x).split())))\n",
    "data['comment_unique_token_count'] = data['comment_tokens'].apply(lambda x: len(set(x)))\n",
    "data['parent_comment_unique_token_count'] = data['parent_comment_tokens'].apply(lambda x: len(set(x)))\n",
    "\n",
    "# Stop Word Count\n",
    "stop = stopwords.words('english')\n",
    "data['comment_stopword_count'] = data['comment'].apply(lambda x: len([word for word in str(x).split() if word.lower() in stop]))\n",
    "data['parent_comment_stopword_count'] = data['parent_comment'].apply(lambda x: len([word for word in str(x).split() if word.lower() in stop]))\n",
    "\n",
    "# Mean Word Length\n",
    "data['comment_mean_word_length'] = data['comment'].apply(lambda x: np.mean([len(word) for word in str(x).split()]))\n",
    "data['parent_comment_mean_word_length'] = data['parent_comment'].apply(lambda x: np.mean([len(word) for word in str(x).split()]))\n",
    "data['comment_mean_token_length'] = data['comment_tokens'].apply(lambda x: np.mean([len(token) for token in x]))\n",
    "data['parent_comment_mean_token_length'] = data['parent_comment_tokens'].apply(lambda x: np.mean([len(token) for token in x]))\n",
    "\n",
    "# Character Count\n",
    "data['comment_char_count'] = data['comment'].apply(lambda x: len(str(x)))\n",
    "data['parent_comment_char_count'] = data['parent_comment'].apply(lambda x: len(str(x)))\n",
    "\n",
    "# Punctuation Count\n",
    "data['comment_punctuation_count'] = data['comment'].apply(lambda x: len([char for char in str(x) if char in string.punctuation]))\n",
    "data['parent_comment_punctuation_count'] = data['parent_comment'].apply(lambda x: len([char for char in str(x) if char in string.punctuation]))\n",
    "\n",
    "# Hashtag and Number Count\n",
    "data['comment_hashtag_count'] = data['comment'].apply(lambda x: len([word for word in str(x).split() if word.startswith('#')]))\n",
    "data['parent_comment_hashtag_count'] = data['parent_comment'].apply(lambda x: len([word for word in str(x).split() if word.startswith('#')]))\n",
    "\n",
    "data['comment_number_count'] = data['comment'].apply(lambda x: len([word for word in str(x).split() if word.isdigit()]))\n",
    "data['parent_comment_number_count'] = data['parent_comment'].apply(lambda x: len([word for word in str(x).split() if word.isdigit()]))"
   ]
  },
  {
   "cell_type": "markdown",
   "metadata": {},
   "source": [
    "### 7. Bag of Words"
   ]
  },
  {
   "cell_type": "markdown",
   "metadata": {},
   "source": [
    "Concatenates the tokenized comments and parent comments into text documents for further processing."
   ]
  },
  {
   "cell_type": "code",
   "execution_count": 51,
   "metadata": {},
   "outputs": [],
   "source": [
    "documents_comments = data['comment_tokens'].apply(lambda tokens_list:' '.join(tokens_list))\n",
    "documents_parent_comments = data['parent_comment_tokens'].apply(lambda tokens_list:' '.join(tokens_list))"
   ]
  },
  {
   "cell_type": "markdown",
   "metadata": {},
   "source": [
    "Utilizes the CountVectorizer from scikit-learn to transform the tokenized comments and parent comments into a Bag-of-Words (BoW) representation."
   ]
  },
  {
   "cell_type": "code",
   "execution_count": 52,
   "metadata": {},
   "outputs": [],
   "source": [
    "# For comments\n",
    "vectorizer_comments = CountVectorizer(min_df=4, ngram_range=(1, 3))\n",
    "bow_matrix_comments = vectorizer_comments.fit_transform(documents_comments)\n",
    "bow_matrix_csr = csr_matrix(bow_matrix_comments)\n",
    "data['comment_bow'] = [row for row in bow_matrix_csr]\n",
    "\n",
    "# For parent comments\n",
    "vectorizer_parent_comments = CountVectorizer(min_df=4, ngram_range=(1, 3))\n",
    "bow_matrix_parent_comments = vectorizer_parent_comments.fit_transform(documents_parent_comments)\n",
    "bow_matrix_csr_parent = csr_matrix(bow_matrix_parent_comments)\n",
    "data['parent_comment_bow'] = [row for row in bow_matrix_csr_parent]\n"
   ]
  },
  {
   "cell_type": "markdown",
   "metadata": {},
   "source": [
    "Defines a function bow_to_words to extract the feature names from a CSR representation. "
   ]
  },
  {
   "cell_type": "code",
   "execution_count": 53,
   "metadata": {},
   "outputs": [],
   "source": [
    "### Function to extract feature names from CSR representation\n",
    "feature_names_bow = vectorizer_comments.get_feature_names_out() # to reverse\n",
    "def bow_to_words(bow_vector, feature_names):\n",
    "    # Convert the sparse matrix row to a dense array\n",
    "    array = bow_vector.toarray().flatten()\n",
    "    # Get the tokens that have a count > 0\n",
    "    tokens = [feature_names[i] for i, count in enumerate(array) if count > 0]\n",
    "    return tokens"
   ]
  },
  {
   "cell_type": "code",
   "execution_count": 54,
   "metadata": {},
   "outputs": [
    {
     "data": {
      "text/plain": [
       "['black',\n",
       " 'black guy',\n",
       " 'get',\n",
       " 'get paid',\n",
       " 'guy',\n",
       " 'guy get',\n",
       " 'leave',\n",
       " 'paid',\n",
       " 'shoot',\n",
       " 'shoot unarmed',\n",
       " 'unarmed',\n",
       " 'unarmed black']"
      ]
     },
     "execution_count": 54,
     "metadata": {},
     "output_type": "execute_result"
    }
   ],
   "source": [
    "bow_to_words(data['comment_bow'].iloc[0],feature_names_bow) # we see that the trigrams are not present in this one example- likely due to the trigrams being much more rare."
   ]
  },
  {
   "cell_type": "markdown",
   "metadata": {},
   "source": [
    "### 8. TD-IDF"
   ]
  },
  {
   "cell_type": "markdown",
   "metadata": {},
   "source": [
    "utilizes the TfidfVectorizer from scikit-learn to transform tokenized comments and parent comments into a TF-IDF representation"
   ]
  },
  {
   "cell_type": "code",
   "execution_count": 55,
   "metadata": {},
   "outputs": [],
   "source": [
    "tdvectorizer_comments = TfidfVectorizer(min_df = 4, ngram_range=(1, 3))\n",
    "tdidf_matrix_comments = tdvectorizer_comments.fit_transform(documents_comments)\n",
    "tdidf_matrix_csr = csr_matrix(tdidf_matrix_comments)\n",
    "data['comment_tdidf'] = [row for row in tdidf_matrix_csr]\n",
    "\n",
    "tdvectorizer_parent_comments = TfidfVectorizer(min_df = 4, ngram_range=(1, 3))\n",
    "tdidf_matrix_parent_comments = tdvectorizer_parent_comments.fit_transform(documents_parent_comments)\n",
    "tdidf_matrix_csr_parent = csr_matrix(tdidf_matrix_parent_comments)\n",
    "data['parent_comment_tdidf'] = [row for row in tdidf_matrix_csr_parent]"
   ]
  },
  {
   "cell_type": "markdown",
   "metadata": {},
   "source": [
    "Defines a function tfidf_to_words to extract the feature names and corresponding TF-IDF values from a TF-IDF representation."
   ]
  },
  {
   "cell_type": "code",
   "execution_count": 56,
   "metadata": {},
   "outputs": [],
   "source": [
    "feature_names_tfidf = tdvectorizer_comments.get_feature_names_out()\n",
    "def tfidf_to_words(tfidf_row, feature_names):\n",
    "    \"\"\"\n",
    "    Convert a TF-IDF row to its word representation.\n",
    "    :param tfidf_row: A single row from a sparse matrix.\n",
    "    :param feature_names: List of feature names from the TF-IDF vectorizer.\n",
    "    :return: List of words from the TF-IDF row.\n",
    "    \"\"\"\n",
    "    dense_tfidf = tfidf_row.toarray().flatten()\n",
    "    words_indices = dense_tfidf.nonzero()[0]\n",
    "    words = [(feature_names[index], dense_tfidf[index]) for index in words_indices]\n",
    "    return words"
   ]
  },
  {
   "cell_type": "markdown",
   "metadata": {},
   "source": [
    "reducing size of tf-idf map for RNN"
   ]
  },
  {
   "cell_type": "markdown",
   "metadata": {},
   "source": [
    "Utilizes the TfidfVectorizer from scikit-learn to transform tokenized comments into a TF-IDF representation with an increased min_df parameter. Retrieves the feature names and checks the number of features in the TF-IDF representation with the increased min_df parameter."
   ]
  },
  {
   "cell_type": "code",
   "execution_count": 57,
   "metadata": {},
   "outputs": [
    {
     "data": {
      "text/plain": [
       "array(['00', '000', '000 000', ..., 'zone', 'zoo', 'zoom'], dtype=object)"
      ]
     },
     "execution_count": 57,
     "metadata": {},
     "output_type": "execute_result"
    }
   ],
   "source": [
    "tdvectorizer_comments_nn = TfidfVectorizer(min_df = 20, ngram_range=(1, 3))\n",
    "tdidf_matrix_comments_nn = tdvectorizer_comments_nn.fit_transform(documents_comments)\n",
    "tdidf_matrix_nn_csr = csr_matrix(tdidf_matrix_comments_nn)\n",
    "data['comment_tdidf_nn'] = [row for row in tdidf_matrix_nn_csr]\n",
    "len(tdvectorizer_comments_nn.get_feature_names_out())# if we increase min_df to 10, number of features reduces to 15799\n",
    "tdvectorizer_comments_nn.get_feature_names_out()"
   ]
  },
  {
   "cell_type": "markdown",
   "metadata": {},
   "source": [
    "Tests the extraction of features from both Bag-of-Words (BoW) and TF-IDF representations for a subset of the data. "
   ]
  },
  {
   "cell_type": "code",
   "execution_count": 58,
   "metadata": {},
   "outputs": [
    {
     "name": "stdout",
     "output_type": "stream",
     "text": [
      "  (0, 19132)\t1\n",
      "  (0, 29977)\t1\n",
      "  (0, 32088)\t1\n",
      "  (0, 26681)\t1\n",
      "  (0, 17988)\t1\n",
      "  (0, 2916)\t2\n",
      "  (0, 11052)\t1\n",
      "  (0, 18548)\t1\n",
      "  (0, 2151)\t1\n",
      "  (0, 27286)\t1\n",
      "  (0, 9301)\t1\n",
      "  (0, 7640)\t1\n",
      "  (0, 30033)\t1\n",
      "  (0, 32155)\t1\n",
      "  (0, 19482)\t1\n",
      "  (0, 26725)\t1\n",
      "  (0, 17999)\t1\n",
      "  (0, 2939)\t1\n",
      "  (0, 11054)\t1\n",
      "  (0, 2940)\t1\n",
      "['anyway', 'bad', 'bad feel', 'bad feel bad', 'dark', 'edgy', 'feel', 'feel bad', 'know', 'know bad', 'laughing', 'like', 'like oh', 'oh', 'oh know', 'ooooh', 'probably', 'probably right', 'right', 'right like']\n",
      "  (0, 2940)\t0.27971103026988603\n",
      "  (0, 11054)\t0.22367563324255302\n",
      "  (0, 2939)\t0.2722125598803901\n",
      "  (0, 17999)\t0.2756930728825723\n",
      "  (0, 26725)\t0.26914252983740794\n",
      "  (0, 19482)\t0.27971103026988603\n",
      "  (0, 32155)\t0.25497312298219516\n",
      "  (0, 30033)\t0.261644059447912\n",
      "  (0, 7640)\t0.20098326534721667\n",
      "  (0, 9301)\t0.2241867305828771\n",
      "  (0, 27286)\t0.2677332607290403\n",
      "  (0, 2151)\t0.1857096640414103\n",
      "  (0, 18548)\t0.22605887763499008\n",
      "  (0, 11052)\t0.15599601305495\n",
      "  (0, 2916)\t0.29272387691446977\n",
      "  (0, 17988)\t0.11700667430594715\n",
      "  (0, 26681)\t0.1379762360340434\n",
      "  (0, 32088)\t0.12295745750046028\n",
      "  (0, 29977)\t0.14580747750273199\n",
      "  (0, 19132)\t0.10210578457546292\n",
      "[('anyway', 0.1857096640414103), ('bad', 0.29272387691446977), ('bad feel', 0.2722125598803901), ('bad feel bad', 0.27971103026988603), ('dark', 0.20098326534721667), ('edgy', 0.2241867305828771), ('feel', 0.15599601305495), ('feel bad', 0.22367563324255302), ('know', 0.11700667430594715), ('know bad', 0.2756930728825723), ('laughing', 0.22605887763499008), ('like', 0.10210578457546292), ('like oh', 0.27971103026988603), ('oh', 0.1379762360340434), ('oh know', 0.26914252983740794), ('ooooh', 0.2677332607290403), ('probably', 0.14580747750273199), ('probably right', 0.261644059447912), ('right', 0.12295745750046028), ('right like', 0.25497312298219516)]\n"
     ]
    }
   ],
   "source": [
    "# Testing out Extraction\n",
    "df = data.head(10)\n",
    "#print(data.columns)\n",
    "#df[['comment_bow', 'comment_tdidf']]\n",
    "print(df['comment_bow'].iloc[3])\n",
    "print(bow_to_words(df['comment_bow'].iloc[3], feature_names_bow))\n",
    "print(df['comment_tdidf'].iloc[3])\n",
    "print(tfidf_to_words(df['comment_tdidf'].iloc[3], feature_names_tfidf))"
   ]
  },
  {
   "cell_type": "markdown",
   "metadata": {},
   "source": [
    "Saves the processed data, including the newly generated TF-IDF representation, to a pickle file for future use."
   ]
  },
  {
   "cell_type": "code",
   "execution_count": 59,
   "metadata": {},
   "outputs": [],
   "source": [
    "data.to_pickle(\"data/data_w_feature_eng.pkl\")"
   ]
  },
  {
   "cell_type": "code",
   "execution_count": 60,
   "metadata": {},
   "outputs": [
    {
     "data": {
      "text/html": [
       "<div>\n",
       "<style scoped>\n",
       "    .dataframe tbody tr th:only-of-type {\n",
       "        vertical-align: middle;\n",
       "    }\n",
       "\n",
       "    .dataframe tbody tr th {\n",
       "        vertical-align: top;\n",
       "    }\n",
       "\n",
       "    .dataframe thead th {\n",
       "        text-align: right;\n",
       "    }\n",
       "</style>\n",
       "<table border=\"1\" class=\"dataframe\">\n",
       "  <thead>\n",
       "    <tr style=\"text-align: right;\">\n",
       "      <th></th>\n",
       "      <th>comment</th>\n",
       "      <th>parent_comment</th>\n",
       "      <th>label</th>\n",
       "      <th>comment_tokens</th>\n",
       "      <th>parent_comment_tokens</th>\n",
       "      <th>comment_tokens_bigram</th>\n",
       "      <th>parent_comment_tokens_bigram</th>\n",
       "      <th>comment_tokens_trigram</th>\n",
       "      <th>parent_comment_tokens_trigram</th>\n",
       "      <th>comment_score</th>\n",
       "      <th>...</th>\n",
       "      <th>parent_comment_punctuation_count</th>\n",
       "      <th>comment_hashtag_count</th>\n",
       "      <th>parent_comment_hashtag_count</th>\n",
       "      <th>comment_number_count</th>\n",
       "      <th>parent_comment_number_count</th>\n",
       "      <th>comment_bow</th>\n",
       "      <th>parent_comment_bow</th>\n",
       "      <th>comment_tdidf</th>\n",
       "      <th>parent_comment_tdidf</th>\n",
       "      <th>comment_tdidf_nn</th>\n",
       "    </tr>\n",
       "  </thead>\n",
       "  <tbody>\n",
       "    <tr>\n",
       "      <th>0</th>\n",
       "      <td>just shoot some unarmed black guy and get paid...</td>\n",
       "      <td>a pregnant police officer asked for \"light dut...</td>\n",
       "      <td>1</td>\n",
       "      <td>[shoot, unarmed, black, guy, get, paid, leave, .]</td>\n",
       "      <td>[pregnant, police, officer, asked, ``, light, ...</td>\n",
       "      <td>[just shoot, shoot some, some unarmed, unarmed...</td>\n",
       "      <td>[a pregnant, pregnant police, police officer, ...</td>\n",
       "      <td>[just shoot some, shoot some unarmed, some una...</td>\n",
       "      <td>[a pregnant police, pregnant police officer, p...</td>\n",
       "      <td>-0.3818</td>\n",
       "      <td>...</td>\n",
       "      <td>5</td>\n",
       "      <td>0</td>\n",
       "      <td>0</td>\n",
       "      <td>0</td>\n",
       "      <td>0</td>\n",
       "      <td>(0, 34103)\\t1\\n  (0, 39571)\\t1\\n  (0, 3872)\\...</td>\n",
       "      <td>(0, 70135)\\t1\\n  (0, 69178)\\t1\\n  (0, 62715)...</td>\n",
       "      <td>(0, 13054)\\t0.3177235466296838\\n  (0, 14807)...</td>\n",
       "      <td>(0, 80750)\\t0.24929730996332664\\n  (0, 94240...</td>\n",
       "      <td>(0, 2684)\\t0.3778467068700204\\n  (0, 2919)\\t...</td>\n",
       "    </tr>\n",
       "    <tr>\n",
       "      <th>1</th>\n",
       "      <td>that is like saying the relative weakness or i...</td>\n",
       "      <td>well, no, it is better. just not ideal. it is ...</td>\n",
       "      <td>0</td>\n",
       "      <td>[like, saying, relative, weakness, ineffective...</td>\n",
       "      <td>[well, ,, no, ,, better, ., not, ideal, ., lot...</td>\n",
       "      <td>[is like, like saying, saying the, the relativ...</td>\n",
       "      <td>[well ,, , no, no ,, , it, is better, better ....</td>\n",
       "      <td>[that is like, is like saying, like saying the...</td>\n",
       "      <td>[well , no, , no ,, no , it, , it is, it is be...</td>\n",
       "      <td>-0.8126</td>\n",
       "      <td>...</td>\n",
       "      <td>9</td>\n",
       "      <td>0</td>\n",
       "      <td>0</td>\n",
       "      <td>0</td>\n",
       "      <td>0</td>\n",
       "      <td>(0, 19132)\\t1\\n  (0, 33007)\\t1\\n  (0, 31604)...</td>\n",
       "      <td>(0, 58332)\\t2\\n  (0, 9307)\\t2\\n  (0, 97784)\\...</td>\n",
       "      <td>(0, 34795)\\t0.3516370559577656\\n  (0, 19563)...</td>\n",
       "      <td>(0, 35300)\\t0.20181306860690493\\n  (0, 27066...</td>\n",
       "      <td>(0, 3805)\\t0.3697678189117928\\n  (0, 3687)\\t...</td>\n",
       "    </tr>\n",
       "    <tr>\n",
       "      <th>2</th>\n",
       "      <td>except pluto would not give us any cool space ...</td>\n",
       "      <td>we would live out destiny as pluto would becom...</td>\n",
       "      <td>0</td>\n",
       "      <td>[except, pluto, would, not, give, u, cool, spa...</td>\n",
       "      <td>[would, live, destiny, pluto, would, become, t...</td>\n",
       "      <td>[except pluto, pluto would, would not, not giv...</td>\n",
       "      <td>[we would, would live, live out, out destiny, ...</td>\n",
       "      <td>[except pluto would, pluto would not, would no...</td>\n",
       "      <td>[we would live, would live out, live out desti...</td>\n",
       "      <td>0.3182</td>\n",
       "      <td>...</td>\n",
       "      <td>1</td>\n",
       "      <td>0</td>\n",
       "      <td>0</td>\n",
       "      <td>0</td>\n",
       "      <td>0</td>\n",
       "      <td>(0, 10440)\\t1\\n  (0, 29212)\\t1\\n  (0, 42311)...</td>\n",
       "      <td>(0, 100293)\\t2\\n  (0, 48014)\\t1\\n  (0, 20131...</td>\n",
       "      <td>(0, 42582)\\t0.4614923352235168\\n  (0, 25067)...</td>\n",
       "      <td>(0, 100384)\\t0.383762491042855\\n  (0, 100800...</td>\n",
       "      <td>(0, 4713)\\t0.4177492481708414\\n  (0, 7958)\\t...</td>\n",
       "    </tr>\n",
       "    <tr>\n",
       "      <th>3</th>\n",
       "      <td>you are probably right, it is more like: \"oh, ...</td>\n",
       "      <td>i really do not think they feel even a little ...</td>\n",
       "      <td>0</td>\n",
       "      <td>[probably, right, ,, like, :, ``, oh, ,, know,...</td>\n",
       "      <td>[really, not, think, feel, even, little, guilt...</td>\n",
       "      <td>[are probably, probably right, right ,, , it, ...</td>\n",
       "      <td>[i really, really do, do not, not think, think...</td>\n",
       "      <td>[you are probably, are probably right, probabl...</td>\n",
       "      <td>[i really do, really do not, do not think, not...</td>\n",
       "      <td>0.4643</td>\n",
       "      <td>...</td>\n",
       "      <td>15</td>\n",
       "      <td>0</td>\n",
       "      <td>0</td>\n",
       "      <td>0</td>\n",
       "      <td>0</td>\n",
       "      <td>(0, 19132)\\t1\\n  (0, 29977)\\t1\\n  (0, 32088)...</td>\n",
       "      <td>(0, 58332)\\t4\\n  (0, 87088)\\t1\\n  (0, 50152)...</td>\n",
       "      <td>(0, 2940)\\t0.27971103026988603\\n  (0, 11054)...</td>\n",
       "      <td>(0, 59227)\\t0.1564008565912863\\n  (0, 73417)...</td>\n",
       "      <td>(0, 2350)\\t0.3017967342521331\\n  (0, 6051)\\t...</td>\n",
       "    </tr>\n",
       "    <tr>\n",
       "      <th>4</th>\n",
       "      <td>or that 85 hour working abroad pipeline money,...</td>\n",
       "      <td>i am talkin bout that veterans day pay that th...</td>\n",
       "      <td>0</td>\n",
       "      <td>[85, hour, working, abroad, pipeline, money, ,...</td>\n",
       "      <td>[talkin, bout, veteran, day, pay, thanksgiving...</td>\n",
       "      <td>[that 85, 85 hour, hour working, working abroa...</td>\n",
       "      <td>[am talkin, talkin bout, bout that, that veter...</td>\n",
       "      <td>[or that 85, that 85 hour, 85 hour working, ho...</td>\n",
       "      <td>[i am talkin, am talkin bout, talkin bout that...</td>\n",
       "      <td>-0.6428</td>\n",
       "      <td>...</td>\n",
       "      <td>0</td>\n",
       "      <td>0</td>\n",
       "      <td>0</td>\n",
       "      <td>1</td>\n",
       "      <td>0</td>\n",
       "      <td>(0, 639)\\t1\\n  (0, 16107)\\t1\\n  (0, 42153)\\t...</td>\n",
       "      <td>(0, 18838)\\t2\\n  (0, 87508)\\t1\\n  (0, 10835)...</td>\n",
       "      <td>(0, 22429)\\t0.3985130739298327\\n  (0, 16125)...</td>\n",
       "      <td>(0, 10076)\\t0.2671135454463559\\n  (0, 95310)...</td>\n",
       "      <td>(0, 6404)\\t0.3034224437961703\\n  (0, 6675)\\t...</td>\n",
       "    </tr>\n",
       "  </tbody>\n",
       "</table>\n",
       "<p>5 rows × 42 columns</p>\n",
       "</div>"
      ],
      "text/plain": [
       "                                             comment  \\\n",
       "0  just shoot some unarmed black guy and get paid...   \n",
       "1  that is like saying the relative weakness or i...   \n",
       "2  except pluto would not give us any cool space ...   \n",
       "3  you are probably right, it is more like: \"oh, ...   \n",
       "4  or that 85 hour working abroad pipeline money,...   \n",
       "\n",
       "                                      parent_comment  label  \\\n",
       "0  a pregnant police officer asked for \"light dut...      1   \n",
       "1  well, no, it is better. just not ideal. it is ...      0   \n",
       "2  we would live out destiny as pluto would becom...      0   \n",
       "3  i really do not think they feel even a little ...      0   \n",
       "4  i am talkin bout that veterans day pay that th...      0   \n",
       "\n",
       "                                      comment_tokens  \\\n",
       "0  [shoot, unarmed, black, guy, get, paid, leave, .]   \n",
       "1  [like, saying, relative, weakness, ineffective...   \n",
       "2  [except, pluto, would, not, give, u, cool, spa...   \n",
       "3  [probably, right, ,, like, :, ``, oh, ,, know,...   \n",
       "4  [85, hour, working, abroad, pipeline, money, ,...   \n",
       "\n",
       "                               parent_comment_tokens  \\\n",
       "0  [pregnant, police, officer, asked, ``, light, ...   \n",
       "1  [well, ,, no, ,, better, ., not, ideal, ., lot...   \n",
       "2  [would, live, destiny, pluto, would, become, t...   \n",
       "3  [really, not, think, feel, even, little, guilt...   \n",
       "4  [talkin, bout, veteran, day, pay, thanksgiving...   \n",
       "\n",
       "                               comment_tokens_bigram  \\\n",
       "0  [just shoot, shoot some, some unarmed, unarmed...   \n",
       "1  [is like, like saying, saying the, the relativ...   \n",
       "2  [except pluto, pluto would, would not, not giv...   \n",
       "3  [are probably, probably right, right ,, , it, ...   \n",
       "4  [that 85, 85 hour, hour working, working abroa...   \n",
       "\n",
       "                        parent_comment_tokens_bigram  \\\n",
       "0  [a pregnant, pregnant police, police officer, ...   \n",
       "1  [well ,, , no, no ,, , it, is better, better ....   \n",
       "2  [we would, would live, live out, out destiny, ...   \n",
       "3  [i really, really do, do not, not think, think...   \n",
       "4  [am talkin, talkin bout, bout that, that veter...   \n",
       "\n",
       "                              comment_tokens_trigram  \\\n",
       "0  [just shoot some, shoot some unarmed, some una...   \n",
       "1  [that is like, is like saying, like saying the...   \n",
       "2  [except pluto would, pluto would not, would no...   \n",
       "3  [you are probably, are probably right, probabl...   \n",
       "4  [or that 85, that 85 hour, 85 hour working, ho...   \n",
       "\n",
       "                       parent_comment_tokens_trigram  comment_score  ...  \\\n",
       "0  [a pregnant police, pregnant police officer, p...        -0.3818  ...   \n",
       "1  [well , no, , no ,, no , it, , it is, it is be...        -0.8126  ...   \n",
       "2  [we would live, would live out, live out desti...         0.3182  ...   \n",
       "3  [i really do, really do not, do not think, not...         0.4643  ...   \n",
       "4  [i am talkin, am talkin bout, talkin bout that...        -0.6428  ...   \n",
       "\n",
       "   parent_comment_punctuation_count  comment_hashtag_count  \\\n",
       "0                                 5                      0   \n",
       "1                                 9                      0   \n",
       "2                                 1                      0   \n",
       "3                                15                      0   \n",
       "4                                 0                      0   \n",
       "\n",
       "   parent_comment_hashtag_count  comment_number_count  \\\n",
       "0                             0                     0   \n",
       "1                             0                     0   \n",
       "2                             0                     0   \n",
       "3                             0                     0   \n",
       "4                             0                     1   \n",
       "\n",
       "   parent_comment_number_count  \\\n",
       "0                            0   \n",
       "1                            0   \n",
       "2                            0   \n",
       "3                            0   \n",
       "4                            0   \n",
       "\n",
       "                                         comment_bow  \\\n",
       "0    (0, 34103)\\t1\\n  (0, 39571)\\t1\\n  (0, 3872)\\...   \n",
       "1    (0, 19132)\\t1\\n  (0, 33007)\\t1\\n  (0, 31604)...   \n",
       "2    (0, 10440)\\t1\\n  (0, 29212)\\t1\\n  (0, 42311)...   \n",
       "3    (0, 19132)\\t1\\n  (0, 29977)\\t1\\n  (0, 32088)...   \n",
       "4    (0, 639)\\t1\\n  (0, 16107)\\t1\\n  (0, 42153)\\t...   \n",
       "\n",
       "                                  parent_comment_bow  \\\n",
       "0    (0, 70135)\\t1\\n  (0, 69178)\\t1\\n  (0, 62715)...   \n",
       "1    (0, 58332)\\t2\\n  (0, 9307)\\t2\\n  (0, 97784)\\...   \n",
       "2    (0, 100293)\\t2\\n  (0, 48014)\\t1\\n  (0, 20131...   \n",
       "3    (0, 58332)\\t4\\n  (0, 87088)\\t1\\n  (0, 50152)...   \n",
       "4    (0, 18838)\\t2\\n  (0, 87508)\\t1\\n  (0, 10835)...   \n",
       "\n",
       "                                       comment_tdidf  \\\n",
       "0    (0, 13054)\\t0.3177235466296838\\n  (0, 14807)...   \n",
       "1    (0, 34795)\\t0.3516370559577656\\n  (0, 19563)...   \n",
       "2    (0, 42582)\\t0.4614923352235168\\n  (0, 25067)...   \n",
       "3    (0, 2940)\\t0.27971103026988603\\n  (0, 11054)...   \n",
       "4    (0, 22429)\\t0.3985130739298327\\n  (0, 16125)...   \n",
       "\n",
       "                                parent_comment_tdidf  \\\n",
       "0    (0, 80750)\\t0.24929730996332664\\n  (0, 94240...   \n",
       "1    (0, 35300)\\t0.20181306860690493\\n  (0, 27066...   \n",
       "2    (0, 100384)\\t0.383762491042855\\n  (0, 100800...   \n",
       "3    (0, 59227)\\t0.1564008565912863\\n  (0, 73417)...   \n",
       "4    (0, 10076)\\t0.2671135454463559\\n  (0, 95310)...   \n",
       "\n",
       "                                    comment_tdidf_nn  \n",
       "0    (0, 2684)\\t0.3778467068700204\\n  (0, 2919)\\t...  \n",
       "1    (0, 3805)\\t0.3697678189117928\\n  (0, 3687)\\t...  \n",
       "2    (0, 4713)\\t0.4177492481708414\\n  (0, 7958)\\t...  \n",
       "3    (0, 2350)\\t0.3017967342521331\\n  (0, 6051)\\t...  \n",
       "4    (0, 6404)\\t0.3034224437961703\\n  (0, 6675)\\t...  \n",
       "\n",
       "[5 rows x 42 columns]"
      ]
     },
     "execution_count": 60,
     "metadata": {},
     "output_type": "execute_result"
    }
   ],
   "source": [
    "data.head()"
   ]
  }
 ],
 "metadata": {
  "kernelspec": {
   "display_name": "Python 3",
   "language": "python",
   "name": "python3"
  },
  "language_info": {
   "codemirror_mode": {
    "name": "ipython",
    "version": 3
   },
   "file_extension": ".py",
   "mimetype": "text/x-python",
   "name": "python",
   "nbconvert_exporter": "python",
   "pygments_lexer": "ipython3",
   "version": "3.11.6"
  }
 },
 "nbformat": 4,
 "nbformat_minor": 2
}
