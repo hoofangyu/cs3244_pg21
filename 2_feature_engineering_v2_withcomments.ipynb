{
 "cells": [
  {
   "cell_type": "markdown",
   "metadata": {},
   "source": [
    "### Step 2: Feature Engineering"
   ]
  },
  {
   "cell_type": "markdown",
   "metadata": {},
   "source": [
    "### 1. Importing Libraries\n",
    "import the necessary libraries needed for feature engineering"
   ]
  },
  {
   "cell_type": "code",
   "execution_count": 1,
   "metadata": {},
   "outputs": [
    {
     "name": "stderr",
     "output_type": "stream",
     "text": [
      "c:\\Users\\dxcas\\AppData\\Local\\Programs\\Python\\Python39\\lib\\site-packages\\scipy\\__init__.py:146: UserWarning: A NumPy version >=1.16.5 and <1.23.0 is required for this version of SciPy (detected version 1.26.1\n",
      "  warnings.warn(f\"A NumPy version >={np_minversion} and <{np_maxversion}\"\n"
     ]
    }
   ],
   "source": [
    "import pandas as pd\n",
    "import seaborn as sns\n",
    "from nltk.sentiment.vader import SentimentIntensityAnalyzer\n",
    "import matplotlib.pyplot as plt\n",
    "import numpy as np\n",
    "import string\n",
    "import nltk\n",
    "from nltk.util import bigrams, trigrams\n",
    "from nltk.corpus import stopwords\n",
    "from gensim.models import Word2Vec #install gensim # had to use this: pip install --upgrade gensim smart_open protobuf==3.20.0\n",
    "from sklearn.feature_extraction.text import CountVectorizer\n",
    "from scipy.sparse import csr_matrix\n",
    "from sklearn.feature_extraction.text import TfidfVectorizer\n",
    "from nltk.stem import WordNetLemmatizer\n",
    "from scipy.stats import chi2_contingency\n"
   ]
  },
  {
   "cell_type": "markdown",
   "metadata": {},
   "source": [
    "Download various NLTK resources necessary for performing natural language processing tasks"
   ]
  },
  {
   "cell_type": "code",
   "execution_count": 2,
   "metadata": {},
   "outputs": [
    {
     "name": "stderr",
     "output_type": "stream",
     "text": [
      "[nltk_data] Downloading package stopwords to\n",
      "[nltk_data]     C:\\Users\\dxcas\\AppData\\Roaming\\nltk_data...\n",
      "[nltk_data]   Package stopwords is already up-to-date!\n",
      "[nltk_data] Downloading package averaged_perceptron_tagger to\n",
      "[nltk_data]     C:\\Users\\dxcas\\AppData\\Roaming\\nltk_data...\n",
      "[nltk_data]   Package averaged_perceptron_tagger is already up-to-\n",
      "[nltk_data]       date!\n",
      "[nltk_data] Downloading package punkt to\n",
      "[nltk_data]     C:\\Users\\dxcas\\AppData\\Roaming\\nltk_data...\n",
      "[nltk_data]   Package punkt is already up-to-date!\n",
      "[nltk_data] Downloading package maxent_ne_chunker to\n",
      "[nltk_data]     C:\\Users\\dxcas\\AppData\\Roaming\\nltk_data...\n",
      "[nltk_data]   Package maxent_ne_chunker is already up-to-date!\n",
      "[nltk_data] Downloading package words to\n",
      "[nltk_data]     C:\\Users\\dxcas\\AppData\\Roaming\\nltk_data...\n",
      "[nltk_data]   Package words is already up-to-date!\n",
      "[nltk_data] Downloading package wordnet to\n",
      "[nltk_data]     C:\\Users\\dxcas\\AppData\\Roaming\\nltk_data...\n",
      "[nltk_data]   Package wordnet is already up-to-date!\n",
      "[nltk_data] Downloading package vader_lexicon to\n",
      "[nltk_data]     C:\\Users\\dxcas\\AppData\\Roaming\\nltk_data...\n",
      "[nltk_data]   Package vader_lexicon is already up-to-date!\n"
     ]
    },
    {
     "data": {
      "text/plain": [
       "True"
      ]
     },
     "execution_count": 2,
     "metadata": {},
     "output_type": "execute_result"
    }
   ],
   "source": [
    "nltk.download('stopwords')\n",
    "nltk.download('averaged_perceptron_tagger')\n",
    "nltk.download('punkt')\n",
    "nltk.download('maxent_ne_chunker')\n",
    "nltk.download('words')\n",
    "nltk.download('wordnet')\n",
    "nltk.download('vader_lexicon')\n"
   ]
  },
  {
   "cell_type": "markdown",
   "metadata": {},
   "source": [
    "Use pandas to read the cleaned and preprocessed data stored in a pickle file named \"data_cleaned.pkl\""
   ]
  },
  {
   "cell_type": "code",
   "execution_count": 3,
   "metadata": {},
   "outputs": [],
   "source": [
    "data = pd.read_pickle('data/data_cleaned.pkl')"
   ]
  },
  {
   "cell_type": "code",
   "execution_count": 4,
   "metadata": {},
   "outputs": [
    {
     "data": {
      "text/html": [
       "<div>\n",
       "<style scoped>\n",
       "    .dataframe tbody tr th:only-of-type {\n",
       "        vertical-align: middle;\n",
       "    }\n",
       "\n",
       "    .dataframe tbody tr th {\n",
       "        vertical-align: top;\n",
       "    }\n",
       "\n",
       "    .dataframe thead th {\n",
       "        text-align: right;\n",
       "    }\n",
       "</style>\n",
       "<table border=\"1\" class=\"dataframe\">\n",
       "  <thead>\n",
       "    <tr style=\"text-align: right;\">\n",
       "      <th></th>\n",
       "      <th>comment</th>\n",
       "      <th>parent_comment</th>\n",
       "      <th>label</th>\n",
       "    </tr>\n",
       "  </thead>\n",
       "  <tbody>\n",
       "    <tr>\n",
       "      <th>0</th>\n",
       "      <td>lol it is obvious you have listened to every s...</td>\n",
       "      <td>because his music oozes positivity....</td>\n",
       "      <td>1</td>\n",
       "    </tr>\n",
       "    <tr>\n",
       "      <th>1</th>\n",
       "      <td>he is not a parody of any one specific charact...</td>\n",
       "      <td>i detest family guy so i am not imminently fam...</td>\n",
       "      <td>0</td>\n",
       "    </tr>\n",
       "    <tr>\n",
       "      <th>2</th>\n",
       "      <td>in before the observing shi'ite islamists recl...</td>\n",
       "      <td>i just realised that smite is the only communi...</td>\n",
       "      <td>0</td>\n",
       "    </tr>\n",
       "    <tr>\n",
       "      <th>3</th>\n",
       "      <td>peeker's advantage</td>\n",
       "      <td>cs:bs where exactly should i aim??</td>\n",
       "      <td>1</td>\n",
       "    </tr>\n",
       "    <tr>\n",
       "      <th>4</th>\n",
       "      <td>you are right, he is garbage and any 200 elo s...</td>\n",
       "      <td>yes, dl did what every adc is supposed to do, ...</td>\n",
       "      <td>1</td>\n",
       "    </tr>\n",
       "  </tbody>\n",
       "</table>\n",
       "</div>"
      ],
      "text/plain": [
       "                                             comment  \\\n",
       "0  lol it is obvious you have listened to every s...   \n",
       "1  he is not a parody of any one specific charact...   \n",
       "2  in before the observing shi'ite islamists recl...   \n",
       "3                                 peeker's advantage   \n",
       "4  you are right, he is garbage and any 200 elo s...   \n",
       "\n",
       "                                      parent_comment  label  \n",
       "0             because his music oozes positivity....      1  \n",
       "1  i detest family guy so i am not imminently fam...      0  \n",
       "2  i just realised that smite is the only communi...      0  \n",
       "3                 cs:bs where exactly should i aim??      1  \n",
       "4  yes, dl did what every adc is supposed to do, ...      1  "
      ]
     },
     "execution_count": 4,
     "metadata": {},
     "output_type": "execute_result"
    }
   ],
   "source": [
    "data.head()"
   ]
  },
  {
   "cell_type": "markdown",
   "metadata": {},
   "source": [
    "### 2.Tokenizing  \n",
    "Define a function tokenize_text that takes a text input and generates unigrams. Apply the tokenize_text function to tokenize the 'comment' and 'parent_comment' columns into unigrams."
   ]
  },
  {
   "cell_type": "code",
   "execution_count": 5,
   "metadata": {},
   "outputs": [],
   "source": [
    "def tokenize_text(text):\n",
    "    tokens = nltk.word_tokenize(text)\n",
    "    return tokens\n",
    "    \n",
    "# Unigram Tokenizing\n",
    "data[\"comment_tokens\"] = data[\"comment\"].apply(lambda x: tokenize_text(x))\n",
    "data[\"parent_comment_tokens\"] = data[\"parent_comment\"].apply(lambda x: tokenize_text(x))"
   ]
  },
  {
   "cell_type": "markdown",
   "metadata": {},
   "source": [
    "### 3. Removing Stop Words \n",
    "\n",
    "Remove words no and not from stop_words as these words may have sematic meaning. Defines a filtering function for unigrams, which removes stopwords from a list of tokens. "
   ]
  },
  {
   "cell_type": "code",
   "execution_count": 6,
   "metadata": {},
   "outputs": [],
   "source": [
    "#remove possible words from stop_words that can change meaning of text\n",
    "stop_words = set(stopwords.words('english'))\n",
    "\n",
    "to_remove = [\"no\",\"not\"]\n",
    "for word in to_remove:\n",
    "    stop_words.remove(word)\n",
    "    \n",
    "# Filtering function for unigrams\n",
    "def filter_unigrams(tokens):\n",
    "    return [token for token in tokens if token not in stop_words]\n",
    "\n",
    "# Apply the filtering functions\n",
    "data[\"comment_tokens\"] = data[\"comment_tokens\"].apply(filter_unigrams)\n",
    "data[\"parent_comment_tokens\"] = data[\"parent_comment_tokens\"].apply(filter_unigrams)"
   ]
  },
  {
   "cell_type": "markdown",
   "metadata": {},
   "source": [
    "### 4.Lemmatization \n",
    "Define a lemmatization function for unigrams which applies lemmatization to the tokenized unigrams,converting words to their base or root forms."
   ]
  },
  {
   "cell_type": "code",
   "execution_count": 7,
   "metadata": {},
   "outputs": [],
   "source": [
    "lemmatizer = WordNetLemmatizer()\n",
    "# Lemmatize function for unigrams\n",
    "def lemmatize_unigrams(tokens):\n",
    "    return [lemmatizer.lemmatize(token) for token in tokens]\n",
    "\n",
    "\n",
    "# Apply the lemmatize functions\n",
    "data[\"comment_tokens\"] = data[\"comment_tokens\"].apply(lemmatize_unigrams)\n",
    "data[\"parent_comment_tokens\"] = data[\"parent_comment_tokens\"].apply(lemmatize_unigrams)"
   ]
  },
  {
   "cell_type": "markdown",
   "metadata": {},
   "source": [
    "### 5. Sentiment Analysis\n",
    "\n",
    "Utilizes the polarity_scores method of the VADER analyzer to compute the compound sentiment score for each comment and parent comment. The compound score represents the overall sentiment, combining positive, negative, and neutral scores."
   ]
  },
  {
   "cell_type": "code",
   "execution_count": 8,
   "metadata": {},
   "outputs": [],
   "source": [
    "sia = SentimentIntensityAnalyzer()\n",
    "data['comment_score'] = data['comment'].apply(lambda x: sia.polarity_scores(x)['compound'])\n",
    "data['parent_comment_score'] = data['parent_comment'].apply(lambda x: sia.polarity_scores(x)['compound'])"
   ]
  },
  {
   "cell_type": "markdown",
   "metadata": {},
   "source": [
    "Creates a box plot of comment sentiment scores"
   ]
  },
  {
   "cell_type": "code",
   "execution_count": 9,
   "metadata": {},
   "outputs": [
    {
     "name": "stderr",
     "output_type": "stream",
     "text": [
      "c:\\Users\\dxcas\\AppData\\Local\\Programs\\Python\\Python39\\lib\\site-packages\\seaborn\\_decorators.py:36: FutureWarning: Pass the following variable as a keyword arg: x. From version 0.12, the only valid positional argument will be `data`, and passing other arguments without an explicit keyword will result in an error or misinterpretation.\n",
      "  warnings.warn(\n"
     ]
    },
    {
     "data": {
      "image/png": "[encoded data removed]",
      "text/plain": [
       "<Figure size 640x480 with 1 Axes>"
      ]
     },
     "metadata": {},
     "output_type": "display_data"
    }
   ],
   "source": [
    "sns.boxplot(data['comment_score'])\n",
    "plt.title('Box Plot of Comment Sentiment Scores')\n",
    "plt.show()"
   ]
  },
  {
   "cell_type": "markdown",
   "metadata": {},
   "source": [
    "Creates a box plot of parent comment sentiment scores"
   ]
  },
  {
   "cell_type": "code",
   "execution_count": 10,
   "metadata": {},
   "outputs": [
    {
     "name": "stderr",
     "output_type": "stream",
     "text": [
      "c:\\Users\\dxcas\\AppData\\Local\\Programs\\Python\\Python39\\lib\\site-packages\\seaborn\\_decorators.py:36: FutureWarning: Pass the following variable as a keyword arg: x. From version 0.12, the only valid positional argument will be `data`, and passing other arguments without an explicit keyword will result in an error or misinterpretation.\n",
      "  warnings.warn(\n"
     ]
    },
    {
     "data": {
      "image/png": "[encoded data removed]",
      "text/plain": [
       "<Figure size 640x480 with 1 Axes>"
      ]
     },
     "metadata": {},
     "output_type": "display_data"
    }
   ],
   "source": [
    "sns.boxplot(data['parent_comment_score'])\n",
    "plt.title('Box Plot of Parent Sentiment Scores')\n",
    "plt.show()"
   ]
  },
  {
   "cell_type": "markdown",
   "metadata": {},
   "source": [
    "Create a kernel density plot comparing the distribution of sentiment scores for both comments and parent comments. This plot provides insights into the density and shape of the sentiment score distributions."
   ]
  },
  {
   "cell_type": "code",
   "execution_count": 11,
   "metadata": {},
   "outputs": [
    {
     "data": {
      "image/png": "[encoded data removed]",
      "text/plain": [
       "<Figure size 640x480 with 1 Axes>"
      ]
     },
     "metadata": {},
     "output_type": "display_data"
    }
   ],
   "source": [
    "sns.kdeplot(data['comment_score'], shade=True, color = 'blue')\n",
    "sns.kdeplot(data['parent_comment_score'], shade = True, color='red')\n",
    "plt.title('Kernel Density Plot of Sentiment Scores')\n",
    "plt.xlabel('Sentiment Score')\n",
    "plt.ylabel('Density')\n",
    "plt.show()"
   ]
  },
  {
   "cell_type": "markdown",
   "metadata": {},
   "source": [
    "categorizes parent comment and comment sentiment scores into three labels ('positive,' 'negative,' or 'neutral') based on predefined thresholds. "
   ]
  },
  {
   "cell_type": "code",
   "execution_count": 12,
   "metadata": {},
   "outputs": [
    {
     "data": {
      "text/html": [
       "<div>\n",
       "<style scoped>\n",
       "    .dataframe tbody tr th:only-of-type {\n",
       "        vertical-align: middle;\n",
       "    }\n",
       "\n",
       "    .dataframe tbody tr th {\n",
       "        vertical-align: top;\n",
       "    }\n",
       "\n",
       "    .dataframe thead th {\n",
       "        text-align: right;\n",
       "    }\n",
       "</style>\n",
       "<table border=\"1\" class=\"dataframe\">\n",
       "  <thead>\n",
       "    <tr style=\"text-align: right;\">\n",
       "      <th></th>\n",
       "      <th>comment</th>\n",
       "      <th>parent_comment</th>\n",
       "      <th>label</th>\n",
       "      <th>comment_tokens</th>\n",
       "      <th>parent_comment_tokens</th>\n",
       "      <th>comment_score</th>\n",
       "      <th>parent_comment_score</th>\n",
       "      <th>weighted_comment_sentiment_score</th>\n",
       "      <th>weighted_parent_sentiment_score</th>\n",
       "    </tr>\n",
       "  </thead>\n",
       "  <tbody>\n",
       "    <tr>\n",
       "      <th>0</th>\n",
       "      <td>lol it is obvious you have listened to every s...</td>\n",
       "      <td>because his music oozes positivity....</td>\n",
       "      <td>1</td>\n",
       "      <td>[lol, obvious, listened, every, song, .]</td>\n",
       "      <td>[music, ooze, positivity, ....]</td>\n",
       "      <td>0.4215</td>\n",
       "      <td>0.0000</td>\n",
       "      <td>positive</td>\n",
       "      <td>neutral</td>\n",
       "    </tr>\n",
       "    <tr>\n",
       "      <th>1</th>\n",
       "      <td>he is not a parody of any one specific charact...</td>\n",
       "      <td>i detest family guy so i am not imminently fam...</td>\n",
       "      <td>0</td>\n",
       "      <td>[not, parody, one, specific, character, anythi...</td>\n",
       "      <td>[detest, family, guy, not, imminently, familia...</td>\n",
       "      <td>0.0000</td>\n",
       "      <td>0.4767</td>\n",
       "      <td>neutral</td>\n",
       "      <td>positive</td>\n",
       "    </tr>\n",
       "    <tr>\n",
       "      <th>2</th>\n",
       "      <td>in before the observing shi'ite islamists recl...</td>\n",
       "      <td>i just realised that smite is the only communi...</td>\n",
       "      <td>0</td>\n",
       "      <td>[observing, shi'ite, islamist, reclaiming, upp...</td>\n",
       "      <td>[realised, smite, community, normally, say]</td>\n",
       "      <td>0.0000</td>\n",
       "      <td>0.0000</td>\n",
       "      <td>neutral</td>\n",
       "      <td>neutral</td>\n",
       "    </tr>\n",
       "    <tr>\n",
       "      <th>3</th>\n",
       "      <td>peeker's advantage</td>\n",
       "      <td>cs:bs where exactly should i aim??</td>\n",
       "      <td>1</td>\n",
       "      <td>[peeker, 's, advantage]</td>\n",
       "      <td>[c, :, b, exactly, aim, ?, ?]</td>\n",
       "      <td>0.2500</td>\n",
       "      <td>0.0000</td>\n",
       "      <td>positive</td>\n",
       "      <td>neutral</td>\n",
       "    </tr>\n",
       "    <tr>\n",
       "      <th>4</th>\n",
       "      <td>you are right, he is garbage and any 200 elo s...</td>\n",
       "      <td>yes, dl did what every adc is supposed to do, ...</td>\n",
       "      <td>1</td>\n",
       "      <td>[right, ,, garbage, 200, elo, scrub, could, ma...</td>\n",
       "      <td>[yes, ,, dl, every, adc, supposed, ,, scoot, s...</td>\n",
       "      <td>-0.2960</td>\n",
       "      <td>-0.1280</td>\n",
       "      <td>negative</td>\n",
       "      <td>neutral</td>\n",
       "    </tr>\n",
       "  </tbody>\n",
       "</table>\n",
       "</div>"
      ],
      "text/plain": [
       "                                             comment  \\\n",
       "0  lol it is obvious you have listened to every s...   \n",
       "1  he is not a parody of any one specific charact...   \n",
       "2  in before the observing shi'ite islamists recl...   \n",
       "3                                 peeker's advantage   \n",
       "4  you are right, he is garbage and any 200 elo s...   \n",
       "\n",
       "                                      parent_comment  label  \\\n",
       "0             because his music oozes positivity....      1   \n",
       "1  i detest family guy so i am not imminently fam...      0   \n",
       "2  i just realised that smite is the only communi...      0   \n",
       "3                 cs:bs where exactly should i aim??      1   \n",
       "4  yes, dl did what every adc is supposed to do, ...      1   \n",
       "\n",
       "                                      comment_tokens  \\\n",
       "0           [lol, obvious, listened, every, song, .]   \n",
       "1  [not, parody, one, specific, character, anythi...   \n",
       "2  [observing, shi'ite, islamist, reclaiming, upp...   \n",
       "3                            [peeker, 's, advantage]   \n",
       "4  [right, ,, garbage, 200, elo, scrub, could, ma...   \n",
       "\n",
       "                               parent_comment_tokens  comment_score  \\\n",
       "0                    [music, ooze, positivity, ....]         0.4215   \n",
       "1  [detest, family, guy, not, imminently, familia...         0.0000   \n",
       "2        [realised, smite, community, normally, say]         0.0000   \n",
       "3                      [c, :, b, exactly, aim, ?, ?]         0.2500   \n",
       "4  [yes, ,, dl, every, adc, supposed, ,, scoot, s...        -0.2960   \n",
       "\n",
       "   parent_comment_score weighted_comment_sentiment_score  \\\n",
       "0                0.0000                         positive   \n",
       "1                0.4767                          neutral   \n",
       "2                0.0000                          neutral   \n",
       "3                0.0000                         positive   \n",
       "4               -0.1280                         negative   \n",
       "\n",
       "  weighted_parent_sentiment_score  \n",
       "0                         neutral  \n",
       "1                        positive  \n",
       "2                         neutral  \n",
       "3                         neutral  \n",
       "4                         neutral  "
      ]
     },
     "execution_count": 12,
     "metadata": {},
     "output_type": "execute_result"
    }
   ],
   "source": [
    "def sentiment(score):\n",
    "    if (score >= 0.25):\n",
    "        return 'positive'\n",
    "    elif (score <= -0.25):\n",
    "        return 'negative'\n",
    "    else:\n",
    "        return 'neutral'\n",
    "    \n",
    "data['weighted_comment_sentiment_score'] = data['comment_score'].apply(sentiment)\n",
    "data['weighted_parent_sentiment_score'] = data['parent_comment_score'].apply(sentiment)\n",
    "data.head()"
   ]
  },
  {
   "cell_type": "markdown",
   "metadata": {},
   "source": [
    "creates a contingency table to explore the relationship between sentiment scores (categorized as 'positive,' 'negative,' or 'neutral') and the 'label' column. The contingency table presents a summary of how sentiment is distributed within each label category, offering insights into potential associations between sentiment and labels in the dataset."
   ]
  },
  {
   "cell_type": "code",
   "execution_count": 13,
   "metadata": {},
   "outputs": [
    {
     "name": "stdout",
     "output_type": "stream",
     "text": [
      "weighted_comment_sentiment_score  negative  neutral  positive\n",
      "label                                                        \n",
      "0                                    28313    78237     44894\n",
      "1                                    32352    68707     50527\n"
     ]
    }
   ],
   "source": [
    "contingency_table = pd.crosstab(data['label'], data['weighted_comment_sentiment_score'])\n",
    "\n",
    "# Display the contingency table\n",
    "print(contingency_table)"
   ]
  },
  {
   "cell_type": "markdown",
   "metadata": {},
   "source": [
    "performs a chi-square test for independence to assess whether there is a significant association between sentiment scores (categorized as 'positive,' 'negative,' 'neutral') and the 'label' column in the dataset. "
   ]
  },
  {
   "cell_type": "code",
   "execution_count": 14,
   "metadata": {},
   "outputs": [
    {
     "name": "stdout",
     "output_type": "stream",
     "text": [
      "Chi-Square Value: 1219.44361513082\n",
      "P-value: 1.5892180105910784e-265\n"
     ]
    }
   ],
   "source": [
    "chi2, p, _, _ = chi2_contingency(contingency_table)\n",
    "print(f'Chi-Square Value: {chi2}')\n",
    "print(f'P-value: {p}')"
   ]
  },
  {
   "cell_type": "markdown",
   "metadata": {},
   "source": [
    "generates a stacked bar plot to visually represent the distribution of labels ('Not Sarcastic' and 'Sarcastic') across different sentiment scores ('positive,' 'negative,' 'neutral'). The plot provides insights into the relationship between sentiment scores and labels in the dataset."
   ]
  },
  {
   "cell_type": "code",
   "execution_count": 15,
   "metadata": {},
   "outputs": [
    {
     "data": {
      "image/png": "[encoded data removed]",
      "text/plain": [
       "<Figure size 640x480 with 1 Axes>"
      ]
     },
     "metadata": {},
     "output_type": "display_data"
    }
   ],
   "source": [
    "stacked_data = data.groupby(['weighted_comment_sentiment_score', 'label']).size().unstack().fillna(0)\n",
    "\n",
    "stacked_data.plot(kind='bar', stacked=True)\n",
    "plt.title('Stacked Bar Plot: Distribution of Labels by Sentiment Score')\n",
    "plt.xlabel('Sentiment Score')\n",
    "plt.ylabel('Count')\n",
    "plt.xticks(rotation=0)\n",
    "plt.legend(title='Label', labels=['Not Sarcastic', 'Sarcastic'])\n",
    "plt.show()"
   ]
  },
  {
   "cell_type": "markdown",
   "metadata": {},
   "source": [
    "generates a heatmap to visually represent the distribution of labels ('Not Sarcastic' and 'Sarcastic') across different sentiment scores ('positive,' 'negative,' 'neutral'). The heatmap provides an overview of the relationship between sentiment scores and labels in the dataset."
   ]
  },
  {
   "cell_type": "code",
   "execution_count": 16,
   "metadata": {},
   "outputs": [
    {
     "data": {
      "image/png": "[encoded data removed]",
      "text/plain": [
       "<Figure size 640x480 with 2 Axes>"
      ]
     },
     "metadata": {},
     "output_type": "display_data"
    }
   ],
   "source": [
    "heatmap_data = data.groupby(['weighted_comment_sentiment_score', 'label']).size().unstack().fillna(0)\n",
    "sns.heatmap(heatmap_data, annot=True, fmt='d', cmap='coolwarm')\n",
    "plt.title('Heatmap: Distribution of Labels by Sentiment Score')\n",
    "plt.xlabel('Label (0: Not Sarcastic, 1: Sarcastic)')\n",
    "plt.ylabel('Sentiment Score')\n",
    "plt.show()"
   ]
  },
  {
   "cell_type": "markdown",
   "metadata": {},
   "source": [
    "performs one-hot encoding on the sentiment score columns ('weighted_parent_sentiment_score' and 'weighted_comment_sentiment_score')"
   ]
  },
  {
   "cell_type": "code",
   "execution_count": 17,
   "metadata": {},
   "outputs": [],
   "source": [
    "# One Hot Encode Weighted Sentiment Scores\n",
    "data = pd.get_dummies(data, columns = ['weighted_parent_sentiment_score','weighted_comment_sentiment_score'], drop_first=True)"
   ]
  },
  {
   "cell_type": "code",
   "execution_count": 18,
   "metadata": {},
   "outputs": [
    {
     "data": {
      "text/html": [
       "<div>\n",
       "<style scoped>\n",
       "    .dataframe tbody tr th:only-of-type {\n",
       "        vertical-align: middle;\n",
       "    }\n",
       "\n",
       "    .dataframe tbody tr th {\n",
       "        vertical-align: top;\n",
       "    }\n",
       "\n",
       "    .dataframe thead th {\n",
       "        text-align: right;\n",
       "    }\n",
       "</style>\n",
       "<table border=\"1\" class=\"dataframe\">\n",
       "  <thead>\n",
       "    <tr style=\"text-align: right;\">\n",
       "      <th></th>\n",
       "      <th>comment</th>\n",
       "      <th>parent_comment</th>\n",
       "      <th>label</th>\n",
       "      <th>comment_tokens</th>\n",
       "      <th>parent_comment_tokens</th>\n",
       "      <th>comment_score</th>\n",
       "      <th>parent_comment_score</th>\n",
       "      <th>weighted_parent_sentiment_score_neutral</th>\n",
       "      <th>weighted_parent_sentiment_score_positive</th>\n",
       "      <th>weighted_comment_sentiment_score_neutral</th>\n",
       "      <th>weighted_comment_sentiment_score_positive</th>\n",
       "    </tr>\n",
       "  </thead>\n",
       "  <tbody>\n",
       "    <tr>\n",
       "      <th>0</th>\n",
       "      <td>lol it is obvious you have listened to every s...</td>\n",
       "      <td>because his music oozes positivity....</td>\n",
       "      <td>1</td>\n",
       "      <td>[lol, obvious, listened, every, song, .]</td>\n",
       "      <td>[music, ooze, positivity, ....]</td>\n",
       "      <td>0.4215</td>\n",
       "      <td>0.0000</td>\n",
       "      <td>1</td>\n",
       "      <td>0</td>\n",
       "      <td>0</td>\n",
       "      <td>1</td>\n",
       "    </tr>\n",
       "    <tr>\n",
       "      <th>1</th>\n",
       "      <td>he is not a parody of any one specific charact...</td>\n",
       "      <td>i detest family guy so i am not imminently fam...</td>\n",
       "      <td>0</td>\n",
       "      <td>[not, parody, one, specific, character, anythi...</td>\n",
       "      <td>[detest, family, guy, not, imminently, familia...</td>\n",
       "      <td>0.0000</td>\n",
       "      <td>0.4767</td>\n",
       "      <td>0</td>\n",
       "      <td>1</td>\n",
       "      <td>1</td>\n",
       "      <td>0</td>\n",
       "    </tr>\n",
       "    <tr>\n",
       "      <th>2</th>\n",
       "      <td>in before the observing shi'ite islamists recl...</td>\n",
       "      <td>i just realised that smite is the only communi...</td>\n",
       "      <td>0</td>\n",
       "      <td>[observing, shi'ite, islamist, reclaiming, upp...</td>\n",
       "      <td>[realised, smite, community, normally, say]</td>\n",
       "      <td>0.0000</td>\n",
       "      <td>0.0000</td>\n",
       "      <td>1</td>\n",
       "      <td>0</td>\n",
       "      <td>1</td>\n",
       "      <td>0</td>\n",
       "    </tr>\n",
       "    <tr>\n",
       "      <th>3</th>\n",
       "      <td>peeker's advantage</td>\n",
       "      <td>cs:bs where exactly should i aim??</td>\n",
       "      <td>1</td>\n",
       "      <td>[peeker, 's, advantage]</td>\n",
       "      <td>[c, :, b, exactly, aim, ?, ?]</td>\n",
       "      <td>0.2500</td>\n",
       "      <td>0.0000</td>\n",
       "      <td>1</td>\n",
       "      <td>0</td>\n",
       "      <td>0</td>\n",
       "      <td>1</td>\n",
       "    </tr>\n",
       "    <tr>\n",
       "      <th>4</th>\n",
       "      <td>you are right, he is garbage and any 200 elo s...</td>\n",
       "      <td>yes, dl did what every adc is supposed to do, ...</td>\n",
       "      <td>1</td>\n",
       "      <td>[right, ,, garbage, 200, elo, scrub, could, ma...</td>\n",
       "      <td>[yes, ,, dl, every, adc, supposed, ,, scoot, s...</td>\n",
       "      <td>-0.2960</td>\n",
       "      <td>-0.1280</td>\n",
       "      <td>1</td>\n",
       "      <td>0</td>\n",
       "      <td>0</td>\n",
       "      <td>0</td>\n",
       "    </tr>\n",
       "  </tbody>\n",
       "</table>\n",
       "</div>"
      ],
      "text/plain": [
       "                                             comment  \\\n",
       "0  lol it is obvious you have listened to every s...   \n",
       "1  he is not a parody of any one specific charact...   \n",
       "2  in before the observing shi'ite islamists recl...   \n",
       "3                                 peeker's advantage   \n",
       "4  you are right, he is garbage and any 200 elo s...   \n",
       "\n",
       "                                      parent_comment  label  \\\n",
       "0             because his music oozes positivity....      1   \n",
       "1  i detest family guy so i am not imminently fam...      0   \n",
       "2  i just realised that smite is the only communi...      0   \n",
       "3                 cs:bs where exactly should i aim??      1   \n",
       "4  yes, dl did what every adc is supposed to do, ...      1   \n",
       "\n",
       "                                      comment_tokens  \\\n",
       "0           [lol, obvious, listened, every, song, .]   \n",
       "1  [not, parody, one, specific, character, anythi...   \n",
       "2  [observing, shi'ite, islamist, reclaiming, upp...   \n",
       "3                            [peeker, 's, advantage]   \n",
       "4  [right, ,, garbage, 200, elo, scrub, could, ma...   \n",
       "\n",
       "                               parent_comment_tokens  comment_score  \\\n",
       "0                    [music, ooze, positivity, ....]         0.4215   \n",
       "1  [detest, family, guy, not, imminently, familia...         0.0000   \n",
       "2        [realised, smite, community, normally, say]         0.0000   \n",
       "3                      [c, :, b, exactly, aim, ?, ?]         0.2500   \n",
       "4  [yes, ,, dl, every, adc, supposed, ,, scoot, s...        -0.2960   \n",
       "\n",
       "   parent_comment_score  weighted_parent_sentiment_score_neutral  \\\n",
       "0                0.0000                                        1   \n",
       "1                0.4767                                        0   \n",
       "2                0.0000                                        1   \n",
       "3                0.0000                                        1   \n",
       "4               -0.1280                                        1   \n",
       "\n",
       "   weighted_parent_sentiment_score_positive  \\\n",
       "0                                         0   \n",
       "1                                         1   \n",
       "2                                         0   \n",
       "3                                         0   \n",
       "4                                         0   \n",
       "\n",
       "   weighted_comment_sentiment_score_neutral  \\\n",
       "0                                         0   \n",
       "1                                         1   \n",
       "2                                         1   \n",
       "3                                         0   \n",
       "4                                         0   \n",
       "\n",
       "   weighted_comment_sentiment_score_positive  \n",
       "0                                          1  \n",
       "1                                          0  \n",
       "2                                          0  \n",
       "3                                          1  \n",
       "4                                          0  "
      ]
     },
     "execution_count": 18,
     "metadata": {},
     "output_type": "execute_result"
    }
   ],
   "source": [
    "data.head()"
   ]
  },
  {
   "cell_type": "markdown",
   "metadata": {},
   "source": [
    "### 6. Basic Text Features\n",
    "- extracted these features mostly from the original sentences\n",
    "- extracted token count, unique token count and mean token length"
   ]
  },
  {
   "cell_type": "markdown",
   "metadata": {},
   "source": [
    " performs feature engineering by extracting various statistical features from pre-tokenized text data. These features capture information about word and token counts, unique words and tokens, stopwords, mean word/token length, character count, punctuation count, hashtag count, and number count for both comments and parent comments."
   ]
  },
  {
   "cell_type": "code",
   "execution_count": 19,
   "metadata": {},
   "outputs": [
    {
     "name": "stderr",
     "output_type": "stream",
     "text": [
      "c:\\Users\\dxcas\\AppData\\Local\\Programs\\Python\\Python39\\lib\\site-packages\\numpy\\core\\fromnumeric.py:3504: RuntimeWarning: Mean of empty slice.\n",
      "  return _methods._mean(a, axis=axis, dtype=dtype,\n"
     ]
    }
   ],
   "source": [
    "#data = data[['label','comment', 'parent_comment']]\n",
    "###pre-tokenised###\n",
    "# Word Count\n",
    "data['comment_word_count'] = data['comment'].apply(lambda x: len(str(x).split()))\n",
    "data['parent_comment_word_count'] = data['parent_comment'].apply(lambda x: len(str(x).split()))\n",
    "data['comment_token_count'] = data['comment_tokens'].apply(lambda x: len(x))\n",
    "data['parent_comment_token_count'] = data['parent_comment_tokens'].apply(lambda x: len(x))\n",
    "\n",
    "# Unique Word Count\n",
    "data['comment_unique_word_count'] = data['comment'].apply(lambda x: len(set(str(x).split())))\n",
    "data['parent_comment_unique_word_count'] = data['parent_comment'].apply(lambda x: len(set(str(x).split())))\n",
    "data['comment_unique_token_count'] = data['comment_tokens'].apply(lambda x: len(set(x)))\n",
    "data['parent_comment_unique_token_count'] = data['parent_comment_tokens'].apply(lambda x: len(set(x)))\n",
    "\n",
    "# Stop Word Count\n",
    "stop = stopwords.words('english')\n",
    "data['comment_stopword_count'] = data['comment'].apply(lambda x: len([word for word in str(x).split() if word.lower() in stop]))\n",
    "data['parent_comment_stopword_count'] = data['parent_comment'].apply(lambda x: len([word for word in str(x).split() if word.lower() in stop]))\n",
    "\n",
    "# Mean Word Length\n",
    "data['comment_mean_word_length'] = data['comment'].apply(lambda x: np.mean([len(word) for word in str(x).split()]))\n",
    "data['parent_comment_mean_word_length'] = data['parent_comment'].apply(lambda x: np.mean([len(word) for word in str(x).split()]))\n",
    "data['comment_mean_token_length'] = data['comment_tokens'].apply(lambda x: np.mean([len(token) for token in x]))\n",
    "data['parent_comment_mean_token_length'] = data['parent_comment_tokens'].apply(lambda x: np.mean([len(token) for token in x]))\n",
    "\n",
    "# Character Count\n",
    "data['comment_char_count'] = data['comment'].apply(lambda x: len(str(x)))\n",
    "data['parent_comment_char_count'] = data['parent_comment'].apply(lambda x: len(str(x)))\n",
    "\n",
    "# Punctuation Count\n",
    "data['comment_punctuation_count'] = data['comment'].apply(lambda x: len([char for char in str(x) if char in string.punctuation]))\n",
    "data['parent_comment_punctuation_count'] = data['parent_comment'].apply(lambda x: len([char for char in str(x) if char in string.punctuation]))\n",
    "\n",
    "# Hashtag and Number Count\n",
    "data['comment_hashtag_count'] = data['comment'].apply(lambda x: len([word for word in str(x).split() if word.startswith('#')]))\n",
    "data['parent_comment_hashtag_count'] = data['parent_comment'].apply(lambda x: len([word for word in str(x).split() if word.startswith('#')]))\n",
    "\n",
    "data['comment_number_count'] = data['comment'].apply(lambda x: len([word for word in str(x).split() if word.isdigit()]))\n",
    "data['parent_comment_number_count'] = data['parent_comment'].apply(lambda x: len([word for word in str(x).split() if word.isdigit()]))"
   ]
  },
  {
   "cell_type": "markdown",
   "metadata": {},
   "source": [
    "### 7. Bag of Words"
   ]
  },
  {
   "cell_type": "markdown",
   "metadata": {},
   "source": [
    "Concatenates the tokenized comments and parent comments into text documents for further processing."
   ]
  },
  {
   "cell_type": "code",
   "execution_count": 20,
   "metadata": {},
   "outputs": [],
   "source": [
    "documents_comments = data['comment_tokens'].apply(lambda tokens_list:' '.join(tokens_list))\n",
    "documents_parent_comments = data['parent_comment_tokens'].apply(lambda tokens_list:' '.join(tokens_list))"
   ]
  },
  {
   "cell_type": "markdown",
   "metadata": {},
   "source": [
    "Utilizes the CountVectorizer from scikit-learn to transform the tokenized comments and parent comments into a Bag-of-Words (BoW) representation. With the help of the CountVectorizer, we are able to also able to generate bigrams and trigrams, allowing us to better capture the sematics of a sentence."
   ]
  },
  {
   "cell_type": "code",
   "execution_count": 21,
   "metadata": {},
   "outputs": [],
   "source": [
    "# For comments\n",
    "vectorizer_comments = CountVectorizer(min_df=4, ngram_range=(1, 3))\n",
    "bow_matrix_comments = vectorizer_comments.fit_transform(documents_comments)\n",
    "bow_matrix_csr = csr_matrix(bow_matrix_comments)\n",
    "data['comment_bow'] = [row for row in bow_matrix_csr]\n",
    "\n",
    "# For parent comments\n",
    "vectorizer_parent_comments = CountVectorizer(min_df=4, ngram_range=(1, 3))\n",
    "bow_matrix_parent_comments = vectorizer_parent_comments.fit_transform(documents_parent_comments)\n",
    "bow_matrix_csr_parent = csr_matrix(bow_matrix_parent_comments)\n",
    "data['parent_comment_bow'] = [row for row in bow_matrix_csr_parent]\n"
   ]
  },
  {
   "cell_type": "markdown",
   "metadata": {},
   "source": [
    "Defines a function bow_to_words to extract the feature names from a CSR representation. "
   ]
  },
  {
   "cell_type": "code",
   "execution_count": 22,
   "metadata": {},
   "outputs": [],
   "source": [
    "### Function to extract feature names from CSR representation\n",
    "feature_names_bow = vectorizer_comments.get_feature_names_out() # to reverse\n",
    "def bow_to_words(bow_vector, feature_names):\n",
    "    # Convert the sparse matrix row to a dense array\n",
    "    array = bow_vector.toarray().flatten()\n",
    "    # Get the tokens that have a count > 0\n",
    "    tokens = [feature_names[i] for i, count in enumerate(array) if count > 0]\n",
    "    return tokens"
   ]
  },
  {
   "cell_type": "code",
   "execution_count": 23,
   "metadata": {},
   "outputs": [
    {
     "data": {
      "text/plain": [
       "['every', 'every song', 'listened', 'lol', 'obvious', 'song']"
      ]
     },
     "execution_count": 23,
     "metadata": {},
     "output_type": "execute_result"
    }
   ],
   "source": [
    "bow_to_words(data['comment_bow'].iloc[0],feature_names_bow) # we see that the trigrams are not present in this one example- likely due to the trigrams being much more rare."
   ]
  },
  {
   "cell_type": "markdown",
   "metadata": {},
   "source": [
    "### 8. TF-IDF"
   ]
  },
  {
   "cell_type": "markdown",
   "metadata": {},
   "source": [
    "utilizes the TfidfVectorizer from scikit-learn to transform tokenized comments and parent comments into a TF-IDF representation. With the help of the TfidfVectorizer, we are able to also able to generate bigrams and trigrams, allowing us to better capture the sematics of a sentence."
   ]
  },
  {
   "cell_type": "code",
   "execution_count": 24,
   "metadata": {},
   "outputs": [],
   "source": [
    "tdvectorizer_comments = TfidfVectorizer(min_df = 4, ngram_range=(1, 3))\n",
    "tfidf_matrix_comments = tdvectorizer_comments.fit_transform(documents_comments)\n",
    "tfidf_matrix_csr = csr_matrix(tfidf_matrix_comments)\n",
    "data['comment_tfidf'] = [row for row in tfidf_matrix_csr]\n",
    "\n",
    "tdvectorizer_parent_comments = TfidfVectorizer(min_df = 4, ngram_range=(1, 3))\n",
    "tfidf_matrix_parent_comments = tdvectorizer_parent_comments.fit_transform(documents_parent_comments)\n",
    "tfidf_matrix_csr_parent = csr_matrix(tfidf_matrix_parent_comments)\n",
    "data['parent_comment_tfidf'] = [row for row in tfidf_matrix_csr_parent]"
   ]
  },
  {
   "cell_type": "markdown",
   "metadata": {},
   "source": [
    "Defines a function tfidf_to_words to extract the feature names and corresponding TF-IDF values from a TF-IDF representation."
   ]
  },
  {
   "cell_type": "code",
   "execution_count": 25,
   "metadata": {},
   "outputs": [],
   "source": [
    "feature_names_tfidf = tdvectorizer_comments.get_feature_names_out()\n",
    "def tfidf_to_words(tfidf_row, feature_names):\n",
    "    \"\"\"\n",
    "    Convert a TF-IDF row to its word representation.\n",
    "    :param tfidf_row: A single row from a sparse matrix.\n",
    "    :param feature_names: List of feature names from the TF-IDF vectorizer.\n",
    "    :return: List of words from the TF-IDF row.\n",
    "    \"\"\"\n",
    "    dense_tfidf = tfidf_row.toarray().flatten()\n",
    "    words_indices = dense_tfidf.nonzero()[0]\n",
    "    words = [(feature_names[index], dense_tfidf[index]) for index in words_indices]\n",
    "    return words"
   ]
  },
  {
   "cell_type": "markdown",
   "metadata": {},
   "source": [
    "reducing size of tf-idf map for RNN"
   ]
  },
  {
   "cell_type": "markdown",
   "metadata": {},
   "source": [
    "Utilizes the TfidfVectorizer from scikit-learn to transform tokenized comments into a TF-IDF representation with an increased min_df parameter. Retrieves the feature names and checks the number of features in the TF-IDF representation with the increased min_df parameter."
   ]
  },
  {
   "cell_type": "code",
   "execution_count": 26,
   "metadata": {},
   "outputs": [
    {
     "data": {
      "text/plain": [
       "array(['00', '000', '000 000', ..., 'zone', 'zoo', 'zoom'], dtype=object)"
      ]
     },
     "execution_count": 26,
     "metadata": {},
     "output_type": "execute_result"
    }
   ],
   "source": [
    "tdvectorizer_comments_nn = TfidfVectorizer(min_df = 20, ngram_range=(1, 3))\n",
    "tfidf_matrix_comments_nn = tdvectorizer_comments_nn.fit_transform(documents_comments)\n",
    "tfidf_matrix_nn_csr = csr_matrix(tfidf_matrix_comments_nn)\n",
    "data['comment_tfidf_nn'] = [row for row in tfidf_matrix_nn_csr]\n",
    "len(tdvectorizer_comments_nn.get_feature_names_out())# if we increase min_df to 10, number of features reduces to 15799\n",
    "tdvectorizer_comments_nn.get_feature_names_out()"
   ]
  },
  {
   "cell_type": "markdown",
   "metadata": {},
   "source": [
    "Tests the extraction of features from both Bag-of-Words (BoW) and TF-IDF representations for a subset of the data. "
   ]
  },
  {
   "cell_type": "code",
   "execution_count": 27,
   "metadata": {},
   "outputs": [
    {
     "name": "stdout",
     "output_type": "stream",
     "text": [
      "  (0, 1644)\t1\n",
      "['advantage']\n",
      "  (0, 1644)\t1.0\n",
      "[('advantage', 1.0)]\n"
     ]
    }
   ],
   "source": [
    "# Testing out Extraction\n",
    "df = data.head(10)\n",
    "#print(data.columns)\n",
    "df[['comment_bow', 'comment_tfidf']]\n",
    "print(df['comment_bow'].iloc[3])\n",
    "print(bow_to_words(df['comment_bow'].iloc[3], feature_names_bow))\n",
    "print(df['comment_tfidf'].iloc[3])\n",
    "print(tfidf_to_words(df['comment_tfidf'].iloc[3], feature_names_tfidf))"
   ]
  },
  {
   "cell_type": "markdown",
   "metadata": {},
   "source": [
    "Saves the processed data, including the newly generated TF-IDF representation, to a pickle file for future use."
   ]
  },
  {
   "cell_type": "code",
   "execution_count": 28,
   "metadata": {},
   "outputs": [],
   "source": [
    "data.to_pickle(\"data/data_w_feature_eng.pkl\")"
   ]
  },
  {
   "cell_type": "markdown",
   "metadata": {},
   "source": [
    "Saves TF-IDF Vectorizers for feature importance"
   ]
  },
  {
   "cell_type": "code",
   "execution_count": 34,
   "metadata": {},
   "outputs": [
    {
     "data": {
      "text/plain": [
       "['tdvectorizer_nn.pkl']"
      ]
     },
     "execution_count": 34,
     "metadata": {},
     "output_type": "execute_result"
    }
   ],
   "source": [
    "from joblib import dump\n",
    "dump(tdvectorizer_comments, 'tdvectorizer.pkl')\n",
    "dump(tdvectorizer_comments_nn, 'tdvectorizer_nn.pkl')\n"
   ]
  }
 ],
 "metadata": {
  "kernelspec": {
   "display_name": "Python 3",
   "language": "python",
   "name": "python3"
  },
  "language_info": {
   "codemirror_mode": {
    "name": "ipython",
    "version": 3
   },
   "file_extension": ".py",
   "mimetype": "text/x-python",
   "name": "python",
   "nbconvert_exporter": "python",
   "pygments_lexer": "ipython3",
   "version": "3.9.6"
  }
 },
 "nbformat": 4,
 "nbformat_minor": 2
}
