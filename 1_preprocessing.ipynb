{
 "cells": [
  {
   "cell_type": "code",
   "execution_count": 71,
   "metadata": {},
   "outputs": [],
   "source": [
    "import pandas as pd\n",
    "from sklearn.model_selection import train_test_split"
   ]
  },
  {
   "cell_type": "code",
   "execution_count": 72,
   "metadata": {},
   "outputs": [],
   "source": [
    "data = pd.read_csv(\"train-balanced-sarcasm.csv\")"
   ]
  },
  {
   "cell_type": "code",
   "execution_count": 73,
   "metadata": {},
   "outputs": [
    {
     "name": "stdout",
     "output_type": "stream",
     "text": [
      "Number of Entries: 1010826\n"
     ]
    }
   ],
   "source": [
    "#del data['date']\n",
    "#del data['created_utc']\n",
    "print(\"Number of Entries:\",len(data))"
   ]
  },
  {
   "cell_type": "code",
   "execution_count": 74,
   "metadata": {},
   "outputs": [
    {
     "name": "stdout",
     "output_type": "stream",
     "text": [
      "Number of Entries left: 1010773\n"
     ]
    }
   ],
   "source": [
    "#Filtering out comments that are just floats\n",
    "data = data[~data[\"comment\"].apply(lambda x: isinstance(x,float))]\n",
    "data = data[~data[\"parent_comment\"].apply(lambda x: isinstance(x,float))]\n",
    "print(\"Number of Entries left:\", len(data))"
   ]
  },
  {
   "cell_type": "code",
   "execution_count": 75,
   "metadata": {},
   "outputs": [],
   "source": [
    "X = data.drop('label', axis = 1)\n",
    "y = data['label']\n",
    "X_sample, _, y_sample, _ = train_test_split(X, y, test_size = 0.8, stratify = y, random_state = 42)\n",
    "data = pd.concat([X_sample,y_sample], axis = 1)\n",
    "data = data.reset_index()\n",
    "data.drop('index', axis = 1, inplace = True)"
   ]
  },
  {
   "cell_type": "markdown",
   "metadata": {},
   "source": [
    "### Data Cleaning\n",
    "Remove contractions, change to lower case, remove links, usernames and emails"
   ]
  },
  {
   "cell_type": "code",
   "execution_count": 76,
   "metadata": {},
   "outputs": [],
   "source": [
    "#removing contractions\n",
    "import contractions\n",
    "data['comment'] = data['comment'].apply(contractions.fix)\n",
    "data['parent_comment'] = data['parent_comment'].apply(contractions.fix)\n"
   ]
  },
  {
   "cell_type": "code",
   "execution_count": 77,
   "metadata": {},
   "outputs": [],
   "source": [
    "#change to lower case\n",
    "data['comment'] = data[\"comment\"].apply(lambda text:text.lower())\n",
    "data['parent_comment'] = data[\"parent_comment\"].apply(lambda text:text.lower())"
   ]
  },
  {
   "cell_type": "code",
   "execution_count": 78,
   "metadata": {},
   "outputs": [
    {
     "data": {
      "text/html": [
       "<div>\n",
       "<style scoped>\n",
       "    .dataframe tbody tr th:only-of-type {\n",
       "        vertical-align: middle;\n",
       "    }\n",
       "\n",
       "    .dataframe tbody tr th {\n",
       "        vertical-align: top;\n",
       "    }\n",
       "\n",
       "    .dataframe thead th {\n",
       "        text-align: right;\n",
       "    }\n",
       "</style>\n",
       "<table border=\"1\" class=\"dataframe\">\n",
       "  <thead>\n",
       "    <tr style=\"text-align: right;\">\n",
       "      <th></th>\n",
       "      <th>comment</th>\n",
       "      <th>author</th>\n",
       "      <th>subreddit</th>\n",
       "      <th>score</th>\n",
       "      <th>ups</th>\n",
       "      <th>downs</th>\n",
       "      <th>date</th>\n",
       "      <th>created_utc</th>\n",
       "      <th>parent_comment</th>\n",
       "      <th>label</th>\n",
       "    </tr>\n",
       "  </thead>\n",
       "  <tbody>\n",
       "    <tr>\n",
       "      <th>0</th>\n",
       "      <td>yeah, they only have captain america, iron man...</td>\n",
       "      <td>RedBarrel</td>\n",
       "      <td>marvelstudios</td>\n",
       "      <td>1</td>\n",
       "      <td>1</td>\n",
       "      <td>0</td>\n",
       "      <td>2015-11</td>\n",
       "      <td>2015-11-12 19:18:43</td>\n",
       "      <td>kind of defeats the ideas of a shared universe...</td>\n",
       "      <td>1</td>\n",
       "    </tr>\n",
       "    <tr>\n",
       "      <th>1</th>\n",
       "      <td>just pretend there is nothing wrong with this ...</td>\n",
       "      <td>Swopyx</td>\n",
       "      <td>FIFA</td>\n",
       "      <td>7</td>\n",
       "      <td>-1</td>\n",
       "      <td>-1</td>\n",
       "      <td>2016-11</td>\n",
       "      <td>2016-11-19 10:24:32</td>\n",
       "      <td>something sketchy going on in wl? i have playe...</td>\n",
       "      <td>0</td>\n",
       "    </tr>\n",
       "    <tr>\n",
       "      <th>2</th>\n",
       "      <td>i thought i had killed somebody by administeri...</td>\n",
       "      <td>fathompin</td>\n",
       "      <td>exmormon</td>\n",
       "      <td>12</td>\n",
       "      <td>12</td>\n",
       "      <td>0</td>\n",
       "      <td>2016-05</td>\n",
       "      <td>2016-05-10 22:33:28</td>\n",
       "      <td>want to repent to this sub for stupid and misg...</td>\n",
       "      <td>1</td>\n",
       "    </tr>\n",
       "    <tr>\n",
       "      <th>3</th>\n",
       "      <td>it is cool, as long as you keep one tire on yo...</td>\n",
       "      <td>mahacctissoawsum</td>\n",
       "      <td>videos</td>\n",
       "      <td>2</td>\n",
       "      <td>2</td>\n",
       "      <td>0</td>\n",
       "      <td>2012-09</td>\n",
       "      <td>2012-09-20 01:32:52</td>\n",
       "      <td>but there is a double line, he cannot legally ...</td>\n",
       "      <td>1</td>\n",
       "    </tr>\n",
       "    <tr>\n",
       "      <th>4</th>\n",
       "      <td>no, i am pretty sure it is an ar-15.</td>\n",
       "      <td>reg55000</td>\n",
       "      <td>The_Donald</td>\n",
       "      <td>1</td>\n",
       "      <td>1</td>\n",
       "      <td>0</td>\n",
       "      <td>2016-06</td>\n",
       "      <td>2016-06-14 06:41:03</td>\n",
       "      <td>top left is definitely ak-47.</td>\n",
       "      <td>1</td>\n",
       "    </tr>\n",
       "  </tbody>\n",
       "</table>\n",
       "</div>"
      ],
      "text/plain": [
       "                                             comment            author  \\\n",
       "0  yeah, they only have captain america, iron man...         RedBarrel   \n",
       "1  just pretend there is nothing wrong with this ...            Swopyx   \n",
       "2  i thought i had killed somebody by administeri...         fathompin   \n",
       "3  it is cool, as long as you keep one tire on yo...  mahacctissoawsum   \n",
       "4               no, i am pretty sure it is an ar-15.          reg55000   \n",
       "\n",
       "       subreddit  score  ups  downs     date          created_utc  \\\n",
       "0  marvelstudios      1    1      0  2015-11  2015-11-12 19:18:43   \n",
       "1           FIFA      7   -1     -1  2016-11  2016-11-19 10:24:32   \n",
       "2       exmormon     12   12      0  2016-05  2016-05-10 22:33:28   \n",
       "3         videos      2    2      0  2012-09  2012-09-20 01:32:52   \n",
       "4     The_Donald      1    1      0  2016-06  2016-06-14 06:41:03   \n",
       "\n",
       "                                      parent_comment  label  \n",
       "0  kind of defeats the ideas of a shared universe...      1  \n",
       "1  something sketchy going on in wl? i have playe...      0  \n",
       "2  want to repent to this sub for stupid and misg...      1  \n",
       "3  but there is a double line, he cannot legally ...      1  \n",
       "4                      top left is definitely ak-47.      1  "
      ]
     },
     "execution_count": 78,
     "metadata": {},
     "output_type": "execute_result"
    }
   ],
   "source": [
    "data.head()"
   ]
  },
  {
   "cell_type": "code",
   "execution_count": 79,
   "metadata": {},
   "outputs": [],
   "source": [
    "import re\n",
    "\n",
    "#function to remove links from text\n",
    "def remove_links(text):\n",
    "    text_1 = re.sub(r\"[(+*)]\\S*https?:\\S*[(+*)]\", \"\", text)\n",
    "    text_2 = re.sub('http://\\S+|https://\\S+', \" \", text_1)\n",
    "    text_3 = re.sub(r\"[\\(\\[].*?[\\)\\]]\", \" \", text_2)\n",
    "    return text_3\n",
    "\n",
    "#function to remove email addresses\n",
    "def remove_emails(text):\n",
    "    text_1 = re.sub(r'\\S+@\\S+', '', text)\n",
    "    return text_1\n",
    "\n",
    "#function to remove usernames\n",
    "def remove_usernames(text):\n",
    "    text_1 = re.sub(r'@\\w+', '', text)\n",
    "    return text_1\n",
    "\n",
    "def remove_links_emails_usernames(text):\n",
    "    text_1 = remove_links(text)\n",
    "    text_2 = remove_emails(text_1)\n",
    "    text_3 = remove_usernames(text_2)\n",
    "    return text_3\n",
    "\n",
    "data['comment'] = data['comment'].apply(remove_links_emails_usernames)\n",
    "data['parent_comment'] = data['parent_comment'].apply(remove_links_emails_usernames)"
   ]
  },
  {
   "cell_type": "code",
   "execution_count": 80,
   "metadata": {},
   "outputs": [
    {
     "data": {
      "text/html": [
       "<div>\n",
       "<style scoped>\n",
       "    .dataframe tbody tr th:only-of-type {\n",
       "        vertical-align: middle;\n",
       "    }\n",
       "\n",
       "    .dataframe tbody tr th {\n",
       "        vertical-align: top;\n",
       "    }\n",
       "\n",
       "    .dataframe thead th {\n",
       "        text-align: right;\n",
       "    }\n",
       "</style>\n",
       "<table border=\"1\" class=\"dataframe\">\n",
       "  <thead>\n",
       "    <tr style=\"text-align: right;\">\n",
       "      <th></th>\n",
       "      <th>comment</th>\n",
       "      <th>author</th>\n",
       "      <th>subreddit</th>\n",
       "      <th>score</th>\n",
       "      <th>ups</th>\n",
       "      <th>downs</th>\n",
       "      <th>date</th>\n",
       "      <th>created_utc</th>\n",
       "      <th>parent_comment</th>\n",
       "      <th>label</th>\n",
       "    </tr>\n",
       "  </thead>\n",
       "  <tbody>\n",
       "    <tr>\n",
       "      <th>0</th>\n",
       "      <td>yeah, they only have captain america, iron man...</td>\n",
       "      <td>RedBarrel</td>\n",
       "      <td>marvelstudios</td>\n",
       "      <td>1</td>\n",
       "      <td>1</td>\n",
       "      <td>0</td>\n",
       "      <td>2015-11</td>\n",
       "      <td>2015-11-12 19:18:43</td>\n",
       "      <td>kind of defeats the ideas of a shared universe...</td>\n",
       "      <td>1</td>\n",
       "    </tr>\n",
       "    <tr>\n",
       "      <th>1</th>\n",
       "      <td>just pretend there is nothing wrong with this ...</td>\n",
       "      <td>Swopyx</td>\n",
       "      <td>FIFA</td>\n",
       "      <td>7</td>\n",
       "      <td>-1</td>\n",
       "      <td>-1</td>\n",
       "      <td>2016-11</td>\n",
       "      <td>2016-11-19 10:24:32</td>\n",
       "      <td>something sketchy going on in wl? i have playe...</td>\n",
       "      <td>0</td>\n",
       "    </tr>\n",
       "    <tr>\n",
       "      <th>2</th>\n",
       "      <td>i thought i had killed somebody by administeri...</td>\n",
       "      <td>fathompin</td>\n",
       "      <td>exmormon</td>\n",
       "      <td>12</td>\n",
       "      <td>12</td>\n",
       "      <td>0</td>\n",
       "      <td>2016-05</td>\n",
       "      <td>2016-05-10 22:33:28</td>\n",
       "      <td>want to repent to this sub for stupid and misg...</td>\n",
       "      <td>1</td>\n",
       "    </tr>\n",
       "    <tr>\n",
       "      <th>3</th>\n",
       "      <td>it is cool, as long as you keep one tire on yo...</td>\n",
       "      <td>mahacctissoawsum</td>\n",
       "      <td>videos</td>\n",
       "      <td>2</td>\n",
       "      <td>2</td>\n",
       "      <td>0</td>\n",
       "      <td>2012-09</td>\n",
       "      <td>2012-09-20 01:32:52</td>\n",
       "      <td>but there is a double line, he cannot legally ...</td>\n",
       "      <td>1</td>\n",
       "    </tr>\n",
       "    <tr>\n",
       "      <th>4</th>\n",
       "      <td>no, i am pretty sure it is an ar-15.</td>\n",
       "      <td>reg55000</td>\n",
       "      <td>The_Donald</td>\n",
       "      <td>1</td>\n",
       "      <td>1</td>\n",
       "      <td>0</td>\n",
       "      <td>2016-06</td>\n",
       "      <td>2016-06-14 06:41:03</td>\n",
       "      <td>top left is definitely ak-47.</td>\n",
       "      <td>1</td>\n",
       "    </tr>\n",
       "  </tbody>\n",
       "</table>\n",
       "</div>"
      ],
      "text/plain": [
       "                                             comment            author  \\\n",
       "0  yeah, they only have captain america, iron man...         RedBarrel   \n",
       "1  just pretend there is nothing wrong with this ...            Swopyx   \n",
       "2  i thought i had killed somebody by administeri...         fathompin   \n",
       "3  it is cool, as long as you keep one tire on yo...  mahacctissoawsum   \n",
       "4               no, i am pretty sure it is an ar-15.          reg55000   \n",
       "\n",
       "       subreddit  score  ups  downs     date          created_utc  \\\n",
       "0  marvelstudios      1    1      0  2015-11  2015-11-12 19:18:43   \n",
       "1           FIFA      7   -1     -1  2016-11  2016-11-19 10:24:32   \n",
       "2       exmormon     12   12      0  2016-05  2016-05-10 22:33:28   \n",
       "3         videos      2    2      0  2012-09  2012-09-20 01:32:52   \n",
       "4     The_Donald      1    1      0  2016-06  2016-06-14 06:41:03   \n",
       "\n",
       "                                      parent_comment  label  \n",
       "0  kind of defeats the ideas of a shared universe...      1  \n",
       "1  something sketchy going on in wl? i have playe...      0  \n",
       "2  want to repent to this sub for stupid and misg...      1  \n",
       "3  but there is a double line, he cannot legally ...      1  \n",
       "4                      top left is definitely ak-47.      1  "
      ]
     },
     "execution_count": 80,
     "metadata": {},
     "output_type": "execute_result"
    }
   ],
   "source": [
    "data.head()"
   ]
  },
  {
   "cell_type": "markdown",
   "metadata": {},
   "source": [
    "### Data Pre-Processing\n",
    "https://www.analyticsvidhya.com/blog/2021/06/text-preprocessing-in-nlp-with-python-codes/   \n",
    "https://exchange.scale.com/public/blogs/preprocessing-techniques-in-nlp-a-guide  \n",
    "Tokenize text, remove stopwords, lemmatize tokens"
   ]
  },
  {
   "cell_type": "code",
   "execution_count": 81,
   "metadata": {},
   "outputs": [],
   "source": [
    "#Sentence Tokenizer\n",
    "import nltk\n",
    "#nltk.download('punkt')\n",
    "\n",
    "def tokenize_text(text):\n",
    "    tokens = nltk.word_tokenize(text)\n",
    "    return tokens\n",
    "\n",
    "data[\"comment_tokens\"] = data[\"comment\"].apply(tokenize_text)\n",
    "data[\"parent_comment_tokens\"] = data[\"parent_comment\"].apply(tokenize_text)"
   ]
  },
  {
   "cell_type": "code",
   "execution_count": 82,
   "metadata": {},
   "outputs": [
    {
     "data": {
      "text/plain": [
       "\"\\n#spellchecking\\n#%pip install pyspellchecker\\nfrom spellchecker import SpellChecker\\nspell = SpellChecker()\\ndata['comment_tokens'] = data['comment_tokens'].apply(lambda tokens: [spell.correction(token) for token in tokens])\\ndata['parent_comment_tokens'] = data['parent_comment_tokens'].apply(lambda tokens: [spell.correction(token) for token in tokens])\\n\""
      ]
     },
     "execution_count": 82,
     "metadata": {},
     "output_type": "execute_result"
    }
   ],
   "source": [
    "\"\"\"\n",
    "#spellchecking\n",
    "#%pip install pyspellchecker\n",
    "from spellchecker import SpellChecker\n",
    "spell = SpellChecker()\n",
    "data['comment_tokens'] = data['comment_tokens'].apply(lambda tokens: [spell.correction(token) for token in tokens])\n",
    "data['parent_comment_tokens'] = data['parent_comment_tokens'].apply(lambda tokens: [spell.correction(token) for token in tokens])\n",
    "\"\"\""
   ]
  },
  {
   "cell_type": "code",
   "execution_count": 83,
   "metadata": {},
   "outputs": [
    {
     "name": "stderr",
     "output_type": "stream",
     "text": [
      "[nltk_data] Downloading package stopwords to\n",
      "[nltk_data]     C:\\Users\\dxcas\\AppData\\Roaming\\nltk_data...\n",
      "[nltk_data]   Package stopwords is already up-to-date!\n"
     ]
    }
   ],
   "source": [
    "#remove stop words\n",
    "nltk.download('stopwords')\n",
    "from nltk.corpus import stopwords\n",
    "\n",
    "stop_words = set(stopwords.words('english'))\n",
    "\n",
    "#remove possible words from stop_words that can change meaning of text\n",
    "to_remove = [\"no\",\"not\"]\n",
    "for word in to_remove:\n",
    "    stop_words.remove(word)\n",
    "\n",
    "data[\"comment_tokens\"] = data[\"comment_tokens\"].apply(lambda tokens: [token for token in tokens if token not in stop_words])\n",
    "data[\"parent_comment_tokens\"] = data[\"parent_comment_tokens\"].apply(lambda tokens: [token for token in tokens if token not in stop_words])\n"
   ]
  },
  {
   "cell_type": "code",
   "execution_count": 84,
   "metadata": {},
   "outputs": [
    {
     "name": "stderr",
     "output_type": "stream",
     "text": [
      "[nltk_data] Downloading package wordnet to\n",
      "[nltk_data]     C:\\Users\\dxcas\\AppData\\Roaming\\nltk_data...\n",
      "[nltk_data]   Package wordnet is already up-to-date!\n"
     ]
    }
   ],
   "source": [
    "#Lemmatization\n",
    "nltk.download('wordnet')\n",
    "from nltk.stem import WordNetLemmatizer\n",
    "\n",
    "lemmatizer = WordNetLemmatizer()\n",
    "data[\"comment_tokens\"] = data[\"comment_tokens\"].apply(lambda tokens:[lemmatizer.lemmatize(token) for token in tokens])\n",
    "data[\"parent_comment_tokens\"] = data[\"parent_comment_tokens\"].apply(lambda tokens:[lemmatizer.lemmatize(token) for token in tokens])"
   ]
  },
  {
   "cell_type": "code",
   "execution_count": 85,
   "metadata": {},
   "outputs": [
    {
     "data": {
      "text/html": [
       "<div>\n",
       "<style scoped>\n",
       "    .dataframe tbody tr th:only-of-type {\n",
       "        vertical-align: middle;\n",
       "    }\n",
       "\n",
       "    .dataframe tbody tr th {\n",
       "        vertical-align: top;\n",
       "    }\n",
       "\n",
       "    .dataframe thead th {\n",
       "        text-align: right;\n",
       "    }\n",
       "</style>\n",
       "<table border=\"1\" class=\"dataframe\">\n",
       "  <thead>\n",
       "    <tr style=\"text-align: right;\">\n",
       "      <th></th>\n",
       "      <th>comment</th>\n",
       "      <th>author</th>\n",
       "      <th>subreddit</th>\n",
       "      <th>score</th>\n",
       "      <th>ups</th>\n",
       "      <th>downs</th>\n",
       "      <th>date</th>\n",
       "      <th>created_utc</th>\n",
       "      <th>parent_comment</th>\n",
       "      <th>label</th>\n",
       "      <th>comment_tokens</th>\n",
       "      <th>parent_comment_tokens</th>\n",
       "    </tr>\n",
       "  </thead>\n",
       "  <tbody>\n",
       "    <tr>\n",
       "      <th>0</th>\n",
       "      <td>yeah, they only have captain america, iron man...</td>\n",
       "      <td>RedBarrel</td>\n",
       "      <td>marvelstudios</td>\n",
       "      <td>1</td>\n",
       "      <td>1</td>\n",
       "      <td>0</td>\n",
       "      <td>2015-11</td>\n",
       "      <td>2015-11-12 19:18:43</td>\n",
       "      <td>kind of defeats the ideas of a shared universe...</td>\n",
       "      <td>1</td>\n",
       "      <td>[yeah, ,, captain, america, ,, iron, man, ,, s...</td>\n",
       "      <td>[kind, defeat, idea, shared, universe, differe...</td>\n",
       "    </tr>\n",
       "    <tr>\n",
       "      <th>1</th>\n",
       "      <td>just pretend there is nothing wrong with this ...</td>\n",
       "      <td>Swopyx</td>\n",
       "      <td>FIFA</td>\n",
       "      <td>7</td>\n",
       "      <td>-1</td>\n",
       "      <td>-1</td>\n",
       "      <td>2016-11</td>\n",
       "      <td>2016-11-19 10:24:32</td>\n",
       "      <td>something sketchy going on in wl? i have playe...</td>\n",
       "      <td>0</td>\n",
       "      <td>[pretend, nothing, wrong, game, like, 95, %, s...</td>\n",
       "      <td>[something, sketchy, going, wl, ?, played, eve...</td>\n",
       "    </tr>\n",
       "    <tr>\n",
       "      <th>2</th>\n",
       "      <td>i thought i had killed somebody by administeri...</td>\n",
       "      <td>fathompin</td>\n",
       "      <td>exmormon</td>\n",
       "      <td>12</td>\n",
       "      <td>12</td>\n",
       "      <td>0</td>\n",
       "      <td>2016-05</td>\n",
       "      <td>2016-05-10 22:33:28</td>\n",
       "      <td>want to repent to this sub for stupid and misg...</td>\n",
       "      <td>1</td>\n",
       "      <td>[thought, killed, somebody, administering, pro...</td>\n",
       "      <td>[want, repent, sub, stupid, misguided, thing, ...</td>\n",
       "    </tr>\n",
       "    <tr>\n",
       "      <th>3</th>\n",
       "      <td>it is cool, as long as you keep one tire on yo...</td>\n",
       "      <td>mahacctissoawsum</td>\n",
       "      <td>videos</td>\n",
       "      <td>2</td>\n",
       "      <td>2</td>\n",
       "      <td>0</td>\n",
       "      <td>2012-09</td>\n",
       "      <td>2012-09-20 01:32:52</td>\n",
       "      <td>but there is a double line, he cannot legally ...</td>\n",
       "      <td>1</td>\n",
       "      <td>[cool, ,, long, keep, one, tire, side, .]</td>\n",
       "      <td>[double, line, ,, not, legally, pas, !]</td>\n",
       "    </tr>\n",
       "    <tr>\n",
       "      <th>4</th>\n",
       "      <td>no, i am pretty sure it is an ar-15.</td>\n",
       "      <td>reg55000</td>\n",
       "      <td>The_Donald</td>\n",
       "      <td>1</td>\n",
       "      <td>1</td>\n",
       "      <td>0</td>\n",
       "      <td>2016-06</td>\n",
       "      <td>2016-06-14 06:41:03</td>\n",
       "      <td>top left is definitely ak-47.</td>\n",
       "      <td>1</td>\n",
       "      <td>[no, ,, pretty, sure, ar-15, .]</td>\n",
       "      <td>[top, left, definitely, ak-47, .]</td>\n",
       "    </tr>\n",
       "  </tbody>\n",
       "</table>\n",
       "</div>"
      ],
      "text/plain": [
       "                                             comment            author  \\\n",
       "0  yeah, they only have captain america, iron man...         RedBarrel   \n",
       "1  just pretend there is nothing wrong with this ...            Swopyx   \n",
       "2  i thought i had killed somebody by administeri...         fathompin   \n",
       "3  it is cool, as long as you keep one tire on yo...  mahacctissoawsum   \n",
       "4               no, i am pretty sure it is an ar-15.          reg55000   \n",
       "\n",
       "       subreddit  score  ups  downs     date          created_utc  \\\n",
       "0  marvelstudios      1    1      0  2015-11  2015-11-12 19:18:43   \n",
       "1           FIFA      7   -1     -1  2016-11  2016-11-19 10:24:32   \n",
       "2       exmormon     12   12      0  2016-05  2016-05-10 22:33:28   \n",
       "3         videos      2    2      0  2012-09  2012-09-20 01:32:52   \n",
       "4     The_Donald      1    1      0  2016-06  2016-06-14 06:41:03   \n",
       "\n",
       "                                      parent_comment  label  \\\n",
       "0  kind of defeats the ideas of a shared universe...      1   \n",
       "1  something sketchy going on in wl? i have playe...      0   \n",
       "2  want to repent to this sub for stupid and misg...      1   \n",
       "3  but there is a double line, he cannot legally ...      1   \n",
       "4                      top left is definitely ak-47.      1   \n",
       "\n",
       "                                      comment_tokens  \\\n",
       "0  [yeah, ,, captain, america, ,, iron, man, ,, s...   \n",
       "1  [pretend, nothing, wrong, game, like, 95, %, s...   \n",
       "2  [thought, killed, somebody, administering, pro...   \n",
       "3          [cool, ,, long, keep, one, tire, side, .]   \n",
       "4                    [no, ,, pretty, sure, ar-15, .]   \n",
       "\n",
       "                               parent_comment_tokens  \n",
       "0  [kind, defeat, idea, shared, universe, differe...  \n",
       "1  [something, sketchy, going, wl, ?, played, eve...  \n",
       "2  [want, repent, sub, stupid, misguided, thing, ...  \n",
       "3            [double, line, ,, not, legally, pas, !]  \n",
       "4                  [top, left, definitely, ak-47, .]  "
      ]
     },
     "execution_count": 85,
     "metadata": {},
     "output_type": "execute_result"
    }
   ],
   "source": [
    "data.head()"
   ]
  },
  {
   "cell_type": "code",
   "execution_count": 86,
   "metadata": {},
   "outputs": [],
   "source": [
    "data.to_pickle('processed_train.pkl')"
   ]
  }
 ],
 "metadata": {
  "kernelspec": {
   "display_name": "Python 3",
   "language": "python",
   "name": "python3"
  },
  "language_info": {
   "codemirror_mode": {
    "name": "ipython",
    "version": 3
   },
   "file_extension": ".py",
   "mimetype": "text/x-python",
   "name": "python",
   "nbconvert_exporter": "python",
   "pygments_lexer": "ipython3",
   "version": "3.11.4"
  },
  "orig_nbformat": 4
 },
 "nbformat": 4,
 "nbformat_minor": 2
}
