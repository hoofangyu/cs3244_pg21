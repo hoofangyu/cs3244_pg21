{
 "cells": [
  {
   "cell_type": "code",
   "execution_count": 27,
   "metadata": {},
   "outputs": [],
   "source": [
    "import pandas as pd\n",
    "import seaborn as sns\n",
    "from nltk.sentiment.vader import SentimentIntensityAnalyzer\n",
    "import matplotlib.pyplot as plt\n",
    "import numpy as np\n",
    "import string\n",
    "import nltk\n",
    "from nltk.corpus import stopwords\n",
    "from gensim.models import Word2Vec #install gensim # had to use this: pip install --upgrade gensim smart_open protobuf==3.20.0\n",
    "from sklearn.feature_extraction.text import CountVectorizer\n",
    "from scipy.sparse import csr_matrix\n",
    "from sklearn.feature_extraction.text import TfidfVectorizer\n",
    "from nltk.stem import WordNetLemmatizer\n",
    "from scipy.stats import chi2_contingency\n"
   ]
  },
  {
   "cell_type": "code",
   "execution_count": 16,
   "metadata": {},
   "outputs": [
    {
     "name": "stderr",
     "output_type": "stream",
     "text": [
      "[nltk_data] Downloading package stopwords to\n",
      "[nltk_data]     C:\\Users\\dxcas\\AppData\\Roaming\\nltk_data...\n",
      "[nltk_data]   Package stopwords is already up-to-date!\n",
      "[nltk_data] Downloading package averaged_perceptron_tagger to\n",
      "[nltk_data]     C:\\Users\\dxcas\\AppData\\Roaming\\nltk_data...\n",
      "[nltk_data]   Package averaged_perceptron_tagger is already up-to-\n",
      "[nltk_data]       date!\n",
      "[nltk_data] Downloading package punkt to\n",
      "[nltk_data]     C:\\Users\\dxcas\\AppData\\Roaming\\nltk_data...\n",
      "[nltk_data]   Package punkt is already up-to-date!\n",
      "[nltk_data] Downloading package maxent_ne_chunker to\n",
      "[nltk_data]     C:\\Users\\dxcas\\AppData\\Roaming\\nltk_data...\n",
      "[nltk_data]   Package maxent_ne_chunker is already up-to-date!\n",
      "[nltk_data] Downloading package words to\n",
      "[nltk_data]     C:\\Users\\dxcas\\AppData\\Roaming\\nltk_data...\n",
      "[nltk_data]   Package words is already up-to-date!\n",
      "[nltk_data] Downloading package wordnet to\n",
      "[nltk_data]     C:\\Users\\dxcas\\AppData\\Roaming\\nltk_data...\n",
      "[nltk_data]   Package wordnet is already up-to-date!\n"
     ]
    },
    {
     "data": {
      "text/plain": [
       "True"
      ]
     },
     "execution_count": 16,
     "metadata": {},
     "output_type": "execute_result"
    }
   ],
   "source": [
    "nltk.download('stopwords')\n",
    "nltk.download('averaged_perceptron_tagger')\n",
    "nltk.download('punkt')\n",
    "nltk.download('maxent_ne_chunker')\n",
    "nltk.download('words')\n",
    "nltk.download('wordnet')"
   ]
  },
  {
   "cell_type": "code",
   "execution_count": 9,
   "metadata": {},
   "outputs": [],
   "source": [
    "data = pd.read_pickle('data/data_cleaned.pkl')"
   ]
  },
  {
   "cell_type": "code",
   "execution_count": 10,
   "metadata": {},
   "outputs": [
    {
     "data": {
      "text/html": [
       "<div>\n",
       "<style scoped>\n",
       "    .dataframe tbody tr th:only-of-type {\n",
       "        vertical-align: middle;\n",
       "    }\n",
       "\n",
       "    .dataframe tbody tr th {\n",
       "        vertical-align: top;\n",
       "    }\n",
       "\n",
       "    .dataframe thead th {\n",
       "        text-align: right;\n",
       "    }\n",
       "</style>\n",
       "<table border=\"1\" class=\"dataframe\">\n",
       "  <thead>\n",
       "    <tr style=\"text-align: right;\">\n",
       "      <th></th>\n",
       "      <th>comment</th>\n",
       "      <th>parent_comment</th>\n",
       "      <th>label</th>\n",
       "    </tr>\n",
       "  </thead>\n",
       "  <tbody>\n",
       "    <tr>\n",
       "      <th>0</th>\n",
       "      <td>i just want his mutator for that!</td>\n",
       "      <td>at 0:06, if you look closely you can see that ...</td>\n",
       "      <td>1</td>\n",
       "    </tr>\n",
       "    <tr>\n",
       "      <th>1</th>\n",
       "      <td>i am the adultierest.</td>\n",
       "      <td>an adultier adult.</td>\n",
       "      <td>0</td>\n",
       "    </tr>\n",
       "    <tr>\n",
       "      <th>2</th>\n",
       "      <td>take a cold shower, it will help tremendously.</td>\n",
       "      <td>day 7 my balls hurt, i feel dizzy, losing conf...</td>\n",
       "      <td>0</td>\n",
       "    </tr>\n",
       "    <tr>\n",
       "      <th>3</th>\n",
       "      <td>14 hours later, and she has not responded yet.</td>\n",
       "      <td>hard to keep a straight face knowing that the ...</td>\n",
       "      <td>0</td>\n",
       "    </tr>\n",
       "    <tr>\n",
       "      <th>4</th>\n",
       "      <td>\"but i am such a nice guy!\"</td>\n",
       "      <td>why pandas are not mating</td>\n",
       "      <td>0</td>\n",
       "    </tr>\n",
       "  </tbody>\n",
       "</table>\n",
       "</div>"
      ],
      "text/plain": [
       "                                          comment  \\\n",
       "0               i just want his mutator for that!   \n",
       "1                           i am the adultierest.   \n",
       "2  take a cold shower, it will help tremendously.   \n",
       "3  14 hours later, and she has not responded yet.   \n",
       "4                     \"but i am such a nice guy!\"   \n",
       "\n",
       "                                      parent_comment  label  \n",
       "0  at 0:06, if you look closely you can see that ...      1  \n",
       "1                                 an adultier adult.      0  \n",
       "2  day 7 my balls hurt, i feel dizzy, losing conf...      0  \n",
       "3  hard to keep a straight face knowing that the ...      0  \n",
       "4                          why pandas are not mating      0  "
      ]
     },
     "execution_count": 10,
     "metadata": {},
     "output_type": "execute_result"
    }
   ],
   "source": [
    "data.head()"
   ]
  },
  {
   "cell_type": "markdown",
   "metadata": {},
   "source": [
    "### Tokenizing  \n",
    "Do N-grams at this step"
   ]
  },
  {
   "cell_type": "code",
   "execution_count": 11,
   "metadata": {},
   "outputs": [],
   "source": [
    "#Unigram Tokenizing\n",
    "def tokenize_text(text):\n",
    "    tokens = nltk.word_tokenize(text)\n",
    "    return tokens\n",
    "\n",
    "data[\"comment_tokens\"] = data[\"comment\"].apply(tokenize_text)\n",
    "data[\"parent_comment_tokens\"] = data[\"parent_comment\"].apply(tokenize_text)"
   ]
  },
  {
   "cell_type": "code",
   "execution_count": null,
   "metadata": {},
   "outputs": [],
   "source": [
    "\"\"\"\n",
    "#spellchecking\n",
    "#%pip install pyspellchecker\n",
    "from spellchecker import SpellChecker\n",
    "spell = SpellChecker()\n",
    "data['comment_tokens'] = data['comment_tokens'].apply(lambda tokens: [spell.correction(token) for token in tokens])\n",
    "data['parent_comment_tokens'] = data['parent_comment_tokens'].apply(lambda tokens: [spell.correction(token) for token in tokens])\n",
    "\"\"\""
   ]
  },
  {
   "cell_type": "markdown",
   "metadata": {},
   "source": [
    "### Removing Stop Words"
   ]
  },
  {
   "cell_type": "code",
   "execution_count": 14,
   "metadata": {},
   "outputs": [],
   "source": [
    "#remove possible words from stop_words that can change meaning of text\n",
    "stop_words = set(stopwords.words('english'))\n",
    "\n",
    "to_remove = [\"no\",\"not\"]\n",
    "for word in to_remove:\n",
    "    stop_words.remove(word)\n",
    "\n",
    "data[\"comment_tokens\"] = data[\"comment_tokens\"].apply(lambda tokens: [token for token in tokens if token not in stop_words])\n",
    "data[\"parent_comment_tokens\"] = data[\"parent_comment_tokens\"].apply(lambda tokens: [token for token in tokens if token not in stop_words])"
   ]
  },
  {
   "cell_type": "markdown",
   "metadata": {},
   "source": [
    "### Lemmatization"
   ]
  },
  {
   "cell_type": "code",
   "execution_count": 17,
   "metadata": {},
   "outputs": [],
   "source": [
    "lemmatizer = WordNetLemmatizer()\n",
    "data[\"comment_tokens\"] = data[\"comment_tokens\"].apply(lambda tokens:[lemmatizer.lemmatize(token) for token in tokens])\n",
    "data[\"parent_comment_tokens\"] = data[\"parent_comment_tokens\"].apply(lambda tokens:[lemmatizer.lemmatize(token) for token in tokens])"
   ]
  },
  {
   "cell_type": "markdown",
   "metadata": {},
   "source": [
    "### Sentiment Analysis"
   ]
  },
  {
   "cell_type": "code",
   "execution_count": 19,
   "metadata": {},
   "outputs": [],
   "source": [
    "sia = SentimentIntensityAnalyzer()\n",
    "data['comment_score'] = data['comment'].apply(lambda x: sia.polarity_scores(x)['compound'])\n",
    "data['parent_comment_score'] = data['parent_comment'].apply(lambda x: sia.polarity_scores(x)['compound'])"
   ]
  },
  {
   "cell_type": "code",
   "execution_count": 21,
   "metadata": {},
   "outputs": [
    {
     "data": {
      "image/png": "[encoded data removed]",
      "text/plain": [
       "<Figure size 640x480 with 1 Axes>"
      ]
     },
     "metadata": {},
     "output_type": "display_data"
    }
   ],
   "source": [
    "sns.boxplot(data['comment_score'])\n",
    "plt.title('Box Plot of Comment Sentiment Scores')\n",
    "plt.show()"
   ]
  },
  {
   "cell_type": "code",
   "execution_count": 22,
   "metadata": {},
   "outputs": [
    {
     "data": {
      "image/png": "[encoded data removed]",
      "text/plain": [
       "<Figure size 640x480 with 1 Axes>"
      ]
     },
     "metadata": {},
     "output_type": "display_data"
    }
   ],
   "source": [
    "sns.boxplot(data['parent_comment_score'])\n",
    "plt.title('Box Plot of Parent Sentiment Scores')\n",
    "plt.show()"
   ]
  },
  {
   "cell_type": "code",
   "execution_count": 23,
   "metadata": {},
   "outputs": [
    {
     "name": "stderr",
     "output_type": "stream",
     "text": [
      "C:\\Users\\dxcas\\AppData\\Local\\Temp\\ipykernel_21012\\2726375268.py:1: FutureWarning: \n",
      "\n",
      "`shade` is now deprecated in favor of `fill`; setting `fill=True`.\n",
      "This will become an error in seaborn v0.14.0; please update your code.\n",
      "\n",
      "  sns.kdeplot(data['comment_score'], shade=True, color = 'blue')\n",
      "C:\\Users\\dxcas\\AppData\\Local\\Temp\\ipykernel_21012\\2726375268.py:2: FutureWarning: \n",
      "\n",
      "`shade` is now deprecated in favor of `fill`; setting `fill=True`.\n",
      "This will become an error in seaborn v0.14.0; please update your code.\n",
      "\n",
      "  sns.kdeplot(data['parent_comment_score'], shade = True, color='red')\n"
     ]
    },
    {
     "data": {
      "image/png": "[encoded data removed]",
      "text/plain": [
       "<Figure size 640x480 with 1 Axes>"
      ]
     },
     "metadata": {},
     "output_type": "display_data"
    }
   ],
   "source": [
    "sns.kdeplot(data['comment_score'], shade=True, color = 'blue')\n",
    "sns.kdeplot(data['parent_comment_score'], shade = True, color='red')\n",
    "plt.title('Kernel Density Plot of Sentiment Scores')\n",
    "plt.xlabel('Sentiment Score')\n",
    "plt.ylabel('Density')\n",
    "plt.show()"
   ]
  },
  {
   "cell_type": "code",
   "execution_count": 24,
   "metadata": {},
   "outputs": [
    {
     "data": {
      "text/html": [
       "<div>\n",
       "<style scoped>\n",
       "    .dataframe tbody tr th:only-of-type {\n",
       "        vertical-align: middle;\n",
       "    }\n",
       "\n",
       "    .dataframe tbody tr th {\n",
       "        vertical-align: top;\n",
       "    }\n",
       "\n",
       "    .dataframe thead th {\n",
       "        text-align: right;\n",
       "    }\n",
       "</style>\n",
       "<table border=\"1\" class=\"dataframe\">\n",
       "  <thead>\n",
       "    <tr style=\"text-align: right;\">\n",
       "      <th></th>\n",
       "      <th>comment</th>\n",
       "      <th>parent_comment</th>\n",
       "      <th>label</th>\n",
       "      <th>comment_tokens</th>\n",
       "      <th>parent_comment_tokens</th>\n",
       "      <th>comment_score</th>\n",
       "      <th>parent_comment_score</th>\n",
       "      <th>weighted_comment_sentiment_score</th>\n",
       "      <th>weighted_parent_sentiment_score</th>\n",
       "    </tr>\n",
       "  </thead>\n",
       "  <tbody>\n",
       "    <tr>\n",
       "      <th>0</th>\n",
       "      <td>i just want his mutator for that!</td>\n",
       "      <td>at 0:06, if you look closely you can see that ...</td>\n",
       "      <td>1</td>\n",
       "      <td>[want, mutator, !]</td>\n",
       "      <td>[0:06, ,, look, closely, see, fake, two, ball,...</td>\n",
       "      <td>0.1511</td>\n",
       "      <td>-0.4767</td>\n",
       "      <td>neutral</td>\n",
       "      <td>negative</td>\n",
       "    </tr>\n",
       "    <tr>\n",
       "      <th>1</th>\n",
       "      <td>i am the adultierest.</td>\n",
       "      <td>an adultier adult.</td>\n",
       "      <td>0</td>\n",
       "      <td>[adultierest, .]</td>\n",
       "      <td>[adultier, adult, .]</td>\n",
       "      <td>0.0000</td>\n",
       "      <td>0.0000</td>\n",
       "      <td>neutral</td>\n",
       "      <td>neutral</td>\n",
       "    </tr>\n",
       "    <tr>\n",
       "      <th>2</th>\n",
       "      <td>take a cold shower, it will help tremendously.</td>\n",
       "      <td>day 7 my balls hurt, i feel dizzy, losing conf...</td>\n",
       "      <td>0</td>\n",
       "      <td>[take, cold, shower, ,, help, tremendously, .]</td>\n",
       "      <td>[day, 7, ball, hurt, ,, feel, dizzy, ,, losing...</td>\n",
       "      <td>0.4019</td>\n",
       "      <td>0.3178</td>\n",
       "      <td>positive</td>\n",
       "      <td>positive</td>\n",
       "    </tr>\n",
       "    <tr>\n",
       "      <th>3</th>\n",
       "      <td>14 hours later, and she has not responded yet.</td>\n",
       "      <td>hard to keep a straight face knowing that the ...</td>\n",
       "      <td>0</td>\n",
       "      <td>[14, hour, later, ,, not, responded, yet, .]</td>\n",
       "      <td>[hard, keep, straight, face, knowing, pillar, ...</td>\n",
       "      <td>0.0000</td>\n",
       "      <td>-0.7876</td>\n",
       "      <td>neutral</td>\n",
       "      <td>negative</td>\n",
       "    </tr>\n",
       "    <tr>\n",
       "      <th>4</th>\n",
       "      <td>\"but i am such a nice guy!\"</td>\n",
       "      <td>why pandas are not mating</td>\n",
       "      <td>0</td>\n",
       "      <td>[``, nice, guy, !, '']</td>\n",
       "      <td>[panda, not, mating]</td>\n",
       "      <td>0.6114</td>\n",
       "      <td>0.0000</td>\n",
       "      <td>positive</td>\n",
       "      <td>neutral</td>\n",
       "    </tr>\n",
       "  </tbody>\n",
       "</table>\n",
       "</div>"
      ],
      "text/plain": [
       "                                          comment  \\\n",
       "0               i just want his mutator for that!   \n",
       "1                           i am the adultierest.   \n",
       "2  take a cold shower, it will help tremendously.   \n",
       "3  14 hours later, and she has not responded yet.   \n",
       "4                     \"but i am such a nice guy!\"   \n",
       "\n",
       "                                      parent_comment  label  \\\n",
       "0  at 0:06, if you look closely you can see that ...      1   \n",
       "1                                 an adultier adult.      0   \n",
       "2  day 7 my balls hurt, i feel dizzy, losing conf...      0   \n",
       "3  hard to keep a straight face knowing that the ...      0   \n",
       "4                          why pandas are not mating      0   \n",
       "\n",
       "                                   comment_tokens  \\\n",
       "0                              [want, mutator, !]   \n",
       "1                                [adultierest, .]   \n",
       "2  [take, cold, shower, ,, help, tremendously, .]   \n",
       "3    [14, hour, later, ,, not, responded, yet, .]   \n",
       "4                          [``, nice, guy, !, '']   \n",
       "\n",
       "                               parent_comment_tokens  comment_score  \\\n",
       "0  [0:06, ,, look, closely, see, fake, two, ball,...         0.1511   \n",
       "1                               [adultier, adult, .]         0.0000   \n",
       "2  [day, 7, ball, hurt, ,, feel, dizzy, ,, losing...         0.4019   \n",
       "3  [hard, keep, straight, face, knowing, pillar, ...         0.0000   \n",
       "4                               [panda, not, mating]         0.6114   \n",
       "\n",
       "   parent_comment_score weighted_comment_sentiment_score  \\\n",
       "0               -0.4767                          neutral   \n",
       "1                0.0000                          neutral   \n",
       "2                0.3178                         positive   \n",
       "3               -0.7876                          neutral   \n",
       "4                0.0000                         positive   \n",
       "\n",
       "  weighted_parent_sentiment_score  \n",
       "0                        negative  \n",
       "1                         neutral  \n",
       "2                        positive  \n",
       "3                        negative  \n",
       "4                         neutral  "
      ]
     },
     "execution_count": 24,
     "metadata": {},
     "output_type": "execute_result"
    }
   ],
   "source": [
    "def sentiment(score):\n",
    "    if (score >= 0.25):\n",
    "        return 'positive'\n",
    "    elif (score <= -0.25):\n",
    "        return 'negative'\n",
    "    else:\n",
    "        return 'neutral'\n",
    "    \n",
    "data['weighted_comment_sentiment_score'] = data['comment_score'].apply(sentiment)\n",
    "data['weighted_parent_sentiment_score'] = data['parent_comment_score'].apply(sentiment)\n",
    "data.head()"
   ]
  },
  {
   "cell_type": "code",
   "execution_count": 25,
   "metadata": {},
   "outputs": [
    {
     "name": "stdout",
     "output_type": "stream",
     "text": [
      "weighted_comment_sentiment_score  negative  neutral  positive\n",
      "label                                                        \n",
      "0                                    18844    52174     29948\n",
      "1                                    21556    45973     33529\n"
     ]
    }
   ],
   "source": [
    "contingency_table = pd.crosstab(data['label'], data['weighted_comment_sentiment_score'])\n",
    "\n",
    "# Display the contingency table\n",
    "print(contingency_table)"
   ]
  },
  {
   "cell_type": "code",
   "execution_count": 26,
   "metadata": {},
   "outputs": [
    {
     "name": "stdout",
     "output_type": "stream",
     "text": [
      "Chi-Square Value: 775.8141120760291\n",
      "P-value: 3.420629771991167e-169\n"
     ]
    }
   ],
   "source": [
    "chi2, p, _, _ = chi2_contingency(contingency_table)\n",
    "print(f'Chi-Square Value: {chi2}')\n",
    "print(f'P-value: {p}')"
   ]
  },
  {
   "cell_type": "code",
   "execution_count": 28,
   "metadata": {},
   "outputs": [
    {
     "data": {
      "image/png": "[encoded data removed]",
      "text/plain": [
       "<Figure size 640x480 with 1 Axes>"
      ]
     },
     "metadata": {},
     "output_type": "display_data"
    }
   ],
   "source": [
    "stacked_data = data.groupby(['weighted_comment_sentiment_score', 'label']).size().unstack().fillna(0)\n",
    "\n",
    "stacked_data.plot(kind='bar', stacked=True)\n",
    "plt.title('Stacked Bar Plot: Distribution of Labels by Sentiment Score')\n",
    "plt.xlabel('Sentiment Score')\n",
    "plt.ylabel('Count')\n",
    "plt.xticks(rotation=0)\n",
    "plt.legend(title='Label', labels=['Not Sarcastic', 'Sarcastic'])\n",
    "plt.show()"
   ]
  },
  {
   "cell_type": "code",
   "execution_count": 29,
   "metadata": {},
   "outputs": [
    {
     "data": {
      "image/png": "[encoded data removed]",
      "text/plain": [
       "<Figure size 640x480 with 2 Axes>"
      ]
     },
     "metadata": {},
     "output_type": "display_data"
    }
   ],
   "source": [
    "heatmap_data = data.groupby(['weighted_comment_sentiment_score', 'label']).size().unstack().fillna(0)\n",
    "sns.heatmap(heatmap_data, annot=True, fmt='d', cmap='coolwarm')\n",
    "plt.title('Heatmap: Distribution of Labels by Sentiment Score')\n",
    "plt.xlabel('Label (0: Not Sarcastic, 1: Sarcastic)')\n",
    "plt.ylabel('Sentiment Score')\n",
    "plt.show()"
   ]
  },
  {
   "cell_type": "code",
   "execution_count": 30,
   "metadata": {},
   "outputs": [],
   "source": [
    "# One Hot Encode Weighted Sentiment Scores\n",
    "data = pd.get_dummies(data, columns = ['weighted_parent_sentiment_score','weighted_comment_sentiment_score'], drop_first=True)"
   ]
  },
  {
   "cell_type": "code",
   "execution_count": 31,
   "metadata": {},
   "outputs": [
    {
     "data": {
      "text/html": [
       "<div>\n",
       "<style scoped>\n",
       "    .dataframe tbody tr th:only-of-type {\n",
       "        vertical-align: middle;\n",
       "    }\n",
       "\n",
       "    .dataframe tbody tr th {\n",
       "        vertical-align: top;\n",
       "    }\n",
       "\n",
       "    .dataframe thead th {\n",
       "        text-align: right;\n",
       "    }\n",
       "</style>\n",
       "<table border=\"1\" class=\"dataframe\">\n",
       "  <thead>\n",
       "    <tr style=\"text-align: right;\">\n",
       "      <th></th>\n",
       "      <th>comment</th>\n",
       "      <th>parent_comment</th>\n",
       "      <th>label</th>\n",
       "      <th>comment_tokens</th>\n",
       "      <th>parent_comment_tokens</th>\n",
       "      <th>comment_score</th>\n",
       "      <th>parent_comment_score</th>\n",
       "      <th>weighted_parent_sentiment_score_neutral</th>\n",
       "      <th>weighted_parent_sentiment_score_positive</th>\n",
       "      <th>weighted_comment_sentiment_score_neutral</th>\n",
       "      <th>weighted_comment_sentiment_score_positive</th>\n",
       "    </tr>\n",
       "  </thead>\n",
       "  <tbody>\n",
       "    <tr>\n",
       "      <th>0</th>\n",
       "      <td>i just want his mutator for that!</td>\n",
       "      <td>at 0:06, if you look closely you can see that ...</td>\n",
       "      <td>1</td>\n",
       "      <td>[want, mutator, !]</td>\n",
       "      <td>[0:06, ,, look, closely, see, fake, two, ball,...</td>\n",
       "      <td>0.1511</td>\n",
       "      <td>-0.4767</td>\n",
       "      <td>0</td>\n",
       "      <td>0</td>\n",
       "      <td>1</td>\n",
       "      <td>0</td>\n",
       "    </tr>\n",
       "    <tr>\n",
       "      <th>1</th>\n",
       "      <td>i am the adultierest.</td>\n",
       "      <td>an adultier adult.</td>\n",
       "      <td>0</td>\n",
       "      <td>[adultierest, .]</td>\n",
       "      <td>[adultier, adult, .]</td>\n",
       "      <td>0.0000</td>\n",
       "      <td>0.0000</td>\n",
       "      <td>1</td>\n",
       "      <td>0</td>\n",
       "      <td>1</td>\n",
       "      <td>0</td>\n",
       "    </tr>\n",
       "    <tr>\n",
       "      <th>2</th>\n",
       "      <td>take a cold shower, it will help tremendously.</td>\n",
       "      <td>day 7 my balls hurt, i feel dizzy, losing conf...</td>\n",
       "      <td>0</td>\n",
       "      <td>[take, cold, shower, ,, help, tremendously, .]</td>\n",
       "      <td>[day, 7, ball, hurt, ,, feel, dizzy, ,, losing...</td>\n",
       "      <td>0.4019</td>\n",
       "      <td>0.3178</td>\n",
       "      <td>0</td>\n",
       "      <td>1</td>\n",
       "      <td>0</td>\n",
       "      <td>1</td>\n",
       "    </tr>\n",
       "    <tr>\n",
       "      <th>3</th>\n",
       "      <td>14 hours later, and she has not responded yet.</td>\n",
       "      <td>hard to keep a straight face knowing that the ...</td>\n",
       "      <td>0</td>\n",
       "      <td>[14, hour, later, ,, not, responded, yet, .]</td>\n",
       "      <td>[hard, keep, straight, face, knowing, pillar, ...</td>\n",
       "      <td>0.0000</td>\n",
       "      <td>-0.7876</td>\n",
       "      <td>0</td>\n",
       "      <td>0</td>\n",
       "      <td>1</td>\n",
       "      <td>0</td>\n",
       "    </tr>\n",
       "    <tr>\n",
       "      <th>4</th>\n",
       "      <td>\"but i am such a nice guy!\"</td>\n",
       "      <td>why pandas are not mating</td>\n",
       "      <td>0</td>\n",
       "      <td>[``, nice, guy, !, '']</td>\n",
       "      <td>[panda, not, mating]</td>\n",
       "      <td>0.6114</td>\n",
       "      <td>0.0000</td>\n",
       "      <td>1</td>\n",
       "      <td>0</td>\n",
       "      <td>0</td>\n",
       "      <td>1</td>\n",
       "    </tr>\n",
       "  </tbody>\n",
       "</table>\n",
       "</div>"
      ],
      "text/plain": [
       "                                          comment  \\\n",
       "0               i just want his mutator for that!   \n",
       "1                           i am the adultierest.   \n",
       "2  take a cold shower, it will help tremendously.   \n",
       "3  14 hours later, and she has not responded yet.   \n",
       "4                     \"but i am such a nice guy!\"   \n",
       "\n",
       "                                      parent_comment  label  \\\n",
       "0  at 0:06, if you look closely you can see that ...      1   \n",
       "1                                 an adultier adult.      0   \n",
       "2  day 7 my balls hurt, i feel dizzy, losing conf...      0   \n",
       "3  hard to keep a straight face knowing that the ...      0   \n",
       "4                          why pandas are not mating      0   \n",
       "\n",
       "                                   comment_tokens  \\\n",
       "0                              [want, mutator, !]   \n",
       "1                                [adultierest, .]   \n",
       "2  [take, cold, shower, ,, help, tremendously, .]   \n",
       "3    [14, hour, later, ,, not, responded, yet, .]   \n",
       "4                          [``, nice, guy, !, '']   \n",
       "\n",
       "                               parent_comment_tokens  comment_score  \\\n",
       "0  [0:06, ,, look, closely, see, fake, two, ball,...         0.1511   \n",
       "1                               [adultier, adult, .]         0.0000   \n",
       "2  [day, 7, ball, hurt, ,, feel, dizzy, ,, losing...         0.4019   \n",
       "3  [hard, keep, straight, face, knowing, pillar, ...         0.0000   \n",
       "4                               [panda, not, mating]         0.6114   \n",
       "\n",
       "   parent_comment_score  weighted_parent_sentiment_score_neutral  \\\n",
       "0               -0.4767                                        0   \n",
       "1                0.0000                                        1   \n",
       "2                0.3178                                        0   \n",
       "3               -0.7876                                        0   \n",
       "4                0.0000                                        1   \n",
       "\n",
       "   weighted_parent_sentiment_score_positive  \\\n",
       "0                                         0   \n",
       "1                                         0   \n",
       "2                                         1   \n",
       "3                                         0   \n",
       "4                                         0   \n",
       "\n",
       "   weighted_comment_sentiment_score_neutral  \\\n",
       "0                                         1   \n",
       "1                                         1   \n",
       "2                                         0   \n",
       "3                                         1   \n",
       "4                                         0   \n",
       "\n",
       "   weighted_comment_sentiment_score_positive  \n",
       "0                                          0  \n",
       "1                                          0  \n",
       "2                                          1  \n",
       "3                                          0  \n",
       "4                                          1  "
      ]
     },
     "execution_count": 31,
     "metadata": {},
     "output_type": "execute_result"
    }
   ],
   "source": [
    "data.head()"
   ]
  },
  {
   "cell_type": "markdown",
   "metadata": {},
   "source": [
    "### Basic Text Features\n",
    "- extracted these features mostly from the original sentences\n",
    "- extracted token count, unique token count and mean token length"
   ]
  },
  {
   "cell_type": "code",
   "execution_count": 32,
   "metadata": {},
   "outputs": [
    {
     "name": "stderr",
     "output_type": "stream",
     "text": [
      "c:\\Users\\dxcas\\anaconda3\\Lib\\site-packages\\numpy\\core\\fromnumeric.py:3464: RuntimeWarning: Mean of empty slice.\n",
      "  return _methods._mean(a, axis=axis, dtype=dtype,\n",
      "c:\\Users\\dxcas\\anaconda3\\Lib\\site-packages\\numpy\\core\\fromnumeric.py:3464: RuntimeWarning: Mean of empty slice.\n",
      "  return _methods._mean(a, axis=axis, dtype=dtype,\n",
      "c:\\Users\\dxcas\\anaconda3\\Lib\\site-packages\\numpy\\core\\fromnumeric.py:3464: RuntimeWarning: Mean of empty slice.\n",
      "  return _methods._mean(a, axis=axis, dtype=dtype,\n",
      "c:\\Users\\dxcas\\anaconda3\\Lib\\site-packages\\numpy\\core\\fromnumeric.py:3464: RuntimeWarning: Mean of empty slice.\n",
      "  return _methods._mean(a, axis=axis, dtype=dtype,\n"
     ]
    }
   ],
   "source": [
    "#data = data[['label','comment', 'parent_comment']]\n",
    "###pre-tokenised###\n",
    "# Word Count\n",
    "data['comment_word_count'] = data['comment'].apply(lambda x: len(str(x).split()))\n",
    "data['parent_comment_word_count'] = data['parent_comment'].apply(lambda x: len(str(x).split()))\n",
    "data['comment_token_count'] = data['comment_tokens'].apply(lambda x: len(x))\n",
    "data['parent_comment_token_count'] = data['parent_comment_tokens'].apply(lambda x: len(x))\n",
    "\n",
    "# Unique Word Count\n",
    "data['comment_unique_word_count'] = data['comment'].apply(lambda x: len(set(str(x).split())))\n",
    "data['parent_comment_unique_word_count'] = data['parent_comment'].apply(lambda x: len(set(str(x).split())))\n",
    "data['comment_unique_token_count'] = data['comment_tokens'].apply(lambda x: len(set(x)))\n",
    "data['parent_comment_unique_token_count'] = data['parent_comment_tokens'].apply(lambda x: len(set(x)))\n",
    "\n",
    "# Stop Word Count\n",
    "stop = stopwords.words('english')\n",
    "data['comment_stopword_count'] = data['comment'].apply(lambda x: len([word for word in str(x).split() if word.lower() in stop]))\n",
    "data['parent_comment_stopword_count'] = data['parent_comment'].apply(lambda x: len([word for word in str(x).split() if word.lower() in stop]))\n",
    "\n",
    "# Mean Word Length\n",
    "data['comment_mean_word_length'] = data['comment'].apply(lambda x: np.mean([len(word) for word in str(x).split()]))\n",
    "data['parent_comment_mean_word_length'] = data['parent_comment'].apply(lambda x: np.mean([len(word) for word in str(x).split()]))\n",
    "data['comment_mean_token_length'] = data['comment_tokens'].apply(lambda x: np.mean([len(token) for token in x]))\n",
    "data['parent_comment_mean_token_length'] = data['parent_comment_tokens'].apply(lambda x: np.mean([len(token) for token in x]))\n",
    "\n",
    "# Character Count\n",
    "data['comment_char_count'] = data['comment'].apply(lambda x: len(str(x)))\n",
    "data['parent_comment_char_count'] = data['parent_comment'].apply(lambda x: len(str(x)))\n",
    "\n",
    "# Punctuation Count\n",
    "data['comment_punctuation_count'] = data['comment'].apply(lambda x: len([char for char in str(x) if char in string.punctuation]))\n",
    "data['parent_comment_punctuation_count'] = data['parent_comment'].apply(lambda x: len([char for char in str(x) if char in string.punctuation]))\n",
    "\n",
    "# Hashtag and Number Count\n",
    "data['comment_hashtag_count'] = data['comment'].apply(lambda x: len([word for word in str(x).split() if word.startswith('#')]))\n",
    "data['parent_comment_hashtag_count'] = data['parent_comment'].apply(lambda x: len([word for word in str(x).split() if word.startswith('#')]))\n",
    "\n",
    "data['comment_number_count'] = data['comment'].apply(lambda x: len([word for word in str(x).split() if word.isdigit()]))\n",
    "data['parent_comment_number_count'] = data['parent_comment'].apply(lambda x: len([word for word in str(x).split() if word.isdigit()]))"
   ]
  },
  {
   "cell_type": "markdown",
   "metadata": {},
   "source": [
    "### Bag of Words"
   ]
  },
  {
   "cell_type": "code",
   "execution_count": 34,
   "metadata": {},
   "outputs": [],
   "source": [
    "documents_comments = data['comment_tokens'].apply(lambda tokens_list:' '.join(tokens_list))\n",
    "documents_parent_comments = data['parent_comment_tokens'].apply(lambda tokens_list:' '.join(tokens_list))"
   ]
  },
  {
   "cell_type": "code",
   "execution_count": 36,
   "metadata": {},
   "outputs": [],
   "source": [
    "vectorizer_comments = CountVectorizer(min_df = 4)\n",
    "bow_matrix_comments = vectorizer_comments.fit_transform(documents_comments)\n",
    "bow_matrix_csr = csr_matrix(bow_matrix_comments)\n",
    "data['comment_bow'] = [row for row in bow_matrix_csr]\n",
    "\n",
    "vectorizer_parent_comments = CountVectorizer(min_df = 4)\n",
    "bow_matrix_parent_comments = vectorizer_parent_comments.fit_transform(documents_parent_comments)\n",
    "bow_matrix_csr_parent = csr_matrix(bow_matrix_parent_comments)\n",
    "data['parent_comment_bow'] = [row for row in bow_matrix_csr_parent]"
   ]
  },
  {
   "cell_type": "code",
   "execution_count": 38,
   "metadata": {},
   "outputs": [],
   "source": [
    "### Function to extract feature names from CSR representation\n",
    "feature_names_bow = vectorizer_comments.get_feature_names_out() # to reverse\n",
    "def bow_to_words(bow_vector, feature_names):\n",
    "    # Convert the sparse matrix row to a dense array\n",
    "    array = bow_vector.toarray().flatten()\n",
    "    # Get the tokens that have a count > 0\n",
    "    tokens = [feature_names[i] for i, count in enumerate(array) if count > 0]\n",
    "    return tokens"
   ]
  },
  {
   "cell_type": "markdown",
   "metadata": {},
   "source": [
    "### TD-IDF"
   ]
  },
  {
   "cell_type": "code",
   "execution_count": 40,
   "metadata": {},
   "outputs": [],
   "source": [
    "tdvectorizer_comments = TfidfVectorizer(min_df = 4)\n",
    "tdidf_matrix_comments = tdvectorizer_comments.fit_transform(documents_comments)\n",
    "tdidf_matrix_csr = csr_matrix(tdidf_matrix_comments)\n",
    "data['comment_tdidf'] = [row for row in tdidf_matrix_csr]\n",
    "\n",
    "tdvectorizer_parent_comments = TfidfVectorizer(min_df = 4)\n",
    "tdidf_matrix_parent_comments = tdvectorizer_parent_comments.fit_transform(documents_parent_comments)\n",
    "tdidf_matrix_csr_parent = csr_matrix(tdidf_matrix_parent_comments)\n",
    "data['parent_comment_tdidf'] = [row for row in tdidf_matrix_csr_parent]"
   ]
  },
  {
   "cell_type": "code",
   "execution_count": 41,
   "metadata": {},
   "outputs": [],
   "source": [
    "feature_names_tfidf = tdvectorizer_comments.get_feature_names_out()\n",
    "def tfidf_to_words(tfidf_row, feature_names):\n",
    "    \"\"\"\n",
    "    Convert a TF-IDF row to its word representation.\n",
    "    :param tfidf_row: A single row from a sparse matrix.\n",
    "    :param feature_names: List of feature names from the TF-IDF vectorizer.\n",
    "    :return: List of words from the TF-IDF row.\n",
    "    \"\"\"\n",
    "    dense_tfidf = tfidf_row.toarray().flatten()\n",
    "    words_indices = dense_tfidf.nonzero()[0]\n",
    "    words = [(feature_names[index], dense_tfidf[index]) for index in words_indices]\n",
    "    return words"
   ]
  },
  {
   "cell_type": "code",
   "execution_count": 44,
   "metadata": {},
   "outputs": [
    {
     "name": "stdout",
     "output_type": "stream",
     "text": [
      "  (0, 57)\t1\n",
      "  (0, 7643)\t1\n",
      "  (0, 8980)\t1\n",
      "  (0, 10803)\t1\n",
      "  (0, 13252)\t1\n",
      "  (0, 17707)\t1\n",
      "['14', 'hour', 'later', 'not', 'responded', 'yet']\n",
      "  (0, 17707)\t0.36500430172233606\n",
      "  (0, 13252)\t0.5514816853257846\n",
      "  (0, 10803)\t0.1501770267017365\n",
      "  (0, 8980)\t0.4300259710317235\n",
      "  (0, 7643)\t0.3774450837175129\n",
      "  (0, 57)\t0.4611936080879168\n",
      "[('14', 0.4611936080879168), ('hour', 0.3774450837175129), ('later', 0.4300259710317235), ('not', 0.1501770267017365), ('responded', 0.5514816853257846), ('yet', 0.36500430172233606)]\n"
     ]
    }
   ],
   "source": [
    "# Testing out Extraction\n",
    "df = data.head(10)\n",
    "#print(data.columns)\n",
    "#df[['comment_bow', 'comment_tdidf']]\n",
    "print(df['comment_bow'].iloc[3])\n",
    "print(bow_to_words(df['comment_bow'].iloc[3], feature_names_bow))\n",
    "print(df['comment_tdidf'].iloc[3])\n",
    "print(tfidf_to_words(df['comment_tdidf'].iloc[3], feature_names_tfidf))"
   ]
  },
  {
   "cell_type": "code",
   "execution_count": 45,
   "metadata": {},
   "outputs": [],
   "source": [
    "data.to_pickle(\"data/data_w_feature_eng.pkl\")"
   ]
  },
  {
   "cell_type": "code",
   "execution_count": 46,
   "metadata": {},
   "outputs": [
    {
     "data": {
      "text/html": [
       "<div>\n",
       "<style scoped>\n",
       "    .dataframe tbody tr th:only-of-type {\n",
       "        vertical-align: middle;\n",
       "    }\n",
       "\n",
       "    .dataframe tbody tr th {\n",
       "        vertical-align: top;\n",
       "    }\n",
       "\n",
       "    .dataframe thead th {\n",
       "        text-align: right;\n",
       "    }\n",
       "</style>\n",
       "<table border=\"1\" class=\"dataframe\">\n",
       "  <thead>\n",
       "    <tr style=\"text-align: right;\">\n",
       "      <th></th>\n",
       "      <th>comment</th>\n",
       "      <th>parent_comment</th>\n",
       "      <th>label</th>\n",
       "      <th>comment_tokens</th>\n",
       "      <th>parent_comment_tokens</th>\n",
       "      <th>comment_score</th>\n",
       "      <th>parent_comment_score</th>\n",
       "      <th>weighted_parent_sentiment_score_neutral</th>\n",
       "      <th>weighted_parent_sentiment_score_positive</th>\n",
       "      <th>weighted_comment_sentiment_score_neutral</th>\n",
       "      <th>...</th>\n",
       "      <th>comment_punctuation_count</th>\n",
       "      <th>parent_comment_punctuation_count</th>\n",
       "      <th>comment_hashtag_count</th>\n",
       "      <th>parent_comment_hashtag_count</th>\n",
       "      <th>comment_number_count</th>\n",
       "      <th>parent_comment_number_count</th>\n",
       "      <th>comment_bow</th>\n",
       "      <th>parent_comment_bow</th>\n",
       "      <th>comment_tdidf</th>\n",
       "      <th>parent_comment_tdidf</th>\n",
       "    </tr>\n",
       "  </thead>\n",
       "  <tbody>\n",
       "    <tr>\n",
       "      <th>0</th>\n",
       "      <td>i just want his mutator for that!</td>\n",
       "      <td>at 0:06, if you look closely you can see that ...</td>\n",
       "      <td>1</td>\n",
       "      <td>[want, mutator, !]</td>\n",
       "      <td>[0:06, ,, look, closely, see, fake, two, ball,...</td>\n",
       "      <td>0.1511</td>\n",
       "      <td>-0.4767</td>\n",
       "      <td>0</td>\n",
       "      <td>0</td>\n",
       "      <td>1</td>\n",
       "      <td>...</td>\n",
       "      <td>1</td>\n",
       "      <td>3</td>\n",
       "      <td>0</td>\n",
       "      <td>0</td>\n",
       "      <td>0</td>\n",
       "      <td>0</td>\n",
       "      <td>(0, 17153)\\t1</td>\n",
       "      <td>(0, 18)\\t1\\n  (0, 14489)\\t1\\n  (0, 5027)\\t1\\...</td>\n",
       "      <td>(0, 17153)\\t1.0</td>\n",
       "      <td>(0, 9404)\\t0.35637725579713064\\n  (0, 2615)\\...</td>\n",
       "    </tr>\n",
       "    <tr>\n",
       "      <th>1</th>\n",
       "      <td>i am the adultierest.</td>\n",
       "      <td>an adultier adult.</td>\n",
       "      <td>0</td>\n",
       "      <td>[adultierest, .]</td>\n",
       "      <td>[adultier, adult, .]</td>\n",
       "      <td>0.0000</td>\n",
       "      <td>0.0000</td>\n",
       "      <td>1</td>\n",
       "      <td>0</td>\n",
       "      <td>1</td>\n",
       "      <td>...</td>\n",
       "      <td>1</td>\n",
       "      <td>1</td>\n",
       "      <td>0</td>\n",
       "      <td>0</td>\n",
       "      <td>0</td>\n",
       "      <td>0</td>\n",
       "      <td></td>\n",
       "      <td>(0, 1191)\\t1</td>\n",
       "      <td></td>\n",
       "      <td>(0, 1191)\\t1.0</td>\n",
       "    </tr>\n",
       "    <tr>\n",
       "      <th>2</th>\n",
       "      <td>take a cold shower, it will help tremendously.</td>\n",
       "      <td>day 7 my balls hurt, i feel dizzy, losing conf...</td>\n",
       "      <td>0</td>\n",
       "      <td>[take, cold, shower, ,, help, tremendously, .]</td>\n",
       "      <td>[day, 7, ball, hurt, ,, feel, dizzy, ,, losing...</td>\n",
       "      <td>0.4019</td>\n",
       "      <td>0.3178</td>\n",
       "      <td>0</td>\n",
       "      <td>1</td>\n",
       "      <td>0</td>\n",
       "      <td>...</td>\n",
       "      <td>2</td>\n",
       "      <td>21</td>\n",
       "      <td>0</td>\n",
       "      <td>0</td>\n",
       "      <td>0</td>\n",
       "      <td>2</td>\n",
       "      <td>(0, 15616)\\t1\\n  (0, 3205)\\t1\\n  (0, 14305)\\...</td>\n",
       "      <td>(0, 14489)\\t3\\n  (0, 25059)\\t1\\n  (0, 2615)\\...</td>\n",
       "      <td>(0, 16278)\\t0.6163719028495169\\n  (0, 7369)\\...</td>\n",
       "      <td>(0, 11418)\\t0.10136174677471503\\n  (0, 26798...</td>\n",
       "    </tr>\n",
       "    <tr>\n",
       "      <th>3</th>\n",
       "      <td>14 hours later, and she has not responded yet.</td>\n",
       "      <td>hard to keep a straight face knowing that the ...</td>\n",
       "      <td>0</td>\n",
       "      <td>[14, hour, later, ,, not, responded, yet, .]</td>\n",
       "      <td>[hard, keep, straight, face, knowing, pillar, ...</td>\n",
       "      <td>0.0000</td>\n",
       "      <td>-0.7876</td>\n",
       "      <td>0</td>\n",
       "      <td>0</td>\n",
       "      <td>1</td>\n",
       "      <td>...</td>\n",
       "      <td>2</td>\n",
       "      <td>2</td>\n",
       "      <td>0</td>\n",
       "      <td>0</td>\n",
       "      <td>1</td>\n",
       "      <td>0</td>\n",
       "      <td>(0, 57)\\t1\\n  (0, 7643)\\t1\\n  (0, 8980)\\t1\\n...</td>\n",
       "      <td>(0, 16688)\\t1\\n  (0, 11261)\\t1\\n  (0, 13514)...</td>\n",
       "      <td>(0, 17707)\\t0.36500430172233606\\n  (0, 13252...</td>\n",
       "      <td>(0, 11004)\\t0.26518748090271993\\n  (0, 19549...</td>\n",
       "    </tr>\n",
       "    <tr>\n",
       "      <th>4</th>\n",
       "      <td>\"but i am such a nice guy!\"</td>\n",
       "      <td>why pandas are not mating</td>\n",
       "      <td>0</td>\n",
       "      <td>[``, nice, guy, !, '']</td>\n",
       "      <td>[panda, not, mating]</td>\n",
       "      <td>0.6114</td>\n",
       "      <td>0.0000</td>\n",
       "      <td>1</td>\n",
       "      <td>0</td>\n",
       "      <td>0</td>\n",
       "      <td>...</td>\n",
       "      <td>3</td>\n",
       "      <td>0</td>\n",
       "      <td>0</td>\n",
       "      <td>0</td>\n",
       "      <td>0</td>\n",
       "      <td>0</td>\n",
       "      <td>(0, 10681)\\t1\\n  (0, 7080)\\t1</td>\n",
       "      <td>(0, 16688)\\t1\\n  (0, 17556)\\t1\\n  (0, 15066)\\t1</td>\n",
       "      <td>(0, 7080)\\t0.6478591476983679\\n  (0, 10681)\\...</td>\n",
       "      <td>(0, 15066)\\t0.7518521475751829\\n  (0, 17556)...</td>\n",
       "    </tr>\n",
       "  </tbody>\n",
       "</table>\n",
       "<p>5 rows × 37 columns</p>\n",
       "</div>"
      ],
      "text/plain": [
       "                                          comment  \\\n",
       "0               i just want his mutator for that!   \n",
       "1                           i am the adultierest.   \n",
       "2  take a cold shower, it will help tremendously.   \n",
       "3  14 hours later, and she has not responded yet.   \n",
       "4                     \"but i am such a nice guy!\"   \n",
       "\n",
       "                                      parent_comment  label  \\\n",
       "0  at 0:06, if you look closely you can see that ...      1   \n",
       "1                                 an adultier adult.      0   \n",
       "2  day 7 my balls hurt, i feel dizzy, losing conf...      0   \n",
       "3  hard to keep a straight face knowing that the ...      0   \n",
       "4                          why pandas are not mating      0   \n",
       "\n",
       "                                   comment_tokens  \\\n",
       "0                              [want, mutator, !]   \n",
       "1                                [adultierest, .]   \n",
       "2  [take, cold, shower, ,, help, tremendously, .]   \n",
       "3    [14, hour, later, ,, not, responded, yet, .]   \n",
       "4                          [``, nice, guy, !, '']   \n",
       "\n",
       "                               parent_comment_tokens  comment_score  \\\n",
       "0  [0:06, ,, look, closely, see, fake, two, ball,...         0.1511   \n",
       "1                               [adultier, adult, .]         0.0000   \n",
       "2  [day, 7, ball, hurt, ,, feel, dizzy, ,, losing...         0.4019   \n",
       "3  [hard, keep, straight, face, knowing, pillar, ...         0.0000   \n",
       "4                               [panda, not, mating]         0.6114   \n",
       "\n",
       "   parent_comment_score  weighted_parent_sentiment_score_neutral  \\\n",
       "0               -0.4767                                        0   \n",
       "1                0.0000                                        1   \n",
       "2                0.3178                                        0   \n",
       "3               -0.7876                                        0   \n",
       "4                0.0000                                        1   \n",
       "\n",
       "   weighted_parent_sentiment_score_positive  \\\n",
       "0                                         0   \n",
       "1                                         0   \n",
       "2                                         1   \n",
       "3                                         0   \n",
       "4                                         0   \n",
       "\n",
       "   weighted_comment_sentiment_score_neutral  ...  comment_punctuation_count  \\\n",
       "0                                         1  ...                          1   \n",
       "1                                         1  ...                          1   \n",
       "2                                         0  ...                          2   \n",
       "3                                         1  ...                          2   \n",
       "4                                         0  ...                          3   \n",
       "\n",
       "   parent_comment_punctuation_count  comment_hashtag_count  \\\n",
       "0                                 3                      0   \n",
       "1                                 1                      0   \n",
       "2                                21                      0   \n",
       "3                                 2                      0   \n",
       "4                                 0                      0   \n",
       "\n",
       "   parent_comment_hashtag_count  comment_number_count  \\\n",
       "0                             0                     0   \n",
       "1                             0                     0   \n",
       "2                             0                     0   \n",
       "3                             0                     1   \n",
       "4                             0                     0   \n",
       "\n",
       "   parent_comment_number_count  \\\n",
       "0                            0   \n",
       "1                            0   \n",
       "2                            2   \n",
       "3                            0   \n",
       "4                            0   \n",
       "\n",
       "                                         comment_bow  \\\n",
       "0                                      (0, 17153)\\t1   \n",
       "1                                                      \n",
       "2    (0, 15616)\\t1\\n  (0, 3205)\\t1\\n  (0, 14305)\\...   \n",
       "3    (0, 57)\\t1\\n  (0, 7643)\\t1\\n  (0, 8980)\\t1\\n...   \n",
       "4                      (0, 10681)\\t1\\n  (0, 7080)\\t1   \n",
       "\n",
       "                                  parent_comment_bow  \\\n",
       "0    (0, 18)\\t1\\n  (0, 14489)\\t1\\n  (0, 5027)\\t1\\...   \n",
       "1                                       (0, 1191)\\t1   \n",
       "2    (0, 14489)\\t3\\n  (0, 25059)\\t1\\n  (0, 2615)\\...   \n",
       "3    (0, 16688)\\t1\\n  (0, 11261)\\t1\\n  (0, 13514)...   \n",
       "4    (0, 16688)\\t1\\n  (0, 17556)\\t1\\n  (0, 15066)\\t1   \n",
       "\n",
       "                                       comment_tdidf  \\\n",
       "0                                    (0, 17153)\\t1.0   \n",
       "1                                                      \n",
       "2    (0, 16278)\\t0.6163719028495169\\n  (0, 7369)\\...   \n",
       "3    (0, 17707)\\t0.36500430172233606\\n  (0, 13252...   \n",
       "4    (0, 7080)\\t0.6478591476983679\\n  (0, 10681)\\...   \n",
       "\n",
       "                                parent_comment_tdidf  \n",
       "0    (0, 9404)\\t0.35637725579713064\\n  (0, 2615)\\...  \n",
       "1                                     (0, 1191)\\t1.0  \n",
       "2    (0, 11418)\\t0.10136174677471503\\n  (0, 26798...  \n",
       "3    (0, 11004)\\t0.26518748090271993\\n  (0, 19549...  \n",
       "4    (0, 15066)\\t0.7518521475751829\\n  (0, 17556)...  \n",
       "\n",
       "[5 rows x 37 columns]"
      ]
     },
     "execution_count": 46,
     "metadata": {},
     "output_type": "execute_result"
    }
   ],
   "source": [
    "data.head()"
   ]
  }
 ],
 "metadata": {
  "kernelspec": {
   "display_name": "Python 3",
   "language": "python",
   "name": "python3"
  },
  "language_info": {
   "codemirror_mode": {
    "name": "ipython",
    "version": 3
   },
   "file_extension": ".py",
   "mimetype": "text/x-python",
   "name": "python",
   "nbconvert_exporter": "python",
   "pygments_lexer": "ipython3",
   "version": "3.11.4"
  }
 },
 "nbformat": 4,
 "nbformat_minor": 2
}
