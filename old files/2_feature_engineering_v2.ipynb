{
 "cells": [
  {
   "cell_type": "code",
   "execution_count": 101,
   "metadata": {},
   "outputs": [],
   "source": [
    "import pandas as pd\n",
    "import seaborn as sns\n",
    "from nltk.sentiment.vader import SentimentIntensityAnalyzer\n",
    "import matplotlib.pyplot as plt\n",
    "import numpy as np\n",
    "import string\n",
    "import nltk\n",
    "from nltk.util import bigrams, trigrams\n",
    "from nltk.corpus import stopwords\n",
    "from gensim.models import Word2Vec #install gensim # had to use this: pip install --upgrade gensim smart_open protobuf==3.20.0\n",
    "from sklearn.feature_extraction.text import CountVectorizer\n",
    "from scipy.sparse import csr_matrix\n",
    "from sklearn.feature_extraction.text import TfidfVectorizer\n",
    "from nltk.stem import WordNetLemmatizer\n",
    "from scipy.stats import chi2_contingency\n"
   ]
  },
  {
   "cell_type": "code",
   "execution_count": 102,
   "metadata": {},
   "outputs": [
    {
     "name": "stderr",
     "output_type": "stream",
     "text": [
      "[nltk_data] Downloading package stopwords to\n",
      "[nltk_data]     C:\\Users\\dxcas\\AppData\\Roaming\\nltk_data...\n",
      "[nltk_data]   Package stopwords is already up-to-date!\n",
      "[nltk_data] Downloading package averaged_perceptron_tagger to\n",
      "[nltk_data]     C:\\Users\\dxcas\\AppData\\Roaming\\nltk_data...\n",
      "[nltk_data]   Package averaged_perceptron_tagger is already up-to-\n",
      "[nltk_data]       date!\n",
      "[nltk_data] Downloading package punkt to\n",
      "[nltk_data]     C:\\Users\\dxcas\\AppData\\Roaming\\nltk_data...\n",
      "[nltk_data]   Package punkt is already up-to-date!\n",
      "[nltk_data] Downloading package maxent_ne_chunker to\n",
      "[nltk_data]     C:\\Users\\dxcas\\AppData\\Roaming\\nltk_data...\n",
      "[nltk_data]   Package maxent_ne_chunker is already up-to-date!\n",
      "[nltk_data] Downloading package words to\n",
      "[nltk_data]     C:\\Users\\dxcas\\AppData\\Roaming\\nltk_data...\n",
      "[nltk_data]   Package words is already up-to-date!\n",
      "[nltk_data] Downloading package wordnet to\n",
      "[nltk_data]     C:\\Users\\dxcas\\AppData\\Roaming\\nltk_data...\n",
      "[nltk_data]   Package wordnet is already up-to-date!\n",
      "[nltk_data] Downloading package vader_lexicon to\n",
      "[nltk_data]     C:\\Users\\dxcas\\AppData\\Roaming\\nltk_data...\n",
      "[nltk_data]   Package vader_lexicon is already up-to-date!\n"
     ]
    },
    {
     "data": {
      "text/plain": [
       "True"
      ]
     },
     "execution_count": 102,
     "metadata": {},
     "output_type": "execute_result"
    }
   ],
   "source": [
    "nltk.download('stopwords')\n",
    "nltk.download('averaged_perceptron_tagger')\n",
    "nltk.download('punkt')\n",
    "nltk.download('maxent_ne_chunker')\n",
    "nltk.download('words')\n",
    "nltk.download('wordnet')\n",
    "nltk.download('vader_lexicon')\n"
   ]
  },
  {
   "cell_type": "code",
   "execution_count": 134,
   "metadata": {},
   "outputs": [],
   "source": [
    "data = pd.read_pickle('data/data_cleaned.pkl')"
   ]
  },
  {
   "cell_type": "markdown",
   "metadata": {},
   "source": [
    "### Tokenizing  \n",
    "Do N-grams at this step"
   ]
  },
  {
   "cell_type": "code",
   "execution_count": 135,
   "metadata": {},
   "outputs": [],
   "source": [
    "def tokenize_text(text, ngram='unigram'):\n",
    "    tokens = nltk.word_tokenize(text)\n",
    "    \n",
    "    if ngram == 'unigram':\n",
    "        return tokens\n",
    "    elif ngram == 'bigram':\n",
    "        return list(bigrams(tokens))\n",
    "    elif ngram == 'trigram':\n",
    "        return list(trigrams(tokens))\n",
    "    else:\n",
    "        raise ValueError(\"ngram should be either 'unigram', 'bigram', or 'trigram'\")\n",
    "\n",
    "# Unigram Tokenizing\n",
    "data[\"comment_tokens\"] = data[\"comment\"].apply(lambda x: tokenize_text(x, 'unigram'))\n",
    "data[\"parent_comment_tokens\"] = data[\"parent_comment\"].apply(lambda x: tokenize_text(x, 'unigram'))\n",
    "\n",
    "# Bigram Tokenizing\n",
    "data[\"comment_tokens_bigram\"] = data[\"comment\"].apply(lambda x: tokenize_text(x, 'bigram'))\n",
    "data[\"parent_comment_tokens_bigram\"] = data[\"parent_comment\"].apply(lambda x: tokenize_text(x, 'bigram'))\n",
    "\n",
    "# Trigram Tokenizing\n",
    "data[\"comment_tokens_trigram\"] = data[\"comment\"].apply(lambda x: tokenize_text(x, 'trigram'))\n",
    "data[\"parent_comment_tokens_trigram\"] = data[\"parent_comment\"].apply(lambda x: tokenize_text(x, 'trigram'))"
   ]
  },
  {
   "cell_type": "code",
   "execution_count": 136,
   "metadata": {},
   "outputs": [
    {
     "data": {
      "text/plain": [
       "\"\\n#spellchecking\\n#%pip install pyspellchecker\\nfrom spellchecker import SpellChecker\\nspell = SpellChecker()\\ndata['comment_tokens'] = data['comment_tokens'].apply(lambda tokens: [spell.correction(token) for token in tokens])\\ndata['parent_comment_tokens'] = data['parent_comment_tokens'].apply(lambda tokens: [spell.correction(token) for token in tokens])\\n\""
      ]
     },
     "execution_count": 136,
     "metadata": {},
     "output_type": "execute_result"
    }
   ],
   "source": [
    "\"\"\"\n",
    "#spellchecking\n",
    "#%pip install pyspellchecker\n",
    "from spellchecker import SpellChecker\n",
    "spell = SpellChecker()\n",
    "data['comment_tokens'] = data['comment_tokens'].apply(lambda tokens: [spell.correction(token) for token in tokens])\n",
    "data['parent_comment_tokens'] = data['parent_comment_tokens'].apply(lambda tokens: [spell.correction(token) for token in tokens])\n",
    "\"\"\""
   ]
  },
  {
   "cell_type": "markdown",
   "metadata": {},
   "source": [
    "### Removing Stop Words"
   ]
  },
  {
   "cell_type": "code",
   "execution_count": 137,
   "metadata": {},
   "outputs": [],
   "source": [
    "#remove possible words from stop_words that can change meaning of text\n",
    "stop_words = set(stopwords.words('english'))\n",
    "\n",
    "to_remove = [\"no\",\"not\"]\n",
    "for word in to_remove:\n",
    "    stop_words.remove(word)\n",
    "# Filtering function for unigrams\n",
    "def filter_unigrams(tokens):\n",
    "    return [token for token in tokens if token not in stop_words]\n",
    "\n",
    "# Filtering function for bigrams\n",
    "def filter_bigrams(bigram_tokens):\n",
    "    return [bigram for bigram in bigram_tokens if not all(word in stop_words for word in bigram)]\n",
    "\n",
    "# Filtering function for trigrams\n",
    "def filter_trigrams(trigram_tokens):\n",
    "    return [trigram for trigram in trigram_tokens if not all(word in stop_words for word in trigram)]\n",
    "\n",
    "# Apply the filtering functions\n",
    "data[\"comment_tokens\"] = data[\"comment_tokens\"].apply(filter_unigrams)\n",
    "data[\"parent_comment_tokens\"] = data[\"parent_comment_tokens\"].apply(filter_unigrams)\n",
    "\n",
    "data[\"comment_tokens_bigram\"] = data[\"comment_tokens_bigram\"].apply(filter_bigrams)\n",
    "data[\"parent_comment_tokens_bigram\"] = data[\"parent_comment_tokens_bigram\"].apply(filter_bigrams)\n",
    "\n",
    "data[\"comment_tokens_trigram\"] = data[\"comment_tokens_trigram\"].apply(filter_trigrams)\n",
    "data[\"parent_comment_tokens_trigram\"] = data[\"parent_comment_tokens_trigram\"].apply(filter_trigrams)"
   ]
  },
  {
   "cell_type": "markdown",
   "metadata": {},
   "source": [
    "### Lemmatization"
   ]
  },
  {
   "cell_type": "code",
   "execution_count": 138,
   "metadata": {},
   "outputs": [],
   "source": [
    "lemmatizer = WordNetLemmatizer()\n",
    "# Lemmatize function for unigrams\n",
    "def lemmatize_unigrams(tokens):\n",
    "    return [lemmatizer.lemmatize(token) for token in tokens]\n",
    "\n",
    "# Lemmatize function for bigrams\n",
    "def lemmatize_bigrams(bigram_tokens):\n",
    "    return [' '.join([lemmatizer.lemmatize(word) for word in bigram]) for bigram in bigram_tokens]\n",
    "\n",
    "# Lemmatize function for trigrams\n",
    "def lemmatize_trigrams(trigram_tokens):\n",
    "    return [' '.join([lemmatizer.lemmatize(word) for word in trigram]) for trigram in trigram_tokens]\n",
    "\n",
    "# Apply the lemmatize functions\n",
    "data[\"comment_tokens\"] = data[\"comment_tokens\"].apply(lemmatize_unigrams)\n",
    "data[\"parent_comment_tokens\"] = data[\"parent_comment_tokens\"].apply(lemmatize_unigrams)\n",
    "\n",
    "data[\"comment_tokens_bigram\"] = data[\"comment_tokens_bigram\"].apply(lemmatize_bigrams)\n",
    "data[\"parent_comment_tokens_bigram\"] = data[\"parent_comment_tokens_bigram\"].apply(lemmatize_bigrams)\n",
    "\n",
    "data[\"comment_tokens_trigram\"] = data[\"comment_tokens_trigram\"].apply(lemmatize_trigrams)\n",
    "data[\"parent_comment_tokens_trigram\"] = data[\"parent_comment_tokens_trigram\"].apply(lemmatize_trigrams)"
   ]
  },
  {
   "cell_type": "markdown",
   "metadata": {},
   "source": [
    "### Sentiment Analysis"
   ]
  },
  {
   "cell_type": "code",
   "execution_count": 139,
   "metadata": {},
   "outputs": [],
   "source": [
    "sia = SentimentIntensityAnalyzer()\n",
    "data['comment_score'] = data['comment'].apply(lambda x: sia.polarity_scores(x)['compound'])\n",
    "data['parent_comment_score'] = data['parent_comment'].apply(lambda x: sia.polarity_scores(x)['compound'])"
   ]
  },
  {
   "cell_type": "code",
   "execution_count": 140,
   "metadata": {},
   "outputs": [
    {
     "name": "stderr",
     "output_type": "stream",
     "text": [
      "c:\\Users\\dxcas\\AppData\\Local\\Programs\\Python\\Python39\\lib\\site-packages\\seaborn\\_decorators.py:36: FutureWarning: Pass the following variable as a keyword arg: x. From version 0.12, the only valid positional argument will be `data`, and passing other arguments without an explicit keyword will result in an error or misinterpretation.\n",
      "  warnings.warn(\n"
     ]
    },
    {
     "data": {
      "image/png": "[encoded data removed]",
      "text/plain": [
       "<Figure size 640x480 with 1 Axes>"
      ]
     },
     "metadata": {},
     "output_type": "display_data"
    }
   ],
   "source": [
    "sns.boxplot(data['comment_score'])\n",
    "plt.title('Box Plot of Comment Sentiment Scores')\n",
    "plt.show()"
   ]
  },
  {
   "cell_type": "code",
   "execution_count": 141,
   "metadata": {},
   "outputs": [
    {
     "name": "stderr",
     "output_type": "stream",
     "text": [
      "c:\\Users\\dxcas\\AppData\\Local\\Programs\\Python\\Python39\\lib\\site-packages\\seaborn\\_decorators.py:36: FutureWarning: Pass the following variable as a keyword arg: x. From version 0.12, the only valid positional argument will be `data`, and passing other arguments without an explicit keyword will result in an error or misinterpretation.\n",
      "  warnings.warn(\n"
     ]
    },
    {
     "data": {
      "image/png": "[encoded data removed]",
      "text/plain": [
       "<Figure size 640x480 with 1 Axes>"
      ]
     },
     "metadata": {},
     "output_type": "display_data"
    }
   ],
   "source": [
    "sns.boxplot(data['parent_comment_score'])\n",
    "plt.title('Box Plot of Parent Sentiment Scores')\n",
    "plt.show()"
   ]
  },
  {
   "cell_type": "code",
   "execution_count": 142,
   "metadata": {},
   "outputs": [
    {
     "data": {
      "image/png": "[encoded data removed]",
      "text/plain": [
       "<Figure size 640x480 with 1 Axes>"
      ]
     },
     "metadata": {},
     "output_type": "display_data"
    }
   ],
   "source": [
    "sns.kdeplot(data['comment_score'], shade=True, color = 'blue')\n",
    "sns.kdeplot(data['parent_comment_score'], shade = True, color='red')\n",
    "plt.title('Kernel Density Plot of Sentiment Scores')\n",
    "plt.xlabel('Sentiment Score')\n",
    "plt.ylabel('Density')\n",
    "plt.show()"
   ]
  },
  {
   "cell_type": "code",
   "execution_count": 143,
   "metadata": {},
   "outputs": [
    {
     "data": {
      "text/html": [
       "<div>\n",
       "<style scoped>\n",
       "    .dataframe tbody tr th:only-of-type {\n",
       "        vertical-align: middle;\n",
       "    }\n",
       "\n",
       "    .dataframe tbody tr th {\n",
       "        vertical-align: top;\n",
       "    }\n",
       "\n",
       "    .dataframe thead th {\n",
       "        text-align: right;\n",
       "    }\n",
       "</style>\n",
       "<table border=\"1\" class=\"dataframe\">\n",
       "  <thead>\n",
       "    <tr style=\"text-align: right;\">\n",
       "      <th></th>\n",
       "      <th>comment</th>\n",
       "      <th>parent_comment</th>\n",
       "      <th>label</th>\n",
       "      <th>comment_tokens</th>\n",
       "      <th>parent_comment_tokens</th>\n",
       "      <th>comment_tokens_bigram</th>\n",
       "      <th>parent_comment_tokens_bigram</th>\n",
       "      <th>comment_tokens_trigram</th>\n",
       "      <th>parent_comment_tokens_trigram</th>\n",
       "      <th>comment_score</th>\n",
       "      <th>parent_comment_score</th>\n",
       "      <th>weighted_comment_sentiment_score</th>\n",
       "      <th>weighted_parent_sentiment_score</th>\n",
       "    </tr>\n",
       "  </thead>\n",
       "  <tbody>\n",
       "    <tr>\n",
       "      <th>0</th>\n",
       "      <td>i just want his mutator for that!</td>\n",
       "      <td>at 0:06, if you look closely you can see that ...</td>\n",
       "      <td>1</td>\n",
       "      <td>[want, mutator, !]</td>\n",
       "      <td>[0:06, ,, look, closely, see, fake, two, ball,...</td>\n",
       "      <td>[just want, want his, his mutator, mutator for...</td>\n",
       "      <td>[at 0:06, 0:06 ,, , if, you look, look closely...</td>\n",
       "      <td>[i just want, just want his, want his mutator,...</td>\n",
       "      <td>[at 0:06 ,, 0:06 , if, , if you, if you look, ...</td>\n",
       "      <td>0.1511</td>\n",
       "      <td>-0.4767</td>\n",
       "      <td>neutral</td>\n",
       "      <td>negative</td>\n",
       "    </tr>\n",
       "    <tr>\n",
       "      <th>1</th>\n",
       "      <td>i am the adultierest.</td>\n",
       "      <td>an adultier adult.</td>\n",
       "      <td>0</td>\n",
       "      <td>[adultierest, .]</td>\n",
       "      <td>[adultier, adult, .]</td>\n",
       "      <td>[the adultierest, adultierest .]</td>\n",
       "      <td>[an adultier, adultier adult, adult .]</td>\n",
       "      <td>[am the adultierest, the adultierest .]</td>\n",
       "      <td>[an adultier adult, adultier adult .]</td>\n",
       "      <td>0.0000</td>\n",
       "      <td>0.0000</td>\n",
       "      <td>neutral</td>\n",
       "      <td>neutral</td>\n",
       "    </tr>\n",
       "    <tr>\n",
       "      <th>2</th>\n",
       "      <td>take a cold shower, it will help tremendously.</td>\n",
       "      <td>day 7 my balls hurt, i feel dizzy, losing conf...</td>\n",
       "      <td>0</td>\n",
       "      <td>[take, cold, shower, ,, help, tremendously, .]</td>\n",
       "      <td>[day, 7, ball, hurt, ,, feel, dizzy, ,, losing...</td>\n",
       "      <td>[take a, a cold, cold shower, shower ,, , it, ...</td>\n",
       "      <td>[day 7, 7 my, my ball, ball hurt, hurt ,, , i,...</td>\n",
       "      <td>[take a cold, a cold shower, cold shower ,, sh...</td>\n",
       "      <td>[day 7 my, 7 my ball, my ball hurt, ball hurt ...</td>\n",
       "      <td>0.4019</td>\n",
       "      <td>0.3178</td>\n",
       "      <td>positive</td>\n",
       "      <td>positive</td>\n",
       "    </tr>\n",
       "    <tr>\n",
       "      <th>3</th>\n",
       "      <td>14 hours later, and she has not responded yet.</td>\n",
       "      <td>hard to keep a straight face knowing that the ...</td>\n",
       "      <td>0</td>\n",
       "      <td>[14, hour, later, ,, not, responded, yet, .]</td>\n",
       "      <td>[hard, keep, straight, face, knowing, pillar, ...</td>\n",
       "      <td>[14 hour, hour later, later ,, , and, ha not, ...</td>\n",
       "      <td>[hard to, to keep, keep a, a straight, straigh...</td>\n",
       "      <td>[14 hour later, hour later ,, later , and, , a...</td>\n",
       "      <td>[hard to keep, to keep a, keep a straight, a s...</td>\n",
       "      <td>0.0000</td>\n",
       "      <td>-0.7876</td>\n",
       "      <td>neutral</td>\n",
       "      <td>negative</td>\n",
       "    </tr>\n",
       "    <tr>\n",
       "      <th>4</th>\n",
       "      <td>\"but i am such a nice guy!\"</td>\n",
       "      <td>why pandas are not mating</td>\n",
       "      <td>0</td>\n",
       "      <td>[``, nice, guy, !, '']</td>\n",
       "      <td>[panda, not, mating]</td>\n",
       "      <td>[`` but, a nice, nice guy, guy !, ! '']</td>\n",
       "      <td>[why panda, panda are, are not, not mating]</td>\n",
       "      <td>[`` but i, such a nice, a nice guy, nice guy !...</td>\n",
       "      <td>[why panda are, panda are not, are not mating]</td>\n",
       "      <td>0.6114</td>\n",
       "      <td>0.0000</td>\n",
       "      <td>positive</td>\n",
       "      <td>neutral</td>\n",
       "    </tr>\n",
       "  </tbody>\n",
       "</table>\n",
       "</div>"
      ],
      "text/plain": [
       "                                          comment  \\\n",
       "0               i just want his mutator for that!   \n",
       "1                           i am the adultierest.   \n",
       "2  take a cold shower, it will help tremendously.   \n",
       "3  14 hours later, and she has not responded yet.   \n",
       "4                     \"but i am such a nice guy!\"   \n",
       "\n",
       "                                      parent_comment  label  \\\n",
       "0  at 0:06, if you look closely you can see that ...      1   \n",
       "1                                 an adultier adult.      0   \n",
       "2  day 7 my balls hurt, i feel dizzy, losing conf...      0   \n",
       "3  hard to keep a straight face knowing that the ...      0   \n",
       "4                          why pandas are not mating      0   \n",
       "\n",
       "                                   comment_tokens  \\\n",
       "0                              [want, mutator, !]   \n",
       "1                                [adultierest, .]   \n",
       "2  [take, cold, shower, ,, help, tremendously, .]   \n",
       "3    [14, hour, later, ,, not, responded, yet, .]   \n",
       "4                          [``, nice, guy, !, '']   \n",
       "\n",
       "                               parent_comment_tokens  \\\n",
       "0  [0:06, ,, look, closely, see, fake, two, ball,...   \n",
       "1                               [adultier, adult, .]   \n",
       "2  [day, 7, ball, hurt, ,, feel, dizzy, ,, losing...   \n",
       "3  [hard, keep, straight, face, knowing, pillar, ...   \n",
       "4                               [panda, not, mating]   \n",
       "\n",
       "                               comment_tokens_bigram  \\\n",
       "0  [just want, want his, his mutator, mutator for...   \n",
       "1                   [the adultierest, adultierest .]   \n",
       "2  [take a, a cold, cold shower, shower ,, , it, ...   \n",
       "3  [14 hour, hour later, later ,, , and, ha not, ...   \n",
       "4            [`` but, a nice, nice guy, guy !, ! '']   \n",
       "\n",
       "                        parent_comment_tokens_bigram  \\\n",
       "0  [at 0:06, 0:06 ,, , if, you look, look closely...   \n",
       "1             [an adultier, adultier adult, adult .]   \n",
       "2  [day 7, 7 my, my ball, ball hurt, hurt ,, , i,...   \n",
       "3  [hard to, to keep, keep a, a straight, straigh...   \n",
       "4        [why panda, panda are, are not, not mating]   \n",
       "\n",
       "                              comment_tokens_trigram  \\\n",
       "0  [i just want, just want his, want his mutator,...   \n",
       "1            [am the adultierest, the adultierest .]   \n",
       "2  [take a cold, a cold shower, cold shower ,, sh...   \n",
       "3  [14 hour later, hour later ,, later , and, , a...   \n",
       "4  [`` but i, such a nice, a nice guy, nice guy !...   \n",
       "\n",
       "                       parent_comment_tokens_trigram  comment_score  \\\n",
       "0  [at 0:06 ,, 0:06 , if, , if you, if you look, ...         0.1511   \n",
       "1              [an adultier adult, adultier adult .]         0.0000   \n",
       "2  [day 7 my, 7 my ball, my ball hurt, ball hurt ...         0.4019   \n",
       "3  [hard to keep, to keep a, keep a straight, a s...         0.0000   \n",
       "4     [why panda are, panda are not, are not mating]         0.6114   \n",
       "\n",
       "   parent_comment_score weighted_comment_sentiment_score  \\\n",
       "0               -0.4767                          neutral   \n",
       "1                0.0000                          neutral   \n",
       "2                0.3178                         positive   \n",
       "3               -0.7876                          neutral   \n",
       "4                0.0000                         positive   \n",
       "\n",
       "  weighted_parent_sentiment_score  \n",
       "0                        negative  \n",
       "1                         neutral  \n",
       "2                        positive  \n",
       "3                        negative  \n",
       "4                         neutral  "
      ]
     },
     "execution_count": 143,
     "metadata": {},
     "output_type": "execute_result"
    }
   ],
   "source": [
    "def sentiment(score):\n",
    "    if (score >= 0.25):\n",
    "        return 'positive'\n",
    "    elif (score <= -0.25):\n",
    "        return 'negative'\n",
    "    else:\n",
    "        return 'neutral'\n",
    "    \n",
    "data['weighted_comment_sentiment_score'] = data['comment_score'].apply(sentiment)\n",
    "data['weighted_parent_sentiment_score'] = data['parent_comment_score'].apply(sentiment)\n",
    "data.head()"
   ]
  },
  {
   "cell_type": "code",
   "execution_count": 144,
   "metadata": {},
   "outputs": [
    {
     "name": "stdout",
     "output_type": "stream",
     "text": [
      "weighted_comment_sentiment_score  negative  neutral  positive\n",
      "label                                                        \n",
      "0                                    18844    52170     29948\n",
      "1                                    21556    45972     33529\n"
     ]
    }
   ],
   "source": [
    "contingency_table = pd.crosstab(data['label'], data['weighted_comment_sentiment_score'])\n",
    "\n",
    "# Display the contingency table\n",
    "print(contingency_table)"
   ]
  },
  {
   "cell_type": "code",
   "execution_count": 145,
   "metadata": {},
   "outputs": [
    {
     "name": "stdout",
     "output_type": "stream",
     "text": [
      "Chi-Square Value: 775.4522926669528\n",
      "P-value: 4.098964506892753e-169\n"
     ]
    }
   ],
   "source": [
    "chi2, p, _, _ = chi2_contingency(contingency_table)\n",
    "print(f'Chi-Square Value: {chi2}')\n",
    "print(f'P-value: {p}')"
   ]
  },
  {
   "cell_type": "code",
   "execution_count": 146,
   "metadata": {},
   "outputs": [
    {
     "data": {
      "image/png": "[encoded data removed]",
      "text/plain": [
       "<Figure size 640x480 with 1 Axes>"
      ]
     },
     "metadata": {},
     "output_type": "display_data"
    }
   ],
   "source": [
    "stacked_data = data.groupby(['weighted_comment_sentiment_score', 'label']).size().unstack().fillna(0)\n",
    "\n",
    "stacked_data.plot(kind='bar', stacked=True)\n",
    "plt.title('Stacked Bar Plot: Distribution of Labels by Sentiment Score')\n",
    "plt.xlabel('Sentiment Score')\n",
    "plt.ylabel('Count')\n",
    "plt.xticks(rotation=0)\n",
    "plt.legend(title='Label', labels=['Not Sarcastic', 'Sarcastic'])\n",
    "plt.show()"
   ]
  },
  {
   "cell_type": "code",
   "execution_count": 147,
   "metadata": {},
   "outputs": [
    {
     "data": {
      "image/png": "[encoded data removed]",
      "text/plain": [
       "<Figure size 640x480 with 2 Axes>"
      ]
     },
     "metadata": {},
     "output_type": "display_data"
    }
   ],
   "source": [
    "heatmap_data = data.groupby(['weighted_comment_sentiment_score', 'label']).size().unstack().fillna(0)\n",
    "sns.heatmap(heatmap_data, annot=True, fmt='d', cmap='coolwarm')\n",
    "plt.title('Heatmap: Distribution of Labels by Sentiment Score')\n",
    "plt.xlabel('Label (0: Not Sarcastic, 1: Sarcastic)')\n",
    "plt.ylabel('Sentiment Score')\n",
    "plt.show()"
   ]
  },
  {
   "cell_type": "code",
   "execution_count": 148,
   "metadata": {},
   "outputs": [],
   "source": [
    "# One Hot Encode Weighted Sentiment Scores\n",
    "data = pd.get_dummies(data, columns = ['weighted_parent_sentiment_score','weighted_comment_sentiment_score'], drop_first=True)"
   ]
  },
  {
   "cell_type": "code",
   "execution_count": 149,
   "metadata": {},
   "outputs": [
    {
     "data": {
      "text/html": [
       "<div>\n",
       "<style scoped>\n",
       "    .dataframe tbody tr th:only-of-type {\n",
       "        vertical-align: middle;\n",
       "    }\n",
       "\n",
       "    .dataframe tbody tr th {\n",
       "        vertical-align: top;\n",
       "    }\n",
       "\n",
       "    .dataframe thead th {\n",
       "        text-align: right;\n",
       "    }\n",
       "</style>\n",
       "<table border=\"1\" class=\"dataframe\">\n",
       "  <thead>\n",
       "    <tr style=\"text-align: right;\">\n",
       "      <th></th>\n",
       "      <th>comment</th>\n",
       "      <th>parent_comment</th>\n",
       "      <th>label</th>\n",
       "      <th>comment_tokens</th>\n",
       "      <th>parent_comment_tokens</th>\n",
       "      <th>comment_tokens_bigram</th>\n",
       "      <th>parent_comment_tokens_bigram</th>\n",
       "      <th>comment_tokens_trigram</th>\n",
       "      <th>parent_comment_tokens_trigram</th>\n",
       "      <th>comment_score</th>\n",
       "      <th>parent_comment_score</th>\n",
       "      <th>weighted_parent_sentiment_score_neutral</th>\n",
       "      <th>weighted_parent_sentiment_score_positive</th>\n",
       "      <th>weighted_comment_sentiment_score_neutral</th>\n",
       "      <th>weighted_comment_sentiment_score_positive</th>\n",
       "    </tr>\n",
       "  </thead>\n",
       "  <tbody>\n",
       "    <tr>\n",
       "      <th>0</th>\n",
       "      <td>i just want his mutator for that!</td>\n",
       "      <td>at 0:06, if you look closely you can see that ...</td>\n",
       "      <td>1</td>\n",
       "      <td>[want, mutator, !]</td>\n",
       "      <td>[0:06, ,, look, closely, see, fake, two, ball,...</td>\n",
       "      <td>[just want, want his, his mutator, mutator for...</td>\n",
       "      <td>[at 0:06, 0:06 ,, , if, you look, look closely...</td>\n",
       "      <td>[i just want, just want his, want his mutator,...</td>\n",
       "      <td>[at 0:06 ,, 0:06 , if, , if you, if you look, ...</td>\n",
       "      <td>0.1511</td>\n",
       "      <td>-0.4767</td>\n",
       "      <td>0</td>\n",
       "      <td>0</td>\n",
       "      <td>1</td>\n",
       "      <td>0</td>\n",
       "    </tr>\n",
       "    <tr>\n",
       "      <th>1</th>\n",
       "      <td>i am the adultierest.</td>\n",
       "      <td>an adultier adult.</td>\n",
       "      <td>0</td>\n",
       "      <td>[adultierest, .]</td>\n",
       "      <td>[adultier, adult, .]</td>\n",
       "      <td>[the adultierest, adultierest .]</td>\n",
       "      <td>[an adultier, adultier adult, adult .]</td>\n",
       "      <td>[am the adultierest, the adultierest .]</td>\n",
       "      <td>[an adultier adult, adultier adult .]</td>\n",
       "      <td>0.0000</td>\n",
       "      <td>0.0000</td>\n",
       "      <td>1</td>\n",
       "      <td>0</td>\n",
       "      <td>1</td>\n",
       "      <td>0</td>\n",
       "    </tr>\n",
       "    <tr>\n",
       "      <th>2</th>\n",
       "      <td>take a cold shower, it will help tremendously.</td>\n",
       "      <td>day 7 my balls hurt, i feel dizzy, losing conf...</td>\n",
       "      <td>0</td>\n",
       "      <td>[take, cold, shower, ,, help, tremendously, .]</td>\n",
       "      <td>[day, 7, ball, hurt, ,, feel, dizzy, ,, losing...</td>\n",
       "      <td>[take a, a cold, cold shower, shower ,, , it, ...</td>\n",
       "      <td>[day 7, 7 my, my ball, ball hurt, hurt ,, , i,...</td>\n",
       "      <td>[take a cold, a cold shower, cold shower ,, sh...</td>\n",
       "      <td>[day 7 my, 7 my ball, my ball hurt, ball hurt ...</td>\n",
       "      <td>0.4019</td>\n",
       "      <td>0.3178</td>\n",
       "      <td>0</td>\n",
       "      <td>1</td>\n",
       "      <td>0</td>\n",
       "      <td>1</td>\n",
       "    </tr>\n",
       "    <tr>\n",
       "      <th>3</th>\n",
       "      <td>14 hours later, and she has not responded yet.</td>\n",
       "      <td>hard to keep a straight face knowing that the ...</td>\n",
       "      <td>0</td>\n",
       "      <td>[14, hour, later, ,, not, responded, yet, .]</td>\n",
       "      <td>[hard, keep, straight, face, knowing, pillar, ...</td>\n",
       "      <td>[14 hour, hour later, later ,, , and, ha not, ...</td>\n",
       "      <td>[hard to, to keep, keep a, a straight, straigh...</td>\n",
       "      <td>[14 hour later, hour later ,, later , and, , a...</td>\n",
       "      <td>[hard to keep, to keep a, keep a straight, a s...</td>\n",
       "      <td>0.0000</td>\n",
       "      <td>-0.7876</td>\n",
       "      <td>0</td>\n",
       "      <td>0</td>\n",
       "      <td>1</td>\n",
       "      <td>0</td>\n",
       "    </tr>\n",
       "    <tr>\n",
       "      <th>4</th>\n",
       "      <td>\"but i am such a nice guy!\"</td>\n",
       "      <td>why pandas are not mating</td>\n",
       "      <td>0</td>\n",
       "      <td>[``, nice, guy, !, '']</td>\n",
       "      <td>[panda, not, mating]</td>\n",
       "      <td>[`` but, a nice, nice guy, guy !, ! '']</td>\n",
       "      <td>[why panda, panda are, are not, not mating]</td>\n",
       "      <td>[`` but i, such a nice, a nice guy, nice guy !...</td>\n",
       "      <td>[why panda are, panda are not, are not mating]</td>\n",
       "      <td>0.6114</td>\n",
       "      <td>0.0000</td>\n",
       "      <td>1</td>\n",
       "      <td>0</td>\n",
       "      <td>0</td>\n",
       "      <td>1</td>\n",
       "    </tr>\n",
       "  </tbody>\n",
       "</table>\n",
       "</div>"
      ],
      "text/plain": [
       "                                          comment  \\\n",
       "0               i just want his mutator for that!   \n",
       "1                           i am the adultierest.   \n",
       "2  take a cold shower, it will help tremendously.   \n",
       "3  14 hours later, and she has not responded yet.   \n",
       "4                     \"but i am such a nice guy!\"   \n",
       "\n",
       "                                      parent_comment  label  \\\n",
       "0  at 0:06, if you look closely you can see that ...      1   \n",
       "1                                 an adultier adult.      0   \n",
       "2  day 7 my balls hurt, i feel dizzy, losing conf...      0   \n",
       "3  hard to keep a straight face knowing that the ...      0   \n",
       "4                          why pandas are not mating      0   \n",
       "\n",
       "                                   comment_tokens  \\\n",
       "0                              [want, mutator, !]   \n",
       "1                                [adultierest, .]   \n",
       "2  [take, cold, shower, ,, help, tremendously, .]   \n",
       "3    [14, hour, later, ,, not, responded, yet, .]   \n",
       "4                          [``, nice, guy, !, '']   \n",
       "\n",
       "                               parent_comment_tokens  \\\n",
       "0  [0:06, ,, look, closely, see, fake, two, ball,...   \n",
       "1                               [adultier, adult, .]   \n",
       "2  [day, 7, ball, hurt, ,, feel, dizzy, ,, losing...   \n",
       "3  [hard, keep, straight, face, knowing, pillar, ...   \n",
       "4                               [panda, not, mating]   \n",
       "\n",
       "                               comment_tokens_bigram  \\\n",
       "0  [just want, want his, his mutator, mutator for...   \n",
       "1                   [the adultierest, adultierest .]   \n",
       "2  [take a, a cold, cold shower, shower ,, , it, ...   \n",
       "3  [14 hour, hour later, later ,, , and, ha not, ...   \n",
       "4            [`` but, a nice, nice guy, guy !, ! '']   \n",
       "\n",
       "                        parent_comment_tokens_bigram  \\\n",
       "0  [at 0:06, 0:06 ,, , if, you look, look closely...   \n",
       "1             [an adultier, adultier adult, adult .]   \n",
       "2  [day 7, 7 my, my ball, ball hurt, hurt ,, , i,...   \n",
       "3  [hard to, to keep, keep a, a straight, straigh...   \n",
       "4        [why panda, panda are, are not, not mating]   \n",
       "\n",
       "                              comment_tokens_trigram  \\\n",
       "0  [i just want, just want his, want his mutator,...   \n",
       "1            [am the adultierest, the adultierest .]   \n",
       "2  [take a cold, a cold shower, cold shower ,, sh...   \n",
       "3  [14 hour later, hour later ,, later , and, , a...   \n",
       "4  [`` but i, such a nice, a nice guy, nice guy !...   \n",
       "\n",
       "                       parent_comment_tokens_trigram  comment_score  \\\n",
       "0  [at 0:06 ,, 0:06 , if, , if you, if you look, ...         0.1511   \n",
       "1              [an adultier adult, adultier adult .]         0.0000   \n",
       "2  [day 7 my, 7 my ball, my ball hurt, ball hurt ...         0.4019   \n",
       "3  [hard to keep, to keep a, keep a straight, a s...         0.0000   \n",
       "4     [why panda are, panda are not, are not mating]         0.6114   \n",
       "\n",
       "   parent_comment_score  weighted_parent_sentiment_score_neutral  \\\n",
       "0               -0.4767                                        0   \n",
       "1                0.0000                                        1   \n",
       "2                0.3178                                        0   \n",
       "3               -0.7876                                        0   \n",
       "4                0.0000                                        1   \n",
       "\n",
       "   weighted_parent_sentiment_score_positive  \\\n",
       "0                                         0   \n",
       "1                                         0   \n",
       "2                                         1   \n",
       "3                                         0   \n",
       "4                                         0   \n",
       "\n",
       "   weighted_comment_sentiment_score_neutral  \\\n",
       "0                                         1   \n",
       "1                                         1   \n",
       "2                                         0   \n",
       "3                                         1   \n",
       "4                                         0   \n",
       "\n",
       "   weighted_comment_sentiment_score_positive  \n",
       "0                                          0  \n",
       "1                                          0  \n",
       "2                                          1  \n",
       "3                                          0  \n",
       "4                                          1  "
      ]
     },
     "execution_count": 149,
     "metadata": {},
     "output_type": "execute_result"
    }
   ],
   "source": [
    "data.head()"
   ]
  },
  {
   "cell_type": "markdown",
   "metadata": {},
   "source": [
    "### Basic Text Features\n",
    "- extracted these features mostly from the original sentences\n",
    "- extracted token count, unique token count and mean token length"
   ]
  },
  {
   "cell_type": "code",
   "execution_count": 150,
   "metadata": {},
   "outputs": [
    {
     "name": "stderr",
     "output_type": "stream",
     "text": [
      "c:\\Users\\dxcas\\AppData\\Local\\Programs\\Python\\Python39\\lib\\site-packages\\numpy\\core\\fromnumeric.py:3440: RuntimeWarning: Mean of empty slice.\n",
      "  return _methods._mean(a, axis=axis, dtype=dtype,\n"
     ]
    }
   ],
   "source": [
    "#data = data[['label','comment', 'parent_comment']]\n",
    "###pre-tokenised###\n",
    "# Word Count\n",
    "data['comment_word_count'] = data['comment'].apply(lambda x: len(str(x).split()))\n",
    "data['parent_comment_word_count'] = data['parent_comment'].apply(lambda x: len(str(x).split()))\n",
    "data['comment_token_count'] = data['comment_tokens'].apply(lambda x: len(x))\n",
    "data['parent_comment_token_count'] = data['parent_comment_tokens'].apply(lambda x: len(x))\n",
    "\n",
    "# Unique Word Count\n",
    "data['comment_unique_word_count'] = data['comment'].apply(lambda x: len(set(str(x).split())))\n",
    "data['parent_comment_unique_word_count'] = data['parent_comment'].apply(lambda x: len(set(str(x).split())))\n",
    "data['comment_unique_token_count'] = data['comment_tokens'].apply(lambda x: len(set(x)))\n",
    "data['parent_comment_unique_token_count'] = data['parent_comment_tokens'].apply(lambda x: len(set(x)))\n",
    "\n",
    "# Stop Word Count\n",
    "stop = stopwords.words('english')\n",
    "data['comment_stopword_count'] = data['comment'].apply(lambda x: len([word for word in str(x).split() if word.lower() in stop]))\n",
    "data['parent_comment_stopword_count'] = data['parent_comment'].apply(lambda x: len([word for word in str(x).split() if word.lower() in stop]))\n",
    "\n",
    "# Mean Word Length\n",
    "data['comment_mean_word_length'] = data['comment'].apply(lambda x: np.mean([len(word) for word in str(x).split()]))\n",
    "data['parent_comment_mean_word_length'] = data['parent_comment'].apply(lambda x: np.mean([len(word) for word in str(x).split()]))\n",
    "data['comment_mean_token_length'] = data['comment_tokens'].apply(lambda x: np.mean([len(token) for token in x]))\n",
    "data['parent_comment_mean_token_length'] = data['parent_comment_tokens'].apply(lambda x: np.mean([len(token) for token in x]))\n",
    "\n",
    "# Character Count\n",
    "data['comment_char_count'] = data['comment'].apply(lambda x: len(str(x)))\n",
    "data['parent_comment_char_count'] = data['parent_comment'].apply(lambda x: len(str(x)))\n",
    "\n",
    "# Punctuation Count\n",
    "data['comment_punctuation_count'] = data['comment'].apply(lambda x: len([char for char in str(x) if char in string.punctuation]))\n",
    "data['parent_comment_punctuation_count'] = data['parent_comment'].apply(lambda x: len([char for char in str(x) if char in string.punctuation]))\n",
    "\n",
    "# Hashtag and Number Count\n",
    "data['comment_hashtag_count'] = data['comment'].apply(lambda x: len([word for word in str(x).split() if word.startswith('#')]))\n",
    "data['parent_comment_hashtag_count'] = data['parent_comment'].apply(lambda x: len([word for word in str(x).split() if word.startswith('#')]))\n",
    "\n",
    "data['comment_number_count'] = data['comment'].apply(lambda x: len([word for word in str(x).split() if word.isdigit()]))\n",
    "data['parent_comment_number_count'] = data['parent_comment'].apply(lambda x: len([word for word in str(x).split() if word.isdigit()]))\n",
    "\n"
   ]
  },
  {
   "cell_type": "code",
   "execution_count": 151,
   "metadata": {},
   "outputs": [
    {
     "data": {
      "text/plain": [
       "comment                                        0\n",
       "parent_comment                                 0\n",
       "label                                          0\n",
       "comment_tokens                                 0\n",
       "parent_comment_tokens                          0\n",
       "comment_tokens_bigram                          0\n",
       "parent_comment_tokens_bigram                   0\n",
       "comment_tokens_trigram                         0\n",
       "parent_comment_tokens_trigram                  0\n",
       "comment_score                                  0\n",
       "parent_comment_score                           0\n",
       "weighted_parent_sentiment_score_neutral        0\n",
       "weighted_parent_sentiment_score_positive       0\n",
       "weighted_comment_sentiment_score_neutral       0\n",
       "weighted_comment_sentiment_score_positive      0\n",
       "comment_word_count                             0\n",
       "parent_comment_word_count                      0\n",
       "comment_token_count                            0\n",
       "parent_comment_token_count                     0\n",
       "comment_unique_word_count                      0\n",
       "parent_comment_unique_word_count               0\n",
       "comment_unique_token_count                     0\n",
       "parent_comment_unique_token_count              0\n",
       "comment_stopword_count                         0\n",
       "parent_comment_stopword_count                  0\n",
       "comment_mean_word_length                     252\n",
       "parent_comment_mean_word_length               76\n",
       "comment_mean_token_length                    558\n",
       "parent_comment_mean_token_length             252\n",
       "comment_char_count                             0\n",
       "parent_comment_char_count                      0\n",
       "comment_punctuation_count                      0\n",
       "parent_comment_punctuation_count               0\n",
       "comment_hashtag_count                          0\n",
       "parent_comment_hashtag_count                   0\n",
       "comment_number_count                           0\n",
       "parent_comment_number_count                    0\n",
       "dtype: int64"
      ]
     },
     "execution_count": 151,
     "metadata": {},
     "output_type": "execute_result"
    }
   ],
   "source": [
    "data.isna().sum()"
   ]
  },
  {
   "cell_type": "code",
   "execution_count": 152,
   "metadata": {},
   "outputs": [
    {
     "name": "stdout",
     "output_type": "stream",
     "text": [
      "Number of Entries before filter: 202019\n",
      "Number of Entries after filter: 201264\n"
     ]
    }
   ],
   "source": [
    "# Filtering out all the entries with no comment, no comment tokens, no parent comments (mean of feature = 0)\n",
    "data_filtered = data.dropna()\n",
    "print('Number of Entries before filter:', len(data))\n",
    "print('Number of Entries after filter:', len(data_filtered))\n",
    "\n",
    "data = data_filtered\n"
   ]
  },
  {
   "cell_type": "markdown",
   "metadata": {},
   "source": [
    "### Bag of Words"
   ]
  },
  {
   "cell_type": "code",
   "execution_count": 153,
   "metadata": {},
   "outputs": [],
   "source": [
    "documents_comments = data['comment_tokens'].apply(lambda tokens_list:' '.join(tokens_list))\n",
    "documents_parent_comments = data['parent_comment_tokens'].apply(lambda tokens_list:' '.join(tokens_list))"
   ]
  },
  {
   "cell_type": "code",
   "execution_count": 154,
   "metadata": {},
   "outputs": [],
   "source": [
    "# For comments\n",
    "vectorizer_comments = CountVectorizer(min_df=4, ngram_range=(1, 3))\n",
    "bow_matrix_comments = vectorizer_comments.fit_transform(documents_comments)\n",
    "bow_matrix_csr = csr_matrix(bow_matrix_comments)\n",
    "data['comment_bow'] = [row for row in bow_matrix_csr]\n",
    "\n",
    "# For parent comments\n",
    "vectorizer_parent_comments = CountVectorizer(min_df=4, ngram_range=(1, 3))\n",
    "bow_matrix_parent_comments = vectorizer_parent_comments.fit_transform(documents_parent_comments)\n",
    "bow_matrix_csr_parent = csr_matrix(bow_matrix_parent_comments)\n",
    "data['parent_comment_bow'] = [row for row in bow_matrix_csr_parent]\n"
   ]
  },
  {
   "cell_type": "code",
   "execution_count": 155,
   "metadata": {},
   "outputs": [],
   "source": [
    "### Function to extract feature names from CSR representation\n",
    "feature_names_bow = vectorizer_comments.get_feature_names_out() # to reverse\n",
    "def bow_to_words(bow_vector, feature_names):\n",
    "    # Convert the sparse matrix row to a dense array\n",
    "    array = bow_vector.toarray().flatten()\n",
    "    # Get the tokens that have a count > 0\n",
    "    tokens = [feature_names[i] for i, count in enumerate(array) if count > 0]\n",
    "    return tokens"
   ]
  },
  {
   "cell_type": "code",
   "execution_count": 156,
   "metadata": {},
   "outputs": [
    {
     "data": {
      "text/plain": [
       "['want']"
      ]
     },
     "execution_count": 156,
     "metadata": {},
     "output_type": "execute_result"
    }
   ],
   "source": [
    "bow_to_words(data['comment_bow'].iloc[0],feature_names_bow) # we see that the trigrams are not present in this one example- likely due to the trigrams being much more rare."
   ]
  },
  {
   "cell_type": "markdown",
   "metadata": {},
   "source": [
    "### TD-IDF"
   ]
  },
  {
   "cell_type": "code",
   "execution_count": 157,
   "metadata": {},
   "outputs": [],
   "source": [
    "tdvectorizer_comments = TfidfVectorizer(min_df = 4, ngram_range=(1, 3))\n",
    "tdidf_matrix_comments = tdvectorizer_comments.fit_transform(documents_comments)\n",
    "tdidf_matrix_csr = csr_matrix(tdidf_matrix_comments)\n",
    "data['comment_tdidf'] = [row for row in tdidf_matrix_csr]\n",
    "\n",
    "tdvectorizer_parent_comments = TfidfVectorizer(min_df = 4, ngram_range=(1, 3))\n",
    "tdidf_matrix_parent_comments = tdvectorizer_parent_comments.fit_transform(documents_parent_comments)\n",
    "tdidf_matrix_csr_parent = csr_matrix(tdidf_matrix_parent_comments)\n",
    "data['parent_comment_tdidf'] = [row for row in tdidf_matrix_csr_parent]"
   ]
  },
  {
   "cell_type": "code",
   "execution_count": 158,
   "metadata": {},
   "outputs": [],
   "source": [
    "feature_names_tfidf = tdvectorizer_comments.get_feature_names_out()\n",
    "def tfidf_to_words(tfidf_row, feature_names):\n",
    "    \"\"\"\n",
    "    Convert a TF-IDF row to its word representation.\n",
    "    :param tfidf_row: A single row from a sparse matrix.\n",
    "    :param feature_names: List of feature names from the TF-IDF vectorizer.\n",
    "    :return: List of words from the TF-IDF row.\n",
    "    \"\"\"\n",
    "    dense_tfidf = tfidf_row.toarray().flatten()\n",
    "    words_indices = dense_tfidf.nonzero()[0]\n",
    "    words = [(feature_names[index], dense_tfidf[index]) for index in words_indices]\n",
    "    return words"
   ]
  },
  {
   "cell_type": "markdown",
   "metadata": {},
   "source": [
    "reducing size of tf-idf map for RNN"
   ]
  },
  {
   "cell_type": "code",
   "execution_count": 159,
   "metadata": {},
   "outputs": [
    {
     "data": {
      "text/plain": [
       "array(['00', '000', '000 000', ..., 'zone', 'zoo', 'zoom'], dtype=object)"
      ]
     },
     "execution_count": 159,
     "metadata": {},
     "output_type": "execute_result"
    }
   ],
   "source": [
    "tdvectorizer_comments_nn = TfidfVectorizer(min_df = 20, ngram_range=(1, 3))\n",
    "tdidf_matrix_comments_nn = tdvectorizer_comments_nn.fit_transform(documents_comments)\n",
    "tdidf_matrix_nn_csr = csr_matrix(tdidf_matrix_comments_nn)\n",
    "data['comment_tdidf_nn'] = [row for row in tdidf_matrix_nn_csr]\n",
    "len(tdvectorizer_comments_nn.get_feature_names_out())# if we increase min_df to 10, number of features reduces to 15799\n",
    "tdvectorizer_comments_nn.get_feature_names_out()"
   ]
  },
  {
   "cell_type": "code",
   "execution_count": 160,
   "metadata": {},
   "outputs": [
    {
     "name": "stdout",
     "output_type": "stream",
     "text": [
      "  (0, 156)\t1\n",
      "  (0, 16021)\t1\n",
      "  (0, 18394)\t1\n",
      "  (0, 24289)\t1\n",
      "  (0, 31745)\t1\n",
      "  (0, 43648)\t1\n",
      "  (0, 158)\t1\n",
      "  (0, 16031)\t1\n",
      "  (0, 18396)\t1\n",
      "['14', '14 hour', 'hour', 'hour later', 'later', 'later not', 'not', 'responded', 'yet']\n",
      "  (0, 18396)\t0.4374609357012079\n",
      "  (0, 16031)\t0.4044534928331277\n",
      "  (0, 158)\t0.43058693996301034\n",
      "  (0, 43648)\t0.24745695197921966\n",
      "  (0, 31745)\t0.3738793196620071\n",
      "  (0, 24289)\t0.10172406520106882\n",
      "  (0, 18394)\t0.29166403580172623\n",
      "  (0, 16021)\t0.2558456319519351\n",
      "  (0, 156)\t0.31264487464207613\n",
      "[('14', 0.31264487464207613), ('14 hour', 0.43058693996301034), ('hour', 0.2558456319519351), ('hour later', 0.4044534928331277), ('later', 0.29166403580172623), ('later not', 0.4374609357012079), ('not', 0.10172406520106882), ('responded', 0.3738793196620071), ('yet', 0.24745695197921966)]\n"
     ]
    }
   ],
   "source": [
    "# Testing out Extraction\n",
    "df = data.head(10)\n",
    "#print(data.columns)\n",
    "#df[['comment_bow', 'comment_tdidf']]\n",
    "print(df['comment_bow'].iloc[3])\n",
    "print(bow_to_words(df['comment_bow'].iloc[3], feature_names_bow))\n",
    "print(df['comment_tdidf'].iloc[3])\n",
    "print(tfidf_to_words(df['comment_tdidf'].iloc[3], feature_names_tfidf))"
   ]
  },
  {
   "cell_type": "code",
   "execution_count": 161,
   "metadata": {},
   "outputs": [],
   "source": [
    "data.to_pickle(\"data/data_w_feature_eng.pkl\")"
   ]
  },
  {
   "cell_type": "code",
   "execution_count": 162,
   "metadata": {},
   "outputs": [
    {
     "data": {
      "text/html": [
       "<div>\n",
       "<style scoped>\n",
       "    .dataframe tbody tr th:only-of-type {\n",
       "        vertical-align: middle;\n",
       "    }\n",
       "\n",
       "    .dataframe tbody tr th {\n",
       "        vertical-align: top;\n",
       "    }\n",
       "\n",
       "    .dataframe thead th {\n",
       "        text-align: right;\n",
       "    }\n",
       "</style>\n",
       "<table border=\"1\" class=\"dataframe\">\n",
       "  <thead>\n",
       "    <tr style=\"text-align: right;\">\n",
       "      <th></th>\n",
       "      <th>comment</th>\n",
       "      <th>parent_comment</th>\n",
       "      <th>label</th>\n",
       "      <th>comment_tokens</th>\n",
       "      <th>parent_comment_tokens</th>\n",
       "      <th>comment_tokens_bigram</th>\n",
       "      <th>parent_comment_tokens_bigram</th>\n",
       "      <th>comment_tokens_trigram</th>\n",
       "      <th>parent_comment_tokens_trigram</th>\n",
       "      <th>comment_score</th>\n",
       "      <th>...</th>\n",
       "      <th>parent_comment_punctuation_count</th>\n",
       "      <th>comment_hashtag_count</th>\n",
       "      <th>parent_comment_hashtag_count</th>\n",
       "      <th>comment_number_count</th>\n",
       "      <th>parent_comment_number_count</th>\n",
       "      <th>comment_bow</th>\n",
       "      <th>parent_comment_bow</th>\n",
       "      <th>comment_tdidf</th>\n",
       "      <th>parent_comment_tdidf</th>\n",
       "      <th>comment_tdidf_nn</th>\n",
       "    </tr>\n",
       "  </thead>\n",
       "  <tbody>\n",
       "    <tr>\n",
       "      <th>0</th>\n",
       "      <td>i just want his mutator for that!</td>\n",
       "      <td>at 0:06, if you look closely you can see that ...</td>\n",
       "      <td>1</td>\n",
       "      <td>[want, mutator, !]</td>\n",
       "      <td>[0:06, ,, look, closely, see, fake, two, ball,...</td>\n",
       "      <td>[just want, want his, his mutator, mutator for...</td>\n",
       "      <td>[at 0:06, 0:06 ,, , if, you look, look closely...</td>\n",
       "      <td>[i just want, just want his, want his mutator,...</td>\n",
       "      <td>[at 0:06 ,, 0:06 , if, , if you, if you look, ...</td>\n",
       "      <td>0.1511</td>\n",
       "      <td>...</td>\n",
       "      <td>3</td>\n",
       "      <td>0</td>\n",
       "      <td>0</td>\n",
       "      <td>0</td>\n",
       "      <td>0</td>\n",
       "      <td>(0, 40466)\\t1</td>\n",
       "      <td>(0, 77)\\t1\\n  (0, 48477)\\t1\\n  (0, 14789)\\t1...</td>\n",
       "      <td>(0, 40466)\\t1.0</td>\n",
       "      <td>(0, 8031)\\t0.3814012370841314\\n  (0, 78385)\\...</td>\n",
       "      <td>(0, 7585)\\t1.0</td>\n",
       "    </tr>\n",
       "    <tr>\n",
       "      <th>1</th>\n",
       "      <td>i am the adultierest.</td>\n",
       "      <td>an adultier adult.</td>\n",
       "      <td>0</td>\n",
       "      <td>[adultierest, .]</td>\n",
       "      <td>[adultier, adult, .]</td>\n",
       "      <td>[the adultierest, adultierest .]</td>\n",
       "      <td>[an adultier, adultier adult, adult .]</td>\n",
       "      <td>[am the adultierest, the adultierest .]</td>\n",
       "      <td>[an adultier adult, adultier adult .]</td>\n",
       "      <td>0.0000</td>\n",
       "      <td>...</td>\n",
       "      <td>1</td>\n",
       "      <td>0</td>\n",
       "      <td>0</td>\n",
       "      <td>0</td>\n",
       "      <td>0</td>\n",
       "      <td></td>\n",
       "      <td>(0, 2984)\\t1</td>\n",
       "      <td></td>\n",
       "      <td>(0, 2984)\\t1.0</td>\n",
       "      <td></td>\n",
       "    </tr>\n",
       "    <tr>\n",
       "      <th>2</th>\n",
       "      <td>take a cold shower, it will help tremendously.</td>\n",
       "      <td>day 7 my balls hurt, i feel dizzy, losing conf...</td>\n",
       "      <td>0</td>\n",
       "      <td>[take, cold, shower, ,, help, tremendously, .]</td>\n",
       "      <td>[day, 7, ball, hurt, ,, feel, dizzy, ,, losing...</td>\n",
       "      <td>[take a, a cold, cold shower, shower ,, , it, ...</td>\n",
       "      <td>[day 7, 7 my, my ball, ball hurt, hurt ,, , i,...</td>\n",
       "      <td>[take a cold, a cold shower, cold shower ,, sh...</td>\n",
       "      <td>[day 7 my, 7 my ball, my ball hurt, ball hurt ...</td>\n",
       "      <td>0.4019</td>\n",
       "      <td>...</td>\n",
       "      <td>21</td>\n",
       "      <td>0</td>\n",
       "      <td>0</td>\n",
       "      <td>0</td>\n",
       "      <td>2</td>\n",
       "      <td>(0, 36813)\\t1\\n  (0, 5967)\\t1\\n  (0, 34025)\\...</td>\n",
       "      <td>(0, 48477)\\t3\\n  (0, 93259)\\t1\\n  (0, 8028)\\...</td>\n",
       "      <td>(0, 38888)\\t0.6164354520147152\\n  (0, 15399)...</td>\n",
       "      <td>(0, 88938)\\t0.1075408168007538\\n  (0, 60677)...</td>\n",
       "      <td>(0, 3047)\\t0.4371486580462719\\n  (0, 6402)\\t...</td>\n",
       "    </tr>\n",
       "    <tr>\n",
       "      <th>3</th>\n",
       "      <td>14 hours later, and she has not responded yet.</td>\n",
       "      <td>hard to keep a straight face knowing that the ...</td>\n",
       "      <td>0</td>\n",
       "      <td>[14, hour, later, ,, not, responded, yet, .]</td>\n",
       "      <td>[hard, keep, straight, face, knowing, pillar, ...</td>\n",
       "      <td>[14 hour, hour later, later ,, , and, ha not, ...</td>\n",
       "      <td>[hard to, to keep, keep a, a straight, straigh...</td>\n",
       "      <td>[14 hour later, hour later ,, later , and, , a...</td>\n",
       "      <td>[hard to keep, to keep a, keep a straight, a s...</td>\n",
       "      <td>0.0000</td>\n",
       "      <td>...</td>\n",
       "      <td>2</td>\n",
       "      <td>0</td>\n",
       "      <td>0</td>\n",
       "      <td>1</td>\n",
       "      <td>0</td>\n",
       "      <td>(0, 156)\\t1\\n  (0, 16021)\\t1\\n  (0, 18394)\\t...</td>\n",
       "      <td>(0, 58200)\\t1\\n  (0, 37180)\\t1\\n  (0, 42797)...</td>\n",
       "      <td>(0, 18396)\\t0.4374609357012079\\n  (0, 16031)...</td>\n",
       "      <td>(0, 60069)\\t0.22915217806370072\\n  (0, 70768...</td>\n",
       "      <td>(0, 8070)\\t0.36499814894293503\\n  (0, 5974)\\...</td>\n",
       "    </tr>\n",
       "    <tr>\n",
       "      <th>4</th>\n",
       "      <td>\"but i am such a nice guy!\"</td>\n",
       "      <td>why pandas are not mating</td>\n",
       "      <td>0</td>\n",
       "      <td>[``, nice, guy, !, '']</td>\n",
       "      <td>[panda, not, mating]</td>\n",
       "      <td>[`` but, a nice, nice guy, guy !, ! '']</td>\n",
       "      <td>[why panda, panda are, are not, not mating]</td>\n",
       "      <td>[`` but i, such a nice, a nice guy, nice guy !...</td>\n",
       "      <td>[why panda are, panda are not, are not mating]</td>\n",
       "      <td>0.6114</td>\n",
       "      <td>...</td>\n",
       "      <td>0</td>\n",
       "      <td>0</td>\n",
       "      <td>0</td>\n",
       "      <td>0</td>\n",
       "      <td>0</td>\n",
       "      <td>(0, 23658)\\t1\\n  (0, 14678)\\t1\\n  (0, 23669)\\t1</td>\n",
       "      <td>(0, 58200)\\t1\\n  (0, 64885)\\t1\\n  (0, 51555)\\t1</td>\n",
       "      <td>(0, 23669)\\t0.7547239180695782\\n  (0, 14678)...</td>\n",
       "      <td>(0, 51555)\\t0.7509977106269409\\n  (0, 64885)...</td>\n",
       "      <td>(0, 4492)\\t0.7547239180695782\\n  (0, 2915)\\t...</td>\n",
       "    </tr>\n",
       "  </tbody>\n",
       "</table>\n",
       "<p>5 rows × 42 columns</p>\n",
       "</div>"
      ],
      "text/plain": [
       "                                          comment  \\\n",
       "0               i just want his mutator for that!   \n",
       "1                           i am the adultierest.   \n",
       "2  take a cold shower, it will help tremendously.   \n",
       "3  14 hours later, and she has not responded yet.   \n",
       "4                     \"but i am such a nice guy!\"   \n",
       "\n",
       "                                      parent_comment  label  \\\n",
       "0  at 0:06, if you look closely you can see that ...      1   \n",
       "1                                 an adultier adult.      0   \n",
       "2  day 7 my balls hurt, i feel dizzy, losing conf...      0   \n",
       "3  hard to keep a straight face knowing that the ...      0   \n",
       "4                          why pandas are not mating      0   \n",
       "\n",
       "                                   comment_tokens  \\\n",
       "0                              [want, mutator, !]   \n",
       "1                                [adultierest, .]   \n",
       "2  [take, cold, shower, ,, help, tremendously, .]   \n",
       "3    [14, hour, later, ,, not, responded, yet, .]   \n",
       "4                          [``, nice, guy, !, '']   \n",
       "\n",
       "                               parent_comment_tokens  \\\n",
       "0  [0:06, ,, look, closely, see, fake, two, ball,...   \n",
       "1                               [adultier, adult, .]   \n",
       "2  [day, 7, ball, hurt, ,, feel, dizzy, ,, losing...   \n",
       "3  [hard, keep, straight, face, knowing, pillar, ...   \n",
       "4                               [panda, not, mating]   \n",
       "\n",
       "                               comment_tokens_bigram  \\\n",
       "0  [just want, want his, his mutator, mutator for...   \n",
       "1                   [the adultierest, adultierest .]   \n",
       "2  [take a, a cold, cold shower, shower ,, , it, ...   \n",
       "3  [14 hour, hour later, later ,, , and, ha not, ...   \n",
       "4            [`` but, a nice, nice guy, guy !, ! '']   \n",
       "\n",
       "                        parent_comment_tokens_bigram  \\\n",
       "0  [at 0:06, 0:06 ,, , if, you look, look closely...   \n",
       "1             [an adultier, adultier adult, adult .]   \n",
       "2  [day 7, 7 my, my ball, ball hurt, hurt ,, , i,...   \n",
       "3  [hard to, to keep, keep a, a straight, straigh...   \n",
       "4        [why panda, panda are, are not, not mating]   \n",
       "\n",
       "                              comment_tokens_trigram  \\\n",
       "0  [i just want, just want his, want his mutator,...   \n",
       "1            [am the adultierest, the adultierest .]   \n",
       "2  [take a cold, a cold shower, cold shower ,, sh...   \n",
       "3  [14 hour later, hour later ,, later , and, , a...   \n",
       "4  [`` but i, such a nice, a nice guy, nice guy !...   \n",
       "\n",
       "                       parent_comment_tokens_trigram  comment_score  ...  \\\n",
       "0  [at 0:06 ,, 0:06 , if, , if you, if you look, ...         0.1511  ...   \n",
       "1              [an adultier adult, adultier adult .]         0.0000  ...   \n",
       "2  [day 7 my, 7 my ball, my ball hurt, ball hurt ...         0.4019  ...   \n",
       "3  [hard to keep, to keep a, keep a straight, a s...         0.0000  ...   \n",
       "4     [why panda are, panda are not, are not mating]         0.6114  ...   \n",
       "\n",
       "   parent_comment_punctuation_count  comment_hashtag_count  \\\n",
       "0                                 3                      0   \n",
       "1                                 1                      0   \n",
       "2                                21                      0   \n",
       "3                                 2                      0   \n",
       "4                                 0                      0   \n",
       "\n",
       "   parent_comment_hashtag_count  comment_number_count  \\\n",
       "0                             0                     0   \n",
       "1                             0                     0   \n",
       "2                             0                     0   \n",
       "3                             0                     1   \n",
       "4                             0                     0   \n",
       "\n",
       "   parent_comment_number_count  \\\n",
       "0                            0   \n",
       "1                            0   \n",
       "2                            2   \n",
       "3                            0   \n",
       "4                            0   \n",
       "\n",
       "                                         comment_bow  \\\n",
       "0                                      (0, 40466)\\t1   \n",
       "1                                                      \n",
       "2    (0, 36813)\\t1\\n  (0, 5967)\\t1\\n  (0, 34025)\\...   \n",
       "3    (0, 156)\\t1\\n  (0, 16021)\\t1\\n  (0, 18394)\\t...   \n",
       "4    (0, 23658)\\t1\\n  (0, 14678)\\t1\\n  (0, 23669)\\t1   \n",
       "\n",
       "                                  parent_comment_bow  \\\n",
       "0    (0, 77)\\t1\\n  (0, 48477)\\t1\\n  (0, 14789)\\t1...   \n",
       "1                                       (0, 2984)\\t1   \n",
       "2    (0, 48477)\\t3\\n  (0, 93259)\\t1\\n  (0, 8028)\\...   \n",
       "3    (0, 58200)\\t1\\n  (0, 37180)\\t1\\n  (0, 42797)...   \n",
       "4    (0, 58200)\\t1\\n  (0, 64885)\\t1\\n  (0, 51555)\\t1   \n",
       "\n",
       "                                       comment_tdidf  \\\n",
       "0                                    (0, 40466)\\t1.0   \n",
       "1                                                      \n",
       "2    (0, 38888)\\t0.6164354520147152\\n  (0, 15399)...   \n",
       "3    (0, 18396)\\t0.4374609357012079\\n  (0, 16031)...   \n",
       "4    (0, 23669)\\t0.7547239180695782\\n  (0, 14678)...   \n",
       "\n",
       "                                parent_comment_tdidf  \\\n",
       "0    (0, 8031)\\t0.3814012370841314\\n  (0, 78385)\\...   \n",
       "1                                     (0, 2984)\\t1.0   \n",
       "2    (0, 88938)\\t0.1075408168007538\\n  (0, 60677)...   \n",
       "3    (0, 60069)\\t0.22915217806370072\\n  (0, 70768...   \n",
       "4    (0, 51555)\\t0.7509977106269409\\n  (0, 64885)...   \n",
       "\n",
       "                                    comment_tdidf_nn  \n",
       "0                                     (0, 7585)\\t1.0  \n",
       "1                                                     \n",
       "2    (0, 3047)\\t0.4371486580462719\\n  (0, 6402)\\t...  \n",
       "3    (0, 8070)\\t0.36499814894293503\\n  (0, 5974)\\...  \n",
       "4    (0, 4492)\\t0.7547239180695782\\n  (0, 2915)\\t...  \n",
       "\n",
       "[5 rows x 42 columns]"
      ]
     },
     "execution_count": 162,
     "metadata": {},
     "output_type": "execute_result"
    }
   ],
   "source": [
    "data.head()"
   ]
  },
  {
   "cell_type": "code",
   "execution_count": 163,
   "metadata": {},
   "outputs": [
    {
     "data": {
      "text/html": [
       "<div>\n",
       "<style scoped>\n",
       "    .dataframe tbody tr th:only-of-type {\n",
       "        vertical-align: middle;\n",
       "    }\n",
       "\n",
       "    .dataframe tbody tr th {\n",
       "        vertical-align: top;\n",
       "    }\n",
       "\n",
       "    .dataframe thead th {\n",
       "        text-align: right;\n",
       "    }\n",
       "</style>\n",
       "<table border=\"1\" class=\"dataframe\">\n",
       "  <thead>\n",
       "    <tr style=\"text-align: right;\">\n",
       "      <th></th>\n",
       "      <th>comment</th>\n",
       "      <th>parent_comment</th>\n",
       "      <th>label</th>\n",
       "      <th>comment_tokens</th>\n",
       "      <th>parent_comment_tokens</th>\n",
       "      <th>comment_tokens_bigram</th>\n",
       "      <th>parent_comment_tokens_bigram</th>\n",
       "      <th>comment_tokens_trigram</th>\n",
       "      <th>parent_comment_tokens_trigram</th>\n",
       "      <th>comment_score</th>\n",
       "      <th>...</th>\n",
       "      <th>parent_comment_punctuation_count</th>\n",
       "      <th>comment_hashtag_count</th>\n",
       "      <th>parent_comment_hashtag_count</th>\n",
       "      <th>comment_number_count</th>\n",
       "      <th>parent_comment_number_count</th>\n",
       "      <th>comment_bow</th>\n",
       "      <th>parent_comment_bow</th>\n",
       "      <th>comment_tdidf</th>\n",
       "      <th>parent_comment_tdidf</th>\n",
       "      <th>comment_tdidf_nn</th>\n",
       "    </tr>\n",
       "  </thead>\n",
       "  <tbody>\n",
       "  </tbody>\n",
       "</table>\n",
       "<p>0 rows × 42 columns</p>\n",
       "</div>"
      ],
      "text/plain": [
       "Empty DataFrame\n",
       "Columns: [comment, parent_comment, label, comment_tokens, parent_comment_tokens, comment_tokens_bigram, parent_comment_tokens_bigram, comment_tokens_trigram, parent_comment_tokens_trigram, comment_score, parent_comment_score, weighted_parent_sentiment_score_neutral, weighted_parent_sentiment_score_positive, weighted_comment_sentiment_score_neutral, weighted_comment_sentiment_score_positive, comment_word_count, parent_comment_word_count, comment_token_count, parent_comment_token_count, comment_unique_word_count, parent_comment_unique_word_count, comment_unique_token_count, parent_comment_unique_token_count, comment_stopword_count, parent_comment_stopword_count, comment_mean_word_length, parent_comment_mean_word_length, comment_mean_token_length, parent_comment_mean_token_length, comment_char_count, parent_comment_char_count, comment_punctuation_count, parent_comment_punctuation_count, comment_hashtag_count, parent_comment_hashtag_count, comment_number_count, parent_comment_number_count, comment_bow, parent_comment_bow, comment_tdidf, parent_comment_tdidf, comment_tdidf_nn]\n",
       "Index: []\n",
       "\n",
       "[0 rows x 42 columns]"
      ]
     },
     "execution_count": 163,
     "metadata": {},
     "output_type": "execute_result"
    }
   ],
   "source": [
    "data[data[\"comment_mean_word_length\"].isna()]"
   ]
  }
 ],
 "metadata": {
  "kernelspec": {
   "display_name": "Python 3",
   "language": "python",
   "name": "python3"
  },
  "language_info": {
   "codemirror_mode": {
    "name": "ipython",
    "version": 3
   },
   "file_extension": ".py",
   "mimetype": "text/x-python",
   "name": "python",
   "nbconvert_exporter": "python",
   "pygments_lexer": "ipython3",
   "version": "3.9.6"
  }
 },
 "nbformat": 4,
 "nbformat_minor": 2
}
