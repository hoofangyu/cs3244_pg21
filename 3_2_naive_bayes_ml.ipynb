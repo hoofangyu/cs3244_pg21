{
 "cells": [
  {
   "cell_type": "markdown",
   "metadata": {},
   "source": [
    "## Naive Bayes"
   ]
  },
  {
   "cell_type": "code",
   "execution_count": 1,
   "metadata": {},
   "outputs": [],
   "source": [
    "import pandas as pd\n",
    "from sklearn.model_selection import KFold\n",
    "from sklearn.naive_bayes import MultinomialNB\n",
    "from sklearn.metrics import roc_auc_score, roc_auc_score\n",
    "import numpy as np\n",
    "from sklearn.preprocessing import MaxAbsScaler\n",
    "from scipy.sparse import csr_matrix, vstack, hstack\n",
    "from sklearn.model_selection import GridSearchCV"
   ]
  },
  {
   "cell_type": "markdown",
   "metadata": {},
   "source": [
    "### Data Prep for ML"
   ]
  },
  {
   "cell_type": "code",
   "execution_count": 2,
   "metadata": {},
   "outputs": [],
   "source": [
    "train = pd.read_pickle(\"data/train.pkl\").dropna()\n",
    "test = pd.read_pickle(\"data/test.pkl\").dropna()"
   ]
  },
  {
   "cell_type": "code",
   "execution_count": 3,
   "metadata": {},
   "outputs": [],
   "source": [
    "#One hot encoding\n",
    "encoded_train = pd.get_dummies(train, columns = ['weighted_parent_sentiment_score','weighted_comment_sentiment_score'], drop_first=True)\n",
    "encoded_test = pd.get_dummies(test, columns = ['weighted_parent_sentiment_score','weighted_comment_sentiment_score'], drop_first=True)"
   ]
  },
  {
   "cell_type": "code",
   "execution_count": 4,
   "metadata": {},
   "outputs": [],
   "source": [
    "train_parent_tdidf_csr = vstack(encoded_train[\"parent_comment_tdidf\"])\n",
    "test_parent_tdidf_csr = vstack(encoded_test[\"parent_comment_tdidf\"])\n",
    "\n",
    "train_tdidf_csr = vstack(encoded_train[\"comment_tdidf\"])\n",
    "test_tdidf_csr = vstack(encoded_test[\"comment_tdidf\"])\n",
    "\n",
    "train_parent_bow_csr = vstack(encoded_train[\"parent_comment_bow\"])\n",
    "test_parent_bow_csr = vstack(encoded_test[\"parent_comment_bow\"])\n",
    "\n",
    "train_bow_csr = vstack(encoded_train[\"comment_bow\"])\n",
    "test_bow_csr = vstack(encoded_test[\"comment_bow\"])"
   ]
  },
  {
   "cell_type": "code",
   "execution_count": 5,
   "metadata": {},
   "outputs": [
    {
     "data": {
      "text/plain": [
       "Index(['comment', 'author', 'subreddit', 'score', 'ups', 'downs', 'date',\n",
       "       'created_utc', 'parent_comment', 'comment_tokens',\n",
       "       'parent_comment_tokens', 'comment_score', 'parent_comment_score',\n",
       "       'comment_word_count', 'parent_comment_word_count',\n",
       "       'comment_token_count', 'parent_comment_token_count',\n",
       "       'comment_unique_word_count', 'parent_comment_unique_word_count',\n",
       "       'comment_unique_token_count', 'parent_comment_unique_token_count',\n",
       "       'comment_stopword_count', 'parent_comment_stopword_count',\n",
       "       'comment_mean_word_length', 'parent_comment_mean_word_length',\n",
       "       'comment_mean_token_length', 'parent_comment_mean_token_length',\n",
       "       'comment_char_count', 'parent_comment_char_count',\n",
       "       'comment_punctuation_count', 'parent_comment_punctuation_count',\n",
       "       'comment_hashtag_count', 'parent_comment_hashtag_count',\n",
       "       'comment_number_count', 'parent_comment_number_count', 'comment_bow',\n",
       "       'parent_comment_bow', 'comment_tdidf', 'parent_comment_tdidf',\n",
       "       'comment_pos', 'parent_comment_pos', 'label',\n",
       "       'weighted_parent_sentiment_score_neutral',\n",
       "       'weighted_parent_sentiment_score_positive',\n",
       "       'weighted_comment_sentiment_score_neutral',\n",
       "       'weighted_comment_sentiment_score_positive'],\n",
       "      dtype='object')"
      ]
     },
     "execution_count": 5,
     "metadata": {},
     "output_type": "execute_result"
    }
   ],
   "source": [
    "encoded_train.columns"
   ]
  },
  {
   "cell_type": "code",
   "execution_count": 33,
   "metadata": {},
   "outputs": [],
   "source": [
    "# Remove score, ups, downs as Naive Bayes does not handle negative values\n",
    "list_of_features = [\n",
    "       'comment_word_count','parent_comment_word_count',\n",
    "       'comment_token_count', 'parent_comment_token_count',\n",
    "       'comment_unique_word_count', 'parent_comment_unique_word_count',\n",
    "       'comment_unique_token_count', 'parent_comment_unique_token_count',\n",
    "       'comment_stopword_count', 'parent_comment_stopword_count',\n",
    "       'comment_mean_word_length', 'parent_comment_mean_word_length',\n",
    "       'comment_mean_token_length', 'parent_comment_mean_token_length',\n",
    "       'comment_char_count', 'parent_comment_char_count',\n",
    "       'comment_punctuation_count', 'parent_comment_punctuation_count',\n",
    "       'comment_hashtag_count', 'parent_comment_hashtag_count',\n",
    "       'comment_number_count', 'parent_comment_number_count',\n",
    "       'weighted_parent_sentiment_score_neutral',\n",
    "       'weighted_parent_sentiment_score_positive',\n",
    "       'weighted_comment_sentiment_score_neutral',\n",
    "       'weighted_comment_sentiment_score_positive']"
   ]
  },
  {
   "cell_type": "code",
   "execution_count": 34,
   "metadata": {},
   "outputs": [],
   "source": [
    "X_train_gen_features = csr_matrix(encoded_train[list_of_features])\n",
    "y_train_LR = encoded_train['label']\n",
    "\n",
    "X_test_gen_features = csr_matrix(encoded_test[list_of_features])\n",
    "y_test_LR = encoded_test['label']"
   ]
  },
  {
   "cell_type": "markdown",
   "metadata": {},
   "source": [
    "### Baseline 1: General Features"
   ]
  },
  {
   "cell_type": "code",
   "execution_count": 35,
   "metadata": {},
   "outputs": [],
   "source": [
    "#Data Specific Prep\n",
    "X_train_LR = X_train_gen_features\n",
    "\n",
    "\n",
    "#scaler = MaxAbsScaler()\n",
    "#X_train_LR = scaler.fit_transform(X_train_LR)\n"
   ]
  },
  {
   "cell_type": "code",
   "execution_count": 36,
   "metadata": {},
   "outputs": [
    {
     "name": "stdout",
     "output_type": "stream",
     "text": [
      "Mean roc_auc: 0.526674402774953\n",
      "Standard Deviation of roc_auc: 0.007576235749135441\n"
     ]
    }
   ],
   "source": [
    "k = 5\n",
    "\n",
    "model = MultinomialNB()\n",
    "kf = KFold(n_splits=k, shuffle=True, random_state=42)\n",
    "\n",
    "cross_val_scores = []\n",
    "for train_index, val_index in kf.split(X_train_LR): \n",
    "    X_train, X_val = X_train_LR[train_index], X_train_LR[val_index]\n",
    "    y_train, y_val = y_train_LR.iloc[train_index,], y_train_LR.iloc[val_index,]\n",
    "    \n",
    "    # Train the model on the training data\n",
    "    model.fit(X_train, y_train)\n",
    "    \n",
    "    # Make predictions on the validation data\n",
    "    y_pred = model.predict(X_val)\n",
    "    \n",
    "    # Calculate roc_auc and store it in the list\n",
    "    roc_auc = roc_auc_score(y_val, y_pred)\n",
    "    cross_val_scores.append(roc_auc)\n",
    "\n",
    "mean_roc_auc = sum(cross_val_scores) / k\n",
    "std_roc_auc = np.std(cross_val_scores)\n",
    "\n",
    "print(f\"Mean roc_auc: {mean_roc_auc}\")\n",
    "print(f\"Standard Deviation of roc_auc: {std_roc_auc}\")"
   ]
  },
  {
   "cell_type": "markdown",
   "metadata": {},
   "source": [
    "### Baseline 2: Comment BoW"
   ]
  },
  {
   "cell_type": "code",
   "execution_count": 40,
   "metadata": {},
   "outputs": [],
   "source": [
    "#Data Specific Prep\n",
    "X_train_LR = train_bow_csr\n",
    "\n",
    "#scaler = MaxAbsScaler()\n",
    "#X_train_LR = scaler.fit_transform(X_train_LR)"
   ]
  },
  {
   "cell_type": "code",
   "execution_count": 41,
   "metadata": {},
   "outputs": [
    {
     "name": "stdout",
     "output_type": "stream",
     "text": [
      "Mean roc_auc: 0.6424710012786635\n",
      "Standard Deviation of roc_auc: 0.0022213151893920903\n"
     ]
    }
   ],
   "source": [
    "k = 5\n",
    "\n",
    "model = MultinomialNB()\n",
    "kf = KFold(n_splits=k, shuffle=True, random_state=42)\n",
    "\n",
    "cross_val_scores = []\n",
    "for train_index, val_index in kf.split(X_train_LR): \n",
    "    X_train, X_val = X_train_LR[train_index], X_train_LR[val_index]\n",
    "    y_train, y_val = y_train_LR.iloc[train_index,], y_train_LR.iloc[val_index,]\n",
    "    \n",
    "    # Train the model on the training data\n",
    "    model.fit(X_train, y_train)\n",
    "    \n",
    "    # Make predictions on the validation data\n",
    "    y_pred = model.predict(X_val)\n",
    "    \n",
    "    # Calculate roc_auc and store it in the list\n",
    "    roc_auc = roc_auc_score(y_val, y_pred)\n",
    "    cross_val_scores.append(roc_auc)\n",
    "\n",
    "mean_roc_auc = sum(cross_val_scores) / k\n",
    "std_roc_auc = np.std(cross_val_scores)\n",
    "\n",
    "print(f\"Mean roc_auc: {mean_roc_auc}\")\n",
    "print(f\"Standard Deviation of roc_auc: {std_roc_auc}\")"
   ]
  },
  {
   "cell_type": "markdown",
   "metadata": {},
   "source": [
    "### Baseline 3: Comment TD-IDF"
   ]
  },
  {
   "cell_type": "code",
   "execution_count": 42,
   "metadata": {},
   "outputs": [],
   "source": [
    "#Data Specific Prep\n",
    "X_train_LR = train_tdidf_csr\n",
    "\n",
    "#scaler = MaxAbsScaler()\n",
    "#X_train_LR = scaler.fit_transform(X_train_LR)"
   ]
  },
  {
   "cell_type": "code",
   "execution_count": 43,
   "metadata": {},
   "outputs": [
    {
     "name": "stdout",
     "output_type": "stream",
     "text": [
      "Mean roc_auc: 0.6370824287124377\n",
      "Standard Deviation of roc_auc: 0.0018847132466299644\n"
     ]
    }
   ],
   "source": [
    "k = 5\n",
    "\n",
    "model = MultinomialNB()\n",
    "kf = KFold(n_splits=k, shuffle=True, random_state=42)\n",
    "\n",
    "cross_val_scores = []\n",
    "for train_index, val_index in kf.split(X_train_LR): \n",
    "    X_train, X_val = X_train_LR[train_index], X_train_LR[val_index]\n",
    "    y_train, y_val = y_train_LR.iloc[train_index,], y_train_LR.iloc[val_index,]\n",
    "    \n",
    "    # Train the model on the training data\n",
    "    model.fit(X_train, y_train)\n",
    "    \n",
    "    # Make predictions on the validation data\n",
    "    y_pred = model.predict(X_val)\n",
    "    \n",
    "    # Calculate roc_auc and store it in the list\n",
    "    roc_auc = roc_auc_score(y_val, y_pred)\n",
    "    cross_val_scores.append(roc_auc)\n",
    "\n",
    "mean_roc_auc = sum(cross_val_scores) / k\n",
    "std_roc_auc = np.std(cross_val_scores)\n",
    "\n",
    "print(f\"Mean roc_auc: {mean_roc_auc}\")\n",
    "print(f\"Standard Deviation of roc_auc: {std_roc_auc}\")"
   ]
  },
  {
   "cell_type": "markdown",
   "metadata": {},
   "source": [
    "### Baseline 4: General Features + BoW"
   ]
  },
  {
   "cell_type": "code",
   "execution_count": 44,
   "metadata": {},
   "outputs": [],
   "source": [
    "X_train_LR = hstack([X_train_gen_features,train_bow_csr])\n",
    "\n",
    "#scaler = MaxAbsScaler()\n",
    "#X_train_LR = scaler.fit_transform(X_train_LR)"
   ]
  },
  {
   "cell_type": "code",
   "execution_count": 45,
   "metadata": {},
   "outputs": [
    {
     "name": "stdout",
     "output_type": "stream",
     "text": [
      "Mean roc_auc: 0.6519953387908837\n",
      "Standard Deviation of roc_auc: 0.009362068345928452\n"
     ]
    }
   ],
   "source": [
    "k = 5\n",
    "\n",
    "model = MultinomialNB()\n",
    "kf = KFold(n_splits=k, shuffle=True, random_state=42)\n",
    "\n",
    "cross_val_scores = []\n",
    "for train_index, val_index in kf.split(X_train_LR): \n",
    "    X_train, X_val = X_train_LR[train_index], X_train_LR[val_index]\n",
    "    y_train, y_val = y_train_LR.iloc[train_index,], y_train_LR.iloc[val_index,]\n",
    "    \n",
    "    # Train the model on the training data\n",
    "    model.fit(X_train, y_train)\n",
    "    \n",
    "    # Make predictions on the validation data\n",
    "    y_pred = model.predict(X_val)\n",
    "    \n",
    "    # Calculate roc_auc and store it in the list\n",
    "    roc_auc = roc_auc_score(y_val, y_pred)\n",
    "    cross_val_scores.append(roc_auc)\n",
    "\n",
    "mean_roc_auc = sum(cross_val_scores) / k\n",
    "std_roc_auc = np.std(cross_val_scores)\n",
    "\n",
    "print(f\"Mean roc_auc: {mean_roc_auc}\")\n",
    "print(f\"Standard Deviation of roc_auc: {std_roc_auc}\")"
   ]
  },
  {
   "cell_type": "markdown",
   "metadata": {},
   "source": [
    "### Baseline 5: General Features + TD-IDF"
   ]
  },
  {
   "cell_type": "code",
   "execution_count": 46,
   "metadata": {},
   "outputs": [],
   "source": [
    "X_train_LR = hstack([X_train_gen_features,train_tdidf_csr])\n",
    "\n",
    "scaler = MaxAbsScaler()\n",
    "X_train_LR = scaler.fit_transform(X_train_LR)"
   ]
  },
  {
   "cell_type": "code",
   "execution_count": 47,
   "metadata": {},
   "outputs": [
    {
     "name": "stdout",
     "output_type": "stream",
     "text": [
      "Mean roc_auc: 0.6454446664795951\n",
      "Standard Deviation of roc_auc: 0.0013280918014056543\n"
     ]
    }
   ],
   "source": [
    "k = 5\n",
    "\n",
    "model = MultinomialNB()\n",
    "kf = KFold(n_splits=k, shuffle=True, random_state=42)\n",
    "\n",
    "cross_val_scores = []\n",
    "for train_index, val_index in kf.split(X_train_LR): \n",
    "    X_train, X_val = X_train_LR[train_index], X_train_LR[val_index]\n",
    "    y_train, y_val = y_train_LR.iloc[train_index,], y_train_LR.iloc[val_index,]\n",
    "    \n",
    "    # Train the model on the training data\n",
    "    model.fit(X_train, y_train)\n",
    "    \n",
    "    # Make predictions on the validation data\n",
    "    y_pred = model.predict(X_val)\n",
    "    \n",
    "    # Calculate roc_auc and store it in the list\n",
    "    roc_auc = roc_auc_score(y_val, y_pred)\n",
    "    cross_val_scores.append(roc_auc)\n",
    "\n",
    "mean_roc_auc = sum(cross_val_scores) / k\n",
    "std_roc_auc = np.std(cross_val_scores)\n",
    "\n",
    "print(f\"Mean roc_auc: {mean_roc_auc}\")\n",
    "print(f\"Standard Deviation of roc_auc: {std_roc_auc}\")"
   ]
  },
  {
   "cell_type": "markdown",
   "metadata": {},
   "source": [
    "### Baseline 6: Gen Features + Comment TDIDF + Parent TDIDF"
   ]
  },
  {
   "cell_type": "code",
   "execution_count": 48,
   "metadata": {},
   "outputs": [],
   "source": [
    "X_train_LR = hstack([X_train_gen_features,train_tdidf_csr,train_parent_tdidf_csr])\n",
    "\n",
    "scaler = MaxAbsScaler()\n",
    "X_train_LR = scaler.fit_transform(X_train_LR)"
   ]
  },
  {
   "cell_type": "code",
   "execution_count": 49,
   "metadata": {},
   "outputs": [
    {
     "name": "stdout",
     "output_type": "stream",
     "text": [
      "Mean roc_auc: 0.6390059846116081\n",
      "Standard Deviation of roc_auc: 0.0018672700910615002\n"
     ]
    }
   ],
   "source": [
    "k = 5\n",
    "\n",
    "model = MultinomialNB()\n",
    "kf = KFold(n_splits=k, shuffle=True, random_state=42)\n",
    "\n",
    "cross_val_scores = []\n",
    "for train_index, val_index in kf.split(X_train_LR): \n",
    "    X_train, X_val = X_train_LR[train_index], X_train_LR[val_index]\n",
    "    y_train, y_val = y_train_LR.iloc[train_index,], y_train_LR.iloc[val_index,]\n",
    "    \n",
    "    # Train the model on the training data\n",
    "    model.fit(X_train, y_train)\n",
    "    \n",
    "    # Make predictions on the validation data\n",
    "    y_pred = model.predict(X_val)\n",
    "    \n",
    "    # Calculate roc_auc and store it in the list\n",
    "    roc_auc = roc_auc_score(y_val, y_pred)\n",
    "    cross_val_scores.append(roc_auc)\n",
    "\n",
    "mean_roc_auc = sum(cross_val_scores) / k\n",
    "std_roc_auc = np.std(cross_val_scores)\n",
    "\n",
    "print(f\"Mean roc_auc: {mean_roc_auc}\")\n",
    "print(f\"Standard Deviation of roc_auc: {std_roc_auc}\")"
   ]
  },
  {
   "cell_type": "markdown",
   "metadata": {},
   "source": [
    "### Baseline 7: Gen + Parent TDIDF"
   ]
  },
  {
   "cell_type": "code",
   "execution_count": 50,
   "metadata": {},
   "outputs": [],
   "source": [
    "X_train_LR = hstack([X_train_gen_features,train_parent_tdidf_csr])\n",
    "\n",
    "scaler = MaxAbsScaler()\n",
    "X_train_LR = scaler.fit_transform(X_train_LR)"
   ]
  },
  {
   "cell_type": "code",
   "execution_count": 51,
   "metadata": {},
   "outputs": [
    {
     "name": "stdout",
     "output_type": "stream",
     "text": [
      "Mean roc_auc: 0.5660865867859248\n",
      "Standard Deviation of roc_auc: 0.0010944462801385922\n"
     ]
    }
   ],
   "source": [
    "k = 5\n",
    "\n",
    "model = MultinomialNB()\n",
    "kf = KFold(n_splits=k, shuffle=True, random_state=42)\n",
    "\n",
    "cross_val_scores = []\n",
    "for train_index, val_index in kf.split(X_train_LR): \n",
    "    X_train, X_val = X_train_LR[train_index], X_train_LR[val_index]\n",
    "    y_train, y_val = y_train_LR.iloc[train_index,], y_train_LR.iloc[val_index,]\n",
    "    \n",
    "    # Train the model on the training data\n",
    "    model.fit(X_train, y_train)\n",
    "    \n",
    "    # Make predictions on the validation data\n",
    "    y_pred = model.predict(X_val)\n",
    "    \n",
    "    # Calculate roc_auc and store it in the list\n",
    "    roc_auc = roc_auc_score(y_val, y_pred)\n",
    "    cross_val_scores.append(roc_auc)\n",
    "\n",
    "mean_roc_auc = sum(cross_val_scores) / k\n",
    "std_roc_auc = np.std(cross_val_scores)\n",
    "\n",
    "print(f\"Mean roc_auc: {mean_roc_auc}\")\n",
    "print(f\"Standard Deviation of roc_auc: {std_roc_auc}\")"
   ]
  },
  {
   "cell_type": "markdown",
   "metadata": {},
   "source": [
    "### Hyper Parameter Tuning with Grid Search CV"
   ]
  },
  {
   "cell_type": "code",
   "execution_count": 55,
   "metadata": {},
   "outputs": [],
   "source": [
    "### Using gen features and tdidf\n",
    "X_train_LR = hstack([X_train_gen_features,train_bow_csr])\n",
    "\n",
    "#scaler = MaxAbsScaler()\n",
    "#X_train_LR = scaler.fit_transform(X_train_LR)"
   ]
  },
  {
   "cell_type": "code",
   "execution_count": 64,
   "metadata": {},
   "outputs": [],
   "source": [
    "param_grid = {\n",
    "    'alpha': [0.2, 0.4, 0.6, 0.8, 1.0],  # You can extend this list\n",
    "    'fit_prior': [True, False],\n",
    "}\n"
   ]
  },
  {
   "cell_type": "code",
   "execution_count": 65,
   "metadata": {},
   "outputs": [
    {
     "name": "stdout",
     "output_type": "stream",
     "text": [
      "Fitting 5 folds for each of 10 candidates, totalling 50 fits\n",
      "[CV 1/5] END .........alpha=0.2, fit_prior=True;, score=0.674 total time=   0.0s\n",
      "[CV 2/5] END .........alpha=0.2, fit_prior=True;, score=0.677 total time=   0.0s\n",
      "[CV 3/5] END .........alpha=0.2, fit_prior=True;, score=0.673 total time=   0.0s\n",
      "[CV 4/5] END .........alpha=0.2, fit_prior=True;, score=0.675 total time=   0.0s\n",
      "[CV 5/5] END .........alpha=0.2, fit_prior=True;, score=0.678 total time=   0.0s\n",
      "[CV 1/5] END ........alpha=0.2, fit_prior=False;, score=0.674 total time=   0.0s\n",
      "[CV 2/5] END ........alpha=0.2, fit_prior=False;, score=0.677 total time=   0.0s\n",
      "[CV 3/5] END ........alpha=0.2, fit_prior=False;, score=0.673 total time=   0.0s\n",
      "[CV 4/5] END ........alpha=0.2, fit_prior=False;, score=0.675 total time=   0.0s\n",
      "[CV 5/5] END ........alpha=0.2, fit_prior=False;, score=0.678 total time=   0.0s\n",
      "[CV 1/5] END .........alpha=0.4, fit_prior=True;, score=0.678 total time=   0.0s\n",
      "[CV 2/5] END .........alpha=0.4, fit_prior=True;, score=0.681 total time=   0.0s\n",
      "[CV 3/5] END .........alpha=0.4, fit_prior=True;, score=0.677 total time=   0.0s\n",
      "[CV 4/5] END .........alpha=0.4, fit_prior=True;, score=0.679 total time=   0.0s\n",
      "[CV 5/5] END .........alpha=0.4, fit_prior=True;, score=0.682 total time=   0.0s\n",
      "[CV 1/5] END ........alpha=0.4, fit_prior=False;, score=0.678 total time=   0.0s\n",
      "[CV 2/5] END ........alpha=0.4, fit_prior=False;, score=0.681 total time=   0.0s\n",
      "[CV 3/5] END ........alpha=0.4, fit_prior=False;, score=0.677 total time=   0.0s\n",
      "[CV 4/5] END ........alpha=0.4, fit_prior=False;, score=0.679 total time=   0.0s\n",
      "[CV 5/5] END ........alpha=0.4, fit_prior=False;, score=0.682 total time=   0.0s\n",
      "[CV 1/5] END .........alpha=0.6, fit_prior=True;, score=0.681 total time=   0.0s\n",
      "[CV 2/5] END .........alpha=0.6, fit_prior=True;, score=0.684 total time=   0.0s\n",
      "[CV 3/5] END .........alpha=0.6, fit_prior=True;, score=0.680 total time=   0.0s\n",
      "[CV 4/5] END .........alpha=0.6, fit_prior=True;, score=0.682 total time=   0.0s\n",
      "[CV 5/5] END .........alpha=0.6, fit_prior=True;, score=0.685 total time=   0.0s\n",
      "[CV 1/5] END ........alpha=0.6, fit_prior=False;, score=0.681 total time=   0.0s\n",
      "[CV 2/5] END ........alpha=0.6, fit_prior=False;, score=0.684 total time=   0.0s\n",
      "[CV 3/5] END ........alpha=0.6, fit_prior=False;, score=0.680 total time=   0.0s\n",
      "[CV 4/5] END ........alpha=0.6, fit_prior=False;, score=0.682 total time=   0.0s\n",
      "[CV 5/5] END ........alpha=0.6, fit_prior=False;, score=0.685 total time=   0.0s\n",
      "[CV 1/5] END .........alpha=0.8, fit_prior=True;, score=0.683 total time=   0.0s\n",
      "[CV 2/5] END .........alpha=0.8, fit_prior=True;, score=0.686 total time=   0.0s\n",
      "[CV 3/5] END .........alpha=0.8, fit_prior=True;, score=0.683 total time=   0.0s\n",
      "[CV 4/5] END .........alpha=0.8, fit_prior=True;, score=0.685 total time=   0.0s\n",
      "[CV 5/5] END .........alpha=0.8, fit_prior=True;, score=0.687 total time=   0.0s\n",
      "[CV 1/5] END ........alpha=0.8, fit_prior=False;, score=0.683 total time=   0.0s\n",
      "[CV 2/5] END ........alpha=0.8, fit_prior=False;, score=0.686 total time=   0.0s\n",
      "[CV 3/5] END ........alpha=0.8, fit_prior=False;, score=0.683 total time=   0.0s\n",
      "[CV 4/5] END ........alpha=0.8, fit_prior=False;, score=0.685 total time=   0.0s\n",
      "[CV 5/5] END ........alpha=0.8, fit_prior=False;, score=0.687 total time=   0.0s\n",
      "[CV 1/5] END .........alpha=1.0, fit_prior=True;, score=0.685 total time=   0.0s\n",
      "[CV 2/5] END .........alpha=1.0, fit_prior=True;, score=0.688 total time=   0.0s\n",
      "[CV 3/5] END .........alpha=1.0, fit_prior=True;, score=0.685 total time=   0.0s\n",
      "[CV 4/5] END .........alpha=1.0, fit_prior=True;, score=0.687 total time=   0.0s\n",
      "[CV 5/5] END .........alpha=1.0, fit_prior=True;, score=0.689 total time=   0.0s\n",
      "[CV 1/5] END ........alpha=1.0, fit_prior=False;, score=0.685 total time=   0.0s\n",
      "[CV 2/5] END ........alpha=1.0, fit_prior=False;, score=0.688 total time=   0.0s\n",
      "[CV 3/5] END ........alpha=1.0, fit_prior=False;, score=0.685 total time=   0.0s\n",
      "[CV 4/5] END ........alpha=1.0, fit_prior=False;, score=0.687 total time=   0.0s\n",
      "[CV 5/5] END ........alpha=1.0, fit_prior=False;, score=0.689 total time=   0.0s\n"
     ]
    },
    {
     "data": {
      "text/html": [
       "<style>#sk-container-id-2 {color: black;}#sk-container-id-2 pre{padding: 0;}#sk-container-id-2 div.sk-toggleable {background-color: white;}#sk-container-id-2 label.sk-toggleable__label {cursor: pointer;display: block;width: 100%;margin-bottom: 0;padding: 0.3em;box-sizing: border-box;text-align: center;}#sk-container-id-2 label.sk-toggleable__label-arrow:before {content: \"▸\";float: left;margin-right: 0.25em;color: #696969;}#sk-container-id-2 label.sk-toggleable__label-arrow:hover:before {color: black;}#sk-container-id-2 div.sk-estimator:hover label.sk-toggleable__label-arrow:before {color: black;}#sk-container-id-2 div.sk-toggleable__content {max-height: 0;max-width: 0;overflow: hidden;text-align: left;background-color: #f0f8ff;}#sk-container-id-2 div.sk-toggleable__content pre {margin: 0.2em;color: black;border-radius: 0.25em;background-color: #f0f8ff;}#sk-container-id-2 input.sk-toggleable__control:checked~div.sk-toggleable__content {max-height: 200px;max-width: 100%;overflow: auto;}#sk-container-id-2 input.sk-toggleable__control:checked~label.sk-toggleable__label-arrow:before {content: \"▾\";}#sk-container-id-2 div.sk-estimator input.sk-toggleable__control:checked~label.sk-toggleable__label {background-color: #d4ebff;}#sk-container-id-2 div.sk-label input.sk-toggleable__control:checked~label.sk-toggleable__label {background-color: #d4ebff;}#sk-container-id-2 input.sk-hidden--visually {border: 0;clip: rect(1px 1px 1px 1px);clip: rect(1px, 1px, 1px, 1px);height: 1px;margin: -1px;overflow: hidden;padding: 0;position: absolute;width: 1px;}#sk-container-id-2 div.sk-estimator {font-family: monospace;background-color: #f0f8ff;border: 1px dotted black;border-radius: 0.25em;box-sizing: border-box;margin-bottom: 0.5em;}#sk-container-id-2 div.sk-estimator:hover {background-color: #d4ebff;}#sk-container-id-2 div.sk-parallel-item::after {content: \"\";width: 100%;border-bottom: 1px solid gray;flex-grow: 1;}#sk-container-id-2 div.sk-label:hover label.sk-toggleable__label {background-color: #d4ebff;}#sk-container-id-2 div.sk-serial::before {content: \"\";position: absolute;border-left: 1px solid gray;box-sizing: border-box;top: 0;bottom: 0;left: 50%;z-index: 0;}#sk-container-id-2 div.sk-serial {display: flex;flex-direction: column;align-items: center;background-color: white;padding-right: 0.2em;padding-left: 0.2em;position: relative;}#sk-container-id-2 div.sk-item {position: relative;z-index: 1;}#sk-container-id-2 div.sk-parallel {display: flex;align-items: stretch;justify-content: center;background-color: white;position: relative;}#sk-container-id-2 div.sk-item::before, #sk-container-id-2 div.sk-parallel-item::before {content: \"\";position: absolute;border-left: 1px solid gray;box-sizing: border-box;top: 0;bottom: 0;left: 50%;z-index: -1;}#sk-container-id-2 div.sk-parallel-item {display: flex;flex-direction: column;z-index: 1;position: relative;background-color: white;}#sk-container-id-2 div.sk-parallel-item:first-child::after {align-self: flex-end;width: 50%;}#sk-container-id-2 div.sk-parallel-item:last-child::after {align-self: flex-start;width: 50%;}#sk-container-id-2 div.sk-parallel-item:only-child::after {width: 0;}#sk-container-id-2 div.sk-dashed-wrapped {border: 1px dashed gray;margin: 0 0.4em 0.5em 0.4em;box-sizing: border-box;padding-bottom: 0.4em;background-color: white;}#sk-container-id-2 div.sk-label label {font-family: monospace;font-weight: bold;display: inline-block;line-height: 1.2em;}#sk-container-id-2 div.sk-label-container {text-align: center;}#sk-container-id-2 div.sk-container {/* jupyter's `normalize.less` sets `[hidden] { display: none; }` but bootstrap.min.css set `[hidden] { display: none !important; }` so we also need the `!important` here to be able to override the default hidden behavior on the sphinx rendered scikit-learn.org. See: https://github.com/scikit-learn/scikit-learn/issues/21755 */display: inline-block !important;position: relative;}#sk-container-id-2 div.sk-text-repr-fallback {display: none;}</style><div id=\"sk-container-id-2\" class=\"sk-top-container\"><div class=\"sk-text-repr-fallback\"><pre>GridSearchCV(cv=5, estimator=MultinomialNB(),\n",
       "             param_grid={&#x27;alpha&#x27;: [0.2, 0.4, 0.6, 0.8, 1.0],\n",
       "                         &#x27;fit_prior&#x27;: [True, False]},\n",
       "             scoring=&#x27;roc_auc&#x27;, verbose=4)</pre><b>In a Jupyter environment, please rerun this cell to show the HTML representation or trust the notebook. <br />On GitHub, the HTML representation is unable to render, please try loading this page with nbviewer.org.</b></div><div class=\"sk-container\" hidden><div class=\"sk-item sk-dashed-wrapped\"><div class=\"sk-label-container\"><div class=\"sk-label sk-toggleable\"><input class=\"sk-toggleable__control sk-hidden--visually\" id=\"sk-estimator-id-4\" type=\"checkbox\" ><label for=\"sk-estimator-id-4\" class=\"sk-toggleable__label sk-toggleable__label-arrow\">GridSearchCV</label><div class=\"sk-toggleable__content\"><pre>GridSearchCV(cv=5, estimator=MultinomialNB(),\n",
       "             param_grid={&#x27;alpha&#x27;: [0.2, 0.4, 0.6, 0.8, 1.0],\n",
       "                         &#x27;fit_prior&#x27;: [True, False]},\n",
       "             scoring=&#x27;roc_auc&#x27;, verbose=4)</pre></div></div></div><div class=\"sk-parallel\"><div class=\"sk-parallel-item\"><div class=\"sk-item\"><div class=\"sk-label-container\"><div class=\"sk-label sk-toggleable\"><input class=\"sk-toggleable__control sk-hidden--visually\" id=\"sk-estimator-id-5\" type=\"checkbox\" ><label for=\"sk-estimator-id-5\" class=\"sk-toggleable__label sk-toggleable__label-arrow\">estimator: MultinomialNB</label><div class=\"sk-toggleable__content\"><pre>MultinomialNB()</pre></div></div></div><div class=\"sk-serial\"><div class=\"sk-item\"><div class=\"sk-estimator sk-toggleable\"><input class=\"sk-toggleable__control sk-hidden--visually\" id=\"sk-estimator-id-6\" type=\"checkbox\" ><label for=\"sk-estimator-id-6\" class=\"sk-toggleable__label sk-toggleable__label-arrow\">MultinomialNB</label><div class=\"sk-toggleable__content\"><pre>MultinomialNB()</pre></div></div></div></div></div></div></div></div></div></div>"
      ],
      "text/plain": [
       "GridSearchCV(cv=5, estimator=MultinomialNB(),\n",
       "             param_grid={'alpha': [0.2, 0.4, 0.6, 0.8, 1.0],\n",
       "                         'fit_prior': [True, False]},\n",
       "             scoring='roc_auc', verbose=4)"
      ]
     },
     "execution_count": 65,
     "metadata": {},
     "output_type": "execute_result"
    }
   ],
   "source": [
    "grid_search = GridSearchCV(MultinomialNB(), param_grid, cv=5, scoring='roc_auc', verbose=4)\n",
    "grid_search.fit(X_train_LR, y_train_LR)"
   ]
  },
  {
   "cell_type": "code",
   "execution_count": 66,
   "metadata": {},
   "outputs": [
    {
     "name": "stdout",
     "output_type": "stream",
     "text": [
      "Best Parameters: {'alpha': 1.0, 'fit_prior': True}\n",
      "Best Score: 0.6868055819138096\n"
     ]
    }
   ],
   "source": [
    "best_params = grid_search.best_params_\n",
    "print(\"Best Parameters:\", best_params)\n",
    "\n",
    "# Best score achieved during grid search\n",
    "best_score = grid_search.best_score_\n",
    "print(\"Best Score:\", best_score)"
   ]
  },
  {
   "cell_type": "code",
   "execution_count": 67,
   "metadata": {},
   "outputs": [
    {
     "name": "stdout",
     "output_type": "stream",
     "text": [
      "Best Estimator: MultinomialNB()\n"
     ]
    }
   ],
   "source": [
    "# Best estimator (the fitted model with the best parameters)\n",
    "best_estimator = grid_search.best_estimator_\n",
    "print(\"Best Estimator:\", best_estimator)\n",
    "\n",
    "# Results for all parameter combinations\n",
    "cv_results = grid_search.cv_results_"
   ]
  },
  {
   "cell_type": "code",
   "execution_count": 69,
   "metadata": {},
   "outputs": [
    {
     "data": {
      "text/html": [
       "<div>\n",
       "<style scoped>\n",
       "    .dataframe tbody tr th:only-of-type {\n",
       "        vertical-align: middle;\n",
       "    }\n",
       "\n",
       "    .dataframe tbody tr th {\n",
       "        vertical-align: top;\n",
       "    }\n",
       "\n",
       "    .dataframe thead th {\n",
       "        text-align: right;\n",
       "    }\n",
       "</style>\n",
       "<table border=\"1\" class=\"dataframe\">\n",
       "  <thead>\n",
       "    <tr style=\"text-align: right;\">\n",
       "      <th></th>\n",
       "      <th>Params</th>\n",
       "      <th>Mean Score</th>\n",
       "      <th>STD</th>\n",
       "    </tr>\n",
       "  </thead>\n",
       "  <tbody>\n",
       "    <tr>\n",
       "      <th>8</th>\n",
       "      <td>alpha: 1.0, fit_prior: True</td>\n",
       "      <td>0.686806</td>\n",
       "      <td>0.001614</td>\n",
       "    </tr>\n",
       "    <tr>\n",
       "      <th>9</th>\n",
       "      <td>alpha: 1.0, fit_prior: False</td>\n",
       "      <td>0.686806</td>\n",
       "      <td>0.001614</td>\n",
       "    </tr>\n",
       "    <tr>\n",
       "      <th>6</th>\n",
       "      <td>alpha: 0.8, fit_prior: True</td>\n",
       "      <td>0.684786</td>\n",
       "      <td>0.001658</td>\n",
       "    </tr>\n",
       "    <tr>\n",
       "      <th>7</th>\n",
       "      <td>alpha: 0.8, fit_prior: False</td>\n",
       "      <td>0.684786</td>\n",
       "      <td>0.001658</td>\n",
       "    </tr>\n",
       "    <tr>\n",
       "      <th>4</th>\n",
       "      <td>alpha: 0.6, fit_prior: True</td>\n",
       "      <td>0.682340</td>\n",
       "      <td>0.001728</td>\n",
       "    </tr>\n",
       "    <tr>\n",
       "      <th>5</th>\n",
       "      <td>alpha: 0.6, fit_prior: False</td>\n",
       "      <td>0.682340</td>\n",
       "      <td>0.001728</td>\n",
       "    </tr>\n",
       "    <tr>\n",
       "      <th>2</th>\n",
       "      <td>alpha: 0.4, fit_prior: True</td>\n",
       "      <td>0.679275</td>\n",
       "      <td>0.001796</td>\n",
       "    </tr>\n",
       "    <tr>\n",
       "      <th>3</th>\n",
       "      <td>alpha: 0.4, fit_prior: False</td>\n",
       "      <td>0.679275</td>\n",
       "      <td>0.001796</td>\n",
       "    </tr>\n",
       "    <tr>\n",
       "      <th>0</th>\n",
       "      <td>alpha: 0.2, fit_prior: True</td>\n",
       "      <td>0.675122</td>\n",
       "      <td>0.001910</td>\n",
       "    </tr>\n",
       "    <tr>\n",
       "      <th>1</th>\n",
       "      <td>alpha: 0.2, fit_prior: False</td>\n",
       "      <td>0.675122</td>\n",
       "      <td>0.001910</td>\n",
       "    </tr>\n",
       "  </tbody>\n",
       "</table>\n",
       "</div>"
      ],
      "text/plain": [
       "                         Params  Mean Score       STD\n",
       "8   alpha: 1.0, fit_prior: True    0.686806  0.001614\n",
       "9  alpha: 1.0, fit_prior: False    0.686806  0.001614\n",
       "6   alpha: 0.8, fit_prior: True    0.684786  0.001658\n",
       "7  alpha: 0.8, fit_prior: False    0.684786  0.001658\n",
       "4   alpha: 0.6, fit_prior: True    0.682340  0.001728\n",
       "5  alpha: 0.6, fit_prior: False    0.682340  0.001728\n",
       "2   alpha: 0.4, fit_prior: True    0.679275  0.001796\n",
       "3  alpha: 0.4, fit_prior: False    0.679275  0.001796\n",
       "0   alpha: 0.2, fit_prior: True    0.675122  0.001910\n",
       "1  alpha: 0.2, fit_prior: False    0.675122  0.001910"
      ]
     },
     "execution_count": 69,
     "metadata": {},
     "output_type": "execute_result"
    }
   ],
   "source": [
    "mean_test_scores = cv_results['mean_test_score']\n",
    "std_test_scores = cv_results['std_test_score']\n",
    "params = cv_results['params']\n",
    "\n",
    "pd.set_option('display.max_colwidth',None)\n",
    "results_df = pd.DataFrame({'Params':params,'Mean Score':mean_test_scores,'STD':std_test_scores})\n",
    "results_df[\"Params\"] = results_df[\"Params\"].apply(lambda x: ', '.join([f'{key}: {value}' for key, value in x.items()]))\n",
    "results_df.sort_values('STD', inplace=True)\n",
    "results_df.sort_values('Mean Score', ascending=False,inplace=True)\n",
    "results_df\n",
    "\n",
    "\n",
    "#for mean_score, std_score, param in zip(mean_test_scores, std_test_scores, params):\n",
    "    #print(f\"Mean Score: {mean_score:.3f} (±{std_score:.3f}) for params: {param}\")"
   ]
  },
  {
   "cell_type": "markdown",
   "metadata": {},
   "source": [
    "### Compare to Test Set"
   ]
  },
  {
   "cell_type": "code",
   "execution_count": 62,
   "metadata": {},
   "outputs": [],
   "source": [
    "X_test_LR = hstack([X_test_gen_features,test_bow_csr])\n",
    "#X_test_LR = scaler.fit_transform(X_test_LR)"
   ]
  },
  {
   "cell_type": "code",
   "execution_count": 63,
   "metadata": {},
   "outputs": [
    {
     "name": "stdout",
     "output_type": "stream",
     "text": [
      "roc_auc test: 0.5854166377891767\n"
     ]
    }
   ],
   "source": [
    "y_pred_test = best_estimator.predict(X_test_LR)\n",
    "roc_auc_test = roc_auc_score(y_test_LR, y_pred_test)\n",
    "print(f\"roc_auc test: {roc_auc_test}\")"
   ]
  }
 ],
 "metadata": {
  "kernelspec": {
   "display_name": "Python 3",
   "language": "python",
   "name": "python3"
  },
  "language_info": {
   "codemirror_mode": {
    "name": "ipython",
    "version": 3
   },
   "file_extension": ".py",
   "mimetype": "text/x-python",
   "name": "python",
   "nbconvert_exporter": "python",
   "pygments_lexer": "ipython3",
   "version": "3.11.4"
  }
 },
 "nbformat": 4,
 "nbformat_minor": 2
}
