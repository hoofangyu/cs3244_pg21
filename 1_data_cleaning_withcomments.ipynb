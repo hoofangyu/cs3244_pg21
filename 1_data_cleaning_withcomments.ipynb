{
  "cells": [
    {
      "cell_type": "markdown",
      "metadata": {
        "id": "DdPpm8bCi-I5"
      },
      "source": [
        "### Data Cleaning\n"
      ]
    },
    {
      "cell_type": "markdown",
      "metadata": {
        "id": "Vj1R__0Ri-I8"
      },
      "source": [
        "### 1. Importing Libraries\n",
        "Import the necessary libraries needed for data cleaning."
      ]
    },
    {
      "cell_type": "code",
      "execution_count": null,
      "metadata": {
        "id": "qxKmAZNwi-I9"
      },
      "outputs": [],
      "source": [
        "import pandas as pd\n",
        "from sklearn.model_selection import train_test_split\n",
        "import seaborn as sns\n",
        "import matplotlib.pyplot as plt\n",
        "import contractions\n",
        "import re"
      ]
    },
    {
      "cell_type": "markdown",
      "metadata": {
        "id": "7eH3y1zai-I-"
      },
      "source": [
        "Read the CSV file named \"train-balanced-sarcasm.csv\" and stores it in a DataFrame named data."
      ]
    },
    {
      "cell_type": "code",
      "execution_count": null,
      "metadata": {
        "id": "ji9Hge2Ei-I_"
      },
      "outputs": [],
      "source": [
        "data = pd.read_csv(\"data/train-balanced-sarcasm.csv\")"
      ]
    },
    {
      "cell_type": "markdown",
      "metadata": {
        "id": "HXSPhdIqi-I_"
      },
      "source": [
        "Output the total number of Entries in data."
      ]
    },
    {
      "cell_type": "code",
      "execution_count": null,
      "metadata": {
        "id": "0mtrATTgi-JA",
        "outputId": "a8ec839e-65f9-4894-a093-cfe9487d424f"
      },
      "outputs": [
        {
          "name": "stdout",
          "output_type": "stream",
          "text": [
            "Total Number of Entries: 1010826\n"
          ]
        }
      ],
      "source": [
        "print(\"Total Number of Entries:\",len(data))"
      ]
    },
    {
      "cell_type": "markdown",
      "metadata": {
        "id": "gVMf5X15i-JB"
      },
      "source": [
        "### 2. Removing Features\n",
        "Remove the features author, subreddit, date and created_utc for generalizability.  \n",
        "Remove the features score, ups, downs as these values can change with time, and an initial sacarstic comment will have these values set to zero."
      ]
    },
    {
      "cell_type": "code",
      "execution_count": null,
      "metadata": {
        "id": "AKG-b5iTi-JB"
      },
      "outputs": [],
      "source": [
        "columns_to_remove = ['author','subreddit','date','created_utc','score','ups','downs']\n",
        "data_2 = data.drop(columns_to_remove, axis=1)"
      ]
    },
    {
      "cell_type": "code",
      "execution_count": null,
      "metadata": {
        "id": "xXfGKkK9i-JC",
        "outputId": "f021851b-3f4d-4fe5-fd65-c1ed4bfa2384"
      },
      "outputs": [
        {
          "name": "stdout",
          "output_type": "stream",
          "text": [
            "   label                                            comment  \\\n",
            "0      0                                         NC and NH.   \n",
            "1      0  You do know west teams play against west teams...   \n",
            "2      0  They were underdogs earlier today, but since G...   \n",
            "3      0  This meme isn't funny none of the \"new york ni...   \n",
            "4      0                    I could use one of those tools.   \n",
            "\n",
            "                                      parent_comment  \n",
            "0  Yeah, I get that argument. At this point, I'd ...  \n",
            "1  The blazers and Mavericks (The wests 5 and 6 s...  \n",
            "2                            They're favored to win.  \n",
            "3                         deadass don't kill my buzz  \n",
            "4  Yep can confirm I saw the tool they use for th...  \n"
          ]
        }
      ],
      "source": [
        "print(data_2.head())"
      ]
    },
    {
      "cell_type": "markdown",
      "metadata": {
        "id": "dKh8db7pi-JD"
      },
      "source": [
        "### 3. Searching for unusable text  \n",
        "\n",
        "Remove comments that are NA or only have numerical values which could possibly indicate the comment id."
      ]
    },
    {
      "cell_type": "markdown",
      "metadata": {
        "id": "fLhXVwwRi-JE"
      },
      "source": [
        "Check for NA values in the label, comment, parent_comment columns"
      ]
    },
    {
      "cell_type": "code",
      "execution_count": null,
      "metadata": {
        "id": "6Ml5j8Ywi-JE",
        "outputId": "7aeace7f-6f65-4143-942c-d7f4ecd4bb2f"
      },
      "outputs": [
        {
          "name": "stdout",
          "output_type": "stream",
          "text": [
            "Empty DataFrame\n",
            "Columns: [label, comment, parent_comment]\n",
            "Index: []\n",
            "Number of NA labels: 0\n",
            "\n",
            "        label comment                                     parent_comment\n",
            "602         0     NaN                               Any recommendations?\n",
            "56269       1     NaN  LPL shitshow, EU LCS shitshow. What isn't a sh...\n",
            "68590       1     NaN  Car fires smell delicious to you? You should p...\n",
            "135348      0     NaN                                 Will do. EU or NA?\n",
            "199910      0     NaN                                      woah, thanks.\n",
            "Number of NA text in comment: 55\n",
            "\n",
            "Empty DataFrame\n",
            "Columns: [label, comment, parent_comment]\n",
            "Index: []\n",
            "Number of NA text in parent comment: 0\n"
          ]
        }
      ],
      "source": [
        "# Searching for NA values\n",
        "print(data_2[data_2[\"label\"].isna()].head())\n",
        "print(\"Number of NA labels:\",len(data_2[data_2[\"label\"].isna()]))\n",
        "print()\n",
        "print(data_2[data_2[\"comment\"].isna()].head())\n",
        "print(\"Number of NA text in comment:\",len(data_2[data_2[\"comment\"].isna()]))\n",
        "print()\n",
        "print(data_2[data_2[\"parent_comment\"].isna()].head())\n",
        "print(\"Number of NA text in parent comment:\",len(data_2[data_2[\"parent_comment\"].isna()]))"
      ]
    },
    {
      "cell_type": "markdown",
      "metadata": {
        "id": "WZrFRLJ0i-JF"
      },
      "source": [
        "Remove comments with NA values and print the total number of Entries after removing NA"
      ]
    },
    {
      "cell_type": "code",
      "execution_count": null,
      "metadata": {
        "id": "fC3mF_0bi-JF",
        "outputId": "6794620d-eb19-4056-bd85-1cfccae737f3"
      },
      "outputs": [
        {
          "name": "stdout",
          "output_type": "stream",
          "text": [
            "Total Number of Entries after removing NA: 1010771\n"
          ]
        }
      ],
      "source": [
        "# Removing comments with NA values\n",
        "data_2 = data_2[~data_2[\"comment\"].isna()]\n",
        "print(\"Total Number of Entries after removing NA:\", len(data_2))"
      ]
    },
    {
      "cell_type": "markdown",
      "metadata": {
        "id": "9iNTWIjei-JG"
      },
      "source": [
        "Identify entries in the comment and parent_comment column which consists of only digits and print the number of rows of such entries"
      ]
    },
    {
      "cell_type": "code",
      "execution_count": null,
      "metadata": {
        "id": "k2qIbenki-JG",
        "outputId": "dc50f931-1f17-4a48-eb24-a81a67df94b5"
      },
      "outputs": [
        {
          "name": "stdout",
          "output_type": "stream",
          "text": [
            "      label  comment           parent_comment\n",
            "25        0      466        467 A lovely way!\n",
            "42        0  1571049                1,571,048\n",
            "1218      0        4      sv_timebetweenducks\n",
            "1631      0        7  Is this for gen 6 or 7?\n",
            "2190      0      412              IA brother?\n",
            "Number of rows with comments as digits: 530\n",
            "\n",
            "       label                               comment parent_comment\n",
            "4993       0                      That's so fetch.             42\n",
            "5444       0                     Car mechanic 2015          14373\n",
            "6743       0                                     5              7\n",
            "7007       0  You can't even see who the faces are           2016\n",
            "15687      1                                Years?              5\n",
            "Number of rows with parent_comments as digits: 172\n"
          ]
        }
      ],
      "source": [
        "# Searching for entries that are just numerical values\n",
        "rows_with_numbers = data_2[data_2['comment'].apply(lambda x: x.isdigit())]\n",
        "print(rows_with_numbers.head())\n",
        "print(\"Number of rows with comments as digits:\", len(rows_with_numbers))\n",
        "print()\n",
        "rows_with_numbers_parent = data_2[data_2['parent_comment'].apply(lambda x: x.isdigit())]\n",
        "print(rows_with_numbers_parent.head())\n",
        "print(\"Number of rows with parent_comments as digits:\", len(rows_with_numbers_parent))\n"
      ]
    },
    {
      "cell_type": "markdown",
      "metadata": {
        "id": "wtG9UslPi-JI"
      },
      "source": [
        "Remove digit entries and print the total number of Entries left"
      ]
    },
    {
      "cell_type": "code",
      "execution_count": null,
      "metadata": {
        "id": "5LFNFsCWi-JI",
        "outputId": "4f6e26d3-c573-44a4-dd1b-7c483ea82c50"
      },
      "outputs": [
        {
          "name": "stdout",
          "output_type": "stream",
          "text": [
            "Total Number of Entries after removing digit entries: 1010119\n"
          ]
        }
      ],
      "source": [
        "# Removing digit entries\n",
        "data_3 = data_2[~data_2['comment'].apply(lambda x: x.isdigit())]\n",
        "data_3 = data_3[~data_3['parent_comment'].apply(lambda x: x.isdigit())]\n",
        "print(\"Total Number of Entries after removing digit entries:\", len(data_3))"
      ]
    },
    {
      "cell_type": "markdown",
      "metadata": {
        "id": "lzAKU752i-JI"
      },
      "source": [
        "### 4. Reducing Size of Dataset\n",
        "There are too many entries in the dataset (slightly more than a million). We want to reduce the size of the dataset as processing time can become too long for feature engineering and model training."
      ]
    },
    {
      "cell_type": "markdown",
      "metadata": {
        "id": "bJ0JCg_ci-JJ"
      },
      "source": [
        "Utilize seaborn to create a count plot to visualize the distribution of labels in the label column."
      ]
    },
    {
      "cell_type": "code",
      "execution_count": null,
      "metadata": {
        "id": "yavyKCdKi-JJ",
        "outputId": "af2dc625-c85b-4695-8099-17d78b5c53c4"
      },
      "outputs": [
        {
          "name": "stdout",
          "output_type": "stream",
          "text": [
            "Total Number of Entries before reduction: 1010119\n",
            "Distribution of Labels\n",
            "label\n",
            "1    505291\n",
            "0    504828\n",
            "Name: count, dtype: int64\n"
          ]
        },
        {
          "data": {
            "image/png": "[encoded data removed]",
            "text/plain": [
              "<Figure size 640x480 with 1 Axes>"
            ]
          },
          "metadata": {},
          "output_type": "display_data"
        }
      ],
      "source": [
        "sns.countplot(data_3, x = \"label\")\n",
        "plt.title(\"Distribution of Labels\")\n",
        "plt.xlabel(\"Label\")\n",
        "plt.ylabel(\"Counts\")\n",
        "\n",
        "print(\"Total Number of Entries before reduction:\",len(data_3))\n",
        "print(\"Distribution of Labels\")\n",
        "print(data_3[\"label\"].value_counts())\n"
      ]
    },
    {
      "cell_type": "markdown",
      "metadata": {
        "id": "CGI2AzDGi-JJ"
      },
      "source": [
        "The plot above shows that the original dataset is balanced. We can proceed to reduce dataset with stratified sampling to maintain label ratios."
      ]
    },
    {
      "cell_type": "markdown",
      "metadata": {
        "id": "EtE40JmSi-JJ"
      },
      "source": [
        "Split the original dataset (data_3) into features (X) and labels (y). Utilize train_test_split to create a reduced dataset (data_reduced) with a test size of 80%, stratified by the label column, and a random seed of 42. Combine the features and labels into the reduced dataset and reset the index for consistency."
      ]
    },
    {
      "cell_type": "code",
      "execution_count": null,
      "metadata": {
        "id": "9qDXueJpi-JK"
      },
      "outputs": [],
      "source": [
        "# Using stratified\n",
        "X = data_3.drop('label', axis = 1)\n",
        "y = data_3['label']\n",
        "X_sample, _, y_sample, _ = train_test_split(X, y, test_size = 0.8, stratify = y, random_state = 42)\n",
        "data_reduced = pd.concat([X_sample,y_sample], axis = 1)\n",
        "data_reduced = data_reduced.reset_index()\n",
        "data_reduced.drop('index', axis = 1, inplace = True)"
      ]
    },
    {
      "cell_type": "markdown",
      "metadata": {
        "id": "fix3GDSwi-JK"
      },
      "source": [
        "Utilize seaborn to create a count plot to visualize the distribution of labels in the label column after reduction"
      ]
    },
    {
      "cell_type": "code",
      "execution_count": null,
      "metadata": {
        "id": "esvjQfTii-JK",
        "outputId": "c447bb65-5a87-4d70-e362-f0b74a5ce505"
      },
      "outputs": [
        {
          "name": "stdout",
          "output_type": "stream",
          "text": [
            "Total Number of Entries after reduction: 202023\n",
            "Distribution of Labels\n",
            "label\n",
            "1    101058\n",
            "0    100965\n",
            "Name: count, dtype: int64\n"
          ]
        },
        {
          "data": {
            "image/png": "[encoded data removed]",
            "text/plain": [
              "<Figure size 640x480 with 1 Axes>"
            ]
          },
          "metadata": {},
          "output_type": "display_data"
        }
      ],
      "source": [
        "sns.countplot(data_reduced, x = \"label\")\n",
        "plt.title(\"Distribution of Labels\")\n",
        "plt.xlabel(\"Label\")\n",
        "plt.ylabel(\"Counts\")\n",
        "\n",
        "print(\"Total Number of Entries after reduction:\",len(data_reduced))\n",
        "print(\"Distribution of Labels\")\n",
        "print(data_reduced[\"label\"].value_counts())"
      ]
    },
    {
      "cell_type": "markdown",
      "source": [
        "Size of dataset has been reduced while keeping data balanced."
      ],
      "metadata": {
        "id": "0rw75zt0j7gQ"
      }
    },
    {
      "cell_type": "markdown",
      "metadata": {
        "id": "BnrD9E5vi-JK"
      },
      "source": [
        "### 5. Further Data Cleaning\n",
        "Remove contractions, change to lower case, remove links, usernames and emails."
      ]
    },
    {
      "cell_type": "code",
      "execution_count": null,
      "metadata": {
        "id": "Pev24qTJi-JK"
      },
      "outputs": [],
      "source": [
        "#removing contractions\n",
        "data_reduced['comment'] = data_reduced['comment'].apply(contractions.fix)\n",
        "data_reduced['parent_comment'] = data_reduced['parent_comment'].apply(contractions.fix)"
      ]
    },
    {
      "cell_type": "code",
      "execution_count": null,
      "metadata": {
        "id": "ht3btlfsi-JL"
      },
      "outputs": [],
      "source": [
        "#change to lower case\n",
        "data_reduced['comment'] = data_reduced[\"comment\"].apply(lambda text:text.lower())\n",
        "data_reduced['parent_comment'] = data_reduced[\"parent_comment\"].apply(lambda text:text.lower())"
      ]
    },
    {
      "cell_type": "code",
      "execution_count": null,
      "metadata": {
        "id": "Hm4vL0xFi-JL"
      },
      "outputs": [],
      "source": [
        "#function to remove links from text\n",
        "def remove_links(text):\n",
        "    text_1 = re.sub(r\"[(+*)]\\S*https?:\\S*[(+*)]\", \"\", text)\n",
        "    text_2 = re.sub('http://\\S+|https://\\S+', \" \", text_1)\n",
        "    text_3 = re.sub(r\"[\\(\\[].*?[\\)\\]]\", \" \", text_2)\n",
        "    return text_3\n",
        "\n",
        "#function to remove email addresses\n",
        "def remove_emails(text):\n",
        "    text_1 = re.sub(r'\\S+@\\S+', '', text)\n",
        "    return text_1\n",
        "\n",
        "#function to remove usernames\n",
        "def remove_usernames(text):\n",
        "    text_1 = re.sub(r'@\\w+', '', text)\n",
        "    return text_1\n",
        "\n",
        "def remove_links_emails_usernames(text):\n",
        "    text_1 = remove_links(text)\n",
        "    text_2 = remove_emails(text_1)\n",
        "    text_3 = remove_usernames(text_2)\n",
        "    return text_3\n",
        "\n",
        "#removing links, emails and usernames\n",
        "data_reduced['comment'] = data_reduced['comment'].apply(remove_links_emails_usernames)\n",
        "data_reduced['parent_comment'] = data_reduced['parent_comment'].apply(remove_links_emails_usernames)"
      ]
    },
    {
      "cell_type": "markdown",
      "source": [
        "Save the clean data as a pickle for future use. Pickle is used for easy serialization of data for future use."
      ],
      "metadata": {
        "id": "07qXpiVZkT5W"
      }
    },
    {
      "cell_type": "code",
      "execution_count": null,
      "metadata": {
        "id": "dYUDbf8Gi-JL"
      },
      "outputs": [],
      "source": [
        "data_reduced.to_pickle(\"data/data_cleaned.pkl\")"
      ]
    }
  ],
  "metadata": {
    "kernelspec": {
      "display_name": "Python 3",
      "language": "python",
      "name": "python3"
    },
    "language_info": {
      "codemirror_mode": {
        "name": "ipython",
        "version": 3
      },
      "file_extension": ".py",
      "mimetype": "text/x-python",
      "name": "python",
      "nbconvert_exporter": "python",
      "pygments_lexer": "ipython3",
      "version": "3.11.6"
    },
    "orig_nbformat": 4,
    "colab": {
      "provenance": []
    }
  },
  "nbformat": 4,
  "nbformat_minor": 0
}