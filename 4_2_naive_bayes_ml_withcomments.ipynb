{
  "cells": [
    {
      "cell_type": "markdown",
      "metadata": {
        "id": "lJVK1ancvg9e"
      },
      "source": [
        "## Naive Bayes\n",
        "\n",
        "Import necessary libraries to perform Naive Bayes Classification."
      ]
    },
    {
      "cell_type": "code",
      "execution_count": null,
      "metadata": {
        "id": "HFIBVZyDvg9g"
      },
      "outputs": [],
      "source": [
        "import pandas as pd\n",
        "from sklearn.model_selection import KFold\n",
        "from sklearn.naive_bayes import MultinomialNB\n",
        "from sklearn.metrics import roc_auc_score, roc_auc_score\n",
        "import numpy as np\n",
        "from sklearn.preprocessing import MaxAbsScaler\n",
        "from scipy.sparse import csr_matrix, vstack, hstack\n",
        "from sklearn.model_selection import GridSearchCV"
      ]
    },
    {
      "cell_type": "markdown",
      "metadata": {
        "id": "vRxQPTMWvg9i"
      },
      "source": [
        "### Data Prep for ML\n",
        "\n",
        "Unpickle data and remove any NA values.\n",
        "\n",
        "Concate \"comment\" and \"parent_comment\" for TD-idf and BoW from training and testing datasets using vstack."
      ]
    },
    {
      "cell_type": "code",
      "execution_count": null,
      "metadata": {
        "id": "vOmDgCU0vg9i"
      },
      "outputs": [],
      "source": [
        "train = pd.read_pickle(\"data/train.pkl\").dropna()\n",
        "test = pd.read_pickle(\"data/test.pkl\").dropna()"
      ]
    },
    {
      "cell_type": "code",
      "execution_count": null,
      "metadata": {
        "id": "ExTEeVL9vg9j"
      },
      "outputs": [],
      "source": [
        "train_parent_tdidf_csr = vstack(train[\"parent_comment_tdidf\"])\n",
        "test_parent_tdidf_csr = vstack(test[\"parent_comment_tdidf\"])\n",
        "\n",
        "train_tdidf_csr = vstack(train[\"comment_tdidf\"])\n",
        "test_tdidf_csr = vstack(test[\"comment_tdidf\"])\n",
        "\n",
        "train_parent_bow_csr = vstack(train[\"parent_comment_bow\"])\n",
        "test_parent_bow_csr = vstack(test[\"parent_comment_bow\"])\n",
        "\n",
        "train_bow_csr = vstack(train[\"comment_bow\"])\n",
        "test_bow_csr = vstack(test[\"comment_bow\"])"
      ]
    },
    {
      "cell_type": "code",
      "execution_count": null,
      "metadata": {
        "id": "XexDCu0zvg9k",
        "outputId": "e817c02a-a60f-4760-a36a-dd078684b32a"
      },
      "outputs": [
        {
          "data": {
            "text/plain": [
              "Index(['comment', 'parent_comment', 'comment_tokens', 'parent_comment_tokens',\n",
              "       'comment_tokens_bigram', 'parent_comment_tokens_bigram',\n",
              "       'comment_tokens_trigram', 'parent_comment_tokens_trigram',\n",
              "       'comment_score', 'parent_comment_score',\n",
              "       'weighted_parent_sentiment_score_neutral',\n",
              "       'weighted_parent_sentiment_score_positive',\n",
              "       'weighted_comment_sentiment_score_neutral',\n",
              "       'weighted_comment_sentiment_score_positive', 'comment_word_count',\n",
              "       'parent_comment_word_count', 'comment_token_count',\n",
              "       'parent_comment_token_count', 'comment_unique_word_count',\n",
              "       'parent_comment_unique_word_count', 'comment_unique_token_count',\n",
              "       'parent_comment_unique_token_count', 'comment_stopword_count',\n",
              "       'parent_comment_stopword_count', 'comment_mean_word_length',\n",
              "       'parent_comment_mean_word_length', 'comment_mean_token_length',\n",
              "       'parent_comment_mean_token_length', 'comment_char_count',\n",
              "       'parent_comment_char_count', 'comment_punctuation_count',\n",
              "       'parent_comment_punctuation_count', 'comment_hashtag_count',\n",
              "       'parent_comment_hashtag_count', 'comment_number_count',\n",
              "       'parent_comment_number_count', 'comment_bow', 'parent_comment_bow',\n",
              "       'comment_tdidf', 'parent_comment_tdidf', 'label'],\n",
              "      dtype='object')"
            ]
          },
          "execution_count": 4,
          "metadata": {},
          "output_type": "execute_result"
        }
      ],
      "source": [
        "train.columns"
      ]
    },
    {
      "cell_type": "markdown",
      "source": [
        "List of features necessary for Naive Bayes classification."
      ],
      "metadata": {
        "id": "jfk1YdmiwGqi"
      }
    },
    {
      "cell_type": "code",
      "execution_count": null,
      "metadata": {
        "id": "QUDMyplpvg9k"
      },
      "outputs": [],
      "source": [
        "list_of_features = [\n",
        "       'comment_word_count','parent_comment_word_count',\n",
        "       'comment_token_count', 'parent_comment_token_count',\n",
        "       'comment_unique_word_count', 'parent_comment_unique_word_count',\n",
        "       'comment_unique_token_count', 'parent_comment_unique_token_count',\n",
        "       'comment_stopword_count', 'parent_comment_stopword_count',\n",
        "       'comment_mean_word_length', 'parent_comment_mean_word_length',\n",
        "       'comment_mean_token_length', 'parent_comment_mean_token_length',\n",
        "       'comment_char_count', 'parent_comment_char_count',\n",
        "       'comment_punctuation_count', 'parent_comment_punctuation_count',\n",
        "       'comment_hashtag_count', 'parent_comment_hashtag_count',\n",
        "       'comment_number_count', 'parent_comment_number_count',\n",
        "       'weighted_parent_sentiment_score_neutral',\n",
        "       'weighted_parent_sentiment_score_positive',\n",
        "       'weighted_comment_sentiment_score_neutral',\n",
        "       'weighted_comment_sentiment_score_positive']"
      ]
    },
    {
      "cell_type": "markdown",
      "source": [
        "Here we will standardize columns with boolean values. We will change from boolean to integer type and convert the features from a dense matrix to a sparse matrix using the function csr_matrix."
      ],
      "metadata": {
        "id": "ZCLkxa85wO7k"
      }
    },
    {
      "cell_type": "code",
      "execution_count": null,
      "metadata": {
        "id": "Dv3lICeavg9l"
      },
      "outputs": [],
      "source": [
        "bool_cols = ['weighted_parent_sentiment_score_neutral',\n",
        "             'weighted_parent_sentiment_score_positive',\n",
        "             'weighted_comment_sentiment_score_neutral',\n",
        "             'weighted_comment_sentiment_score_positive']\n",
        "\n",
        "for col in bool_cols: #need to convert bool type to integer\n",
        "    train[col] = train[col].astype(int)\n",
        "    test[col] = test[col].astype(int)\n",
        "X_train_gen_features = csr_matrix(train[list_of_features])\n",
        "y_train_LR = train['label']\n",
        "\n",
        "X_test_gen_features = csr_matrix(test[list_of_features])\n",
        "y_test_LR = test['label']"
      ]
    },
    {
      "cell_type": "markdown",
      "metadata": {
        "id": "4BlZfeXsvg9n"
      },
      "source": [
        "### Baseline 1: General Features\n",
        "\n",
        "Performing Multinomial Naive Bayes classification using General Features as the baseline.\n",
        "\n",
        "We will first train the training data using the MultinomialNB() model. We will then make predictions and compare the actual values and predicted values using the mean and stardard deviation of the area under the ROC curve. By looking at the difference in the area under curve measurements we can evaluate the accuracy and precision of logistic regression for this dataset."
      ]
    },
    {
      "cell_type": "code",
      "execution_count": null,
      "metadata": {
        "id": "cd6bFzmivg9o"
      },
      "outputs": [],
      "source": [
        "X_train_LR = X_train_gen_features\n"
      ]
    },
    {
      "cell_type": "code",
      "execution_count": null,
      "metadata": {
        "id": "b5DUsL8Svg9p",
        "outputId": "f67b71e5-245b-44fe-f232-41d17c0c9dd7"
      },
      "outputs": [
        {
          "name": "stdout",
          "output_type": "stream",
          "text": [
            "Mean roc_auc: 0.5053418968702592\n",
            "Standard Deviation of roc_auc: 0.0049351329703229965\n"
          ]
        }
      ],
      "source": [
        "k = 5\n",
        "\n",
        "model = MultinomialNB()\n",
        "kf = KFold(n_splits=k, shuffle=True, random_state=42)\n",
        "\n",
        "cross_val_scores = []\n",
        "for train_index, val_index in kf.split(X_train_LR):\n",
        "    X_train, X_val = X_train_LR[train_index], X_train_LR[val_index]\n",
        "    y_train, y_val = y_train_LR.iloc[train_index,], y_train_LR.iloc[val_index,]\n",
        "\n",
        "    # Train the model on the training data\n",
        "    model.fit(X_train, y_train)\n",
        "\n",
        "    # Make predictions on the validation data\n",
        "    y_pred = model.predict(X_val)\n",
        "\n",
        "    # Calculate roc_auc and store it in the list\n",
        "    roc_auc = roc_auc_score(y_val, y_pred)\n",
        "    cross_val_scores.append(roc_auc)\n",
        "\n",
        "mean_roc_auc = sum(cross_val_scores) / k\n",
        "std_roc_auc = np.std(cross_val_scores)\n",
        "\n",
        "print(f\"Mean roc_auc: {mean_roc_auc}\")\n",
        "print(f\"Standard Deviation of roc_auc: {std_roc_auc}\")"
      ]
    },
    {
      "cell_type": "markdown",
      "metadata": {
        "id": "09ZtfpGtvg9q"
      },
      "source": [
        "### Baseline 2: Comment BoW\n",
        "\n",
        "Performing Multinomial Naive Bayes classification using Comment Bag of Words as the baseline."
      ]
    },
    {
      "cell_type": "code",
      "execution_count": null,
      "metadata": {
        "id": "IFC8NkQ-vg9q"
      },
      "outputs": [],
      "source": [
        "X_train_LR = train_bow_csr"
      ]
    },
    {
      "cell_type": "code",
      "execution_count": null,
      "metadata": {
        "id": "VQmF70aKvg9q",
        "outputId": "92aa87a7-4ab2-4fa1-9d8c-4faf57fea7fa"
      },
      "outputs": [
        {
          "name": "stdout",
          "output_type": "stream",
          "text": [
            "Mean roc_auc: 0.6538833104201154\n",
            "Standard Deviation of roc_auc: 0.0018211816228832544\n"
          ]
        }
      ],
      "source": [
        "k = 5\n",
        "\n",
        "model = MultinomialNB()\n",
        "kf = KFold(n_splits=k, shuffle=True, random_state=42)\n",
        "\n",
        "cross_val_scores = []\n",
        "for train_index, val_index in kf.split(X_train_LR):\n",
        "    X_train, X_val = X_train_LR[train_index], X_train_LR[val_index]\n",
        "    y_train, y_val = y_train_LR.iloc[train_index,], y_train_LR.iloc[val_index,]\n",
        "\n",
        "    # Train the model on the training data\n",
        "    model.fit(X_train, y_train)\n",
        "\n",
        "    # Make predictions on the validation data\n",
        "    y_pred = model.predict(X_val)\n",
        "\n",
        "    # Calculate roc_auc and store it in the list\n",
        "    roc_auc = roc_auc_score(y_val, y_pred)\n",
        "    cross_val_scores.append(roc_auc)\n",
        "\n",
        "mean_roc_auc = sum(cross_val_scores) / k\n",
        "std_roc_auc = np.std(cross_val_scores)\n",
        "\n",
        "print(f\"Mean roc_auc: {mean_roc_auc}\")\n",
        "print(f\"Standard Deviation of roc_auc: {std_roc_auc}\")\n",
        "#unigram: Mean roc_auc: 0.6439986874851111\n",
        "#unigram: Standard Deviation of roc_auc: 0.0015538454889143783"
      ]
    },
    {
      "cell_type": "markdown",
      "metadata": {
        "id": "yCuhmgMUvg9r"
      },
      "source": [
        "### Baseline 3: Comment TD-IDF\n",
        "\n",
        "Performing Multinomial Naive Bayes classification using Comment TD-idf as the baseline."
      ]
    },
    {
      "cell_type": "code",
      "execution_count": null,
      "metadata": {
        "id": "QPMcVdGavg9r"
      },
      "outputs": [],
      "source": [
        "X_train_LR = train_tdidf_csr"
      ]
    },
    {
      "cell_type": "code",
      "execution_count": null,
      "metadata": {
        "id": "svPuoq41vg9r",
        "outputId": "8e6e3aba-ea4b-4a7a-b8f8-5316fec7af18"
      },
      "outputs": [
        {
          "name": "stdout",
          "output_type": "stream",
          "text": [
            "Mean roc_auc: 0.6517845843401131\n",
            "Standard Deviation of roc_auc: 0.0015653922845692162\n"
          ]
        }
      ],
      "source": [
        "k = 5\n",
        "\n",
        "model = MultinomialNB()\n",
        "kf = KFold(n_splits=k, shuffle=True, random_state=42)\n",
        "\n",
        "cross_val_scores = []\n",
        "for train_index, val_index in kf.split(X_train_LR):\n",
        "    X_train, X_val = X_train_LR[train_index], X_train_LR[val_index]\n",
        "    y_train, y_val = y_train_LR.iloc[train_index,], y_train_LR.iloc[val_index,]\n",
        "\n",
        "    # Train the model on the training data\n",
        "    model.fit(X_train, y_train)\n",
        "\n",
        "    # Make predictions on the validation data\n",
        "    y_pred = model.predict(X_val)\n",
        "\n",
        "    # Calculate roc_auc and store it in the list\n",
        "    roc_auc = roc_auc_score(y_val, y_pred)\n",
        "    cross_val_scores.append(roc_auc)\n",
        "\n",
        "mean_roc_auc = sum(cross_val_scores) / k\n",
        "std_roc_auc = np.std(cross_val_scores)\n",
        "\n",
        "print(f\"Mean roc_auc: {mean_roc_auc}\")\n",
        "print(f\"Standard Deviation of roc_auc: {std_roc_auc}\")\n",
        "#unigram: Mean roc_auc: 0.6392604315512\n",
        "#unigram: Standard Deviation of roc_auc: 0.0014945661295342496"
      ]
    },
    {
      "cell_type": "markdown",
      "metadata": {
        "id": "nQO6QxVZvg9r"
      },
      "source": [
        "### Baseline 4: General Features + BoW\n",
        "\n",
        "Performing Multinomial Naive Bayes classification using both General Features and Comment Bag of Words as the baseline."
      ]
    },
    {
      "cell_type": "code",
      "execution_count": null,
      "metadata": {
        "id": "m2ZiNV4Cvg9s"
      },
      "outputs": [],
      "source": [
        "X_train_LR = hstack([X_train_gen_features,train_bow_csr])"
      ]
    },
    {
      "cell_type": "code",
      "execution_count": null,
      "metadata": {
        "id": "fQhCeqjNvg9s",
        "outputId": "dc42f1bf-869a-4d5d-fcb0-f934cb329160"
      },
      "outputs": [
        {
          "name": "stdout",
          "output_type": "stream",
          "text": [
            "Mean roc_auc: 0.634601054043032\n",
            "Standard Deviation of roc_auc: 0.009143068162017423\n"
          ]
        }
      ],
      "source": [
        "k = 5\n",
        "\n",
        "model = MultinomialNB()\n",
        "kf = KFold(n_splits=k, shuffle=True, random_state=42)\n",
        "\n",
        "cross_val_scores = []\n",
        "for train_index, val_index in kf.split(X_train_LR):\n",
        "    X_train, X_val = X_train_LR[train_index], X_train_LR[val_index]\n",
        "    y_train, y_val = y_train_LR.iloc[train_index,], y_train_LR.iloc[val_index,]\n",
        "\n",
        "    # Train the model on the training data\n",
        "    model.fit(X_train, y_train)\n",
        "\n",
        "    # Make predictions on the validation data\n",
        "    y_pred = model.predict(X_val)\n",
        "\n",
        "    # Calculate roc_auc and store it in the list\n",
        "    roc_auc = roc_auc_score(y_val, y_pred)\n",
        "    cross_val_scores.append(roc_auc)\n",
        "\n",
        "mean_roc_auc = sum(cross_val_scores) / k\n",
        "std_roc_auc = np.std(cross_val_scores)\n",
        "\n",
        "print(f\"Mean roc_auc: {mean_roc_auc}\")\n",
        "print(f\"Standard Deviation of roc_auc: {std_roc_auc}\")"
      ]
    },
    {
      "cell_type": "markdown",
      "metadata": {
        "id": "SZVzsT8Lvg9s"
      },
      "source": [
        "### Baseline 5: General Features + TD-IDF\n",
        "\n",
        "Performing Multinomial Naive Bayes classification using General Features and Comment TD-idf as the baseline."
      ]
    },
    {
      "cell_type": "code",
      "execution_count": null,
      "metadata": {
        "id": "KOtj9R6hvg9s"
      },
      "outputs": [],
      "source": [
        "X_train_LR = hstack([X_train_gen_features,train_tdidf_csr])"
      ]
    },
    {
      "cell_type": "code",
      "execution_count": null,
      "metadata": {
        "id": "1YjeQFbWvg9t",
        "outputId": "d04df538-bded-448c-ef63-a7b123904d78"
      },
      "outputs": [
        {
          "name": "stdout",
          "output_type": "stream",
          "text": [
            "Mean roc_auc: 0.5856076085176727\n",
            "Standard Deviation of roc_auc: 0.014533722930803905\n"
          ]
        }
      ],
      "source": [
        "k = 5\n",
        "\n",
        "model = MultinomialNB()\n",
        "kf = KFold(n_splits=k, shuffle=True, random_state=42)\n",
        "\n",
        "cross_val_scores = []\n",
        "for train_index, val_index in kf.split(X_train_LR):\n",
        "    X_train, X_val = X_train_LR[train_index], X_train_LR[val_index]\n",
        "    y_train, y_val = y_train_LR.iloc[train_index,], y_train_LR.iloc[val_index,]\n",
        "\n",
        "    # Train the model on the training data\n",
        "    model.fit(X_train, y_train)\n",
        "\n",
        "    # Make predictions on the validation data\n",
        "    y_pred = model.predict(X_val)\n",
        "\n",
        "    # Calculate roc_auc and store it in the list\n",
        "    roc_auc = roc_auc_score(y_val, y_pred)\n",
        "    cross_val_scores.append(roc_auc)\n",
        "\n",
        "mean_roc_auc = sum(cross_val_scores) / k\n",
        "std_roc_auc = np.std(cross_val_scores)\n",
        "\n",
        "print(f\"Mean roc_auc: {mean_roc_auc}\")\n",
        "print(f\"Standard Deviation of roc_auc: {std_roc_auc}\")"
      ]
    },
    {
      "cell_type": "markdown",
      "metadata": {
        "id": "Nk1fP1r2vg9t"
      },
      "source": [
        "### Baseline 6: Gen Features + Comment TDIDF + Parent TDIDF\n",
        "\n",
        "Performing Multinomial Naive Bayes classification using General Features, Comment TD-idf and Parent comment TD-idf as the baseline."
      ]
    },
    {
      "cell_type": "code",
      "execution_count": null,
      "metadata": {
        "id": "TsTg5ATMvg9t"
      },
      "outputs": [],
      "source": [
        "X_train_LR = hstack([X_train_gen_features,train_tdidf_csr,train_parent_tdidf_csr])"
      ]
    },
    {
      "cell_type": "code",
      "execution_count": null,
      "metadata": {
        "id": "GTNyDOCwvg9t",
        "outputId": "b6079a9f-b888-432c-ba6d-f1d363ece45d"
      },
      "outputs": [
        {
          "name": "stdout",
          "output_type": "stream",
          "text": [
            "Mean roc_auc: 0.5976650314890805\n",
            "Standard Deviation of roc_auc: 0.01428165216372994\n"
          ]
        }
      ],
      "source": [
        "k = 5\n",
        "\n",
        "model = MultinomialNB()\n",
        "kf = KFold(n_splits=k, shuffle=True, random_state=42)\n",
        "\n",
        "cross_val_scores = []\n",
        "for train_index, val_index in kf.split(X_train_LR):\n",
        "    X_train, X_val = X_train_LR[train_index], X_train_LR[val_index]\n",
        "    y_train, y_val = y_train_LR.iloc[train_index,], y_train_LR.iloc[val_index,]\n",
        "\n",
        "    # Train the model on the training data\n",
        "    model.fit(X_train, y_train)\n",
        "\n",
        "    # Make predictions on the validation data\n",
        "    y_pred = model.predict(X_val)\n",
        "\n",
        "    # Calculate roc_auc and store it in the list\n",
        "    roc_auc = roc_auc_score(y_val, y_pred)\n",
        "    cross_val_scores.append(roc_auc)\n",
        "\n",
        "mean_roc_auc = sum(cross_val_scores) / k\n",
        "std_roc_auc = np.std(cross_val_scores)\n",
        "\n",
        "print(f\"Mean roc_auc: {mean_roc_auc}\")\n",
        "print(f\"Standard Deviation of roc_auc: {std_roc_auc}\")"
      ]
    },
    {
      "cell_type": "markdown",
      "metadata": {
        "id": "7gSZJKlhvg9u"
      },
      "source": [
        "### Baseline 7: Gen + Parent TDIDF\n",
        "\n",
        "Performing Multinomial Naive Bayes classification using General Features and Parent comment TD-idf as the baseline."
      ]
    },
    {
      "cell_type": "code",
      "execution_count": null,
      "metadata": {
        "id": "egRQ_9DRvg9u"
      },
      "outputs": [],
      "source": [
        "X_train_LR = hstack([X_train_gen_features,train_parent_tdidf_csr])"
      ]
    },
    {
      "cell_type": "code",
      "execution_count": null,
      "metadata": {
        "id": "KfLo2c73vg9u",
        "outputId": "65f6af4f-8f70-40ec-a5ca-6cf26d27574a"
      },
      "outputs": [
        {
          "name": "stdout",
          "output_type": "stream",
          "text": [
            "Mean roc_auc: 0.5271446864524034\n",
            "Standard Deviation of roc_auc: 0.006613441003783058\n"
          ]
        }
      ],
      "source": [
        "k = 5\n",
        "\n",
        "model = MultinomialNB()\n",
        "kf = KFold(n_splits=k, shuffle=True, random_state=42)\n",
        "\n",
        "cross_val_scores = []\n",
        "for train_index, val_index in kf.split(X_train_LR):\n",
        "    X_train, X_val = X_train_LR[train_index], X_train_LR[val_index]\n",
        "    y_train, y_val = y_train_LR.iloc[train_index,], y_train_LR.iloc[val_index,]\n",
        "\n",
        "    # Train the model on the training data\n",
        "    model.fit(X_train, y_train)\n",
        "\n",
        "    # Make predictions on the validation data\n",
        "    y_pred = model.predict(X_val)\n",
        "\n",
        "    # Calculate roc_auc and store it in the list\n",
        "    roc_auc = roc_auc_score(y_val, y_pred)\n",
        "    cross_val_scores.append(roc_auc)\n",
        "\n",
        "mean_roc_auc = sum(cross_val_scores) / k\n",
        "std_roc_auc = np.std(cross_val_scores)\n",
        "\n",
        "print(f\"Mean roc_auc: {mean_roc_auc}\")\n",
        "print(f\"Standard Deviation of roc_auc: {std_roc_auc}\")"
      ]
    },
    {
      "cell_type": "markdown",
      "metadata": {
        "id": "KS0Hf0TJvg9u"
      },
      "source": [
        "### Hyper Parameter Tuning with Grid Search CV\n",
        "\n",
        "Baseline 5: General Features + BoW has the highest mean roc_auc score (0.63460). This means that it is the best performing classifier. We will now perform hyperparameter tuning on this to increase the model performance. We will use GridSearchCV to cross validate all possible hyperparameter combinations and pick the best performing hyperparameters."
      ]
    },
    {
      "cell_type": "code",
      "execution_count": null,
      "metadata": {
        "id": "I78UFNE5vg9u"
      },
      "outputs": [],
      "source": [
        "### Using gen features and bow\n",
        "X_train_LR = hstack([X_train_gen_features,train_bow_csr])"
      ]
    },
    {
      "cell_type": "code",
      "execution_count": null,
      "metadata": {
        "id": "CNtCuCauvg9v"
      },
      "outputs": [],
      "source": [
        "param_grid = {\n",
        "    'alpha': [0.2, 0.4, 0.6, 0.8, 1.0],  # You can extend this list\n",
        "    'fit_prior': [True, False],\n",
        "}\n"
      ]
    },
    {
      "cell_type": "code",
      "execution_count": null,
      "metadata": {
        "id": "lFoFgeOCvg9v",
        "outputId": "90cf5dad-05f9-43a3-addd-725bd81340d0"
      },
      "outputs": [
        {
          "name": "stdout",
          "output_type": "stream",
          "text": [
            "Fitting 5 folds for each of 10 candidates, totalling 50 fits\n",
            "[CV 1/5] END .........alpha=0.2, fit_prior=True;, score=0.688 total time=   0.1s\n",
            "[CV 2/5] END .........alpha=0.2, fit_prior=True;, score=0.666 total time=   0.0s\n",
            "[CV 3/5] END .........alpha=0.2, fit_prior=True;, score=0.681 total time=   0.0s\n",
            "[CV 4/5] END .........alpha=0.2, fit_prior=True;, score=0.684 total time=   0.0s\n",
            "[CV 5/5] END .........alpha=0.2, fit_prior=True;, score=0.681 total time=   0.0s\n",
            "[CV 1/5] END ........alpha=0.2, fit_prior=False;, score=0.688 total time=   0.0s\n",
            "[CV 2/5] END ........alpha=0.2, fit_prior=False;, score=0.666 total time=   0.0s\n",
            "[CV 3/5] END ........alpha=0.2, fit_prior=False;, score=0.681 total time=   0.0s\n",
            "[CV 4/5] END ........alpha=0.2, fit_prior=False;, score=0.684 total time=   0.0s\n",
            "[CV 5/5] END ........alpha=0.2, fit_prior=False;, score=0.681 total time=   0.0s\n",
            "[CV 1/5] END .........alpha=0.4, fit_prior=True;, score=0.690 total time=   0.0s\n",
            "[CV 2/5] END .........alpha=0.4, fit_prior=True;, score=0.666 total time=   0.0s\n",
            "[CV 3/5] END .........alpha=0.4, fit_prior=True;, score=0.683 total time=   0.0s\n",
            "[CV 4/5] END .........alpha=0.4, fit_prior=True;, score=0.685 total time=   0.0s\n",
            "[CV 5/5] END .........alpha=0.4, fit_prior=True;, score=0.683 total time=   0.0s\n",
            "[CV 1/5] END ........alpha=0.4, fit_prior=False;, score=0.690 total time=   0.0s\n",
            "[CV 2/5] END ........alpha=0.4, fit_prior=False;, score=0.666 total time=   0.0s\n",
            "[CV 3/5] END ........alpha=0.4, fit_prior=False;, score=0.683 total time=   0.0s\n",
            "[CV 4/5] END ........alpha=0.4, fit_prior=False;, score=0.685 total time=   0.0s\n",
            "[CV 5/5] END ........alpha=0.4, fit_prior=False;, score=0.683 total time=   0.0s\n",
            "[CV 1/5] END .........alpha=0.6, fit_prior=True;, score=0.691 total time=   0.0s\n",
            "[CV 2/5] END .........alpha=0.6, fit_prior=True;, score=0.666 total time=   0.0s\n",
            "[CV 3/5] END .........alpha=0.6, fit_prior=True;, score=0.683 total time=   0.0s\n",
            "[CV 4/5] END .........alpha=0.6, fit_prior=True;, score=0.685 total time=   0.0s\n",
            "[CV 5/5] END .........alpha=0.6, fit_prior=True;, score=0.684 total time=   0.0s\n",
            "[CV 1/5] END ........alpha=0.6, fit_prior=False;, score=0.691 total time=   0.0s\n",
            "[CV 2/5] END ........alpha=0.6, fit_prior=False;, score=0.666 total time=   0.0s\n",
            "[CV 3/5] END ........alpha=0.6, fit_prior=False;, score=0.683 total time=   0.0s\n",
            "[CV 4/5] END ........alpha=0.6, fit_prior=False;, score=0.685 total time=   0.0s\n",
            "[CV 5/5] END ........alpha=0.6, fit_prior=False;, score=0.684 total time=   0.0s\n",
            "[CV 1/5] END .........alpha=0.8, fit_prior=True;, score=0.691 total time=   0.0s\n",
            "[CV 2/5] END .........alpha=0.8, fit_prior=True;, score=0.665 total time=   0.0s\n",
            "[CV 3/5] END .........alpha=0.8, fit_prior=True;, score=0.683 total time=   0.0s\n",
            "[CV 4/5] END .........alpha=0.8, fit_prior=True;, score=0.685 total time=   0.0s\n",
            "[CV 5/5] END .........alpha=0.8, fit_prior=True;, score=0.684 total time=   0.0s\n",
            "[CV 1/5] END ........alpha=0.8, fit_prior=False;, score=0.691 total time=   0.0s\n",
            "[CV 2/5] END ........alpha=0.8, fit_prior=False;, score=0.665 total time=   0.0s\n",
            "[CV 3/5] END ........alpha=0.8, fit_prior=False;, score=0.683 total time=   0.0s\n",
            "[CV 4/5] END ........alpha=0.8, fit_prior=False;, score=0.685 total time=   0.0s\n",
            "[CV 5/5] END ........alpha=0.8, fit_prior=False;, score=0.684 total time=   0.0s\n",
            "[CV 1/5] END .........alpha=1.0, fit_prior=True;, score=0.691 total time=   0.0s\n",
            "[CV 2/5] END .........alpha=1.0, fit_prior=True;, score=0.664 total time=   0.0s\n",
            "[CV 3/5] END .........alpha=1.0, fit_prior=True;, score=0.683 total time=   0.0s\n",
            "[CV 4/5] END .........alpha=1.0, fit_prior=True;, score=0.684 total time=   0.0s\n",
            "[CV 5/5] END .........alpha=1.0, fit_prior=True;, score=0.684 total time=   0.0s\n",
            "[CV 1/5] END ........alpha=1.0, fit_prior=False;, score=0.691 total time=   0.0s\n",
            "[CV 2/5] END ........alpha=1.0, fit_prior=False;, score=0.664 total time=   0.0s\n",
            "[CV 3/5] END ........alpha=1.0, fit_prior=False;, score=0.683 total time=   0.0s\n",
            "[CV 4/5] END ........alpha=1.0, fit_prior=False;, score=0.684 total time=   0.0s\n",
            "[CV 5/5] END ........alpha=1.0, fit_prior=False;, score=0.684 total time=   0.0s\n"
          ]
        },
        {
          "data": {
            "text/html": [
              "<style>#sk-container-id-1 {color: black;}#sk-container-id-1 pre{padding: 0;}#sk-container-id-1 div.sk-toggleable {background-color: white;}#sk-container-id-1 label.sk-toggleable__label {cursor: pointer;display: block;width: 100%;margin-bottom: 0;padding: 0.3em;box-sizing: border-box;text-align: center;}#sk-container-id-1 label.sk-toggleable__label-arrow:before {content: \"▸\";float: left;margin-right: 0.25em;color: #696969;}#sk-container-id-1 label.sk-toggleable__label-arrow:hover:before {color: black;}#sk-container-id-1 div.sk-estimator:hover label.sk-toggleable__label-arrow:before {color: black;}#sk-container-id-1 div.sk-toggleable__content {max-height: 0;max-width: 0;overflow: hidden;text-align: left;background-color: #f0f8ff;}#sk-container-id-1 div.sk-toggleable__content pre {margin: 0.2em;color: black;border-radius: 0.25em;background-color: #f0f8ff;}#sk-container-id-1 input.sk-toggleable__control:checked~div.sk-toggleable__content {max-height: 200px;max-width: 100%;overflow: auto;}#sk-container-id-1 input.sk-toggleable__control:checked~label.sk-toggleable__label-arrow:before {content: \"▾\";}#sk-container-id-1 div.sk-estimator input.sk-toggleable__control:checked~label.sk-toggleable__label {background-color: #d4ebff;}#sk-container-id-1 div.sk-label input.sk-toggleable__control:checked~label.sk-toggleable__label {background-color: #d4ebff;}#sk-container-id-1 input.sk-hidden--visually {border: 0;clip: rect(1px 1px 1px 1px);clip: rect(1px, 1px, 1px, 1px);height: 1px;margin: -1px;overflow: hidden;padding: 0;position: absolute;width: 1px;}#sk-container-id-1 div.sk-estimator {font-family: monospace;background-color: #f0f8ff;border: 1px dotted black;border-radius: 0.25em;box-sizing: border-box;margin-bottom: 0.5em;}#sk-container-id-1 div.sk-estimator:hover {background-color: #d4ebff;}#sk-container-id-1 div.sk-parallel-item::after {content: \"\";width: 100%;border-bottom: 1px solid gray;flex-grow: 1;}#sk-container-id-1 div.sk-label:hover label.sk-toggleable__label {background-color: #d4ebff;}#sk-container-id-1 div.sk-serial::before {content: \"\";position: absolute;border-left: 1px solid gray;box-sizing: border-box;top: 0;bottom: 0;left: 50%;z-index: 0;}#sk-container-id-1 div.sk-serial {display: flex;flex-direction: column;align-items: center;background-color: white;padding-right: 0.2em;padding-left: 0.2em;position: relative;}#sk-container-id-1 div.sk-item {position: relative;z-index: 1;}#sk-container-id-1 div.sk-parallel {display: flex;align-items: stretch;justify-content: center;background-color: white;position: relative;}#sk-container-id-1 div.sk-item::before, #sk-container-id-1 div.sk-parallel-item::before {content: \"\";position: absolute;border-left: 1px solid gray;box-sizing: border-box;top: 0;bottom: 0;left: 50%;z-index: -1;}#sk-container-id-1 div.sk-parallel-item {display: flex;flex-direction: column;z-index: 1;position: relative;background-color: white;}#sk-container-id-1 div.sk-parallel-item:first-child::after {align-self: flex-end;width: 50%;}#sk-container-id-1 div.sk-parallel-item:last-child::after {align-self: flex-start;width: 50%;}#sk-container-id-1 div.sk-parallel-item:only-child::after {width: 0;}#sk-container-id-1 div.sk-dashed-wrapped {border: 1px dashed gray;margin: 0 0.4em 0.5em 0.4em;box-sizing: border-box;padding-bottom: 0.4em;background-color: white;}#sk-container-id-1 div.sk-label label {font-family: monospace;font-weight: bold;display: inline-block;line-height: 1.2em;}#sk-container-id-1 div.sk-label-container {text-align: center;}#sk-container-id-1 div.sk-container {/* jupyter's `normalize.less` sets `[hidden] { display: none; }` but bootstrap.min.css set `[hidden] { display: none !important; }` so we also need the `!important` here to be able to override the default hidden behavior on the sphinx rendered scikit-learn.org. See: https://github.com/scikit-learn/scikit-learn/issues/21755 */display: inline-block !important;position: relative;}#sk-container-id-1 div.sk-text-repr-fallback {display: none;}</style><div id=\"sk-container-id-1\" class=\"sk-top-container\"><div class=\"sk-text-repr-fallback\"><pre>GridSearchCV(cv=5, estimator=MultinomialNB(),\n",
              "             param_grid={&#x27;alpha&#x27;: [0.2, 0.4, 0.6, 0.8, 1.0],\n",
              "                         &#x27;fit_prior&#x27;: [True, False]},\n",
              "             scoring=&#x27;roc_auc&#x27;, verbose=4)</pre><b>In a Jupyter environment, please rerun this cell to show the HTML representation or trust the notebook. <br />On GitHub, the HTML representation is unable to render, please try loading this page with nbviewer.org.</b></div><div class=\"sk-container\" hidden><div class=\"sk-item sk-dashed-wrapped\"><div class=\"sk-label-container\"><div class=\"sk-label sk-toggleable\"><input class=\"sk-toggleable__control sk-hidden--visually\" id=\"sk-estimator-id-1\" type=\"checkbox\" ><label for=\"sk-estimator-id-1\" class=\"sk-toggleable__label sk-toggleable__label-arrow\">GridSearchCV</label><div class=\"sk-toggleable__content\"><pre>GridSearchCV(cv=5, estimator=MultinomialNB(),\n",
              "             param_grid={&#x27;alpha&#x27;: [0.2, 0.4, 0.6, 0.8, 1.0],\n",
              "                         &#x27;fit_prior&#x27;: [True, False]},\n",
              "             scoring=&#x27;roc_auc&#x27;, verbose=4)</pre></div></div></div><div class=\"sk-parallel\"><div class=\"sk-parallel-item\"><div class=\"sk-item\"><div class=\"sk-label-container\"><div class=\"sk-label sk-toggleable\"><input class=\"sk-toggleable__control sk-hidden--visually\" id=\"sk-estimator-id-2\" type=\"checkbox\" ><label for=\"sk-estimator-id-2\" class=\"sk-toggleable__label sk-toggleable__label-arrow\">estimator: MultinomialNB</label><div class=\"sk-toggleable__content\"><pre>MultinomialNB()</pre></div></div></div><div class=\"sk-serial\"><div class=\"sk-item\"><div class=\"sk-estimator sk-toggleable\"><input class=\"sk-toggleable__control sk-hidden--visually\" id=\"sk-estimator-id-3\" type=\"checkbox\" ><label for=\"sk-estimator-id-3\" class=\"sk-toggleable__label sk-toggleable__label-arrow\">MultinomialNB</label><div class=\"sk-toggleable__content\"><pre>MultinomialNB()</pre></div></div></div></div></div></div></div></div></div></div>"
            ],
            "text/plain": [
              "GridSearchCV(cv=5, estimator=MultinomialNB(),\n",
              "             param_grid={'alpha': [0.2, 0.4, 0.6, 0.8, 1.0],\n",
              "                         'fit_prior': [True, False]},\n",
              "             scoring='roc_auc', verbose=4)"
            ]
          },
          "execution_count": 24,
          "metadata": {},
          "output_type": "execute_result"
        }
      ],
      "source": [
        "grid_search = GridSearchCV(MultinomialNB(), param_grid, cv=5, scoring='roc_auc', verbose=4)\n",
        "grid_search.fit(X_train_LR, y_train_LR)"
      ]
    },
    {
      "cell_type": "code",
      "execution_count": null,
      "metadata": {
        "id": "szKKfQTrvg9v",
        "outputId": "0ee894d6-4665-4e95-a5de-e1f0ae45704c"
      },
      "outputs": [
        {
          "name": "stdout",
          "output_type": "stream",
          "text": [
            "Best Parameters: {'alpha': 0.6, 'fit_prior': True}\n",
            "Best Score: 0.6819249586995898\n"
          ]
        }
      ],
      "source": [
        "best_params = grid_search.best_params_\n",
        "print(\"Best Parameters:\", best_params)\n",
        "\n",
        "# Best score achieved during grid search\n",
        "best_score = grid_search.best_score_\n",
        "print(\"Best Score:\", best_score)"
      ]
    },
    {
      "cell_type": "markdown",
      "source": [
        "Here we will test out the model using the best hyperparameters."
      ],
      "metadata": {
        "id": "SZIvhzeP0LcH"
      }
    },
    {
      "cell_type": "code",
      "execution_count": null,
      "metadata": {
        "id": "h_DQPi7cvg9v",
        "outputId": "1c9f744b-d04d-4239-d9c4-5b460f432723"
      },
      "outputs": [
        {
          "name": "stdout",
          "output_type": "stream",
          "text": [
            "Best Estimator: MultinomialNB(alpha=0.6)\n"
          ]
        }
      ],
      "source": [
        "# Best estimator (the fitted model with the best parameters)\n",
        "best_estimator = grid_search.best_estimator_\n",
        "print(\"Best Estimator:\", best_estimator)\n",
        "\n",
        "# Results for all parameter combinations\n",
        "cv_results = grid_search.cv_results_"
      ]
    },
    {
      "cell_type": "code",
      "execution_count": null,
      "metadata": {
        "id": "ugnMfs4Ovg9w",
        "outputId": "844e7f14-a61b-456a-d80a-0be509efa1a7"
      },
      "outputs": [
        {
          "data": {
            "text/html": [
              "<div>\n",
              "<style scoped>\n",
              "    .dataframe tbody tr th:only-of-type {\n",
              "        vertical-align: middle;\n",
              "    }\n",
              "\n",
              "    .dataframe tbody tr th {\n",
              "        vertical-align: top;\n",
              "    }\n",
              "\n",
              "    .dataframe thead th {\n",
              "        text-align: right;\n",
              "    }\n",
              "</style>\n",
              "<table border=\"1\" class=\"dataframe\">\n",
              "  <thead>\n",
              "    <tr style=\"text-align: right;\">\n",
              "      <th></th>\n",
              "      <th>Params</th>\n",
              "      <th>Mean Score</th>\n",
              "      <th>STD</th>\n",
              "    </tr>\n",
              "  </thead>\n",
              "  <tbody>\n",
              "    <tr>\n",
              "      <th>4</th>\n",
              "      <td>alpha: 0.6, fit_prior: True</td>\n",
              "      <td>0.681925</td>\n",
              "      <td>0.008493</td>\n",
              "    </tr>\n",
              "    <tr>\n",
              "      <th>5</th>\n",
              "      <td>alpha: 0.6, fit_prior: False</td>\n",
              "      <td>0.681925</td>\n",
              "      <td>0.008493</td>\n",
              "    </tr>\n",
              "    <tr>\n",
              "      <th>6</th>\n",
              "      <td>alpha: 0.8, fit_prior: True</td>\n",
              "      <td>0.681781</td>\n",
              "      <td>0.008772</td>\n",
              "    </tr>\n",
              "    <tr>\n",
              "      <th>7</th>\n",
              "      <td>alpha: 0.8, fit_prior: False</td>\n",
              "      <td>0.681781</td>\n",
              "      <td>0.008772</td>\n",
              "    </tr>\n",
              "    <tr>\n",
              "      <th>2</th>\n",
              "      <td>alpha: 0.4, fit_prior: True</td>\n",
              "      <td>0.681635</td>\n",
              "      <td>0.008117</td>\n",
              "    </tr>\n",
              "    <tr>\n",
              "      <th>3</th>\n",
              "      <td>alpha: 0.4, fit_prior: False</td>\n",
              "      <td>0.681635</td>\n",
              "      <td>0.008117</td>\n",
              "    </tr>\n",
              "    <tr>\n",
              "      <th>8</th>\n",
              "      <td>alpha: 1.0, fit_prior: True</td>\n",
              "      <td>0.681445</td>\n",
              "      <td>0.008994</td>\n",
              "    </tr>\n",
              "    <tr>\n",
              "      <th>9</th>\n",
              "      <td>alpha: 1.0, fit_prior: False</td>\n",
              "      <td>0.681445</td>\n",
              "      <td>0.008994</td>\n",
              "    </tr>\n",
              "    <tr>\n",
              "      <th>1</th>\n",
              "      <td>alpha: 0.2, fit_prior: False</td>\n",
              "      <td>0.680117</td>\n",
              "      <td>0.007518</td>\n",
              "    </tr>\n",
              "    <tr>\n",
              "      <th>0</th>\n",
              "      <td>alpha: 0.2, fit_prior: True</td>\n",
              "      <td>0.680117</td>\n",
              "      <td>0.007518</td>\n",
              "    </tr>\n",
              "  </tbody>\n",
              "</table>\n",
              "</div>"
            ],
            "text/plain": [
              "                         Params  Mean Score       STD\n",
              "4   alpha: 0.6, fit_prior: True    0.681925  0.008493\n",
              "5  alpha: 0.6, fit_prior: False    0.681925  0.008493\n",
              "6   alpha: 0.8, fit_prior: True    0.681781  0.008772\n",
              "7  alpha: 0.8, fit_prior: False    0.681781  0.008772\n",
              "2   alpha: 0.4, fit_prior: True    0.681635  0.008117\n",
              "3  alpha: 0.4, fit_prior: False    0.681635  0.008117\n",
              "8   alpha: 1.0, fit_prior: True    0.681445  0.008994\n",
              "9  alpha: 1.0, fit_prior: False    0.681445  0.008994\n",
              "1  alpha: 0.2, fit_prior: False    0.680117  0.007518\n",
              "0   alpha: 0.2, fit_prior: True    0.680117  0.007518"
            ]
          },
          "execution_count": 27,
          "metadata": {},
          "output_type": "execute_result"
        }
      ],
      "source": [
        "mean_test_scores = cv_results['mean_test_score']\n",
        "std_test_scores = cv_results['std_test_score']\n",
        "params = cv_results['params']\n",
        "\n",
        "pd.set_option('display.max_colwidth',None)\n",
        "results_df = pd.DataFrame({'Params':params,'Mean Score':mean_test_scores,'STD':std_test_scores})\n",
        "results_df[\"Params\"] = results_df[\"Params\"].apply(lambda x: ', '.join([f'{key}: {value}' for key, value in x.items()]))\n",
        "results_df.sort_values('STD', inplace=True)\n",
        "results_df.sort_values('Mean Score', ascending=False,inplace=True)\n",
        "results_df\n",
        "\n",
        "\n",
        "#for mean_score, std_score, param in zip(mean_test_scores, std_test_scores, params):\n",
        "    #print(f\"Mean Score: {mean_score:.3f} (±{std_score:.3f}) for params: {param}\")"
      ]
    },
    {
      "cell_type": "markdown",
      "metadata": {
        "id": "TnDf3uuyvg9w"
      },
      "source": [
        "### Compare to Test Set\n",
        "\n",
        "Here we can see that hyperparameter tuning has increased the ROC_AUC score from 0.63460 to 0.64008."
      ]
    },
    {
      "cell_type": "code",
      "execution_count": null,
      "metadata": {
        "id": "C2s0LU3Cvg9w"
      },
      "outputs": [],
      "source": [
        "X_test_LR = hstack([X_test_gen_features,test_bow_csr])\n",
        "#X_test_LR = scaler.fit_transform(X_test_LR)"
      ]
    },
    {
      "cell_type": "code",
      "execution_count": null,
      "metadata": {
        "id": "inbVPqOovg9w",
        "outputId": "888e6059-75be-4858-e490-a39888156b43"
      },
      "outputs": [
        {
          "name": "stdout",
          "output_type": "stream",
          "text": [
            "roc_auc test: 0.6400826075413077\n"
          ]
        }
      ],
      "source": [
        "y_pred_test = best_estimator.predict(X_test_LR)\n",
        "roc_auc_test = roc_auc_score(y_test_LR, y_pred_test)\n",
        "print(f\"roc_auc test: {roc_auc_test}\")"
      ]
    }
  ],
  "metadata": {
    "kernelspec": {
      "display_name": "Python 3",
      "language": "python",
      "name": "python3"
    },
    "language_info": {
      "codemirror_mode": {
        "name": "ipython",
        "version": 3
      },
      "file_extension": ".py",
      "mimetype": "text/x-python",
      "name": "python",
      "nbconvert_exporter": "python",
      "pygments_lexer": "ipython3",
      "version": "3.11.4"
    },
    "colab": {
      "provenance": []
    }
  },
  "nbformat": 4,
  "nbformat_minor": 0
}
