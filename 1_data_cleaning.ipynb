{
 "cells": [
  {
   "cell_type": "code",
   "execution_count": 18,
   "metadata": {},
   "outputs": [],
   "source": [
    "import pandas as pd\n",
    "from sklearn.model_selection import train_test_split\n",
    "import seaborn as sns\n",
    "import matplotlib.pyplot as plt\n",
    "import contractions\n",
    "import re"
   ]
  },
  {
   "cell_type": "code",
   "execution_count": 4,
   "metadata": {},
   "outputs": [],
   "source": [
    "data = pd.read_csv(\"data/train-balanced-sarcasm.csv\")"
   ]
  },
  {
   "cell_type": "code",
   "execution_count": 5,
   "metadata": {},
   "outputs": [
    {
     "name": "stdout",
     "output_type": "stream",
     "text": [
      "Total Number of Entries: 1010826\n"
     ]
    }
   ],
   "source": [
    "print(\"Total Number of Entries:\",len(data))"
   ]
  },
  {
   "cell_type": "markdown",
   "metadata": {},
   "source": [
    "### Removing Features\n",
    "author, subreddit, date and created_utc removed for generalizability  \n",
    "score, ups, downs removed as these values can change with time, and an initial sacarstic comment will have these values set to zero"
   ]
  },
  {
   "cell_type": "code",
   "execution_count": 6,
   "metadata": {},
   "outputs": [],
   "source": [
    "columns_to_remove = ['author','subreddit','date','created_utc','score','ups','downs']\n",
    "data_2 = data.drop(columns_to_remove, axis=1)"
   ]
  },
  {
   "cell_type": "code",
   "execution_count": 7,
   "metadata": {},
   "outputs": [
    {
     "name": "stdout",
     "output_type": "stream",
     "text": [
      "   label                                            comment  \\\n",
      "0      0                                         NC and NH.   \n",
      "1      0  You do know west teams play against west teams...   \n",
      "2      0  They were underdogs earlier today, but since G...   \n",
      "3      0  This meme isn't funny none of the \"new york ni...   \n",
      "4      0                    I could use one of those tools.   \n",
      "\n",
      "                                      parent_comment  \n",
      "0  Yeah, I get that argument. At this point, I'd ...  \n",
      "1  The blazers and Mavericks (The wests 5 and 6 s...  \n",
      "2                            They're favored to win.  \n",
      "3                         deadass don't kill my buzz  \n",
      "4  Yep can confirm I saw the tool they use for th...  \n"
     ]
    }
   ],
   "source": [
    "print(data_2.head())"
   ]
  },
  {
   "cell_type": "markdown",
   "metadata": {},
   "source": [
    "### Searching for unusable text  \n",
    "Some comments are NA  \n",
    "Some comments have only numerical values which could possibly indicate the comment id"
   ]
  },
  {
   "cell_type": "code",
   "execution_count": 8,
   "metadata": {},
   "outputs": [
    {
     "name": "stdout",
     "output_type": "stream",
     "text": [
      "Empty DataFrame\n",
      "Columns: [label, comment, parent_comment]\n",
      "Index: []\n",
      "Number of NA labels: 0\n",
      "\n",
      "        label comment                                     parent_comment\n",
      "56269       1     NaN  LPL shitshow, EU LCS shitshow. What isn't a sh...\n",
      "68590       1     NaN  Car fires smell delicious to you? You should p...\n",
      "135348      0     NaN                                 Will do. EU or NA?\n",
      "199910      0     NaN                                      woah, thanks.\n",
      "258718      1     NaN  No, doing drugs while forming a fetus (your ki...\n",
      "Number of NA text in comment: 53\n",
      "\n",
      "Empty DataFrame\n",
      "Columns: [label, comment, parent_comment]\n",
      "Index: []\n",
      "Number of NA text in parent comment: 0\n"
     ]
    }
   ],
   "source": [
    "# Searching for NA values\n",
    "print(data_2[data_2[\"label\"].isna()].head())\n",
    "print(\"Number of NA labels:\",len(data_2[data_2[\"label\"].isna()]))\n",
    "print()\n",
    "print(data_2[data_2[\"comment\"].isna()].head())\n",
    "print(\"Number of NA text in comment:\",len(data_2[data_2[\"comment\"].isna()]))\n",
    "print()\n",
    "print(data_2[data_2[\"parent_comment\"].isna()].head())\n",
    "print(\"Number of NA text in parent comment:\",len(data_2[data_2[\"parent_comment\"].isna()]))"
   ]
  },
  {
   "cell_type": "code",
   "execution_count": 9,
   "metadata": {},
   "outputs": [
    {
     "name": "stdout",
     "output_type": "stream",
     "text": [
      "Total Number of Entries after removing NA: 1010773\n"
     ]
    }
   ],
   "source": [
    "# Removing comments with NA values\n",
    "data_2 = data_2[~data_2[\"comment\"].isna()]\n",
    "print(\"Total Number of Entries after removing NA:\", len(data_2))"
   ]
  },
  {
   "cell_type": "code",
   "execution_count": 10,
   "metadata": {},
   "outputs": [
    {
     "name": "stdout",
     "output_type": "stream",
     "text": [
      "      label  comment           parent_comment\n",
      "25        0      466        467 A lovely way!\n",
      "42        0  1571049                1,571,048\n",
      "1218      0        4      sv_timebetweenducks\n",
      "1631      0        7  Is this for gen 6 or 7?\n",
      "2190      0      412              IA brother?\n",
      "Number of rows with comments as digits: 530\n",
      "\n",
      "       label                               comment parent_comment\n",
      "4993       0                      That's so fetch.             42\n",
      "5444       0                     Car mechanic 2015          14373\n",
      "6743       0                                     5              7\n",
      "7007       0  You can't even see who the faces are           2016\n",
      "15687      1                                Years?              5\n",
      "Number of rows with parent_comments as digits: 172\n"
     ]
    }
   ],
   "source": [
    "# Searching for entries that are just numerical values\n",
    "rows_with_numbers = data_2[data_2['comment'].apply(lambda x: x.isdigit())]\n",
    "print(rows_with_numbers.head())\n",
    "print(\"Number of rows with comments as digits:\", len(rows_with_numbers))\n",
    "print()\n",
    "rows_with_numbers_parent = data_2[data_2['parent_comment'].apply(lambda x: x.isdigit())]\n",
    "print(rows_with_numbers_parent.head())\n",
    "print(\"Number of rows with parent_comments as digits:\", len(rows_with_numbers_parent))\n"
   ]
  },
  {
   "cell_type": "code",
   "execution_count": 11,
   "metadata": {},
   "outputs": [
    {
     "name": "stdout",
     "output_type": "stream",
     "text": [
      "Total Number of Entries after removing NA: 1010121\n"
     ]
    }
   ],
   "source": [
    "# Removing digit entries\n",
    "data_3 = data_2[~data_2['comment'].apply(lambda x: x.isdigit())]\n",
    "data_3 = data_3[~data_3['parent_comment'].apply(lambda x: x.isdigit())]\n",
    "print(\"Total Number of Entries after removing NA:\", len(data_3))"
   ]
  },
  {
   "cell_type": "markdown",
   "metadata": {},
   "source": [
    "### Reducing Size of Dataset\n",
    "Too many entries of slightly above a million, processing time can become too long for feature engineering and model training"
   ]
  },
  {
   "cell_type": "code",
   "execution_count": 25,
   "metadata": {},
   "outputs": [
    {
     "name": "stdout",
     "output_type": "stream",
     "text": [
      "Total Number of Entries before reduction: 1010121\n",
      "Distribution of Labels\n",
      "1    505291\n",
      "0    504830\n",
      "Name: label, dtype: int64\n"
     ]
    },
    {
     "data": {
      "image/png": "[encoded data removed]",
      "text/plain": [
       "<Figure size 640x480 with 1 Axes>"
      ]
     },
     "metadata": {},
     "output_type": "display_data"
    }
   ],
   "source": [
    "sns.countplot(data = data_3, x = 'label')\n",
    "\n",
    "plt.title(\"Distribution of Labels\")\n",
    "plt.xlabel(\"Label\")\n",
    "plt.ylabel(\"Counts\")\n",
    "\n",
    "print(\"Total Number of Entries before reduction:\",len(data_3))\n",
    "print(\"Distribution of Labels\")\n",
    "print(data_3[\"label\"].value_counts())\n"
   ]
  },
  {
   "cell_type": "markdown",
   "metadata": {},
   "source": [
    "Original dataset is balanced, can proceed to reduce dataset with stratified sampling to maintain label ratios"
   ]
  },
  {
   "cell_type": "code",
   "execution_count": 26,
   "metadata": {},
   "outputs": [],
   "source": [
    "# Using stratified \n",
    "X = data_3.drop('label', axis = 1)\n",
    "y = data_3['label']\n",
    "X_sample, _, y_sample, _ = train_test_split(X, y, test_size = 0.8, stratify = y, random_state = 42)\n",
    "data_reduced = pd.concat([X_sample,y_sample], axis = 1)\n",
    "data_reduced = data_reduced.reset_index()\n",
    "data_reduced.drop('index', axis = 1, inplace = True)"
   ]
  },
  {
   "cell_type": "code",
   "execution_count": 28,
   "metadata": {},
   "outputs": [
    {
     "name": "stdout",
     "output_type": "stream",
     "text": [
      "Total Number of Entries after reduction: 202024\n",
      "Distribution of Labels\n",
      "1    101058\n",
      "0    100966\n",
      "Name: label, dtype: int64\n"
     ]
    },
    {
     "data": {
      "image/png": "[encoded data removed]",
      "text/plain": [
       "<Figure size 640x480 with 1 Axes>"
      ]
     },
     "metadata": {},
     "output_type": "display_data"
    }
   ],
   "source": [
    "sns.countplot(data = data_reduced, x = \"label\")\n",
    "plt.title(\"Distribution of Labels\")\n",
    "plt.xlabel(\"Label\")\n",
    "plt.ylabel(\"Counts\")\n",
    "\n",
    "print(\"Total Number of Entries after reduction:\",len(data_reduced))\n",
    "print(\"Distribution of Labels\")\n",
    "print(data_reduced[\"label\"].value_counts())"
   ]
  },
  {
   "cell_type": "markdown",
   "metadata": {},
   "source": [
    "### Further Data Cleaning\n",
    "Remove contractions, change to lower case, remove links, usernames and emails"
   ]
  },
  {
   "cell_type": "code",
   "execution_count": 29,
   "metadata": {},
   "outputs": [],
   "source": [
    "#removing contractions\n",
    "data_reduced['comment'] = data_reduced['comment'].apply(contractions.fix)\n",
    "data_reduced['parent_comment'] = data_reduced['parent_comment'].apply(contractions.fix)"
   ]
  },
  {
   "cell_type": "code",
   "execution_count": 30,
   "metadata": {},
   "outputs": [],
   "source": [
    "#change to lower case\n",
    "data_reduced['comment'] = data_reduced[\"comment\"].apply(lambda text:text.lower())\n",
    "data_reduced['parent_comment'] = data_reduced[\"parent_comment\"].apply(lambda text:text.lower())"
   ]
  },
  {
   "cell_type": "code",
   "execution_count": 31,
   "metadata": {},
   "outputs": [],
   "source": [
    "#function to remove links from text\n",
    "def remove_links(text):\n",
    "    text_1 = re.sub(r\"[(+*)]\\S*https?:\\S*[(+*)]\", \"\", text)\n",
    "    text_2 = re.sub('http://\\S+|https://\\S+', \" \", text_1)\n",
    "    text_3 = re.sub(r\"[\\(\\[].*?[\\)\\]]\", \" \", text_2)\n",
    "    return text_3\n",
    "\n",
    "#function to remove email addresses\n",
    "def remove_emails(text):\n",
    "    text_1 = re.sub(r'\\S+@\\S+', '', text)\n",
    "    return text_1\n",
    "\n",
    "#function to remove usernames\n",
    "def remove_usernames(text):\n",
    "    text_1 = re.sub(r'@\\w+', '', text)\n",
    "    return text_1\n",
    "\n",
    "def remove_links_emails_usernames(text):\n",
    "    text_1 = remove_links(text)\n",
    "    text_2 = remove_emails(text_1)\n",
    "    text_3 = remove_usernames(text_2)\n",
    "    return text_3\n",
    "\n",
    "#removing links, emails and usernames\n",
    "data_reduced['comment'] = data_reduced['comment'].apply(remove_links_emails_usernames)\n",
    "data_reduced['parent_comment'] = data_reduced['parent_comment'].apply(remove_links_emails_usernames)"
   ]
  },
  {
   "cell_type": "code",
   "execution_count": 47,
   "metadata": {},
   "outputs": [
    {
     "name": "stdout",
     "output_type": "stream",
     "text": [
      "Empty comment count: 5\n",
      "Empty parent comment count: 0\n"
     ]
    }
   ],
   "source": [
    "# Check for empty comments and remove\n",
    "print(\"Empty comment count:\",len(data_reduced[data_reduced['comment'] == \"\"]))\n",
    "print(\"Empty parent comment count:\",len(data_reduced[data_reduced['parent_comment']==\"\"]))\n",
    "\n"
   ]
  },
  {
   "cell_type": "code",
   "execution_count": 49,
   "metadata": {},
   "outputs": [],
   "source": [
    "# Remove empty comments\n",
    "data_reduced = data_reduced[~(data_reduced[\"comment\"] == \"\")]"
   ]
  },
  {
   "cell_type": "code",
   "execution_count": 50,
   "metadata": {},
   "outputs": [],
   "source": [
    "data_reduced.to_pickle(\"data/data_cleaned.pkl\")"
   ]
  }
 ],
 "metadata": {
  "kernelspec": {
   "display_name": "Python 3",
   "language": "python",
   "name": "python3"
  },
  "language_info": {
   "codemirror_mode": {
    "name": "ipython",
    "version": 3
   },
   "file_extension": ".py",
   "mimetype": "text/x-python",
   "name": "python",
   "nbconvert_exporter": "python",
   "pygments_lexer": "ipython3",
   "version": "3.9.6"
  },
  "orig_nbformat": 4
 },
 "nbformat": 4,
 "nbformat_minor": 2
}
